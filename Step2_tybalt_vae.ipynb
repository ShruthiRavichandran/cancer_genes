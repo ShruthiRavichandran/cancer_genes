{
  "nbformat": 4,
  "nbformat_minor": 0,
  "metadata": {
    "colab": {
      "name": "tybalt_vae.ipynb",
      "version": "0.3.2",
      "provenance": [],
      "collapsed_sections": []
    },
    "kernelspec": {
      "name": "python2",
      "display_name": "Python 2"
    },
    "accelerator": "GPU"
  },
  "cells": [
    {
      "metadata": {
        "id": "gqRvbbyQA2WL",
        "colab_type": "text"
      },
      "cell_type": "markdown",
      "source": [
        "# Variational Autoencoder for pan-cancer gene expression\n",
        "\n",
        "**Gregory Way 2017**\n",
        "\n",
        "This script trains and outputs results for a [variational autoencoder (VAE)](https://arxiv.org/abs/1312.6114)\n",
        "applied to gene expression data across 33 different cancer-types from The Cancer Genome Atlas (TCGA).\n",
        "\n",
        "A VAE aproximates the data generating function for the cancer data and learns the lower dimensional manifold a tumor occupies in gene expression space. By compressing the gene expression space into lower dimensional space, the VAE would, ideally, learn biological principles, such as cancer hallmark pathway activations, that help explain how tumors are similar and different. The VAE is also a generative model with a latent space that can be interpolated to observe transitions between cancer states.\n",
        "\n",
        "The particular model trained in this notebook consists of gene expression input (5000 most variably expressed genes by median absolute deviation) compressed down into two length 100 vectors (mean and variance encoded spaces) which are made deterministic through the reparameterization trick of sampling an epsilon vector from the uniform distribution. The encoded layer is then decoded back to original 5000 dimensions through a single reconstruction layer. I included a layer of batch normalization in the encoding step to prevent dead nodes. The encoding scheme also uses relu activation while the decoder uses a sigmoid activation to enforce positive activations. All weights are glorot uniform initialized. \n",
        "\n",
        "Another trick used here to encourage manifold learning is _warm start_ as discussed in [Sonderby et al. 2016](https://arxiv.org/abs/1602.02282). With warm starts, we add a parameter _beta_, which controls the contribution of the KL divergence loss in the total VAE loss (reconstruction + (beta * KL)). In this setting, the model begins training deterministically as a vanilla autoencoder (_beta_ = 0) and slowly ramps up after each epoch linearly until _beta_ = 1. After a parameter sweep, we observed that kappa has little influence in training, therefore, we set  _kappa_ = 1, which is a full VAE.\n",
        "\n",
        "Much of this script is inspired by the [keras variational_autoencoder.py example](https://github.com/fchollet/keras/blob/master/examples/variational_autoencoder.py)"
      ]
    },
    {
      "metadata": {
        "id": "rvIdOSBmunZs",
        "colab_type": "code",
        "outputId": "8745b441-3c23-4b89-ed1e-983a471d8fec",
        "colab": {
          "base_uri": "https://localhost:8080/",
          "height": 35
        }
      },
      "cell_type": "code",
      "source": [
        "import os\n",
        "os.chdir('/content/tybalt')\n",
        "!pwd"
      ],
      "execution_count": 0,
      "outputs": [
        {
          "output_type": "stream",
          "text": [
            "/content/tybalt\n"
          ],
          "name": "stdout"
        }
      ]
    },
    {
      "metadata": {
        "id": "wYY4XLFkvIVe",
        "colab_type": "code",
        "outputId": "8d9a1e80-8571-4119-9bb9-e8131ad55567",
        "colab": {
          "base_uri": "https://localhost:8080/",
          "height": 432
        }
      },
      "cell_type": "code",
      "source": [
        "!ls data"
      ],
      "execution_count": 0,
      "outputs": [
        {
          "output_type": "stream",
          "text": [
            "background_genes.txt\n",
            "clinical_data.tsv\n",
            "encoded_adage_features.tsv\n",
            "encoded_rnaseq_onehidden_warmup_batchnorm_36dim.tsv\n",
            "encoded_rnaseq_onehidden_warmup_batchnorm.tsv\n",
            "encoded_rnaseq_twohidden_100model.tsv.gz\n",
            "encoded_rnaseq_twohidden_300model.tsv.gz\n",
            "gene_reconstruction_fidelity-25dim.tsv\n",
            "gene_reconstruction_fidelity_36dim.tsv\n",
            "oncokb_genetypes.tsv\n",
            "onehidden_warmup_batchnorm_tsne_out.tsv\n",
            "ov_subtype_info.tsv\n",
            "pancan_mutation_burden.tsv\n",
            "pancan_mutation.tsv.gz\n",
            "pancan_scaled_rnaseq.tsv.gz\n",
            "pancan_scaled_zeroone_rnaseq.tsv.gz\n",
            "patient_reconstruction_fidelity-25dim.tsv\n",
            "patient_reconstruction_fidelity_36dim.tsv\n",
            "raw\n",
            "status_matrix.tsv.gz\n",
            "tcga_colors.tsv\n",
            "tybalt_features_with_clinical.tsv\n",
            "tybalt_gene_weights_twohidden100.tsv\n",
            "tybalt_gene_weights_twohidden300.tsv\n"
          ],
          "name": "stdout"
        }
      ]
    },
    {
      "metadata": {
        "id": "2PAa3eCoBF5F",
        "colab_type": "code",
        "colab": {}
      },
      "cell_type": "code",
      "source": [
        "# https://pypi.python.org/pypi/pydot\n",
        "#!apt-get -qq install -y graphviz && pip install -q pydot\n",
        "#import pydot"
      ],
      "execution_count": 0,
      "outputs": []
    },
    {
      "metadata": {
        "id": "vC1PHsSlBpfp",
        "colab_type": "code",
        "outputId": "b879d9d6-174f-4f38-ddba-8b00e9f6b426",
        "colab": {
          "base_uri": "https://localhost:8080/",
          "height": 262
        }
      },
      "cell_type": "code",
      "source": [
        "!pip install keras_tqdm"
      ],
      "execution_count": 0,
      "outputs": [
        {
          "output_type": "stream",
          "text": [
            "Collecting keras_tqdm\n",
            "  Downloading https://files.pythonhosted.org/packages/16/5c/ac63c65b79a895b8994474de2ad4d5b66ac0796b8903d60cfea3f8308d5c/keras_tqdm-2.0.1-py2.py3-none-any.whl\n",
            "Requirement already satisfied: Keras in /usr/local/lib/python2.7/dist-packages (from keras_tqdm) (2.2.4)\n",
            "Requirement already satisfied: tqdm in /usr/local/lib/python2.7/dist-packages (from keras_tqdm) (4.28.1)\n",
            "Requirement already satisfied: keras-applications>=1.0.6 in /usr/local/lib/python2.7/dist-packages (from Keras->keras_tqdm) (1.0.6)\n",
            "Requirement already satisfied: numpy>=1.9.1 in /usr/local/lib/python2.7/dist-packages (from Keras->keras_tqdm) (1.14.6)\n",
            "Requirement already satisfied: scipy>=0.14 in /usr/local/lib/python2.7/dist-packages (from Keras->keras_tqdm) (1.1.0)\n",
            "Requirement already satisfied: keras-preprocessing>=1.0.5 in /usr/local/lib/python2.7/dist-packages (from Keras->keras_tqdm) (1.0.5)\n",
            "Requirement already satisfied: h5py in /usr/local/lib/python2.7/dist-packages (from Keras->keras_tqdm) (2.8.0)\n",
            "Requirement already satisfied: pyyaml in /usr/local/lib/python2.7/dist-packages (from Keras->keras_tqdm) (3.13)\n",
            "Requirement already satisfied: six>=1.9.0 in /usr/local/lib/python2.7/dist-packages (from Keras->keras_tqdm) (1.11.0)\n",
            "Installing collected packages: keras-tqdm\n",
            "Successfully installed keras-tqdm-2.0.1\n"
          ],
          "name": "stdout"
        }
      ]
    },
    {
      "metadata": {
        "id": "4bOekM2hBVWx",
        "colab_type": "code",
        "colab": {}
      },
      "cell_type": "code",
      "source": [
        "#!pip3 install graphviz"
      ],
      "execution_count": 0,
      "outputs": []
    },
    {
      "metadata": {
        "id": "KYytDTIsA2WM",
        "colab_type": "code",
        "outputId": "fceff07a-7b0f-4028-a95f-96ab24539c43",
        "colab": {
          "base_uri": "https://localhost:8080/",
          "height": 35
        }
      },
      "cell_type": "code",
      "source": [
        "import os\n",
        "import numpy as np\n",
        "import pandas as pd\n",
        "import matplotlib.pyplot as plt\n",
        "import seaborn as sns\n",
        "\n",
        "import tensorflow as tf\n",
        "from keras.layers import Input, Dense, Lambda, Layer, Activation\n",
        "from keras.layers.normalization import BatchNormalization\n",
        "from keras.models import Model\n",
        "from keras import backend as K\n",
        "from keras import metrics, optimizers\n",
        "from keras.callbacks import Callback\n",
        "import keras\n",
        "\n",
        "#import pydot\n",
        "#import graphviz\n",
        "from keras.utils import plot_model\n",
        "from keras_tqdm import TQDMNotebookCallback\n",
        "from IPython.display import SVG\n",
        "from keras.utils.vis_utils import model_to_dot"
      ],
      "execution_count": 0,
      "outputs": [
        {
          "output_type": "stream",
          "text": [
            "Using TensorFlow backend.\n"
          ],
          "name": "stderr"
        }
      ]
    },
    {
      "metadata": {
        "id": "s5lrMWalA2WS",
        "colab_type": "code",
        "outputId": "743080b9-a905-42b6-efff-35d782dd999d",
        "colab": {
          "base_uri": "https://localhost:8080/",
          "height": 52
        }
      },
      "cell_type": "code",
      "source": [
        "print(keras.__version__)\n",
        "tf.__version__"
      ],
      "execution_count": 0,
      "outputs": [
        {
          "output_type": "stream",
          "text": [
            "2.2.4\n"
          ],
          "name": "stdout"
        },
        {
          "output_type": "execute_result",
          "data": {
            "text/plain": [
              "'1.12.0'"
            ]
          },
          "metadata": {
            "tags": []
          },
          "execution_count": 9
        }
      ]
    },
    {
      "metadata": {
        "id": "VKZHAxOhA2WX",
        "colab_type": "code",
        "colab": {}
      },
      "cell_type": "code",
      "source": [
        "%matplotlib inline\n",
        "plt.style.use('seaborn-notebook')"
      ],
      "execution_count": 0,
      "outputs": []
    },
    {
      "metadata": {
        "id": "pfi6cha9A2WZ",
        "colab_type": "code",
        "colab": {}
      },
      "cell_type": "code",
      "source": [
        "sns.set(style=\"white\", color_codes=True)\n",
        "sns.set_context(\"paper\", rc={\"font.size\":14,\"axes.titlesize\":15,\"axes.labelsize\":20,\n",
        "                             'xtick.labelsize':14, 'ytick.labelsize':14})"
      ],
      "execution_count": 0,
      "outputs": []
    },
    {
      "metadata": {
        "id": "3qNCzQFHA2Wd",
        "colab_type": "text"
      },
      "cell_type": "markdown",
      "source": [
        "## Load Functions and Classes\n",
        "\n",
        "This will facilitate connections between layers and also custom hyperparameters"
      ]
    },
    {
      "metadata": {
        "id": "SgmzmkP2A2Wf",
        "colab_type": "code",
        "colab": {}
      },
      "cell_type": "code",
      "source": [
        "# Function for reparameterization trick to make model differentiable\n",
        "def sampling(args):\n",
        "    \n",
        "    import tensorflow as tf\n",
        "    # Function with args required for Keras Lambda function\n",
        "    z_mean, z_log_var = args\n",
        "\n",
        "    # Draw epsilon of the same shape from a standard normal distribution\n",
        "    epsilon = K.random_normal(shape=tf.shape(z_mean), mean=0.,\n",
        "                              stddev=epsilon_std)\n",
        "    \n",
        "    # The latent vector is non-deterministic and differentiable\n",
        "    # in respect to z_mean and z_log_var\n",
        "    z = z_mean + K.exp(z_log_var / 2) * epsilon\n",
        "    return z\n",
        "\n",
        "\n",
        "class CustomVariationalLayer(Layer):\n",
        "    \"\"\"\n",
        "    Define a custom layer that learns and performs the training\n",
        "    This function is borrowed from:\n",
        "    https://github.com/fchollet/keras/blob/master/examples/variational_autoencoder.py\n",
        "    \"\"\"\n",
        "    def __init__(self, **kwargs):\n",
        "        # https://keras.io/layers/writing-your-own-keras-layers/\n",
        "        self.is_placeholder = True\n",
        "        super(CustomVariationalLayer, self).__init__(**kwargs)\n",
        "\n",
        "    def vae_loss(self, x_input, x_decoded):\n",
        "        reconstruction_loss = original_dim * metrics.binary_crossentropy(x_input, x_decoded)\n",
        "        kl_loss = - 0.5 * K.sum(1 + z_log_var_encoded - K.square(z_mean_encoded) - \n",
        "                                K.exp(z_log_var_encoded), axis=-1)\n",
        "        return K.mean(reconstruction_loss + (K.get_value(beta) * kl_loss))\n",
        "\n",
        "    def call(self, inputs):\n",
        "        x = inputs[0]\n",
        "        x_decoded = inputs[1]\n",
        "        loss = self.vae_loss(x, x_decoded)\n",
        "        self.add_loss(loss, inputs=inputs)\n",
        "        # We won't actually use the output.\n",
        "        return x"
      ],
      "execution_count": 0,
      "outputs": []
    },
    {
      "metadata": {
        "id": "pSqLMXOBA2Wh",
        "colab_type": "text"
      },
      "cell_type": "markdown",
      "source": [
        "### Implementing Warm-up as described in Sonderby et al. LVAE\n",
        "\n",
        "This is modified code from https://github.com/fchollet/keras/issues/2595"
      ]
    },
    {
      "metadata": {
        "id": "GVp8f4iFA2Wi",
        "colab_type": "code",
        "colab": {}
      },
      "cell_type": "code",
      "source": [
        "class WarmUpCallback(Callback):\n",
        "    def __init__(self, beta, kappa):\n",
        "        self.beta = beta\n",
        "        self.kappa = kappa\n",
        "    # Behavior on each epoch\n",
        "    def on_epoch_end(self, epoch, logs={}):\n",
        "        if K.get_value(self.beta) <= 1:\n",
        "            K.set_value(self.beta, K.get_value(self.beta) + self.kappa)"
      ],
      "execution_count": 0,
      "outputs": []
    },
    {
      "metadata": {
        "id": "EBmGU_5GA2Wn",
        "colab_type": "code",
        "colab": {}
      },
      "cell_type": "code",
      "source": [
        "np.random.seed(123)"
      ],
      "execution_count": 0,
      "outputs": []
    },
    {
      "metadata": {
        "id": "jrBb0WsxA2Wq",
        "colab_type": "text"
      },
      "cell_type": "markdown",
      "source": [
        "## Load Gene Expression Data"
      ]
    },
    {
      "metadata": {
        "id": "RjVQ6_9dt5cw",
        "colab_type": "code",
        "outputId": "e4925507-73a6-486a-a336-2932bedc4cdf",
        "colab": {
          "base_uri": "https://localhost:8080/",
          "height": 518
        }
      },
      "cell_type": "code",
      "source": [
        "!ls -ltr"
      ],
      "execution_count": 0,
      "outputs": [
        {
          "output_type": "stream",
          "text": [
            "total 2188\n",
            "-rw-r--r-- 1 root root   6369 Nov 18 10:18 README.md\n",
            "-rw-r--r-- 1 root root   1531 Nov 18 10:18 LICENSE.md\n",
            "drwxr-xr-x 2 root root   4096 Nov 18 10:18 config\n",
            "-rw-r--r-- 1 root root 187221 Nov 18 10:18 adage_training.ipynb\n",
            "-rw-r--r-- 1 root root    764 Nov 18 10:18 environment.yml\n",
            "-rwxr-xr-x 1 root root    781 Nov 18 10:18 download_data.sh\n",
            "-rw-r--r-- 1 root root 149237 Nov 18 10:18 extract_tybalt_weights.ipynb\n",
            "drwxr-xr-x 3 root root   4096 Nov 18 10:18 figures\n",
            "-rw-r--r-- 1 root root    913 Nov 18 10:18 gpu-environment.yml\n",
            "-rw-r--r-- 1 root root 331837 Nov 18 10:18 hgsc_subtypes_tybalt.ipynb\n",
            "-rw-r--r-- 1 root root 860188 Nov 18 10:18 high_weight_genes.ipynb\n",
            "-rwxr-xr-x 1 root root    369 Nov 18 10:18 param_sweep.sh\n",
            "drwxr-xr-x 2 root root   4096 Nov 18 10:18 models\n",
            "-rw-r--r-- 1 root root 180863 Nov 18 10:18 latent_space_comparison.ipynb\n",
            "drwxr-xr-x 2 root root  28672 Nov 18 10:18 param_sweep\n",
            "drwxr-xr-x 2 root root  28672 Nov 18 10:18 param_sweep_adage\n",
            "drwxr-xr-x 2 root root  28672 Nov 18 10:18 param_sweep_twohidden\n",
            "-rw-r--r-- 1 root root  16329 Nov 18 10:18 process_data.ipynb\n",
            "drwxr-xr-x 2 root root  28672 Nov 18 10:18 param_sweep_twohidden300\n",
            "-rw-r--r-- 1 root root   2596 Nov 18 10:18 parameter_sweep.md\n",
            "drwxr-xr-x 4 root root   4096 Nov 18 10:18 results\n",
            "drwxr-xr-x 4 root root   4096 Nov 18 10:18 scripts\n",
            "-rw-r--r-- 1 root root  21637 Nov 18 10:18 tsne_tybalt_features.ipynb\n",
            "-rw-r--r-- 1 root root    566 Nov 18 10:18 setup.py\n",
            "drwxr-xr-x 3 root root   4096 Nov 18 10:18 tybalt\n",
            "-rw-r--r-- 1 root root 112015 Nov 18 10:18 tybalt_twohidden.ipynb\n",
            "-rw-r--r-- 1 root root 178302 Nov 18 10:18 tybalt_vae.ipynb\n",
            "drwxr-xr-x 3 root root   4096 Nov 18 10:18 data\n"
          ],
          "name": "stdout"
        }
      ]
    },
    {
      "metadata": {
        "id": "LIP33OxsA2Wr",
        "colab_type": "code",
        "outputId": "898fb8a8-3814-4432-8d2e-6ead2f8d95e0",
        "colab": {
          "base_uri": "https://localhost:8080/",
          "height": 278
        }
      },
      "cell_type": "code",
      "source": [
        "rnaseq_file = 'data/pancan_scaled_zeroone_rnaseq.tsv.gz'\n",
        "rnaseq_df = pd.read_table(rnaseq_file, index_col=0)\n",
        "print(rnaseq_df.shape)\n",
        "rnaseq_df.head(2)"
      ],
      "execution_count": 0,
      "outputs": [
        {
          "output_type": "stream",
          "text": [
            "(10459, 5000)\n"
          ],
          "name": "stdout"
        },
        {
          "output_type": "execute_result",
          "data": {
            "text/html": [
              "<div>\n",
              "<style scoped>\n",
              "    .dataframe tbody tr th:only-of-type {\n",
              "        vertical-align: middle;\n",
              "    }\n",
              "\n",
              "    .dataframe tbody tr th {\n",
              "        vertical-align: top;\n",
              "    }\n",
              "\n",
              "    .dataframe thead th {\n",
              "        text-align: right;\n",
              "    }\n",
              "</style>\n",
              "<table border=\"1\" class=\"dataframe\">\n",
              "  <thead>\n",
              "    <tr style=\"text-align: right;\">\n",
              "      <th></th>\n",
              "      <th>RPS4Y1</th>\n",
              "      <th>XIST</th>\n",
              "      <th>KRT5</th>\n",
              "      <th>AGR2</th>\n",
              "      <th>CEACAM5</th>\n",
              "      <th>KRT6A</th>\n",
              "      <th>KRT14</th>\n",
              "      <th>CEACAM6</th>\n",
              "      <th>DDX3Y</th>\n",
              "      <th>KDM5D</th>\n",
              "      <th>...</th>\n",
              "      <th>FAM129A</th>\n",
              "      <th>C8orf48</th>\n",
              "      <th>CDK5R1</th>\n",
              "      <th>FAM81A</th>\n",
              "      <th>C13orf18</th>\n",
              "      <th>GDPD3</th>\n",
              "      <th>SMAGP</th>\n",
              "      <th>C2orf85</th>\n",
              "      <th>POU5F1B</th>\n",
              "      <th>CHST2</th>\n",
              "    </tr>\n",
              "  </thead>\n",
              "  <tbody>\n",
              "    <tr>\n",
              "      <th>TCGA-02-0047-01</th>\n",
              "      <td>0.678296</td>\n",
              "      <td>0.289910</td>\n",
              "      <td>0.034230</td>\n",
              "      <td>0.0</td>\n",
              "      <td>0.0</td>\n",
              "      <td>0.084731</td>\n",
              "      <td>0.031863</td>\n",
              "      <td>0.037709</td>\n",
              "      <td>0.746797</td>\n",
              "      <td>0.687833</td>\n",
              "      <td>...</td>\n",
              "      <td>0.440610</td>\n",
              "      <td>0.428782</td>\n",
              "      <td>0.732819</td>\n",
              "      <td>0.634340</td>\n",
              "      <td>0.580662</td>\n",
              "      <td>0.294313</td>\n",
              "      <td>0.458134</td>\n",
              "      <td>0.478219</td>\n",
              "      <td>0.168263</td>\n",
              "      <td>0.638497</td>\n",
              "    </tr>\n",
              "    <tr>\n",
              "      <th>TCGA-02-0055-01</th>\n",
              "      <td>0.200633</td>\n",
              "      <td>0.654917</td>\n",
              "      <td>0.181993</td>\n",
              "      <td>0.0</td>\n",
              "      <td>0.0</td>\n",
              "      <td>0.100606</td>\n",
              "      <td>0.050011</td>\n",
              "      <td>0.092586</td>\n",
              "      <td>0.103725</td>\n",
              "      <td>0.140642</td>\n",
              "      <td>...</td>\n",
              "      <td>0.620658</td>\n",
              "      <td>0.363207</td>\n",
              "      <td>0.592269</td>\n",
              "      <td>0.602755</td>\n",
              "      <td>0.610192</td>\n",
              "      <td>0.374569</td>\n",
              "      <td>0.722420</td>\n",
              "      <td>0.271356</td>\n",
              "      <td>0.160465</td>\n",
              "      <td>0.602560</td>\n",
              "    </tr>\n",
              "  </tbody>\n",
              "</table>\n",
              "<p>2 rows × 5000 columns</p>\n",
              "</div>"
            ],
            "text/plain": [
              "                   RPS4Y1      XIST      KRT5  AGR2  CEACAM5     KRT6A  \\\n",
              "TCGA-02-0047-01  0.678296  0.289910  0.034230   0.0      0.0  0.084731   \n",
              "TCGA-02-0055-01  0.200633  0.654917  0.181993   0.0      0.0  0.100606   \n",
              "\n",
              "                    KRT14   CEACAM6     DDX3Y     KDM5D    ...      FAM129A  \\\n",
              "TCGA-02-0047-01  0.031863  0.037709  0.746797  0.687833    ...     0.440610   \n",
              "TCGA-02-0055-01  0.050011  0.092586  0.103725  0.140642    ...     0.620658   \n",
              "\n",
              "                  C8orf48    CDK5R1    FAM81A  C13orf18     GDPD3     SMAGP  \\\n",
              "TCGA-02-0047-01  0.428782  0.732819  0.634340  0.580662  0.294313  0.458134   \n",
              "TCGA-02-0055-01  0.363207  0.592269  0.602755  0.610192  0.374569  0.722420   \n",
              "\n",
              "                  C2orf85   POU5F1B     CHST2  \n",
              "TCGA-02-0047-01  0.478219  0.168263  0.638497  \n",
              "TCGA-02-0055-01  0.271356  0.160465  0.602560  \n",
              "\n",
              "[2 rows x 5000 columns]"
            ]
          },
          "metadata": {
            "tags": []
          },
          "execution_count": 16
        }
      ]
    },
    {
      "metadata": {
        "id": "TpLUTDJXA2Wx",
        "colab_type": "code",
        "colab": {}
      },
      "cell_type": "code",
      "source": [
        "# Split 10% test set randomly\n",
        "test_set_percent = 0.1\n",
        "rnaseq_test_df = rnaseq_df.sample(frac=test_set_percent)\n",
        "rnaseq_train_df = rnaseq_df.drop(rnaseq_test_df.index)"
      ],
      "execution_count": 0,
      "outputs": []
    },
    {
      "metadata": {
        "id": "mHMmtd8vA2W1",
        "colab_type": "text"
      },
      "cell_type": "markdown",
      "source": [
        "## Initialize variables and hyperparameters"
      ]
    },
    {
      "metadata": {
        "id": "CXXrIVLxA2W2",
        "colab_type": "code",
        "colab": {}
      },
      "cell_type": "code",
      "source": [
        "# Set hyper parameters\n",
        "original_dim = rnaseq_df.shape[1]\n",
        "latent_dim = 36\n",
        "\n",
        "batch_size = 128\n",
        "epochs = 50\n",
        "learning_rate = 0.0005\n",
        "\n",
        "epsilon_std = 1.0\n",
        "beta = K.variable(0)\n",
        "kappa = 1"
      ],
      "execution_count": 0,
      "outputs": []
    },
    {
      "metadata": {
        "id": "AdZ1NNXqA2W6",
        "colab_type": "text"
      },
      "cell_type": "markdown",
      "source": [
        "## Encoder"
      ]
    },
    {
      "metadata": {
        "id": "kVuIywCyA2W8",
        "colab_type": "code",
        "colab": {}
      },
      "cell_type": "code",
      "source": [
        "# Input place holder for RNAseq data with specific input size\n",
        "rnaseq_input = Input(shape=(original_dim, ))\n",
        "\n",
        "# Input layer is compressed into a mean and log variance vector of size `latent_dim`\n",
        "# Each layer is initialized with glorot uniform weights and each step (dense connections,\n",
        "# batch norm, and relu activation) are funneled separately\n",
        "# Each vector of length `latent_dim` are connected to the rnaseq input tensor\n",
        "z_mean_dense_linear = Dense(latent_dim, kernel_initializer='glorot_uniform')(rnaseq_input)\n",
        "z_mean_dense_batchnorm = BatchNormalization()(z_mean_dense_linear)\n",
        "z_mean_encoded = Activation('relu')(z_mean_dense_batchnorm)\n",
        "\n",
        "z_log_var_dense_linear = Dense(latent_dim, kernel_initializer='glorot_uniform')(rnaseq_input)\n",
        "z_log_var_dense_batchnorm = BatchNormalization()(z_log_var_dense_linear)\n",
        "z_log_var_encoded = Activation('relu')(z_log_var_dense_batchnorm)\n",
        "\n",
        "# return the encoded and randomly sampled z vector\n",
        "# Takes two keras layers as input to the custom sampling function layer with a `latent_dim` output\n",
        "z = Lambda(sampling, output_shape=(latent_dim, ))([z_mean_encoded, z_log_var_encoded])"
      ],
      "execution_count": 0,
      "outputs": []
    },
    {
      "metadata": {
        "id": "xmnaogGUA2XA",
        "colab_type": "text"
      },
      "cell_type": "markdown",
      "source": [
        "## Decoder"
      ]
    },
    {
      "metadata": {
        "id": "DAvpbeMrA2XB",
        "colab_type": "code",
        "colab": {}
      },
      "cell_type": "code",
      "source": [
        "# The decoding layer is much simpler with a single layer and sigmoid activation\n",
        "decoder_to_reconstruct = Dense(original_dim, kernel_initializer='glorot_uniform', activation='sigmoid')\n",
        "rnaseq_reconstruct = decoder_to_reconstruct(z)"
      ],
      "execution_count": 0,
      "outputs": []
    },
    {
      "metadata": {
        "id": "vcYo8eirA2XE",
        "colab_type": "text"
      },
      "cell_type": "markdown",
      "source": [
        "## Connect the encoder and decoder to make the VAE\n",
        "\n",
        "The `CustomVariationalLayer()` includes the VAE loss function (reconstruction + (beta * KL)), which is what will drive our model to learn an interpretable representation of gene expression space.\n",
        "\n",
        "The VAE is compiled with an Adam optimizer and built-in custom loss function. The `loss_weights` parameter ensures beta is updated at each epoch end callback"
      ]
    },
    {
      "metadata": {
        "id": "pN2vaQUzA2XF",
        "colab_type": "code",
        "outputId": "c792a4a3-40e6-48c3-ab5e-7bd933652026",
        "colab": {
          "base_uri": "https://localhost:8080/",
          "height": 518
        }
      },
      "cell_type": "code",
      "source": [
        "adam = optimizers.Adam(lr=learning_rate)\n",
        "vae_layer = CustomVariationalLayer()([rnaseq_input, rnaseq_reconstruct])\n",
        "vae = Model(rnaseq_input, vae_layer)\n",
        "vae.compile(optimizer=adam, loss=None, loss_weights=[beta])\n",
        "\n",
        "vae.summary()"
      ],
      "execution_count": 0,
      "outputs": [
        {
          "output_type": "stream",
          "text": [
            "__________________________________________________________________________________________________\n",
            "Layer (type)                    Output Shape         Param #     Connected to                     \n",
            "==================================================================================================\n",
            "input_1 (InputLayer)            (None, 5000)         0                                            \n",
            "__________________________________________________________________________________________________\n",
            "dense_1 (Dense)                 (None, 36)           180036      input_1[0][0]                    \n",
            "__________________________________________________________________________________________________\n",
            "dense_2 (Dense)                 (None, 36)           180036      input_1[0][0]                    \n",
            "__________________________________________________________________________________________________\n",
            "batch_normalization_1 (BatchNor (None, 36)           144         dense_1[0][0]                    \n",
            "__________________________________________________________________________________________________\n",
            "batch_normalization_2 (BatchNor (None, 36)           144         dense_2[0][0]                    \n",
            "__________________________________________________________________________________________________\n",
            "activation_1 (Activation)       (None, 36)           0           batch_normalization_1[0][0]      \n",
            "__________________________________________________________________________________________________\n",
            "activation_2 (Activation)       (None, 36)           0           batch_normalization_2[0][0]      \n",
            "__________________________________________________________________________________________________\n",
            "lambda_1 (Lambda)               (None, 36)           0           activation_1[0][0]               \n",
            "                                                                 activation_2[0][0]               \n",
            "__________________________________________________________________________________________________\n",
            "dense_3 (Dense)                 (None, 5000)         185000      lambda_1[0][0]                   \n",
            "__________________________________________________________________________________________________\n",
            "custom_variational_layer_1 (Cus [(None, 5000), (None 0           input_1[0][0]                    \n",
            "                                                                 dense_3[0][0]                    \n",
            "==================================================================================================\n",
            "Total params: 545,360\n",
            "Trainable params: 545,216\n",
            "Non-trainable params: 144\n",
            "__________________________________________________________________________________________________\n"
          ],
          "name": "stdout"
        }
      ]
    },
    {
      "metadata": {
        "id": "P0Pm2T0-A2XJ",
        "colab_type": "code",
        "colab": {}
      },
      "cell_type": "code",
      "source": [
        "# Visualize the connections of the custom VAE model\n",
        "output_model_file = os.path.join('figures', 'onehidden_vae_architecture.png')\n",
        "#plot_model(vae, to_file=output_model_file)\n",
        "\n",
        "#SVG(model_to_dot(vae).create(prog='dot', format='svg'))"
      ],
      "execution_count": 0,
      "outputs": []
    },
    {
      "metadata": {
        "id": "fpIis-VWA2XO",
        "colab_type": "text"
      },
      "cell_type": "markdown",
      "source": [
        "## Train the model\n",
        "\n",
        "The training data is shuffled after every epoch and 10% of the data is heldout for calculating validation loss."
      ]
    },
    {
      "metadata": {
        "id": "y3r6dLGGA2XP",
        "colab_type": "code",
        "outputId": "ac98963b-0c79-4acf-d480-80e3d294e6ce",
        "colab": {
          "base_uri": "https://localhost:8080/",
          "height": 1796
        }
      },
      "cell_type": "code",
      "source": [
        "%%time\n",
        "hist = vae.fit(np.array(rnaseq_train_df),\n",
        "               shuffle=True,\n",
        "               epochs=epochs,\n",
        "               verbose=1,\n",
        "               batch_size=batch_size,\n",
        "               validation_data=(np.array(rnaseq_test_df), None),\n",
        "               callbacks=[WarmUpCallback(beta, kappa),\n",
        "                          ])"
      ],
      "execution_count": 0,
      "outputs": [
        {
          "output_type": "stream",
          "text": [
            "Train on 9413 samples, validate on 1046 samples\n",
            "Epoch 1/50\n",
            "9413/9413 [==============================] - 3s 329us/step - loss: 2731.0528 - val_loss: 2731.2609\n",
            "Epoch 2/50\n",
            "9413/9413 [==============================] - 3s 324us/step - loss: 2730.0156 - val_loss: 2731.3669\n",
            "Epoch 3/50\n",
            "9413/9413 [==============================] - 3s 318us/step - loss: 2728.8388 - val_loss: 2728.7788\n",
            "Epoch 4/50\n",
            "9413/9413 [==============================] - 3s 320us/step - loss: 2727.6246 - val_loss: 2729.2306\n",
            "Epoch 5/50\n",
            "9413/9413 [==============================] - 3s 318us/step - loss: 2727.9084 - val_loss: 2733.0571\n",
            "Epoch 6/50\n",
            "9413/9413 [==============================] - 3s 318us/step - loss: 2726.3907 - val_loss: 2727.1812\n",
            "Epoch 7/50\n",
            "9413/9413 [==============================] - 3s 318us/step - loss: 2726.0184 - val_loss: 2726.5398\n",
            "Epoch 8/50\n",
            "9413/9413 [==============================] - 3s 315us/step - loss: 2725.3833 - val_loss: 2725.5591\n",
            "Epoch 9/50\n",
            "9413/9413 [==============================] - 3s 317us/step - loss: 2724.1955 - val_loss: 2726.4842\n",
            "Epoch 10/50\n",
            "9413/9413 [==============================] - 3s 320us/step - loss: 2723.6806 - val_loss: 2723.4684\n",
            "Epoch 11/50\n",
            "9413/9413 [==============================] - 3s 320us/step - loss: 2722.6285 - val_loss: 2722.8492\n",
            "Epoch 12/50\n",
            "9413/9413 [==============================] - 3s 325us/step - loss: 2722.4555 - val_loss: 2721.7466\n",
            "Epoch 13/50\n",
            "9413/9413 [==============================] - 3s 319us/step - loss: 2721.3155 - val_loss: 2721.1334\n",
            "Epoch 14/50\n",
            "9413/9413 [==============================] - 3s 317us/step - loss: 2720.9689 - val_loss: 2720.2124\n",
            "Epoch 15/50\n",
            "9413/9413 [==============================] - 3s 319us/step - loss: 2720.0981 - val_loss: 2722.4006\n",
            "Epoch 16/50\n",
            "9413/9413 [==============================] - 3s 322us/step - loss: 2719.2646 - val_loss: 2718.5806\n",
            "Epoch 17/50\n",
            "9413/9413 [==============================] - 3s 311us/step - loss: 2718.9075 - val_loss: 2719.4209\n",
            "Epoch 18/50\n",
            "9413/9413 [==============================] - 3s 313us/step - loss: 2718.3894 - val_loss: 2717.4818\n",
            "Epoch 19/50\n",
            "9413/9413 [==============================] - 3s 318us/step - loss: 2717.7884 - val_loss: 2719.5664\n",
            "Epoch 20/50\n",
            "9413/9413 [==============================] - 3s 319us/step - loss: 2716.9386 - val_loss: 2717.7572\n",
            "Epoch 21/50\n",
            "9413/9413 [==============================] - 3s 321us/step - loss: 2716.6780 - val_loss: 2717.4294\n",
            "Epoch 22/50\n",
            "9413/9413 [==============================] - 3s 322us/step - loss: 2716.3231 - val_loss: 2716.0428\n",
            "Epoch 23/50\n",
            "9413/9413 [==============================] - 3s 318us/step - loss: 2716.0960 - val_loss: 2715.2432\n",
            "Epoch 24/50\n",
            "9413/9413 [==============================] - 3s 318us/step - loss: 2715.3557 - val_loss: 2715.9056\n",
            "Epoch 25/50\n",
            "9413/9413 [==============================] - 3s 322us/step - loss: 2714.6311 - val_loss: 2712.9893\n",
            "Epoch 26/50\n",
            "9413/9413 [==============================] - 3s 314us/step - loss: 2714.4010 - val_loss: 2715.5353\n",
            "Epoch 27/50\n",
            "9413/9413 [==============================] - 3s 315us/step - loss: 2713.7171 - val_loss: 2713.7666\n",
            "Epoch 28/50\n",
            "9413/9413 [==============================] - 3s 319us/step - loss: 2713.1355 - val_loss: 2714.2517\n",
            "Epoch 29/50\n",
            "9413/9413 [==============================] - 3s 326us/step - loss: 2712.6377 - val_loss: 2712.1425\n",
            "Epoch 30/50\n",
            "9413/9413 [==============================] - 3s 323us/step - loss: 2712.2413 - val_loss: 2712.4149\n",
            "Epoch 31/50\n",
            "9413/9413 [==============================] - 3s 323us/step - loss: 2711.6993 - val_loss: 2711.8256\n",
            "Epoch 32/50\n",
            "9413/9413 [==============================] - 3s 320us/step - loss: 2711.2421 - val_loss: 2711.4612\n",
            "Epoch 33/50\n",
            "9413/9413 [==============================] - 3s 317us/step - loss: 2710.8802 - val_loss: 2710.3368\n",
            "Epoch 34/50\n",
            "9413/9413 [==============================] - 3s 316us/step - loss: 2710.4275 - val_loss: 2712.2234\n",
            "Epoch 35/50\n",
            "9413/9413 [==============================] - 3s 316us/step - loss: 2710.1793 - val_loss: 2710.1928\n",
            "Epoch 36/50\n",
            "9413/9413 [==============================] - 3s 316us/step - loss: 2710.1356 - val_loss: 2709.4304\n",
            "Epoch 37/50\n",
            "9413/9413 [==============================] - 3s 329us/step - loss: 2709.3302 - val_loss: 2710.4249\n",
            "Epoch 38/50\n",
            "9413/9413 [==============================] - 3s 314us/step - loss: 2709.3031 - val_loss: 2710.9151\n",
            "Epoch 39/50\n",
            "9413/9413 [==============================] - 3s 317us/step - loss: 2708.9515 - val_loss: 2709.2473\n",
            "Epoch 40/50\n",
            "9413/9413 [==============================] - 3s 322us/step - loss: 2708.3949 - val_loss: 2710.3361\n",
            "Epoch 41/50\n",
            "9413/9413 [==============================] - 3s 316us/step - loss: 2708.2463 - val_loss: 2708.3856\n",
            "Epoch 42/50\n",
            "9413/9413 [==============================] - 3s 321us/step - loss: 2707.3379 - val_loss: 2706.5143\n",
            "Epoch 43/50\n",
            "9413/9413 [==============================] - 3s 325us/step - loss: 2707.0264 - val_loss: 2707.2667\n",
            "Epoch 44/50\n",
            "9413/9413 [==============================] - 3s 321us/step - loss: 2707.0594 - val_loss: 2708.4573\n",
            "Epoch 45/50\n",
            "9413/9413 [==============================] - 3s 317us/step - loss: 2706.7428 - val_loss: 2706.8756\n",
            "Epoch 46/50\n",
            "9413/9413 [==============================] - 3s 317us/step - loss: 2706.6264 - val_loss: 2706.4483\n",
            "Epoch 47/50\n",
            "9413/9413 [==============================] - 3s 319us/step - loss: 2706.1148 - val_loss: 2708.5826\n",
            "Epoch 48/50\n",
            "9413/9413 [==============================] - 3s 324us/step - loss: 2705.6369 - val_loss: 2704.9476\n",
            "Epoch 49/50\n",
            "9413/9413 [==============================] - 3s 318us/step - loss: 2705.4178 - val_loss: 2706.9377\n",
            "Epoch 50/50\n",
            "9413/9413 [==============================] - 3s 318us/step - loss: 2705.3399 - val_loss: 2705.0893\n",
            "CPU times: user 2min 35s, sys: 10.2 s, total: 2min 45s\n",
            "Wall time: 2min 30s\n"
          ],
          "name": "stdout"
        }
      ]
    },
    {
      "metadata": {
        "id": "TlMXUxMWA2XU",
        "colab_type": "code",
        "outputId": "4b2d5816-7e31-4471-9da1-4df5a3895c7f",
        "colab": {
          "base_uri": "https://localhost:8080/",
          "height": 314
        }
      },
      "cell_type": "code",
      "source": [
        "# Visualize training performance\n",
        "history_df = pd.DataFrame(hist.history)\n",
        "hist_plot_file = os.path.join('figures', 'onehidden_vae_training_'+str(latent_dim)+'dim.pdf')\n",
        "ax = history_df.plot()\n",
        "ax.set_xlabel('Epochs')\n",
        "ax.set_ylabel('VAE Loss')\n",
        "fig = ax.get_figure()\n",
        "fig.savefig(hist_plot_file)"
      ],
      "execution_count": 0,
      "outputs": [
        {
          "output_type": "display_data",
          "data": {
            "image/png": "[encoded data removed]",
            "text/plain": [
              "<matplotlib.figure.Figure at 0x7fe1b091c490>"
            ]
          },
          "metadata": {
            "tags": []
          }
        }
      ]
    },
    {
      "metadata": {
        "id": "krVTu1bUaUaC",
        "colab_type": "code",
        "colab": {}
      },
      "cell_type": "code",
      "source": [
        "files.download(hist_plot_file)"
      ],
      "execution_count": 0,
      "outputs": []
    },
    {
      "metadata": {
        "id": "RytN9dShA2XY",
        "colab_type": "text"
      },
      "cell_type": "markdown",
      "source": [
        "## Compile and output trained models\n",
        "\n",
        "We are interested in:\n",
        "\n",
        "1. The model to encode/compress the input gene expression data\n",
        "  * Can be possibly used to compress other tumors\n",
        "2. The model to decode/decompress the latent space back into gene expression space\n",
        "  * This is our generative model\n",
        "3. The latent space compression of all pan cancer TCGA samples\n",
        "  * Non-linear reduced dimension representation of tumors can be used as features for various tasks\n",
        "    * Supervised learning tasks predicting specific gene inactivation events\n",
        "    * Interpolating across this space to observe how gene expression changes between two cancer states\n",
        "4. The weights used to compress each latent node\n",
        "  * Potentially indicate learned biology differentially activating tumors"
      ]
    },
    {
      "metadata": {
        "id": "iPdo6l0tA2XZ",
        "colab_type": "text"
      },
      "cell_type": "markdown",
      "source": [
        "### Encoder model"
      ]
    },
    {
      "metadata": {
        "id": "HVQuz7UlA2Xa",
        "colab_type": "code",
        "colab": {}
      },
      "cell_type": "code",
      "source": [
        "# Model to compress input\n",
        "encoder = Model(rnaseq_input, z_mean_encoded)"
      ],
      "execution_count": 0,
      "outputs": []
    },
    {
      "metadata": {
        "id": "mNdn7k1ZA2Xd",
        "colab_type": "code",
        "colab": {}
      },
      "cell_type": "code",
      "source": [
        "# Encode rnaseq into the hidden/latent representation - and save output\n",
        "encoded_rnaseq_df = encoder.predict_on_batch(rnaseq_df)\n",
        "encoded_rnaseq_df = pd.DataFrame(encoded_rnaseq_df, index=rnaseq_df.index)\n",
        "\n",
        "encoded_rnaseq_df.columns.name = 'sample_id'\n",
        "encoded_rnaseq_df.columns = encoded_rnaseq_df.columns + 1\n",
        "encoded_file = os.path.join('data', 'encoded_rnaseq_onehidden_warmup_batchnorm_'+str(latent_dim)+'dim.tsv')\n",
        "encoded_rnaseq_df.to_csv(encoded_file, sep='\\t')"
      ],
      "execution_count": 0,
      "outputs": []
    },
    {
      "metadata": {
        "id": "o_M1sKCvA2Xg",
        "colab_type": "text"
      },
      "cell_type": "markdown",
      "source": [
        "### Decoder (generative) model"
      ]
    },
    {
      "metadata": {
        "id": "M7s9vqOYA2Xh",
        "colab_type": "code",
        "colab": {}
      },
      "cell_type": "code",
      "source": [
        "# build a generator that can sample from the learned distribution\n",
        "decoder_input = Input(shape=(latent_dim, ))  # can generate from any sampled z vector\n",
        "_x_decoded_mean = decoder_to_reconstruct(decoder_input)\n",
        "decoder = Model(decoder_input, _x_decoded_mean)"
      ],
      "execution_count": 0,
      "outputs": []
    },
    {
      "metadata": {
        "id": "rqvbzj5m0J-O",
        "colab_type": "code",
        "colab": {}
      },
      "cell_type": "code",
      "source": [
        "from google.colab import files"
      ],
      "execution_count": 0,
      "outputs": []
    },
    {
      "metadata": {
        "id": "Aw43xvpT0QwM",
        "colab_type": "code",
        "colab": {}
      },
      "cell_type": "code",
      "source": [
        "files.download('data/encoded_rnaseq_onehidden_warmup_batchnorm_'+str(latent_dim)+'dim.tsv')"
      ],
      "execution_count": 0,
      "outputs": []
    },
    {
      "metadata": {
        "id": "t2I_j17_A2Xj",
        "colab_type": "text"
      },
      "cell_type": "markdown",
      "source": [
        "## Save the encoder/decoder models for future investigation"
      ]
    },
    {
      "metadata": {
        "id": "YpXShttNzZar",
        "colab_type": "code",
        "outputId": "bda12cd7-fc72-4a0b-fe6b-d1f74152faa7",
        "colab": {
          "base_uri": "https://localhost:8080/",
          "height": 35
        }
      },
      "cell_type": "code",
      "source": [
        "!mkdir tybalt/models"
      ],
      "execution_count": 0,
      "outputs": [
        {
          "output_type": "stream",
          "text": [
            "mkdir: cannot create directory ‘tybalt/models’: File exists\n"
          ],
          "name": "stdout"
        }
      ]
    },
    {
      "metadata": {
        "id": "2iqTVELeA2Xl",
        "colab_type": "code",
        "colab": {}
      },
      "cell_type": "code",
      "source": [
        "encoder_model_file = os.path.join('tybalt/models', 'encoder_onehidden_vae_'+str(latent_dim)+'d.hdf5')\n",
        "decoder_model_file = os.path.join('tybalt/models', 'decoder_onehidden_vae_'+str(latent_dim)+'d.hdf5')\n",
        "\n",
        "encoder.save(encoder_model_file)\n",
        "decoder.save(decoder_model_file)"
      ],
      "execution_count": 0,
      "outputs": []
    },
    {
      "metadata": {
        "id": "hRGng0yF0YVn",
        "colab_type": "code",
        "colab": {}
      },
      "cell_type": "code",
      "source": [
        "files.download(encoder_model_file)\n"
      ],
      "execution_count": 0,
      "outputs": []
    },
    {
      "metadata": {
        "id": "70387n0hzfGN",
        "colab_type": "code",
        "colab": {}
      },
      "cell_type": "code",
      "source": [
        "files.download(decoder_model_file)"
      ],
      "execution_count": 0,
      "outputs": []
    },
    {
      "metadata": {
        "id": "EsgVLg5yA2Xp",
        "colab_type": "text"
      },
      "cell_type": "markdown",
      "source": [
        "##  Model Interpretation - Sanity Check\n",
        "\n",
        "\n",
        "###  Observe the distribution of node activations.\n",
        "\n",
        "We want to ensure that the model is learning a distribution of feature activations, and not zeroing out features."
      ]
    },
    {
      "metadata": {
        "id": "IOl1FAZFA2Xr",
        "colab_type": "code",
        "outputId": "42ddbdbb-0ba6-4b9b-d3b0-f45e776984b3",
        "colab": {
          "base_uri": "https://localhost:8080/",
          "height": 432
        }
      },
      "cell_type": "code",
      "source": [
        "# What are the most and least activated nodes\n",
        "sum_node_activity = encoded_rnaseq_df.sum(axis=0).sort_values(ascending=False)\n",
        "\n",
        "# Top 10 most active nodes\n",
        "print(sum_node_activity.head(10))\n",
        "\n",
        "# Bottom 10 least active nodes\n",
        "sum_node_activity.tail(10)"
      ],
      "execution_count": 0,
      "outputs": [
        {
          "output_type": "stream",
          "text": [
            "sample_id\n",
            "8     26271.677734\n",
            "9     25866.626953\n",
            "11    23120.212891\n",
            "2     22768.898438\n",
            "28    22695.408203\n",
            "7     22438.650391\n",
            "23    22397.923828\n",
            "25    22067.041016\n",
            "22    21399.925781\n",
            "36    21334.935547\n",
            "dtype: float32\n"
          ],
          "name": "stdout"
        },
        {
          "output_type": "execute_result",
          "data": {
            "text/plain": [
              "sample_id\n",
              "10    18479.046875\n",
              "33    18413.503906\n",
              "17    18304.904297\n",
              "34    17960.074219\n",
              "31    17854.666016\n",
              "1     17779.431641\n",
              "6     17494.498047\n",
              "14    17000.753906\n",
              "12    16887.861328\n",
              "4     16813.839844\n",
              "dtype: float32"
            ]
          },
          "metadata": {
            "tags": []
          },
          "execution_count": 65
        }
      ]
    },
    {
      "metadata": {
        "id": "jodl4pSZA2Xv",
        "colab_type": "code",
        "outputId": "748fb4b1-4547-4630-d5d4-c28da2b58fed",
        "colab": {
          "base_uri": "https://localhost:8080/",
          "height": 314
        }
      },
      "cell_type": "code",
      "source": [
        "# Histogram of node activity for all 100 latent features\n",
        "sum_node_activity.hist()\n",
        "plt.xlabel('Activation Sum')\n",
        "plt.ylabel('Count');"
      ],
      "execution_count": 0,
      "outputs": [
        {
          "output_type": "display_data",
          "data": {
            "image/png": "[encoded data removed]",
            "text/plain": [
              "<matplotlib.figure.Figure at 0x7fe1b0186910>"
            ]
          },
          "metadata": {
            "tags": []
          }
        }
      ]
    },
    {
      "metadata": {
        "id": "VmpGGymxA2X0",
        "colab_type": "text"
      },
      "cell_type": "markdown",
      "source": [
        "What does an example distribution of two latent features look like?"
      ]
    },
    {
      "metadata": {
        "id": "8v--zBKJA2X1",
        "colab_type": "code",
        "outputId": "0af3d998-235e-472f-dbb6-72b1c4ae523c",
        "colab": {
          "base_uri": "https://localhost:8080/",
          "height": 400
        }
      },
      "cell_type": "code",
      "source": [
        "# Example of node activation distribution for the first two latent features\n",
        "plt.figure(figsize=(5, 6))\n",
        "plt.scatter(encoded_rnaseq_df.iloc[:, 1], encoded_rnaseq_df.iloc[:, 2])\n",
        "plt.xlabel('Latent Feature 1')\n",
        "plt.xlabel('Latent Feature 2');"
      ],
      "execution_count": 0,
      "outputs": [
        {
          "output_type": "display_data",
          "data": {
            "image/png": "[encoded data removed]",
            "text/plain": [
              "<matplotlib.figure.Figure at 0x7fe1b01dc410>"
            ]
          },
          "metadata": {
            "tags": []
          }
        }
      ]
    },
    {
      "metadata": {
        "id": "utPlBG5TA2X6",
        "colab_type": "text"
      },
      "cell_type": "markdown",
      "source": [
        "###  Observe reconstruction fidelity"
      ]
    },
    {
      "metadata": {
        "id": "Ae37jmNLA2X-",
        "colab_type": "code",
        "outputId": "faf81e57-3230-4441-b015-3fcdaf4f8df0",
        "colab": {
          "base_uri": "https://localhost:8080/",
          "height": 256
        }
      },
      "cell_type": "code",
      "source": [
        "# How well does the model reconstruct the input RNAseq data\n",
        "input_rnaseq_reconstruct = decoder.predict(np.array(encoded_rnaseq_df))\n",
        "input_rnaseq_reconstruct = pd.DataFrame(input_rnaseq_reconstruct, index=rnaseq_df.index,\n",
        "                                        columns=rnaseq_df.columns)\n",
        "input_rnaseq_reconstruct.head(2)"
      ],
      "execution_count": 0,
      "outputs": [
        {
          "output_type": "execute_result",
          "data": {
            "text/html": [
              "<div>\n",
              "<style scoped>\n",
              "    .dataframe tbody tr th:only-of-type {\n",
              "        vertical-align: middle;\n",
              "    }\n",
              "\n",
              "    .dataframe tbody tr th {\n",
              "        vertical-align: top;\n",
              "    }\n",
              "\n",
              "    .dataframe thead th {\n",
              "        text-align: right;\n",
              "    }\n",
              "</style>\n",
              "<table border=\"1\" class=\"dataframe\">\n",
              "  <thead>\n",
              "    <tr style=\"text-align: right;\">\n",
              "      <th></th>\n",
              "      <th>RPS4Y1</th>\n",
              "      <th>XIST</th>\n",
              "      <th>KRT5</th>\n",
              "      <th>AGR2</th>\n",
              "      <th>CEACAM5</th>\n",
              "      <th>KRT6A</th>\n",
              "      <th>KRT14</th>\n",
              "      <th>CEACAM6</th>\n",
              "      <th>DDX3Y</th>\n",
              "      <th>KDM5D</th>\n",
              "      <th>...</th>\n",
              "      <th>FAM129A</th>\n",
              "      <th>C8orf48</th>\n",
              "      <th>CDK5R1</th>\n",
              "      <th>FAM81A</th>\n",
              "      <th>C13orf18</th>\n",
              "      <th>GDPD3</th>\n",
              "      <th>SMAGP</th>\n",
              "      <th>C2orf85</th>\n",
              "      <th>POU5F1B</th>\n",
              "      <th>CHST2</th>\n",
              "    </tr>\n",
              "    <tr>\n",
              "      <th>tcga_id</th>\n",
              "      <th></th>\n",
              "      <th></th>\n",
              "      <th></th>\n",
              "      <th></th>\n",
              "      <th></th>\n",
              "      <th></th>\n",
              "      <th></th>\n",
              "      <th></th>\n",
              "      <th></th>\n",
              "      <th></th>\n",
              "      <th></th>\n",
              "      <th></th>\n",
              "      <th></th>\n",
              "      <th></th>\n",
              "      <th></th>\n",
              "      <th></th>\n",
              "      <th></th>\n",
              "      <th></th>\n",
              "      <th></th>\n",
              "      <th></th>\n",
              "      <th></th>\n",
              "    </tr>\n",
              "  </thead>\n",
              "  <tbody>\n",
              "    <tr>\n",
              "      <th>TCGA-02-0047-01</th>\n",
              "      <td>0.500879</td>\n",
              "      <td>0.321355</td>\n",
              "      <td>0.148229</td>\n",
              "      <td>0.049060</td>\n",
              "      <td>0.040775</td>\n",
              "      <td>0.049627</td>\n",
              "      <td>0.058583</td>\n",
              "      <td>0.04508</td>\n",
              "      <td>0.526422</td>\n",
              "      <td>0.489361</td>\n",
              "      <td>...</td>\n",
              "      <td>0.463381</td>\n",
              "      <td>0.540950</td>\n",
              "      <td>0.744867</td>\n",
              "      <td>0.643009</td>\n",
              "      <td>0.561654</td>\n",
              "      <td>0.388072</td>\n",
              "      <td>0.431315</td>\n",
              "      <td>0.475572</td>\n",
              "      <td>0.216375</td>\n",
              "      <td>0.597462</td>\n",
              "    </tr>\n",
              "    <tr>\n",
              "      <th>TCGA-02-0055-01</th>\n",
              "      <td>0.392471</td>\n",
              "      <td>0.336180</td>\n",
              "      <td>0.270072</td>\n",
              "      <td>0.112809</td>\n",
              "      <td>0.080978</td>\n",
              "      <td>0.157071</td>\n",
              "      <td>0.158676</td>\n",
              "      <td>0.11799</td>\n",
              "      <td>0.398420</td>\n",
              "      <td>0.342756</td>\n",
              "      <td>...</td>\n",
              "      <td>0.591806</td>\n",
              "      <td>0.534609</td>\n",
              "      <td>0.617764</td>\n",
              "      <td>0.513155</td>\n",
              "      <td>0.610739</td>\n",
              "      <td>0.378213</td>\n",
              "      <td>0.519153</td>\n",
              "      <td>0.178340</td>\n",
              "      <td>0.188147</td>\n",
              "      <td>0.627532</td>\n",
              "    </tr>\n",
              "  </tbody>\n",
              "</table>\n",
              "<p>2 rows × 5000 columns</p>\n",
              "</div>"
            ],
            "text/plain": [
              "                   RPS4Y1      XIST      KRT5      AGR2   CEACAM5     KRT6A  \\\n",
              "tcga_id                                                                       \n",
              "TCGA-02-0047-01  0.500879  0.321355  0.148229  0.049060  0.040775  0.049627   \n",
              "TCGA-02-0055-01  0.392471  0.336180  0.270072  0.112809  0.080978  0.157071   \n",
              "\n",
              "                    KRT14  CEACAM6     DDX3Y     KDM5D    ...      FAM129A  \\\n",
              "tcga_id                                                   ...                \n",
              "TCGA-02-0047-01  0.058583  0.04508  0.526422  0.489361    ...     0.463381   \n",
              "TCGA-02-0055-01  0.158676  0.11799  0.398420  0.342756    ...     0.591806   \n",
              "\n",
              "                  C8orf48    CDK5R1    FAM81A  C13orf18     GDPD3     SMAGP  \\\n",
              "tcga_id                                                                       \n",
              "TCGA-02-0047-01  0.540950  0.744867  0.643009  0.561654  0.388072  0.431315   \n",
              "TCGA-02-0055-01  0.534609  0.617764  0.513155  0.610739  0.378213  0.519153   \n",
              "\n",
              "                  C2orf85   POU5F1B     CHST2  \n",
              "tcga_id                                        \n",
              "TCGA-02-0047-01  0.475572  0.216375  0.597462  \n",
              "TCGA-02-0055-01  0.178340  0.188147  0.627532  \n",
              "\n",
              "[2 rows x 5000 columns]"
            ]
          },
          "metadata": {
            "tags": []
          },
          "execution_count": 69
        }
      ]
    },
    {
      "metadata": {
        "id": "1TvCd0rCA2YD",
        "colab_type": "code",
        "outputId": "d1b1bcd7-43b6-4805-ff79-4cbf058b4917",
        "colab": {
          "base_uri": "https://localhost:8080/",
          "height": 228
        }
      },
      "cell_type": "code",
      "source": [
        "reconstruction_fidelity = rnaseq_df - input_rnaseq_reconstruct\n",
        "\n",
        "patient_sum = reconstruction_fidelity.abs().sum(axis=1)\n",
        "patient_summary = pd.DataFrame(patient_sum, index=rnaseq_df.index, columns=['MAE'])\n",
        "patient_summary.head()\n",
        "#patient_summary.sort_values(by='MAE', ascending=False).head()\n",
        "\n"
      ],
      "execution_count": 0,
      "outputs": [
        {
          "output_type": "execute_result",
          "data": {
            "text/html": [
              "<div>\n",
              "<style scoped>\n",
              "    .dataframe tbody tr th:only-of-type {\n",
              "        vertical-align: middle;\n",
              "    }\n",
              "\n",
              "    .dataframe tbody tr th {\n",
              "        vertical-align: top;\n",
              "    }\n",
              "\n",
              "    .dataframe thead th {\n",
              "        text-align: right;\n",
              "    }\n",
              "</style>\n",
              "<table border=\"1\" class=\"dataframe\">\n",
              "  <thead>\n",
              "    <tr style=\"text-align: right;\">\n",
              "      <th></th>\n",
              "      <th>MAE</th>\n",
              "    </tr>\n",
              "    <tr>\n",
              "      <th>tcga_id</th>\n",
              "      <th></th>\n",
              "    </tr>\n",
              "  </thead>\n",
              "  <tbody>\n",
              "    <tr>\n",
              "      <th>TCGA-02-0047-01</th>\n",
              "      <td>344.307130</td>\n",
              "    </tr>\n",
              "    <tr>\n",
              "      <th>TCGA-02-0055-01</th>\n",
              "      <td>397.223140</td>\n",
              "    </tr>\n",
              "    <tr>\n",
              "      <th>TCGA-02-2483-01</th>\n",
              "      <td>378.618077</td>\n",
              "    </tr>\n",
              "    <tr>\n",
              "      <th>TCGA-02-2485-01</th>\n",
              "      <td>378.513260</td>\n",
              "    </tr>\n",
              "    <tr>\n",
              "      <th>TCGA-02-2486-01</th>\n",
              "      <td>409.082268</td>\n",
              "    </tr>\n",
              "  </tbody>\n",
              "</table>\n",
              "</div>"
            ],
            "text/plain": [
              "                        MAE\n",
              "tcga_id                    \n",
              "TCGA-02-0047-01  344.307130\n",
              "TCGA-02-0055-01  397.223140\n",
              "TCGA-02-2483-01  378.618077\n",
              "TCGA-02-2485-01  378.513260\n",
              "TCGA-02-2486-01  409.082268"
            ]
          },
          "metadata": {
            "tags": []
          },
          "execution_count": 70
        }
      ]
    },
    {
      "metadata": {
        "id": "43HfD-n6Avzv",
        "colab_type": "code",
        "colab": {}
      },
      "cell_type": "code",
      "source": [
        "patient_summary.reset_index(inplace=True)\n",
        "patient_summary.columns=['sample_id', 'mae']\n",
        "fidelity_file = os.path.join('data', 'patient_reconstruction_fidelity_'+str(latent_dim)+'dim.tsv')\n",
        "patient_summary.to_csv(fidelity_file, sep='\\t')\n"
      ],
      "execution_count": 0,
      "outputs": []
    },
    {
      "metadata": {
        "id": "Asngseg41u2U",
        "colab_type": "code",
        "colab": {}
      },
      "cell_type": "code",
      "source": [
        "files.download(fidelity_file)"
      ],
      "execution_count": 0,
      "outputs": []
    },
    {
      "metadata": {
        "id": "3eRxe8Iy1tmA",
        "colab_type": "code",
        "outputId": "56ca14ef-52fc-410c-ce3b-4241ee47ac93",
        "colab": {
          "base_uri": "https://localhost:8080/",
          "height": 198
        }
      },
      "cell_type": "code",
      "source": [
        "gene_mean = reconstruction_fidelity.mean(axis=0)\n",
        "gene_abssum = reconstruction_fidelity.abs().sum(axis=0).divide(rnaseq_df.shape[0])\n",
        "gene_summary = pd.DataFrame([gene_mean, gene_abssum], index=['gene mean', 'gene abs(sum)']).T\n",
        "gene_summary.sort_values(by='gene abs(sum)', ascending=False).head()\n",
        "\n",
        "gene_fidelity = os.path.join('data', 'gene_reconstruction_fidelity_'+str(latent_dim)+'dim.tsv')\n",
        "gene_summary.to_csv(gene_fidelity, sep='\\t')\n",
        "gene_summary.head()\n"
      ],
      "execution_count": 0,
      "outputs": [
        {
          "output_type": "execute_result",
          "data": {
            "text/html": [
              "<div>\n",
              "<style scoped>\n",
              "    .dataframe tbody tr th:only-of-type {\n",
              "        vertical-align: middle;\n",
              "    }\n",
              "\n",
              "    .dataframe tbody tr th {\n",
              "        vertical-align: top;\n",
              "    }\n",
              "\n",
              "    .dataframe thead th {\n",
              "        text-align: right;\n",
              "    }\n",
              "</style>\n",
              "<table border=\"1\" class=\"dataframe\">\n",
              "  <thead>\n",
              "    <tr style=\"text-align: right;\">\n",
              "      <th></th>\n",
              "      <th>gene mean</th>\n",
              "      <th>gene abs(sum)</th>\n",
              "    </tr>\n",
              "  </thead>\n",
              "  <tbody>\n",
              "    <tr>\n",
              "      <th>RPS4Y1</th>\n",
              "      <td>0.028582</td>\n",
              "      <td>0.095580</td>\n",
              "    </tr>\n",
              "    <tr>\n",
              "      <th>XIST</th>\n",
              "      <td>-0.016628</td>\n",
              "      <td>0.123890</td>\n",
              "    </tr>\n",
              "    <tr>\n",
              "      <th>KRT5</th>\n",
              "      <td>0.005718</td>\n",
              "      <td>0.080225</td>\n",
              "    </tr>\n",
              "    <tr>\n",
              "      <th>AGR2</th>\n",
              "      <td>-0.011434</td>\n",
              "      <td>0.076252</td>\n",
              "    </tr>\n",
              "    <tr>\n",
              "      <th>CEACAM5</th>\n",
              "      <td>-0.006370</td>\n",
              "      <td>0.078765</td>\n",
              "    </tr>\n",
              "  </tbody>\n",
              "</table>\n",
              "</div>"
            ],
            "text/plain": [
              "         gene mean  gene abs(sum)\n",
              "RPS4Y1    0.028582       0.095580\n",
              "XIST     -0.016628       0.123890\n",
              "KRT5      0.005718       0.080225\n",
              "AGR2     -0.011434       0.076252\n",
              "CEACAM5  -0.006370       0.078765"
            ]
          },
          "metadata": {
            "tags": []
          },
          "execution_count": 73
        }
      ]
    },
    {
      "metadata": {
        "id": "Lgq3g7KQ3zXl",
        "colab_type": "code",
        "colab": {}
      },
      "cell_type": "code",
      "source": [
        "files.download(gene_fidelity)"
      ],
      "execution_count": 0,
      "outputs": []
    },
    {
      "metadata": {
        "id": "XNU-AeylA2YI",
        "colab_type": "code",
        "outputId": "f770ad60-0c5f-4378-bdfa-3b9328815fab",
        "colab": {
          "base_uri": "https://localhost:8080/",
          "height": 434
        }
      },
      "cell_type": "code",
      "source": [
        "# Mean of gene reconstruction vs. absolute reconstructed difference per sample\n",
        "g = sns.jointplot('gene mean', 'gene abs(sum)', data=gene_summary, stat_func=None);"
      ],
      "execution_count": 0,
      "outputs": [
        {
          "output_type": "display_data",
          "data": {
            "image/png": "[encoded data removed]",
            "text/plain": [
              "<matplotlib.figure.Figure at 0x7fe1b0693f10>"
            ]
          },
          "metadata": {
            "tags": []
          }
        }
      ]
    },
    {
      "metadata": {
        "id": "HM6JMDUzREmB",
        "colab_type": "code",
        "outputId": "a420dd5e-be89-4c3b-f91e-f5f67e75cbc8",
        "colab": {
          "base_uri": "https://localhost:8080/",
          "height": 138
        }
      },
      "cell_type": "code",
      "source": [
        "from sklearn import manifold\n",
        "\n",
        "# Perform t-SNE on VAE encoded_features\n",
        "tsne = manifold.TSNE(n_components=2, init='pca', random_state=0, perplexity=20,\n",
        "                     learning_rate=300, n_iter=400)\n",
        "tsne_out = tsne.fit_transform(encoded_rnaseq_df)\n",
        "tsne_out = pd.DataFrame(tsne_out, columns=['1', '2'])\n",
        "tsne_out.index = encoded_rnaseq_df.index\n",
        "tsne_out.index.name = 'tcga_id'\n",
        "tsne_out_file = os.path.join('results', 'tybalt_tsne_features_'+str(latent_dim)+'dim.tsv')\n",
        "tsne_out.to_csv(tsne_out_file, sep='\\t')\n",
        "tsne_out.head(2)"
      ],
      "execution_count": 0,
      "outputs": [
        {
          "output_type": "execute_result",
          "data": {
            "text/html": [
              "<div>\n",
              "<style scoped>\n",
              "    .dataframe tbody tr th:only-of-type {\n",
              "        vertical-align: middle;\n",
              "    }\n",
              "\n",
              "    .dataframe tbody tr th {\n",
              "        vertical-align: top;\n",
              "    }\n",
              "\n",
              "    .dataframe thead th {\n",
              "        text-align: right;\n",
              "    }\n",
              "</style>\n",
              "<table border=\"1\" class=\"dataframe\">\n",
              "  <thead>\n",
              "    <tr style=\"text-align: right;\">\n",
              "      <th></th>\n",
              "      <th>1</th>\n",
              "      <th>2</th>\n",
              "    </tr>\n",
              "    <tr>\n",
              "      <th>tcga_id</th>\n",
              "      <th></th>\n",
              "      <th></th>\n",
              "    </tr>\n",
              "  </thead>\n",
              "  <tbody>\n",
              "    <tr>\n",
              "      <th>TCGA-02-0047-01</th>\n",
              "      <td>20.982117</td>\n",
              "      <td>-10.639853</td>\n",
              "    </tr>\n",
              "    <tr>\n",
              "      <th>TCGA-02-0055-01</th>\n",
              "      <td>16.597500</td>\n",
              "      <td>-11.452167</td>\n",
              "    </tr>\n",
              "  </tbody>\n",
              "</table>\n",
              "</div>"
            ],
            "text/plain": [
              "                         1          2\n",
              "tcga_id                              \n",
              "TCGA-02-0047-01  20.982117 -10.639853\n",
              "TCGA-02-0055-01  16.597500 -11.452167"
            ]
          },
          "metadata": {
            "tags": []
          },
          "execution_count": 76
        }
      ]
    },
    {
      "metadata": {
        "id": "KLcNyupCaiYf",
        "colab_type": "code",
        "colab": {}
      },
      "cell_type": "code",
      "source": [
        "files.download(tsne_out_file)"
      ],
      "execution_count": 0,
      "outputs": []
    },
    {
      "metadata": {
        "id": "JO6SsOtwHkvR",
        "colab_type": "code",
        "colab": {}
      },
      "cell_type": "code",
      "source": [
        ""
      ],
      "execution_count": 0,
      "outputs": []
    }
  ]
}