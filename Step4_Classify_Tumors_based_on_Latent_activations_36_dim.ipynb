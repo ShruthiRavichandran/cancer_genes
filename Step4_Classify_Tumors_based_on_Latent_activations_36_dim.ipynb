{
  "nbformat": 4,
  "nbformat_minor": 0,
  "metadata": {
    "colab": {
      "name": "Classify Tumors based on Latent activations 36 dim",
      "version": "0.3.2",
      "provenance": [],
      "collapsed_sections": []
    },
    "kernelspec": {
      "name": "python2",
      "display_name": "Python 2"
    },
    "accelerator": "GPU"
  },
  "cells": [
    {
      "metadata": {
        "id": "YZjx-7DsROWx",
        "colab_type": "text"
      },
      "cell_type": "markdown",
      "source": [
        "# Classify using latent features"
      ]
    },
    {
      "metadata": {
        "id": "iA0VsNxXROWy",
        "colab_type": "code",
        "colab": {}
      },
      "cell_type": "code",
      "source": [
        "import os\n",
        "import pandas as pd\n",
        "\n",
        "from sklearn.ensemble import RandomForestClassifier\n",
        "from sklearn.model_selection import train_test_split"
      ],
      "execution_count": 0,
      "outputs": []
    },
    {
      "metadata": {
        "id": "O-BPL-Jg_gGE",
        "colab_type": "code",
        "outputId": "9f1bfe32-83e1-42c6-8234-9e7ce58f27c6",
        "colab": {
          "base_uri": "https://localhost:8080/",
          "height": 35
        }
      },
      "cell_type": "code",
      "source": [
        "os.chdir('/content/tybalt')\n",
        "!pwd\n"
      ],
      "execution_count": 2,
      "outputs": [
        {
          "output_type": "stream",
          "text": [
            "/content/tybalt\n"
          ],
          "name": "stdout"
        }
      ]
    },
    {
      "metadata": {
        "id": "FMWCHDiQAMw5",
        "colab_type": "code",
        "outputId": "e300b7a4-f485-42de-fed0-05e3d2fee689",
        "colab": {
          "base_uri": "https://localhost:8080/",
          "height": 276
        }
      },
      "cell_type": "code",
      "source": [
        "!ls"
      ],
      "execution_count": 3,
      "outputs": [
        {
          "output_type": "stream",
          "text": [
            "adage_training.ipynb\t       param_sweep\n",
            "config\t\t\t       param_sweep_adage\n",
            "data\t\t\t       param_sweep.sh\n",
            "disease_names.csv\t       param_sweep_twohidden\n",
            "download_data.sh\t       param_sweep_twohidden300\n",
            "environment.yml\t\t       process_data.ipynb\n",
            "extract_tybalt_weights.ipynb   README.md\n",
            "figures\t\t\t       results\n",
            "gpu-environment.yml\t       scripts\n",
            "hgsc_subtypes_tybalt.ipynb     setup.py\n",
            "high_weight_genes.ipynb        tsne_tybalt_features.ipynb\n",
            "latent_space_comparison.ipynb  tybalt\n",
            "LICENSE.md\t\t       tybalt_twohidden.ipynb\n",
            "models\t\t\t       tybalt_vae.ipynb\n",
            "parameter_sweep.md\n"
          ],
          "name": "stdout"
        }
      ]
    },
    {
      "metadata": {
        "id": "C_bV3--8ATk9",
        "colab_type": "code",
        "outputId": "944c4c86-2f14-46b9-ddd5-cfc8fb3e170f",
        "colab": {
          "base_uri": "https://localhost:8080/",
          "height": 432
        }
      },
      "cell_type": "code",
      "source": [
        "!ls data"
      ],
      "execution_count": 4,
      "outputs": [
        {
          "output_type": "stream",
          "text": [
            "background_genes.txt\n",
            "clinical_data.tsv\n",
            "encoded_adage_features.tsv\n",
            "encoded_rnaseq_onehidden_warmup_batchnorm_36dim.tsv\n",
            "encoded_rnaseq_onehidden_warmup_batchnorm.tsv\n",
            "encoded_rnaseq_twohidden_100model.tsv.gz\n",
            "encoded_rnaseq_twohidden_300model.tsv.gz\n",
            "gene_reconstruction_fidelity-25dim.tsv\n",
            "gene_reconstruction_fidelity_36dim.tsv\n",
            "oncokb_genetypes.tsv\n",
            "onehidden_warmup_batchnorm_tsne_out.tsv\n",
            "ov_subtype_info.tsv\n",
            "pancan_mutation_burden.tsv\n",
            "pancan_mutation.tsv.gz\n",
            "pancan_scaled_rnaseq.tsv.gz\n",
            "pancan_scaled_zeroone_rnaseq.tsv.gz\n",
            "patient_reconstruction_fidelity-25dim.tsv\n",
            "patient_reconstruction_fidelity_36dim.tsv\n",
            "raw\n",
            "status_matrix.tsv.gz\n",
            "tcga_colors.tsv\n",
            "tybalt_features_with_clinical.tsv\n",
            "tybalt_gene_weights_twohidden100.tsv\n",
            "tybalt_gene_weights_twohidden300.tsv\n"
          ],
          "name": "stdout"
        }
      ]
    },
    {
      "metadata": {
        "id": "BMZPYgYAROXA",
        "colab_type": "code",
        "outputId": "0f51e89f-18ef-4194-cee5-bbdc846a528e",
        "colab": {
          "base_uri": "https://localhost:8080/",
          "height": 308
        }
      },
      "cell_type": "code",
      "source": [
        "activation_file = os.path.join('data', 'encoded_rnaseq_onehidden_warmup_batchnorm_36dim.tsv')\n",
        "activations = pd.read_table(activation_file)\n",
        "activations['sample_id']=activations.tcga_id.apply(lambda x:x[:12])\n",
        "print(activations.shape)\n",
        "activations.head(3)"
      ],
      "execution_count": 5,
      "outputs": [
        {
          "output_type": "stream",
          "text": [
            "(10459, 38)\n"
          ],
          "name": "stdout"
        },
        {
          "output_type": "execute_result",
          "data": {
            "text/html": [
              "<div>\n",
              "<style scoped>\n",
              "    .dataframe tbody tr th:only-of-type {\n",
              "        vertical-align: middle;\n",
              "    }\n",
              "\n",
              "    .dataframe tbody tr th {\n",
              "        vertical-align: top;\n",
              "    }\n",
              "\n",
              "    .dataframe thead th {\n",
              "        text-align: right;\n",
              "    }\n",
              "</style>\n",
              "<table border=\"1\" class=\"dataframe\">\n",
              "  <thead>\n",
              "    <tr style=\"text-align: right;\">\n",
              "      <th></th>\n",
              "      <th>tcga_id</th>\n",
              "      <th>1</th>\n",
              "      <th>2</th>\n",
              "      <th>3</th>\n",
              "      <th>4</th>\n",
              "      <th>5</th>\n",
              "      <th>6</th>\n",
              "      <th>7</th>\n",
              "      <th>8</th>\n",
              "      <th>9</th>\n",
              "      <th>...</th>\n",
              "      <th>28</th>\n",
              "      <th>29</th>\n",
              "      <th>30</th>\n",
              "      <th>31</th>\n",
              "      <th>32</th>\n",
              "      <th>33</th>\n",
              "      <th>34</th>\n",
              "      <th>35</th>\n",
              "      <th>36</th>\n",
              "      <th>sample_id</th>\n",
              "    </tr>\n",
              "  </thead>\n",
              "  <tbody>\n",
              "    <tr>\n",
              "      <th>0</th>\n",
              "      <td>TCGA-02-0047-01</td>\n",
              "      <td>0.0</td>\n",
              "      <td>0.000000</td>\n",
              "      <td>0.0</td>\n",
              "      <td>9.652770</td>\n",
              "      <td>0.0</td>\n",
              "      <td>4.159220</td>\n",
              "      <td>1.032724</td>\n",
              "      <td>1.333893</td>\n",
              "      <td>0.000000</td>\n",
              "      <td>...</td>\n",
              "      <td>4.095537</td>\n",
              "      <td>0.000000</td>\n",
              "      <td>0.0</td>\n",
              "      <td>0.248807</td>\n",
              "      <td>0.272327</td>\n",
              "      <td>3.184963</td>\n",
              "      <td>0.0</td>\n",
              "      <td>2.675518</td>\n",
              "      <td>0.000000</td>\n",
              "      <td>TCGA-02-0047</td>\n",
              "    </tr>\n",
              "    <tr>\n",
              "      <th>1</th>\n",
              "      <td>TCGA-02-0055-01</td>\n",
              "      <td>0.0</td>\n",
              "      <td>1.512052</td>\n",
              "      <td>0.0</td>\n",
              "      <td>4.649414</td>\n",
              "      <td>0.0</td>\n",
              "      <td>3.986379</td>\n",
              "      <td>1.551740</td>\n",
              "      <td>6.000260</td>\n",
              "      <td>0.000000</td>\n",
              "      <td>...</td>\n",
              "      <td>3.933533</td>\n",
              "      <td>0.000000</td>\n",
              "      <td>0.0</td>\n",
              "      <td>0.000000</td>\n",
              "      <td>0.299276</td>\n",
              "      <td>0.604121</td>\n",
              "      <td>0.0</td>\n",
              "      <td>0.000000</td>\n",
              "      <td>0.000000</td>\n",
              "      <td>TCGA-02-0055</td>\n",
              "    </tr>\n",
              "    <tr>\n",
              "      <th>2</th>\n",
              "      <td>TCGA-02-2483-01</td>\n",
              "      <td>0.0</td>\n",
              "      <td>3.843754</td>\n",
              "      <td>0.0</td>\n",
              "      <td>7.305416</td>\n",
              "      <td>0.0</td>\n",
              "      <td>6.712879</td>\n",
              "      <td>0.000000</td>\n",
              "      <td>3.738884</td>\n",
              "      <td>0.382847</td>\n",
              "      <td>...</td>\n",
              "      <td>6.744939</td>\n",
              "      <td>0.401072</td>\n",
              "      <td>0.0</td>\n",
              "      <td>1.256845</td>\n",
              "      <td>0.000000</td>\n",
              "      <td>3.929856</td>\n",
              "      <td>0.0</td>\n",
              "      <td>6.264098</td>\n",
              "      <td>0.502557</td>\n",
              "      <td>TCGA-02-2483</td>\n",
              "    </tr>\n",
              "  </tbody>\n",
              "</table>\n",
              "<p>3 rows × 38 columns</p>\n",
              "</div>"
            ],
            "text/plain": [
              "           tcga_id    1         2    3         4    5         6         7  \\\n",
              "0  TCGA-02-0047-01  0.0  0.000000  0.0  9.652770  0.0  4.159220  1.032724   \n",
              "1  TCGA-02-0055-01  0.0  1.512052  0.0  4.649414  0.0  3.986379  1.551740   \n",
              "2  TCGA-02-2483-01  0.0  3.843754  0.0  7.305416  0.0  6.712879  0.000000   \n",
              "\n",
              "          8         9      ...             28        29   30        31  \\\n",
              "0  1.333893  0.000000      ...       4.095537  0.000000  0.0  0.248807   \n",
              "1  6.000260  0.000000      ...       3.933533  0.000000  0.0  0.000000   \n",
              "2  3.738884  0.382847      ...       6.744939  0.401072  0.0  1.256845   \n",
              "\n",
              "         32        33   34        35        36     sample_id  \n",
              "0  0.272327  3.184963  0.0  2.675518  0.000000  TCGA-02-0047  \n",
              "1  0.299276  0.604121  0.0  0.000000  0.000000  TCGA-02-0055  \n",
              "2  0.000000  3.929856  0.0  6.264098  0.502557  TCGA-02-2483  \n",
              "\n",
              "[3 rows x 38 columns]"
            ]
          },
          "metadata": {
            "tags": []
          },
          "execution_count": 5
        }
      ]
    },
    {
      "metadata": {
        "id": "xxHLUojsEd-_",
        "colab_type": "code",
        "outputId": "09dbaec7-12a9-4949-f2a3-35e71ea4d971",
        "colab": {
          "base_uri": "https://localhost:8080/",
          "height": 198
        }
      },
      "cell_type": "code",
      "source": [
        "clinical_file = os.path.join('data', 'clinical_data.tsv')\n",
        "cases = pd.read_table(clinical_file)\n",
        "diagnosis = cases[['sample_id', 'acronym', 'gender']]\n",
        "diagnosis.head()"
      ],
      "execution_count": 6,
      "outputs": [
        {
          "output_type": "execute_result",
          "data": {
            "text/html": [
              "<div>\n",
              "<style scoped>\n",
              "    .dataframe tbody tr th:only-of-type {\n",
              "        vertical-align: middle;\n",
              "    }\n",
              "\n",
              "    .dataframe tbody tr th {\n",
              "        vertical-align: top;\n",
              "    }\n",
              "\n",
              "    .dataframe thead th {\n",
              "        text-align: right;\n",
              "    }\n",
              "</style>\n",
              "<table border=\"1\" class=\"dataframe\">\n",
              "  <thead>\n",
              "    <tr style=\"text-align: right;\">\n",
              "      <th></th>\n",
              "      <th>sample_id</th>\n",
              "      <th>acronym</th>\n",
              "      <th>gender</th>\n",
              "    </tr>\n",
              "  </thead>\n",
              "  <tbody>\n",
              "    <tr>\n",
              "      <th>0</th>\n",
              "      <td>TCGA-CD-8534</td>\n",
              "      <td>STAD</td>\n",
              "      <td>male</td>\n",
              "    </tr>\n",
              "    <tr>\n",
              "      <th>1</th>\n",
              "      <td>TCGA-ER-A19A</td>\n",
              "      <td>SKCM</td>\n",
              "      <td>male</td>\n",
              "    </tr>\n",
              "    <tr>\n",
              "      <th>2</th>\n",
              "      <td>TCGA-C5-A1M8</td>\n",
              "      <td>CESC</td>\n",
              "      <td>female</td>\n",
              "    </tr>\n",
              "    <tr>\n",
              "      <th>3</th>\n",
              "      <td>TCGA-D1-A0ZN</td>\n",
              "      <td>UCEC</td>\n",
              "      <td>female</td>\n",
              "    </tr>\n",
              "    <tr>\n",
              "      <th>4</th>\n",
              "      <td>TCGA-EM-A4FF</td>\n",
              "      <td>THCA</td>\n",
              "      <td>female</td>\n",
              "    </tr>\n",
              "  </tbody>\n",
              "</table>\n",
              "</div>"
            ],
            "text/plain": [
              "      sample_id acronym  gender\n",
              "0  TCGA-CD-8534    STAD    male\n",
              "1  TCGA-ER-A19A    SKCM    male\n",
              "2  TCGA-C5-A1M8    CESC  female\n",
              "3  TCGA-D1-A0ZN    UCEC  female\n",
              "4  TCGA-EM-A4FF    THCA  female"
            ]
          },
          "metadata": {
            "tags": []
          },
          "execution_count": 6
        }
      ]
    },
    {
      "metadata": {
        "id": "75zGuXIS_4dL",
        "colab_type": "code",
        "outputId": "43b1083b-d10a-42ea-dead-ff24891b5cd6",
        "colab": {
          "base_uri": "https://localhost:8080/",
          "height": 35
        }
      },
      "cell_type": "code",
      "source": [
        "activations = pd.merge(activations, diagnosis, how='left')\n",
        "activations.shape"
      ],
      "execution_count": 7,
      "outputs": [
        {
          "output_type": "execute_result",
          "data": {
            "text/plain": [
              "(12175, 40)"
            ]
          },
          "metadata": {
            "tags": []
          },
          "execution_count": 7
        }
      ]
    },
    {
      "metadata": {
        "id": "cjT2GTOHQ0yw",
        "colab_type": "code",
        "colab": {}
      },
      "cell_type": "code",
      "source": [
        ""
      ],
      "execution_count": 0,
      "outputs": []
    },
    {
      "metadata": {
        "id": "Qr2PugpcGOq_",
        "colab_type": "code",
        "outputId": "d468e2c6-027e-48bd-d4c4-a49639720887",
        "colab": {
          "base_uri": "https://localhost:8080/",
          "height": 247
        }
      },
      "cell_type": "code",
      "source": [
        "X = activations[[str(i) for i in range(1,37)]]\n",
        "X.head()"
      ],
      "execution_count": 8,
      "outputs": [
        {
          "output_type": "execute_result",
          "data": {
            "text/html": [
              "<div>\n",
              "<style scoped>\n",
              "    .dataframe tbody tr th:only-of-type {\n",
              "        vertical-align: middle;\n",
              "    }\n",
              "\n",
              "    .dataframe tbody tr th {\n",
              "        vertical-align: top;\n",
              "    }\n",
              "\n",
              "    .dataframe thead th {\n",
              "        text-align: right;\n",
              "    }\n",
              "</style>\n",
              "<table border=\"1\" class=\"dataframe\">\n",
              "  <thead>\n",
              "    <tr style=\"text-align: right;\">\n",
              "      <th></th>\n",
              "      <th>1</th>\n",
              "      <th>2</th>\n",
              "      <th>3</th>\n",
              "      <th>4</th>\n",
              "      <th>5</th>\n",
              "      <th>6</th>\n",
              "      <th>7</th>\n",
              "      <th>8</th>\n",
              "      <th>9</th>\n",
              "      <th>10</th>\n",
              "      <th>...</th>\n",
              "      <th>27</th>\n",
              "      <th>28</th>\n",
              "      <th>29</th>\n",
              "      <th>30</th>\n",
              "      <th>31</th>\n",
              "      <th>32</th>\n",
              "      <th>33</th>\n",
              "      <th>34</th>\n",
              "      <th>35</th>\n",
              "      <th>36</th>\n",
              "    </tr>\n",
              "  </thead>\n",
              "  <tbody>\n",
              "    <tr>\n",
              "      <th>0</th>\n",
              "      <td>0.0</td>\n",
              "      <td>0.000000</td>\n",
              "      <td>0.000000</td>\n",
              "      <td>9.652770</td>\n",
              "      <td>0.0</td>\n",
              "      <td>4.159220</td>\n",
              "      <td>1.032724</td>\n",
              "      <td>1.333893</td>\n",
              "      <td>0.000000</td>\n",
              "      <td>0.000000</td>\n",
              "      <td>...</td>\n",
              "      <td>0.205776</td>\n",
              "      <td>4.095537</td>\n",
              "      <td>0.000000</td>\n",
              "      <td>0.000000</td>\n",
              "      <td>0.248807</td>\n",
              "      <td>0.272327</td>\n",
              "      <td>3.184963</td>\n",
              "      <td>0.000000</td>\n",
              "      <td>2.675518</td>\n",
              "      <td>0.000000</td>\n",
              "    </tr>\n",
              "    <tr>\n",
              "      <th>1</th>\n",
              "      <td>0.0</td>\n",
              "      <td>1.512052</td>\n",
              "      <td>0.000000</td>\n",
              "      <td>4.649414</td>\n",
              "      <td>0.0</td>\n",
              "      <td>3.986379</td>\n",
              "      <td>1.551740</td>\n",
              "      <td>6.000260</td>\n",
              "      <td>0.000000</td>\n",
              "      <td>0.535351</td>\n",
              "      <td>...</td>\n",
              "      <td>0.000000</td>\n",
              "      <td>3.933533</td>\n",
              "      <td>0.000000</td>\n",
              "      <td>0.000000</td>\n",
              "      <td>0.000000</td>\n",
              "      <td>0.299276</td>\n",
              "      <td>0.604121</td>\n",
              "      <td>0.000000</td>\n",
              "      <td>0.000000</td>\n",
              "      <td>0.000000</td>\n",
              "    </tr>\n",
              "    <tr>\n",
              "      <th>2</th>\n",
              "      <td>0.0</td>\n",
              "      <td>3.843754</td>\n",
              "      <td>0.000000</td>\n",
              "      <td>7.305416</td>\n",
              "      <td>0.0</td>\n",
              "      <td>6.712879</td>\n",
              "      <td>0.000000</td>\n",
              "      <td>3.738884</td>\n",
              "      <td>0.382847</td>\n",
              "      <td>0.000000</td>\n",
              "      <td>...</td>\n",
              "      <td>0.220688</td>\n",
              "      <td>6.744939</td>\n",
              "      <td>0.401072</td>\n",
              "      <td>0.000000</td>\n",
              "      <td>1.256845</td>\n",
              "      <td>0.000000</td>\n",
              "      <td>3.929856</td>\n",
              "      <td>0.000000</td>\n",
              "      <td>6.264098</td>\n",
              "      <td>0.502557</td>\n",
              "    </tr>\n",
              "    <tr>\n",
              "      <th>3</th>\n",
              "      <td>0.0</td>\n",
              "      <td>1.455699</td>\n",
              "      <td>0.000000</td>\n",
              "      <td>10.665386</td>\n",
              "      <td>0.0</td>\n",
              "      <td>5.645957</td>\n",
              "      <td>0.928695</td>\n",
              "      <td>1.088772</td>\n",
              "      <td>0.793327</td>\n",
              "      <td>0.000000</td>\n",
              "      <td>...</td>\n",
              "      <td>0.633842</td>\n",
              "      <td>8.387358</td>\n",
              "      <td>1.342886</td>\n",
              "      <td>0.000000</td>\n",
              "      <td>0.329535</td>\n",
              "      <td>0.000000</td>\n",
              "      <td>0.042516</td>\n",
              "      <td>0.241667</td>\n",
              "      <td>0.288800</td>\n",
              "      <td>1.574040</td>\n",
              "    </tr>\n",
              "    <tr>\n",
              "      <th>4</th>\n",
              "      <td>0.0</td>\n",
              "      <td>3.477089</td>\n",
              "      <td>0.759481</td>\n",
              "      <td>9.945347</td>\n",
              "      <td>0.0</td>\n",
              "      <td>7.444561</td>\n",
              "      <td>4.212522</td>\n",
              "      <td>0.000000</td>\n",
              "      <td>2.190329</td>\n",
              "      <td>0.000000</td>\n",
              "      <td>...</td>\n",
              "      <td>1.397643</td>\n",
              "      <td>2.803812</td>\n",
              "      <td>0.000000</td>\n",
              "      <td>0.695088</td>\n",
              "      <td>0.000000</td>\n",
              "      <td>2.402303</td>\n",
              "      <td>0.000000</td>\n",
              "      <td>0.114442</td>\n",
              "      <td>0.000000</td>\n",
              "      <td>0.513113</td>\n",
              "    </tr>\n",
              "  </tbody>\n",
              "</table>\n",
              "<p>5 rows × 36 columns</p>\n",
              "</div>"
            ],
            "text/plain": [
              "     1         2         3          4    5         6         7         8  \\\n",
              "0  0.0  0.000000  0.000000   9.652770  0.0  4.159220  1.032724  1.333893   \n",
              "1  0.0  1.512052  0.000000   4.649414  0.0  3.986379  1.551740  6.000260   \n",
              "2  0.0  3.843754  0.000000   7.305416  0.0  6.712879  0.000000  3.738884   \n",
              "3  0.0  1.455699  0.000000  10.665386  0.0  5.645957  0.928695  1.088772   \n",
              "4  0.0  3.477089  0.759481   9.945347  0.0  7.444561  4.212522  0.000000   \n",
              "\n",
              "          9        10    ...           27        28        29        30  \\\n",
              "0  0.000000  0.000000    ...     0.205776  4.095537  0.000000  0.000000   \n",
              "1  0.000000  0.535351    ...     0.000000  3.933533  0.000000  0.000000   \n",
              "2  0.382847  0.000000    ...     0.220688  6.744939  0.401072  0.000000   \n",
              "3  0.793327  0.000000    ...     0.633842  8.387358  1.342886  0.000000   \n",
              "4  2.190329  0.000000    ...     1.397643  2.803812  0.000000  0.695088   \n",
              "\n",
              "         31        32        33        34        35        36  \n",
              "0  0.248807  0.272327  3.184963  0.000000  2.675518  0.000000  \n",
              "1  0.000000  0.299276  0.604121  0.000000  0.000000  0.000000  \n",
              "2  1.256845  0.000000  3.929856  0.000000  6.264098  0.502557  \n",
              "3  0.329535  0.000000  0.042516  0.241667  0.288800  1.574040  \n",
              "4  0.000000  2.402303  0.000000  0.114442  0.000000  0.513113  \n",
              "\n",
              "[5 rows x 36 columns]"
            ]
          },
          "metadata": {
            "tags": []
          },
          "execution_count": 8
        }
      ]
    },
    {
      "metadata": {
        "id": "ixiaA4S9GWDI",
        "colab_type": "code",
        "colab": {}
      },
      "cell_type": "code",
      "source": [
        "y1 = activations['acronym']"
      ],
      "execution_count": 0,
      "outputs": []
    },
    {
      "metadata": {
        "id": "AJLBN_kaMxh2",
        "colab_type": "code",
        "outputId": "2c91b8a8-90f8-4039-8092-2bb82f3fb5b4",
        "colab": {
          "base_uri": "https://localhost:8080/",
          "height": 605
        }
      },
      "cell_type": "code",
      "source": [
        "y1.value_counts()"
      ],
      "execution_count": 10,
      "outputs": [
        {
          "output_type": "execute_result",
          "data": {
            "text/plain": [
              "BRCA    1498\n",
              "KIRC     762\n",
              "LUAD     732\n",
              "THCA     706\n",
              "PRAD     668\n",
              "LUSC     657\n",
              "HNSC     638\n",
              "LGG      564\n",
              "LIHC     529\n",
              "STAD     516\n",
              "SKCM     481\n",
              "BLCA     472\n",
              "COAD     443\n",
              "KIRP     389\n",
              "OV       318\n",
              "CESC     317\n",
              "SARC     277\n",
              "UCEC     225\n",
              "ESCA     222\n",
              "PCPG     205\n",
              "PAAD     193\n",
              "GBM      187\n",
              "TGCT     168\n",
              "KICH     141\n",
              "THYM     126\n",
              "READ     122\n",
              "LAML     121\n",
              "MESO      87\n",
              "UVM       80\n",
              "ACC       79\n",
              "CHOL      63\n",
              "UCS       57\n",
              "DLBC      48\n",
              "Name: acronym, dtype: int64"
            ]
          },
          "metadata": {
            "tags": []
          },
          "execution_count": 10
        }
      ]
    },
    {
      "metadata": {
        "id": "-OhDuug-cn6n",
        "colab_type": "code",
        "colab": {}
      },
      "cell_type": "code",
      "source": [
        "y2=activations['gender']"
      ],
      "execution_count": 0,
      "outputs": []
    },
    {
      "metadata": {
        "id": "gVujWduocsDz",
        "colab_type": "code",
        "colab": {
          "base_uri": "https://localhost:8080/",
          "height": 69
        },
        "outputId": "f11f7f9d-85b8-4418-a943-fe8c4a488dc8"
      },
      "cell_type": "code",
      "source": [
        "y2.value_counts()"
      ],
      "execution_count": 13,
      "outputs": [
        {
          "output_type": "execute_result",
          "data": {
            "text/plain": [
              "male      6050\n",
              "female    6001\n",
              "Name: gender, dtype: int64"
            ]
          },
          "metadata": {
            "tags": []
          },
          "execution_count": 13
        }
      ]
    },
    {
      "metadata": {
        "id": "-VXo1OltGceO",
        "colab_type": "code",
        "colab": {}
      },
      "cell_type": "code",
      "source": [
        "X_train, X_test, y_train, y_test = train_test_split(X, y1, test_size=0.2)"
      ],
      "execution_count": 0,
      "outputs": []
    },
    {
      "metadata": {
        "id": "Vwm48bhuRoz7",
        "colab_type": "code",
        "outputId": "6793c7c3-638c-40d0-eb0b-e2a1d69455b4",
        "colab": {
          "base_uri": "https://localhost:8080/",
          "height": 605
        }
      },
      "cell_type": "code",
      "source": [
        "y_train.value_counts()"
      ],
      "execution_count": 32,
      "outputs": [
        {
          "output_type": "execute_result",
          "data": {
            "text/plain": [
              "BRCA    1211\n",
              "KIRC     600\n",
              "LUAD     592\n",
              "THCA     564\n",
              "PRAD     547\n",
              "LUSC     524\n",
              "HNSC     512\n",
              "LGG      462\n",
              "LIHC     420\n",
              "STAD     405\n",
              "SKCM     395\n",
              "BLCA     391\n",
              "COAD     354\n",
              "KIRP     300\n",
              "CESC     260\n",
              "OV       252\n",
              "SARC     213\n",
              "ESCA     184\n",
              "UCEC     183\n",
              "PCPG     161\n",
              "PAAD     146\n",
              "GBM      140\n",
              "TGCT     132\n",
              "KICH     117\n",
              "READ      98\n",
              "LAML      95\n",
              "THYM      94\n",
              "ACC       67\n",
              "UVM       63\n",
              "MESO      62\n",
              "CHOL      51\n",
              "UCS       43\n",
              "DLBC      38\n",
              "Name: acronym, dtype: int64"
            ]
          },
          "metadata": {
            "tags": []
          },
          "execution_count": 32
        }
      ]
    },
    {
      "metadata": {
        "id": "kdSoAQ47RtTs",
        "colab_type": "code",
        "outputId": "a4315c7c-737e-4db2-b1ef-8695be3f23ff",
        "colab": {
          "base_uri": "https://localhost:8080/",
          "height": 605
        }
      },
      "cell_type": "code",
      "source": [
        "y_test.value_counts()"
      ],
      "execution_count": 33,
      "outputs": [
        {
          "output_type": "execute_result",
          "data": {
            "text/plain": [
              "BRCA    287\n",
              "KIRC    162\n",
              "THCA    142\n",
              "LUAD    140\n",
              "LUSC    133\n",
              "HNSC    126\n",
              "PRAD    121\n",
              "STAD    111\n",
              "LIHC    109\n",
              "LGG     102\n",
              "COAD     89\n",
              "KIRP     89\n",
              "SKCM     86\n",
              "BLCA     81\n",
              "OV       66\n",
              "SARC     64\n",
              "CESC     57\n",
              "GBM      47\n",
              "PAAD     47\n",
              "PCPG     44\n",
              "UCEC     42\n",
              "ESCA     38\n",
              "TGCT     36\n",
              "THYM     32\n",
              "LAML     26\n",
              "MESO     25\n",
              "KICH     24\n",
              "READ     24\n",
              "UVM      17\n",
              "UCS      14\n",
              "ACC      12\n",
              "CHOL     12\n",
              "DLBC     10\n",
              "Name: acronym, dtype: int64"
            ]
          },
          "metadata": {
            "tags": []
          },
          "execution_count": 33
        }
      ]
    },
    {
      "metadata": {
        "id": "kUnZQb0aGmqz",
        "colab_type": "code",
        "outputId": "aa283817-3f39-441f-86d8-983860735abc",
        "colab": {
          "base_uri": "https://localhost:8080/",
          "height": 138
        }
      },
      "cell_type": "code",
      "source": [
        "rf = RandomForestClassifier(n_estimators=1000, verbose=0)\n",
        "rf.fit(X_train, y_train)"
      ],
      "execution_count": 61,
      "outputs": [
        {
          "output_type": "execute_result",
          "data": {
            "text/plain": [
              "RandomForestClassifier(bootstrap=True, class_weight=None, criterion='gini',\n",
              "            max_depth=None, max_features='auto', max_leaf_nodes=None,\n",
              "            min_impurity_decrease=0.0, min_impurity_split=None,\n",
              "            min_samples_leaf=1, min_samples_split=2,\n",
              "            min_weight_fraction_leaf=0.0, n_estimators=1000, n_jobs=1,\n",
              "            oob_score=False, random_state=None, verbose=0,\n",
              "            warm_start=False)"
            ]
          },
          "metadata": {
            "tags": []
          },
          "execution_count": 61
        }
      ]
    },
    {
      "metadata": {
        "id": "mUl4OXG2Grki",
        "colab_type": "code",
        "outputId": "c0534e16-261b-4643-b128-414991b74901",
        "colab": {
          "base_uri": "https://localhost:8080/",
          "height": 35
        }
      },
      "cell_type": "code",
      "source": [
        "rf.score(X_train, y_train)"
      ],
      "execution_count": 62,
      "outputs": [
        {
          "output_type": "execute_result",
          "data": {
            "text/plain": [
              "0.993429158110883"
            ]
          },
          "metadata": {
            "tags": []
          },
          "execution_count": 62
        }
      ]
    },
    {
      "metadata": {
        "id": "2DxKxENjGtua",
        "colab_type": "code",
        "outputId": "a791dc71-9073-4e7a-fefd-c8659deef8c1",
        "colab": {
          "base_uri": "https://localhost:8080/",
          "height": 35
        }
      },
      "cell_type": "code",
      "source": [
        "rf.score(X_test, y_test)"
      ],
      "execution_count": 63,
      "outputs": [
        {
          "output_type": "execute_result",
          "data": {
            "text/plain": [
              "0.9359342915811089"
            ]
          },
          "metadata": {
            "tags": []
          },
          "execution_count": 63
        }
      ]
    },
    {
      "metadata": {
        "id": "qTHPQp4mIyWZ",
        "colab_type": "code",
        "outputId": "19620d73-2082-4bdb-a668-20b5199a0fa9",
        "colab": {
          "base_uri": "https://localhost:8080/",
          "height": 639
        }
      },
      "cell_type": "code",
      "source": [
        "sorted(list(zip(X.columns,list(rf.feature_importances_))), key=lambda k:k[1], reverse=True)"
      ],
      "execution_count": 41,
      "outputs": [
        {
          "output_type": "execute_result",
          "data": {
            "text/plain": [
              "[('3', 0.06012481687103193),\n",
              " ('19', 0.056814501161891136),\n",
              " ('25', 0.048834096603399046),\n",
              " ('10', 0.044119555807158525),\n",
              " ('36', 0.04314329555362997),\n",
              " ('4', 0.04296321081192021),\n",
              " ('1', 0.04020532354060233),\n",
              " ('31', 0.03701556372288047),\n",
              " ('17', 0.03693939671180708),\n",
              " ('7', 0.03595179949546667),\n",
              " ('5', 0.03557366933461094),\n",
              " ('34', 0.03430685884685295),\n",
              " ('11', 0.032766235490718956),\n",
              " ('14', 0.03234958151457595),\n",
              " ('15', 0.03216852843865078),\n",
              " ('30', 0.030138078062936773),\n",
              " ('20', 0.02924429680962084),\n",
              " ('32', 0.02729397426442813),\n",
              " ('33', 0.024510418353753345),\n",
              " ('26', 0.02416163674811784),\n",
              " ('18', 0.024057265841408926),\n",
              " ('16', 0.020314845618213076),\n",
              " ('21', 0.020107747672709113),\n",
              " ('12', 0.019759979266421448),\n",
              " ('27', 0.01961031633352047),\n",
              " ('29', 0.01822648965313485),\n",
              " ('22', 0.017447256289642457),\n",
              " ('8', 0.016336919386230477),\n",
              " ('23', 0.01576441888739718),\n",
              " ('35', 0.015437295118916863),\n",
              " ('28', 0.015296172128470013),\n",
              " ('6', 0.014601621918605841),\n",
              " ('13', 0.009681266756160321),\n",
              " ('24', 0.009272772043899018),\n",
              " ('2', 0.007921918401353426),\n",
              " ('9', 0.0075388765398625365)]"
            ]
          },
          "metadata": {
            "tags": []
          },
          "execution_count": 41
        }
      ]
    },
    {
      "metadata": {
        "id": "2fajMqa8edGK",
        "colab_type": "code",
        "colab": {}
      },
      "cell_type": "code",
      "source": [
        "y_pred = rf.predict(X_test)"
      ],
      "execution_count": 0,
      "outputs": []
    },
    {
      "metadata": {
        "id": "DEoUKnJ8ehLC",
        "colab_type": "code",
        "colab": {}
      },
      "cell_type": "code",
      "source": [
        "confusion = pd.crosstab(y_pred, y_test)"
      ],
      "execution_count": 0,
      "outputs": []
    },
    {
      "metadata": {
        "id": "hE7RLaEXiv1o",
        "colab_type": "code",
        "colab": {
          "base_uri": "https://localhost:8080/",
          "height": 1097
        },
        "outputId": "5594eb16-b394-47ac-80c7-2e7b925f8a2d"
      },
      "cell_type": "code",
      "source": [
        "confusion"
      ],
      "execution_count": 47,
      "outputs": [
        {
          "output_type": "execute_result",
          "data": {
            "text/html": [
              "<div>\n",
              "<style scoped>\n",
              "    .dataframe tbody tr th:only-of-type {\n",
              "        vertical-align: middle;\n",
              "    }\n",
              "\n",
              "    .dataframe tbody tr th {\n",
              "        vertical-align: top;\n",
              "    }\n",
              "\n",
              "    .dataframe thead th {\n",
              "        text-align: right;\n",
              "    }\n",
              "</style>\n",
              "<table border=\"1\" class=\"dataframe\">\n",
              "  <thead>\n",
              "    <tr style=\"text-align: right;\">\n",
              "      <th>acronym</th>\n",
              "      <th>ACC</th>\n",
              "      <th>BLCA</th>\n",
              "      <th>BRCA</th>\n",
              "      <th>CESC</th>\n",
              "      <th>CHOL</th>\n",
              "      <th>COAD</th>\n",
              "      <th>DLBC</th>\n",
              "      <th>ESCA</th>\n",
              "      <th>GBM</th>\n",
              "      <th>HNSC</th>\n",
              "      <th>...</th>\n",
              "      <th>READ</th>\n",
              "      <th>SARC</th>\n",
              "      <th>SKCM</th>\n",
              "      <th>STAD</th>\n",
              "      <th>TGCT</th>\n",
              "      <th>THCA</th>\n",
              "      <th>THYM</th>\n",
              "      <th>UCEC</th>\n",
              "      <th>UCS</th>\n",
              "      <th>UVM</th>\n",
              "    </tr>\n",
              "    <tr>\n",
              "      <th>row_0</th>\n",
              "      <th></th>\n",
              "      <th></th>\n",
              "      <th></th>\n",
              "      <th></th>\n",
              "      <th></th>\n",
              "      <th></th>\n",
              "      <th></th>\n",
              "      <th></th>\n",
              "      <th></th>\n",
              "      <th></th>\n",
              "      <th></th>\n",
              "      <th></th>\n",
              "      <th></th>\n",
              "      <th></th>\n",
              "      <th></th>\n",
              "      <th></th>\n",
              "      <th></th>\n",
              "      <th></th>\n",
              "      <th></th>\n",
              "      <th></th>\n",
              "      <th></th>\n",
              "    </tr>\n",
              "  </thead>\n",
              "  <tbody>\n",
              "    <tr>\n",
              "      <th>ACC</th>\n",
              "      <td>12</td>\n",
              "      <td>0</td>\n",
              "      <td>0</td>\n",
              "      <td>0</td>\n",
              "      <td>0</td>\n",
              "      <td>0</td>\n",
              "      <td>0</td>\n",
              "      <td>0</td>\n",
              "      <td>0</td>\n",
              "      <td>0</td>\n",
              "      <td>...</td>\n",
              "      <td>0</td>\n",
              "      <td>0</td>\n",
              "      <td>0</td>\n",
              "      <td>0</td>\n",
              "      <td>0</td>\n",
              "      <td>0</td>\n",
              "      <td>0</td>\n",
              "      <td>0</td>\n",
              "      <td>0</td>\n",
              "      <td>0</td>\n",
              "    </tr>\n",
              "    <tr>\n",
              "      <th>BLCA</th>\n",
              "      <td>0</td>\n",
              "      <td>75</td>\n",
              "      <td>0</td>\n",
              "      <td>0</td>\n",
              "      <td>0</td>\n",
              "      <td>0</td>\n",
              "      <td>0</td>\n",
              "      <td>1</td>\n",
              "      <td>0</td>\n",
              "      <td>0</td>\n",
              "      <td>...</td>\n",
              "      <td>0</td>\n",
              "      <td>0</td>\n",
              "      <td>0</td>\n",
              "      <td>0</td>\n",
              "      <td>0</td>\n",
              "      <td>0</td>\n",
              "      <td>0</td>\n",
              "      <td>0</td>\n",
              "      <td>0</td>\n",
              "      <td>0</td>\n",
              "    </tr>\n",
              "    <tr>\n",
              "      <th>BRCA</th>\n",
              "      <td>0</td>\n",
              "      <td>0</td>\n",
              "      <td>286</td>\n",
              "      <td>0</td>\n",
              "      <td>0</td>\n",
              "      <td>0</td>\n",
              "      <td>0</td>\n",
              "      <td>0</td>\n",
              "      <td>0</td>\n",
              "      <td>0</td>\n",
              "      <td>...</td>\n",
              "      <td>0</td>\n",
              "      <td>0</td>\n",
              "      <td>0</td>\n",
              "      <td>0</td>\n",
              "      <td>0</td>\n",
              "      <td>0</td>\n",
              "      <td>0</td>\n",
              "      <td>0</td>\n",
              "      <td>0</td>\n",
              "      <td>0</td>\n",
              "    </tr>\n",
              "    <tr>\n",
              "      <th>CESC</th>\n",
              "      <td>0</td>\n",
              "      <td>0</td>\n",
              "      <td>0</td>\n",
              "      <td>54</td>\n",
              "      <td>0</td>\n",
              "      <td>0</td>\n",
              "      <td>0</td>\n",
              "      <td>0</td>\n",
              "      <td>0</td>\n",
              "      <td>3</td>\n",
              "      <td>...</td>\n",
              "      <td>0</td>\n",
              "      <td>0</td>\n",
              "      <td>0</td>\n",
              "      <td>0</td>\n",
              "      <td>0</td>\n",
              "      <td>0</td>\n",
              "      <td>0</td>\n",
              "      <td>1</td>\n",
              "      <td>0</td>\n",
              "      <td>0</td>\n",
              "    </tr>\n",
              "    <tr>\n",
              "      <th>CHOL</th>\n",
              "      <td>0</td>\n",
              "      <td>0</td>\n",
              "      <td>0</td>\n",
              "      <td>0</td>\n",
              "      <td>8</td>\n",
              "      <td>0</td>\n",
              "      <td>0</td>\n",
              "      <td>0</td>\n",
              "      <td>0</td>\n",
              "      <td>0</td>\n",
              "      <td>...</td>\n",
              "      <td>0</td>\n",
              "      <td>0</td>\n",
              "      <td>0</td>\n",
              "      <td>0</td>\n",
              "      <td>0</td>\n",
              "      <td>0</td>\n",
              "      <td>0</td>\n",
              "      <td>0</td>\n",
              "      <td>0</td>\n",
              "      <td>0</td>\n",
              "    </tr>\n",
              "    <tr>\n",
              "      <th>COAD</th>\n",
              "      <td>0</td>\n",
              "      <td>0</td>\n",
              "      <td>0</td>\n",
              "      <td>0</td>\n",
              "      <td>0</td>\n",
              "      <td>88</td>\n",
              "      <td>0</td>\n",
              "      <td>0</td>\n",
              "      <td>0</td>\n",
              "      <td>0</td>\n",
              "      <td>...</td>\n",
              "      <td>18</td>\n",
              "      <td>0</td>\n",
              "      <td>0</td>\n",
              "      <td>3</td>\n",
              "      <td>0</td>\n",
              "      <td>0</td>\n",
              "      <td>0</td>\n",
              "      <td>0</td>\n",
              "      <td>0</td>\n",
              "      <td>0</td>\n",
              "    </tr>\n",
              "    <tr>\n",
              "      <th>DLBC</th>\n",
              "      <td>0</td>\n",
              "      <td>0</td>\n",
              "      <td>0</td>\n",
              "      <td>0</td>\n",
              "      <td>0</td>\n",
              "      <td>0</td>\n",
              "      <td>9</td>\n",
              "      <td>0</td>\n",
              "      <td>0</td>\n",
              "      <td>0</td>\n",
              "      <td>...</td>\n",
              "      <td>0</td>\n",
              "      <td>0</td>\n",
              "      <td>0</td>\n",
              "      <td>1</td>\n",
              "      <td>0</td>\n",
              "      <td>0</td>\n",
              "      <td>0</td>\n",
              "      <td>0</td>\n",
              "      <td>0</td>\n",
              "      <td>0</td>\n",
              "    </tr>\n",
              "    <tr>\n",
              "      <th>ESCA</th>\n",
              "      <td>0</td>\n",
              "      <td>1</td>\n",
              "      <td>0</td>\n",
              "      <td>0</td>\n",
              "      <td>0</td>\n",
              "      <td>0</td>\n",
              "      <td>0</td>\n",
              "      <td>20</td>\n",
              "      <td>0</td>\n",
              "      <td>1</td>\n",
              "      <td>...</td>\n",
              "      <td>0</td>\n",
              "      <td>0</td>\n",
              "      <td>0</td>\n",
              "      <td>2</td>\n",
              "      <td>0</td>\n",
              "      <td>0</td>\n",
              "      <td>0</td>\n",
              "      <td>0</td>\n",
              "      <td>0</td>\n",
              "      <td>0</td>\n",
              "    </tr>\n",
              "    <tr>\n",
              "      <th>GBM</th>\n",
              "      <td>0</td>\n",
              "      <td>0</td>\n",
              "      <td>0</td>\n",
              "      <td>0</td>\n",
              "      <td>0</td>\n",
              "      <td>0</td>\n",
              "      <td>0</td>\n",
              "      <td>0</td>\n",
              "      <td>36</td>\n",
              "      <td>0</td>\n",
              "      <td>...</td>\n",
              "      <td>0</td>\n",
              "      <td>0</td>\n",
              "      <td>0</td>\n",
              "      <td>0</td>\n",
              "      <td>0</td>\n",
              "      <td>0</td>\n",
              "      <td>0</td>\n",
              "      <td>0</td>\n",
              "      <td>0</td>\n",
              "      <td>0</td>\n",
              "    </tr>\n",
              "    <tr>\n",
              "      <th>HNSC</th>\n",
              "      <td>0</td>\n",
              "      <td>3</td>\n",
              "      <td>0</td>\n",
              "      <td>1</td>\n",
              "      <td>0</td>\n",
              "      <td>0</td>\n",
              "      <td>0</td>\n",
              "      <td>6</td>\n",
              "      <td>0</td>\n",
              "      <td>118</td>\n",
              "      <td>...</td>\n",
              "      <td>0</td>\n",
              "      <td>0</td>\n",
              "      <td>0</td>\n",
              "      <td>0</td>\n",
              "      <td>0</td>\n",
              "      <td>0</td>\n",
              "      <td>1</td>\n",
              "      <td>0</td>\n",
              "      <td>0</td>\n",
              "      <td>0</td>\n",
              "    </tr>\n",
              "    <tr>\n",
              "      <th>KICH</th>\n",
              "      <td>0</td>\n",
              "      <td>0</td>\n",
              "      <td>0</td>\n",
              "      <td>0</td>\n",
              "      <td>0</td>\n",
              "      <td>0</td>\n",
              "      <td>0</td>\n",
              "      <td>0</td>\n",
              "      <td>0</td>\n",
              "      <td>0</td>\n",
              "      <td>...</td>\n",
              "      <td>0</td>\n",
              "      <td>0</td>\n",
              "      <td>0</td>\n",
              "      <td>0</td>\n",
              "      <td>0</td>\n",
              "      <td>0</td>\n",
              "      <td>0</td>\n",
              "      <td>0</td>\n",
              "      <td>0</td>\n",
              "      <td>0</td>\n",
              "    </tr>\n",
              "    <tr>\n",
              "      <th>KIRC</th>\n",
              "      <td>0</td>\n",
              "      <td>0</td>\n",
              "      <td>0</td>\n",
              "      <td>0</td>\n",
              "      <td>0</td>\n",
              "      <td>0</td>\n",
              "      <td>0</td>\n",
              "      <td>0</td>\n",
              "      <td>0</td>\n",
              "      <td>0</td>\n",
              "      <td>...</td>\n",
              "      <td>0</td>\n",
              "      <td>0</td>\n",
              "      <td>0</td>\n",
              "      <td>0</td>\n",
              "      <td>0</td>\n",
              "      <td>0</td>\n",
              "      <td>0</td>\n",
              "      <td>0</td>\n",
              "      <td>0</td>\n",
              "      <td>0</td>\n",
              "    </tr>\n",
              "    <tr>\n",
              "      <th>KIRP</th>\n",
              "      <td>0</td>\n",
              "      <td>0</td>\n",
              "      <td>0</td>\n",
              "      <td>0</td>\n",
              "      <td>0</td>\n",
              "      <td>0</td>\n",
              "      <td>0</td>\n",
              "      <td>0</td>\n",
              "      <td>0</td>\n",
              "      <td>0</td>\n",
              "      <td>...</td>\n",
              "      <td>0</td>\n",
              "      <td>0</td>\n",
              "      <td>0</td>\n",
              "      <td>0</td>\n",
              "      <td>0</td>\n",
              "      <td>0</td>\n",
              "      <td>0</td>\n",
              "      <td>0</td>\n",
              "      <td>0</td>\n",
              "      <td>0</td>\n",
              "    </tr>\n",
              "    <tr>\n",
              "      <th>LAML</th>\n",
              "      <td>0</td>\n",
              "      <td>0</td>\n",
              "      <td>0</td>\n",
              "      <td>0</td>\n",
              "      <td>0</td>\n",
              "      <td>0</td>\n",
              "      <td>0</td>\n",
              "      <td>0</td>\n",
              "      <td>0</td>\n",
              "      <td>0</td>\n",
              "      <td>...</td>\n",
              "      <td>0</td>\n",
              "      <td>0</td>\n",
              "      <td>0</td>\n",
              "      <td>0</td>\n",
              "      <td>0</td>\n",
              "      <td>0</td>\n",
              "      <td>0</td>\n",
              "      <td>0</td>\n",
              "      <td>0</td>\n",
              "      <td>0</td>\n",
              "    </tr>\n",
              "    <tr>\n",
              "      <th>LGG</th>\n",
              "      <td>0</td>\n",
              "      <td>0</td>\n",
              "      <td>0</td>\n",
              "      <td>0</td>\n",
              "      <td>0</td>\n",
              "      <td>0</td>\n",
              "      <td>0</td>\n",
              "      <td>0</td>\n",
              "      <td>11</td>\n",
              "      <td>0</td>\n",
              "      <td>...</td>\n",
              "      <td>0</td>\n",
              "      <td>0</td>\n",
              "      <td>0</td>\n",
              "      <td>0</td>\n",
              "      <td>0</td>\n",
              "      <td>0</td>\n",
              "      <td>0</td>\n",
              "      <td>0</td>\n",
              "      <td>0</td>\n",
              "      <td>0</td>\n",
              "    </tr>\n",
              "    <tr>\n",
              "      <th>LIHC</th>\n",
              "      <td>0</td>\n",
              "      <td>0</td>\n",
              "      <td>0</td>\n",
              "      <td>0</td>\n",
              "      <td>4</td>\n",
              "      <td>0</td>\n",
              "      <td>0</td>\n",
              "      <td>0</td>\n",
              "      <td>0</td>\n",
              "      <td>0</td>\n",
              "      <td>...</td>\n",
              "      <td>0</td>\n",
              "      <td>0</td>\n",
              "      <td>0</td>\n",
              "      <td>0</td>\n",
              "      <td>0</td>\n",
              "      <td>0</td>\n",
              "      <td>0</td>\n",
              "      <td>0</td>\n",
              "      <td>0</td>\n",
              "      <td>0</td>\n",
              "    </tr>\n",
              "    <tr>\n",
              "      <th>LUAD</th>\n",
              "      <td>0</td>\n",
              "      <td>0</td>\n",
              "      <td>0</td>\n",
              "      <td>0</td>\n",
              "      <td>0</td>\n",
              "      <td>0</td>\n",
              "      <td>0</td>\n",
              "      <td>0</td>\n",
              "      <td>0</td>\n",
              "      <td>0</td>\n",
              "      <td>...</td>\n",
              "      <td>0</td>\n",
              "      <td>0</td>\n",
              "      <td>0</td>\n",
              "      <td>0</td>\n",
              "      <td>0</td>\n",
              "      <td>0</td>\n",
              "      <td>0</td>\n",
              "      <td>0</td>\n",
              "      <td>0</td>\n",
              "      <td>0</td>\n",
              "    </tr>\n",
              "    <tr>\n",
              "      <th>LUSC</th>\n",
              "      <td>0</td>\n",
              "      <td>2</td>\n",
              "      <td>0</td>\n",
              "      <td>0</td>\n",
              "      <td>0</td>\n",
              "      <td>0</td>\n",
              "      <td>0</td>\n",
              "      <td>1</td>\n",
              "      <td>0</td>\n",
              "      <td>3</td>\n",
              "      <td>...</td>\n",
              "      <td>0</td>\n",
              "      <td>0</td>\n",
              "      <td>2</td>\n",
              "      <td>0</td>\n",
              "      <td>0</td>\n",
              "      <td>0</td>\n",
              "      <td>0</td>\n",
              "      <td>0</td>\n",
              "      <td>0</td>\n",
              "      <td>0</td>\n",
              "    </tr>\n",
              "    <tr>\n",
              "      <th>MESO</th>\n",
              "      <td>0</td>\n",
              "      <td>0</td>\n",
              "      <td>0</td>\n",
              "      <td>0</td>\n",
              "      <td>0</td>\n",
              "      <td>0</td>\n",
              "      <td>0</td>\n",
              "      <td>0</td>\n",
              "      <td>0</td>\n",
              "      <td>0</td>\n",
              "      <td>...</td>\n",
              "      <td>0</td>\n",
              "      <td>0</td>\n",
              "      <td>0</td>\n",
              "      <td>0</td>\n",
              "      <td>0</td>\n",
              "      <td>0</td>\n",
              "      <td>0</td>\n",
              "      <td>0</td>\n",
              "      <td>0</td>\n",
              "      <td>0</td>\n",
              "    </tr>\n",
              "    <tr>\n",
              "      <th>OV</th>\n",
              "      <td>0</td>\n",
              "      <td>0</td>\n",
              "      <td>0</td>\n",
              "      <td>0</td>\n",
              "      <td>0</td>\n",
              "      <td>0</td>\n",
              "      <td>0</td>\n",
              "      <td>0</td>\n",
              "      <td>0</td>\n",
              "      <td>0</td>\n",
              "      <td>...</td>\n",
              "      <td>0</td>\n",
              "      <td>0</td>\n",
              "      <td>0</td>\n",
              "      <td>0</td>\n",
              "      <td>0</td>\n",
              "      <td>0</td>\n",
              "      <td>0</td>\n",
              "      <td>0</td>\n",
              "      <td>0</td>\n",
              "      <td>0</td>\n",
              "    </tr>\n",
              "    <tr>\n",
              "      <th>PAAD</th>\n",
              "      <td>0</td>\n",
              "      <td>0</td>\n",
              "      <td>0</td>\n",
              "      <td>0</td>\n",
              "      <td>0</td>\n",
              "      <td>0</td>\n",
              "      <td>0</td>\n",
              "      <td>0</td>\n",
              "      <td>0</td>\n",
              "      <td>0</td>\n",
              "      <td>...</td>\n",
              "      <td>0</td>\n",
              "      <td>0</td>\n",
              "      <td>0</td>\n",
              "      <td>0</td>\n",
              "      <td>0</td>\n",
              "      <td>0</td>\n",
              "      <td>0</td>\n",
              "      <td>0</td>\n",
              "      <td>0</td>\n",
              "      <td>0</td>\n",
              "    </tr>\n",
              "    <tr>\n",
              "      <th>PCPG</th>\n",
              "      <td>0</td>\n",
              "      <td>0</td>\n",
              "      <td>0</td>\n",
              "      <td>0</td>\n",
              "      <td>0</td>\n",
              "      <td>0</td>\n",
              "      <td>0</td>\n",
              "      <td>0</td>\n",
              "      <td>0</td>\n",
              "      <td>0</td>\n",
              "      <td>...</td>\n",
              "      <td>0</td>\n",
              "      <td>0</td>\n",
              "      <td>0</td>\n",
              "      <td>0</td>\n",
              "      <td>0</td>\n",
              "      <td>0</td>\n",
              "      <td>0</td>\n",
              "      <td>0</td>\n",
              "      <td>0</td>\n",
              "      <td>0</td>\n",
              "    </tr>\n",
              "    <tr>\n",
              "      <th>PRAD</th>\n",
              "      <td>0</td>\n",
              "      <td>0</td>\n",
              "      <td>0</td>\n",
              "      <td>0</td>\n",
              "      <td>0</td>\n",
              "      <td>0</td>\n",
              "      <td>0</td>\n",
              "      <td>0</td>\n",
              "      <td>0</td>\n",
              "      <td>0</td>\n",
              "      <td>...</td>\n",
              "      <td>0</td>\n",
              "      <td>0</td>\n",
              "      <td>0</td>\n",
              "      <td>0</td>\n",
              "      <td>0</td>\n",
              "      <td>0</td>\n",
              "      <td>0</td>\n",
              "      <td>0</td>\n",
              "      <td>0</td>\n",
              "      <td>0</td>\n",
              "    </tr>\n",
              "    <tr>\n",
              "      <th>READ</th>\n",
              "      <td>0</td>\n",
              "      <td>0</td>\n",
              "      <td>0</td>\n",
              "      <td>0</td>\n",
              "      <td>0</td>\n",
              "      <td>1</td>\n",
              "      <td>0</td>\n",
              "      <td>0</td>\n",
              "      <td>0</td>\n",
              "      <td>0</td>\n",
              "      <td>...</td>\n",
              "      <td>6</td>\n",
              "      <td>0</td>\n",
              "      <td>0</td>\n",
              "      <td>0</td>\n",
              "      <td>0</td>\n",
              "      <td>0</td>\n",
              "      <td>0</td>\n",
              "      <td>0</td>\n",
              "      <td>0</td>\n",
              "      <td>0</td>\n",
              "    </tr>\n",
              "    <tr>\n",
              "      <th>SARC</th>\n",
              "      <td>0</td>\n",
              "      <td>0</td>\n",
              "      <td>1</td>\n",
              "      <td>0</td>\n",
              "      <td>0</td>\n",
              "      <td>0</td>\n",
              "      <td>0</td>\n",
              "      <td>0</td>\n",
              "      <td>0</td>\n",
              "      <td>1</td>\n",
              "      <td>...</td>\n",
              "      <td>0</td>\n",
              "      <td>62</td>\n",
              "      <td>1</td>\n",
              "      <td>0</td>\n",
              "      <td>0</td>\n",
              "      <td>0</td>\n",
              "      <td>0</td>\n",
              "      <td>0</td>\n",
              "      <td>0</td>\n",
              "      <td>0</td>\n",
              "    </tr>\n",
              "    <tr>\n",
              "      <th>SKCM</th>\n",
              "      <td>0</td>\n",
              "      <td>0</td>\n",
              "      <td>0</td>\n",
              "      <td>0</td>\n",
              "      <td>0</td>\n",
              "      <td>0</td>\n",
              "      <td>0</td>\n",
              "      <td>0</td>\n",
              "      <td>0</td>\n",
              "      <td>0</td>\n",
              "      <td>...</td>\n",
              "      <td>0</td>\n",
              "      <td>2</td>\n",
              "      <td>83</td>\n",
              "      <td>0</td>\n",
              "      <td>0</td>\n",
              "      <td>0</td>\n",
              "      <td>0</td>\n",
              "      <td>0</td>\n",
              "      <td>0</td>\n",
              "      <td>0</td>\n",
              "    </tr>\n",
              "    <tr>\n",
              "      <th>STAD</th>\n",
              "      <td>0</td>\n",
              "      <td>0</td>\n",
              "      <td>0</td>\n",
              "      <td>0</td>\n",
              "      <td>0</td>\n",
              "      <td>0</td>\n",
              "      <td>1</td>\n",
              "      <td>10</td>\n",
              "      <td>0</td>\n",
              "      <td>0</td>\n",
              "      <td>...</td>\n",
              "      <td>0</td>\n",
              "      <td>0</td>\n",
              "      <td>0</td>\n",
              "      <td>105</td>\n",
              "      <td>0</td>\n",
              "      <td>0</td>\n",
              "      <td>0</td>\n",
              "      <td>0</td>\n",
              "      <td>0</td>\n",
              "      <td>0</td>\n",
              "    </tr>\n",
              "    <tr>\n",
              "      <th>TGCT</th>\n",
              "      <td>0</td>\n",
              "      <td>0</td>\n",
              "      <td>0</td>\n",
              "      <td>0</td>\n",
              "      <td>0</td>\n",
              "      <td>0</td>\n",
              "      <td>0</td>\n",
              "      <td>0</td>\n",
              "      <td>0</td>\n",
              "      <td>0</td>\n",
              "      <td>...</td>\n",
              "      <td>0</td>\n",
              "      <td>0</td>\n",
              "      <td>0</td>\n",
              "      <td>0</td>\n",
              "      <td>36</td>\n",
              "      <td>0</td>\n",
              "      <td>0</td>\n",
              "      <td>0</td>\n",
              "      <td>1</td>\n",
              "      <td>0</td>\n",
              "    </tr>\n",
              "    <tr>\n",
              "      <th>THCA</th>\n",
              "      <td>0</td>\n",
              "      <td>0</td>\n",
              "      <td>0</td>\n",
              "      <td>0</td>\n",
              "      <td>0</td>\n",
              "      <td>0</td>\n",
              "      <td>0</td>\n",
              "      <td>0</td>\n",
              "      <td>0</td>\n",
              "      <td>0</td>\n",
              "      <td>...</td>\n",
              "      <td>0</td>\n",
              "      <td>0</td>\n",
              "      <td>0</td>\n",
              "      <td>0</td>\n",
              "      <td>0</td>\n",
              "      <td>142</td>\n",
              "      <td>0</td>\n",
              "      <td>0</td>\n",
              "      <td>0</td>\n",
              "      <td>0</td>\n",
              "    </tr>\n",
              "    <tr>\n",
              "      <th>THYM</th>\n",
              "      <td>0</td>\n",
              "      <td>0</td>\n",
              "      <td>0</td>\n",
              "      <td>0</td>\n",
              "      <td>0</td>\n",
              "      <td>0</td>\n",
              "      <td>0</td>\n",
              "      <td>0</td>\n",
              "      <td>0</td>\n",
              "      <td>0</td>\n",
              "      <td>...</td>\n",
              "      <td>0</td>\n",
              "      <td>0</td>\n",
              "      <td>0</td>\n",
              "      <td>0</td>\n",
              "      <td>0</td>\n",
              "      <td>0</td>\n",
              "      <td>31</td>\n",
              "      <td>0</td>\n",
              "      <td>0</td>\n",
              "      <td>0</td>\n",
              "    </tr>\n",
              "    <tr>\n",
              "      <th>UCEC</th>\n",
              "      <td>0</td>\n",
              "      <td>0</td>\n",
              "      <td>0</td>\n",
              "      <td>2</td>\n",
              "      <td>0</td>\n",
              "      <td>0</td>\n",
              "      <td>0</td>\n",
              "      <td>0</td>\n",
              "      <td>0</td>\n",
              "      <td>0</td>\n",
              "      <td>...</td>\n",
              "      <td>0</td>\n",
              "      <td>0</td>\n",
              "      <td>0</td>\n",
              "      <td>0</td>\n",
              "      <td>0</td>\n",
              "      <td>0</td>\n",
              "      <td>0</td>\n",
              "      <td>41</td>\n",
              "      <td>1</td>\n",
              "      <td>0</td>\n",
              "    </tr>\n",
              "    <tr>\n",
              "      <th>UCS</th>\n",
              "      <td>0</td>\n",
              "      <td>0</td>\n",
              "      <td>0</td>\n",
              "      <td>0</td>\n",
              "      <td>0</td>\n",
              "      <td>0</td>\n",
              "      <td>0</td>\n",
              "      <td>0</td>\n",
              "      <td>0</td>\n",
              "      <td>0</td>\n",
              "      <td>...</td>\n",
              "      <td>0</td>\n",
              "      <td>0</td>\n",
              "      <td>0</td>\n",
              "      <td>0</td>\n",
              "      <td>0</td>\n",
              "      <td>0</td>\n",
              "      <td>0</td>\n",
              "      <td>0</td>\n",
              "      <td>12</td>\n",
              "      <td>0</td>\n",
              "    </tr>\n",
              "    <tr>\n",
              "      <th>UVM</th>\n",
              "      <td>0</td>\n",
              "      <td>0</td>\n",
              "      <td>0</td>\n",
              "      <td>0</td>\n",
              "      <td>0</td>\n",
              "      <td>0</td>\n",
              "      <td>0</td>\n",
              "      <td>0</td>\n",
              "      <td>0</td>\n",
              "      <td>0</td>\n",
              "      <td>...</td>\n",
              "      <td>0</td>\n",
              "      <td>0</td>\n",
              "      <td>0</td>\n",
              "      <td>0</td>\n",
              "      <td>0</td>\n",
              "      <td>0</td>\n",
              "      <td>0</td>\n",
              "      <td>0</td>\n",
              "      <td>0</td>\n",
              "      <td>17</td>\n",
              "    </tr>\n",
              "  </tbody>\n",
              "</table>\n",
              "<p>33 rows × 33 columns</p>\n",
              "</div>"
            ],
            "text/plain": [
              "acronym  ACC  BLCA  BRCA  CESC  CHOL  COAD  DLBC  ESCA  GBM  HNSC ...   READ  \\\n",
              "row_0                                                             ...          \n",
              "ACC       12     0     0     0     0     0     0     0    0     0 ...      0   \n",
              "BLCA       0    75     0     0     0     0     0     1    0     0 ...      0   \n",
              "BRCA       0     0   286     0     0     0     0     0    0     0 ...      0   \n",
              "CESC       0     0     0    54     0     0     0     0    0     3 ...      0   \n",
              "CHOL       0     0     0     0     8     0     0     0    0     0 ...      0   \n",
              "COAD       0     0     0     0     0    88     0     0    0     0 ...     18   \n",
              "DLBC       0     0     0     0     0     0     9     0    0     0 ...      0   \n",
              "ESCA       0     1     0     0     0     0     0    20    0     1 ...      0   \n",
              "GBM        0     0     0     0     0     0     0     0   36     0 ...      0   \n",
              "HNSC       0     3     0     1     0     0     0     6    0   118 ...      0   \n",
              "KICH       0     0     0     0     0     0     0     0    0     0 ...      0   \n",
              "KIRC       0     0     0     0     0     0     0     0    0     0 ...      0   \n",
              "KIRP       0     0     0     0     0     0     0     0    0     0 ...      0   \n",
              "LAML       0     0     0     0     0     0     0     0    0     0 ...      0   \n",
              "LGG        0     0     0     0     0     0     0     0   11     0 ...      0   \n",
              "LIHC       0     0     0     0     4     0     0     0    0     0 ...      0   \n",
              "LUAD       0     0     0     0     0     0     0     0    0     0 ...      0   \n",
              "LUSC       0     2     0     0     0     0     0     1    0     3 ...      0   \n",
              "MESO       0     0     0     0     0     0     0     0    0     0 ...      0   \n",
              "OV         0     0     0     0     0     0     0     0    0     0 ...      0   \n",
              "PAAD       0     0     0     0     0     0     0     0    0     0 ...      0   \n",
              "PCPG       0     0     0     0     0     0     0     0    0     0 ...      0   \n",
              "PRAD       0     0     0     0     0     0     0     0    0     0 ...      0   \n",
              "READ       0     0     0     0     0     1     0     0    0     0 ...      6   \n",
              "SARC       0     0     1     0     0     0     0     0    0     1 ...      0   \n",
              "SKCM       0     0     0     0     0     0     0     0    0     0 ...      0   \n",
              "STAD       0     0     0     0     0     0     1    10    0     0 ...      0   \n",
              "TGCT       0     0     0     0     0     0     0     0    0     0 ...      0   \n",
              "THCA       0     0     0     0     0     0     0     0    0     0 ...      0   \n",
              "THYM       0     0     0     0     0     0     0     0    0     0 ...      0   \n",
              "UCEC       0     0     0     2     0     0     0     0    0     0 ...      0   \n",
              "UCS        0     0     0     0     0     0     0     0    0     0 ...      0   \n",
              "UVM        0     0     0     0     0     0     0     0    0     0 ...      0   \n",
              "\n",
              "acronym  SARC  SKCM  STAD  TGCT  THCA  THYM  UCEC  UCS  UVM  \n",
              "row_0                                                        \n",
              "ACC         0     0     0     0     0     0     0    0    0  \n",
              "BLCA        0     0     0     0     0     0     0    0    0  \n",
              "BRCA        0     0     0     0     0     0     0    0    0  \n",
              "CESC        0     0     0     0     0     0     1    0    0  \n",
              "CHOL        0     0     0     0     0     0     0    0    0  \n",
              "COAD        0     0     3     0     0     0     0    0    0  \n",
              "DLBC        0     0     1     0     0     0     0    0    0  \n",
              "ESCA        0     0     2     0     0     0     0    0    0  \n",
              "GBM         0     0     0     0     0     0     0    0    0  \n",
              "HNSC        0     0     0     0     0     1     0    0    0  \n",
              "KICH        0     0     0     0     0     0     0    0    0  \n",
              "KIRC        0     0     0     0     0     0     0    0    0  \n",
              "KIRP        0     0     0     0     0     0     0    0    0  \n",
              "LAML        0     0     0     0     0     0     0    0    0  \n",
              "LGG         0     0     0     0     0     0     0    0    0  \n",
              "LIHC        0     0     0     0     0     0     0    0    0  \n",
              "LUAD        0     0     0     0     0     0     0    0    0  \n",
              "LUSC        0     2     0     0     0     0     0    0    0  \n",
              "MESO        0     0     0     0     0     0     0    0    0  \n",
              "OV          0     0     0     0     0     0     0    0    0  \n",
              "PAAD        0     0     0     0     0     0     0    0    0  \n",
              "PCPG        0     0     0     0     0     0     0    0    0  \n",
              "PRAD        0     0     0     0     0     0     0    0    0  \n",
              "READ        0     0     0     0     0     0     0    0    0  \n",
              "SARC       62     1     0     0     0     0     0    0    0  \n",
              "SKCM        2    83     0     0     0     0     0    0    0  \n",
              "STAD        0     0   105     0     0     0     0    0    0  \n",
              "TGCT        0     0     0    36     0     0     0    1    0  \n",
              "THCA        0     0     0     0   142     0     0    0    0  \n",
              "THYM        0     0     0     0     0    31     0    0    0  \n",
              "UCEC        0     0     0     0     0     0    41    1    0  \n",
              "UCS         0     0     0     0     0     0     0   12    0  \n",
              "UVM         0     0     0     0     0     0     0    0   17  \n",
              "\n",
              "[33 rows x 33 columns]"
            ]
          },
          "metadata": {
            "tags": []
          },
          "execution_count": 47
        }
      ]
    },
    {
      "metadata": {
        "id": "Tn3tY8Aei1VQ",
        "colab_type": "code",
        "colab": {
          "base_uri": "https://localhost:8080/",
          "height": 933
        },
        "outputId": "8d487e1a-042f-4d58-bd7a-620f15946c3c"
      },
      "cell_type": "code",
      "source": [
        "import seaborn as sns\n",
        "\n",
        "sns.set(rc={'figure.figsize':(22,16)})\n",
        "ax = sns.heatmap(confusion, annot=True)"
      ],
      "execution_count": 60,
      "outputs": [
        {
          "output_type": "display_data",
          "data": {
            "image/png": "[encoded data removed]",
            "text/plain": [
              "<matplotlib.figure.Figure at 0x7f0612e81110>"
            ]
          },
          "metadata": {
            "tags": []
          }
        }
      ]
    },
    {
      "metadata": {
        "id": "HtW0IkgkJ7dP",
        "colab_type": "code",
        "outputId": "a318e204-2f41-4a54-cd67-58586ef96e87",
        "colab": {
          "base_uri": "https://localhost:8080/",
          "height": 35
        }
      },
      "cell_type": "code",
      "source": [
        "X_train.shape"
      ],
      "execution_count": 0,
      "outputs": [
        {
          "output_type": "execute_result",
          "data": {
            "text/plain": [
              "(9740, 36)"
            ]
          },
          "metadata": {
            "tags": []
          },
          "execution_count": 80
        }
      ]
    },
    {
      "metadata": {
        "id": "pTPrCpynKUqw",
        "colab_type": "code",
        "outputId": "4b2ca5f4-0a11-4652-fb21-bdfe35ef368e",
        "colab": {
          "base_uri": "https://localhost:8080/",
          "height": 2453
        }
      },
      "cell_type": "code",
      "source": [
        "from collections import Counter\n",
        "\n",
        "confusions=Counter()\n",
        "for i in range(X_test.shape[0]):\n",
        "  pred=rf.predict([X_test.values[i]])[0]\n",
        "  actual=y_test.values[i]\n",
        "  if pred!=actual:\n",
        "    print(i,pred,actual,pred==actual)\n",
        "    confusions[pred,actual]+=1"
      ],
      "execution_count": 0,
      "outputs": [
        {
          "output_type": "stream",
          "text": [
            "(4, 'STAD', 'ESCA', False)\n",
            "(35, 'COAD', 'PAAD', False)\n",
            "(37, 'UCEC', 'LUAD', False)\n",
            "(91, 'LIHC', 'CHOL', False)\n",
            "(104, 'COAD', 'READ', False)\n",
            "(109, 'HNSC', nan, False)\n",
            "(117, 'GBM', 'LGG', False)\n",
            "(124, 'LUAD', 'LUSC', False)\n",
            "(125, 'HNSC', 'LUSC', False)\n",
            "(147, 'HNSC', 'LUSC', False)\n",
            "(154, 'HNSC', 'ESCA', False)\n",
            "(168, 'SARC', 'MESO', False)\n",
            "(227, 'HNSC', 'LUSC', False)\n",
            "(252, 'PAAD', 'STAD', False)\n",
            "(254, 'COAD', 'READ', False)\n",
            "(262, 'STAD', 'ESCA', False)\n",
            "(273, 'COAD', 'READ', False)\n",
            "(291, 'STAD', 'CHOL', False)\n",
            "(294, 'LUSC', 'ESCA', False)\n",
            "(300, 'KIRC', 'KIRP', False)\n",
            "(306, 'LIHC', 'CHOL', False)\n",
            "(320, 'COAD', 'READ', False)\n",
            "(329, 'LGG', 'GBM', False)\n",
            "(357, 'STAD', 'OV', False)\n",
            "(368, 'KIRC', 'KIRP', False)\n",
            "(381, 'GBM', 'LGG', False)\n",
            "(389, 'LUSC', 'LUAD', False)\n",
            "(404, 'COAD', 'READ', False)\n",
            "(412, 'LUSC', 'LUAD', False)\n",
            "(424, 'LUAD', 'LUSC', False)\n",
            "(429, 'UCEC', 'OV', False)\n",
            "(438, 'STAD', 'ESCA', False)\n",
            "(469, 'LIHC', 'CHOL', False)\n",
            "(527, 'HNSC', 'ESCA', False)\n",
            "(531, 'SARC', 'ACC', False)\n",
            "(542, 'HNSC', 'ESCA', False)\n",
            "(548, 'STAD', 'ESCA', False)\n",
            "(588, 'SARC', 'BRCA', False)\n",
            "(601, 'STAD', 'READ', False)\n",
            "(604, 'COAD', 'READ', False)\n",
            "(611, 'COAD', 'READ', False)\n",
            "(628, 'UCS', 'BLCA', False)\n",
            "(641, 'LIHC', 'CHOL', False)\n",
            "(645, 'KIRP', 'KICH', False)\n",
            "(652, 'STAD', 'ESCA', False)\n",
            "(655, 'SARC', 'PAAD', False)\n",
            "(672, 'COAD', 'READ', False)\n",
            "(734, 'KIRP', 'KICH', False)\n",
            "(735, 'COAD', 'READ', False)\n",
            "(736, 'BRCA', nan, False)\n",
            "(741, 'STAD', 'PAAD', False)\n",
            "(758, 'STAD', 'ESCA', False)\n",
            "(795, 'COAD', 'READ', False)\n",
            "(801, 'UCS', 'UCEC', False)\n",
            "(848, 'UCEC', 'OV', False)\n",
            "(850, 'COAD', 'READ', False)\n",
            "(950, 'STAD', 'COAD', False)\n",
            "(964, 'KIRC', 'KIRP', False)\n",
            "(967, 'CESC', 'HNSC', False)\n",
            "(991, 'STAD', 'ESCA', False)\n",
            "(1015, 'LGG', 'GBM', False)\n",
            "(1032, 'LUSC', 'HNSC', False)\n",
            "(1077, 'LGG', 'GBM', False)\n",
            "(1083, 'UCS', 'SARC', False)\n",
            "(1096, 'LAML', nan, False)\n",
            "(1141, 'LAML', nan, False)\n",
            "(1165, 'KIRC', 'KICH', False)\n",
            "(1182, 'HNSC', 'BLCA', False)\n",
            "(1184, 'LUSC', 'LUAD', False)\n",
            "(1185, 'LUAD', 'LUSC', False)\n",
            "(1186, 'STAD', 'ESCA', False)\n",
            "(1200, 'LGG', 'GBM', False)\n",
            "(1240, 'LAML', nan, False)\n",
            "(1241, 'LUAD', 'LUSC', False)\n",
            "(1252, 'LUSC', 'LUAD', False)\n",
            "(1277, 'LGG', 'GBM', False)\n",
            "(1283, 'LGG', 'GBM', False)\n",
            "(1295, 'STAD', 'ESCA', False)\n",
            "(1314, 'KIRP', 'KIRC', False)\n",
            "(1321, 'PAAD', 'SKCM', False)\n",
            "(1351, 'COAD', 'READ', False)\n",
            "(1353, 'KIRC', 'KICH', False)\n",
            "(1359, 'KIRP', 'KIRC', False)\n",
            "(1457, 'LUAD', 'LUSC', False)\n",
            "(1461, 'UCEC', 'UCS', False)\n",
            "(1464, 'LAML', nan, False)\n",
            "(1477, 'KIRC', 'KIRP', False)\n",
            "(1481, 'BRCA', 'ESCA', False)\n",
            "(1491, 'STAD', 'ESCA', False)\n",
            "(1510, 'HNSC', 'ESCA', False)\n",
            "(1526, 'LGG', 'GBM', False)\n",
            "(1530, 'KIRC', 'KIRP', False)\n",
            "(1574, 'HNSC', nan, False)\n",
            "(1599, 'BLCA', 'THYM', False)\n",
            "(1630, 'HNSC', 'LUSC', False)\n",
            "(1637, 'COAD', nan, False)\n",
            "(1638, 'COAD', 'READ', False)\n",
            "(1665, 'BRCA', nan, False)\n",
            "(1697, 'UCEC', 'LGG', False)\n",
            "(1699, 'BRCA', nan, False)\n",
            "(1700, 'LUSC', 'BLCA', False)\n",
            "(1706, 'HNSC', 'LUSC', False)\n",
            "(1707, 'STAD', 'ESCA', False)\n",
            "(1719, 'COAD', 'READ', False)\n",
            "(1776, 'COAD', 'STAD', False)\n",
            "(1781, 'LUAD', 'LUSC', False)\n",
            "(1796, 'COAD', 'READ', False)\n",
            "(1808, 'COAD', 'READ', False)\n",
            "(1837, 'LUSC', 'LUAD', False)\n",
            "(1838, 'CESC', 'PAAD', False)\n",
            "(1858, 'HNSC', nan, False)\n",
            "(1885, 'SARC', 'BLCA', False)\n",
            "(1899, 'OV', 'UCEC', False)\n",
            "(1902, 'STAD', 'ESCA', False)\n",
            "(1920, 'LAML', nan, False)\n",
            "(1929, 'LUAD', 'LUSC', False)\n",
            "(1934, 'STAD', 'ESCA', False)\n",
            "(1935, 'SARC', 'MESO', False)\n",
            "(2005, 'CESC', 'BLCA', False)\n",
            "(2011, 'STAD', 'ESCA', False)\n",
            "(2023, 'LUSC', 'HNSC', False)\n",
            "(2050, 'KIRP', 'KIRC', False)\n",
            "(2098, 'COAD', 'CESC', False)\n",
            "(2117, 'COAD', 'READ', False)\n",
            "(2140, 'READ', 'COAD', False)\n",
            "(2152, 'LAML', nan, False)\n",
            "(2169, 'LUAD', 'LUSC', False)\n",
            "(2191, 'LUSC', 'LUAD', False)\n",
            "(2241, 'LUSC', 'ESCA', False)\n",
            "(2247, 'LGG', 'GBM', False)\n",
            "(2252, 'LAML', nan, False)\n",
            "(2259, 'STAD', 'COAD', False)\n",
            "(2277, 'GBM', 'LGG', False)\n",
            "(2286, 'GBM', 'LGG', False)\n",
            "(2313, 'LUSC', 'HNSC', False)\n",
            "(2334, 'HNSC', 'ESCA', False)\n",
            "(2338, 'LUAD', 'LUSC', False)\n",
            "(2345, 'BLCA', 'HNSC', False)\n",
            "(2358, 'CESC', 'HNSC', False)\n",
            "(2373, 'PCPG', 'UVM', False)\n",
            "(2382, 'HNSC', 'BLCA', False)\n"
          ],
          "name": "stdout"
        }
      ]
    },
    {
      "metadata": {
        "id": "liEzAWN6Ko-c",
        "colab_type": "code",
        "outputId": "95dc7317-361b-40e2-9bf6-22aa130c04ab",
        "colab": {
          "base_uri": "https://localhost:8080/",
          "height": 915
        }
      },
      "cell_type": "code",
      "source": [
        "for d,c in confusions.most_common():\n",
        "  print(d,c)"
      ],
      "execution_count": 0,
      "outputs": [
        {
          "output_type": "stream",
          "text": [
            "(('COAD', 'READ'), 17)\n",
            "(('STAD', 'ESCA'), 14)\n",
            "(('LUAD', 'LUSC'), 9)\n",
            "(('LGG', 'GBM'), 8)\n",
            "(('LAML', nan), 7)\n",
            "(('LUSC', 'LUAD'), 6)\n",
            "(('KIRC', 'KIRP'), 5)\n",
            "(('HNSC', 'ESCA'), 5)\n",
            "(('HNSC', 'LUSC'), 5)\n",
            "(('LIHC', 'CHOL'), 4)\n",
            "(('GBM', 'LGG'), 4)\n",
            "(('LUSC', 'HNSC'), 3)\n",
            "(('HNSC', nan), 3)\n",
            "(('KIRP', 'KIRC'), 3)\n",
            "(('BRCA', nan), 3)\n",
            "(('KIRC', 'KICH'), 2)\n",
            "(('CESC', 'HNSC'), 2)\n",
            "(('HNSC', 'BLCA'), 2)\n",
            "(('LUSC', 'ESCA'), 2)\n",
            "(('STAD', 'COAD'), 2)\n",
            "(('UCEC', 'OV'), 2)\n",
            "(('SARC', 'MESO'), 2)\n",
            "(('KIRP', 'KICH'), 2)\n",
            "(('SARC', 'ACC'), 1)\n",
            "(('STAD', 'CHOL'), 1)\n",
            "(('STAD', 'OV'), 1)\n",
            "(('SARC', 'PAAD'), 1)\n",
            "(('LUSC', 'BLCA'), 1)\n",
            "(('BLCA', 'THYM'), 1)\n",
            "(('STAD', 'READ'), 1)\n",
            "(('BLCA', 'HNSC'), 1)\n",
            "(('STAD', 'PAAD'), 1)\n",
            "(('UCEC', 'LUAD'), 1)\n",
            "(('PAAD', 'SKCM'), 1)\n",
            "(('UCS', 'BLCA'), 1)\n",
            "(('UCEC', 'UCS'), 1)\n",
            "(('COAD', 'CESC'), 1)\n",
            "(('BRCA', 'ESCA'), 1)\n",
            "(('SARC', 'BRCA'), 1)\n",
            "(('COAD', 'PAAD'), 1)\n",
            "(('UCEC', 'LGG'), 1)\n",
            "(('COAD', nan), 1)\n",
            "(('PAAD', 'STAD'), 1)\n",
            "(('OV', 'UCEC'), 1)\n",
            "(('UCS', 'SARC'), 1)\n",
            "(('PCPG', 'UVM'), 1)\n",
            "(('READ', 'COAD'), 1)\n",
            "(('UCS', 'UCEC'), 1)\n",
            "(('COAD', 'STAD'), 1)\n",
            "(('CESC', 'BLCA'), 1)\n",
            "(('CESC', 'PAAD'), 1)\n",
            "(('SARC', 'BLCA'), 1)\n"
          ],
          "name": "stdout"
        }
      ]
    },
    {
      "metadata": {
        "id": "rZ6kzLORNcPA",
        "colab_type": "code",
        "outputId": "86e384f6-9dd8-4de3-d6e0-34f39331dd18",
        "colab": {
          "base_uri": "https://localhost:8080/",
          "height": 35
        }
      },
      "cell_type": "code",
      "source": [
        "y_test.shape"
      ],
      "execution_count": 0,
      "outputs": [
        {
          "output_type": "execute_result",
          "data": {
            "text/plain": [
              "(2435,)"
            ]
          },
          "metadata": {
            "tags": []
          },
          "execution_count": 97
        }
      ]
    },
    {
      "metadata": {
        "id": "8hk6k4CsN5FR",
        "colab_type": "code",
        "colab": {}
      },
      "cell_type": "code",
      "source": [
        ""
      ],
      "execution_count": 0,
      "outputs": []
    },
    {
      "metadata": {
        "id": "UqiglZgomk1t",
        "colab_type": "text"
      },
      "cell_type": "markdown",
      "source": [
        "# Keras classifier"
      ]
    },
    {
      "metadata": {
        "id": "INzMP1nlmi8A",
        "colab_type": "code",
        "colab": {}
      },
      "cell_type": "code",
      "source": [
        "# based on https://github.com/keras-team/keras/blob/master/examples/reuters_mlp.py"
      ],
      "execution_count": 0,
      "outputs": []
    },
    {
      "metadata": {
        "id": "s2PXznjsmmLP",
        "colab_type": "code",
        "colab": {
          "base_uri": "https://localhost:8080/",
          "height": 35
        },
        "outputId": "f91857b3-efd2-48cf-b007-b5ec8928dfaf"
      },
      "cell_type": "code",
      "source": [
        "from __future__ import print_function\n",
        "\n",
        "import numpy as np\n",
        "import keras\n",
        "from keras.datasets import reuters\n",
        "from keras.models import Sequential\n",
        "from keras.layers import Dense, Dropout, Activation\n"
      ],
      "execution_count": 69,
      "outputs": [
        {
          "output_type": "stream",
          "text": [
            "Using TensorFlow backend.\n"
          ],
          "name": "stderr"
        }
      ]
    },
    {
      "metadata": {
        "id": "05M_YeXMnxMK",
        "colab_type": "code",
        "colab": {}
      },
      "cell_type": "code",
      "source": [
        "from sklearn.preprocessing import LabelEncoder"
      ],
      "execution_count": 0,
      "outputs": []
    },
    {
      "metadata": {
        "id": "dKwGG98Vn_C5",
        "colab_type": "code",
        "colab": {
          "base_uri": "https://localhost:8080/",
          "height": 86
        },
        "outputId": "ffa1ef2a-02f5-4aaf-aa03-ace73803b0d4"
      },
      "cell_type": "code",
      "source": [
        "le=LabelEncoder()\n",
        "y_train=y_train.fillna('NA')\n",
        "y_test=y_test.fillna('NA')\n",
        "le.fit(y_train)\n",
        "print(le.classes_)\n",
        "y_train_label = le.transform(y_train)\n",
        "y_test_label = le.transform(y_test)\n",
        "#le.inverse_transform(y_train_label)"
      ],
      "execution_count": 78,
      "outputs": [
        {
          "output_type": "stream",
          "text": [
            "['ACC' 'BLCA' 'BRCA' 'CESC' 'CHOL' 'COAD' 'DLBC' 'ESCA' 'GBM' 'HNSC'\n",
            " 'KICH' 'KIRC' 'KIRP' 'LAML' 'LGG' 'LIHC' 'LUAD' 'LUSC' 'MESO' 'NA' 'OV'\n",
            " 'PAAD' 'PCPG' 'PRAD' 'READ' 'SARC' 'SKCM' 'STAD' 'TGCT' 'THCA' 'THYM'\n",
            " 'UCEC' 'UCS' 'UVM']\n"
          ],
          "name": "stdout"
        }
      ]
    },
    {
      "metadata": {
        "id": "z20_1lBjm7_z",
        "colab_type": "code",
        "colab": {
          "base_uri": "https://localhost:8080/",
          "height": 104
        },
        "outputId": "f9740bc8-10c5-469c-e2fd-fea646a58fe8"
      },
      "cell_type": "code",
      "source": [
        "print(len(X_train), 'train sequences')\n",
        "print(len(X_test), 'test sequences')\n",
        "\n",
        "num_classes = np.max(y_train_label) + 1\n",
        "print(num_classes, 'classes')\n",
        "\n",
        "y_train_cat = keras.utils.to_categorical(y_train_label, num_classes)\n",
        "y_test_cat = keras.utils.to_categorical(y_test_label, num_classes)\n",
        "\n",
        "print('y_train shape:', y_train_cat.shape)\n",
        "print('y_test shape:', y_test_cat.shape)"
      ],
      "execution_count": 80,
      "outputs": [
        {
          "output_type": "stream",
          "text": [
            "9740 train sequences\n",
            "2435 test sequences\n",
            "34 classes\n",
            "y_train shape: (9740, 34)\n",
            "y_test shape: (2435, 34)\n"
          ],
          "name": "stdout"
        }
      ]
    },
    {
      "metadata": {
        "id": "K0OqFuMCpKN8",
        "colab_type": "code",
        "colab": {
          "base_uri": "https://localhost:8080/",
          "height": 35
        },
        "outputId": "0391e4cf-bb0f-4a0e-f9a6-5cea4dd18aa6"
      },
      "cell_type": "code",
      "source": [
        "X_train.shape"
      ],
      "execution_count": 81,
      "outputs": [
        {
          "output_type": "execute_result",
          "data": {
            "text/plain": [
              "(9740, 36)"
            ]
          },
          "metadata": {
            "tags": []
          },
          "execution_count": 81
        }
      ]
    },
    {
      "metadata": {
        "id": "5n5TREZgnFVn",
        "colab_type": "code",
        "colab": {
          "base_uri": "https://localhost:8080/",
          "height": 35
        },
        "outputId": "298e2138-b497-4ee7-e0d4-59255ec21a8f"
      },
      "cell_type": "code",
      "source": [
        "print('Building model...')\n",
        "model = Sequential()\n",
        "model.add(Dense(256, input_shape=(X_train.shape[1],)))\n",
        "model.add(Activation('relu'))\n",
        "model.add(Dense(128))\n",
        "model.add(Activation('relu'))\n",
        "model.add(Dropout(0.4))\n",
        "model.add(Dense(num_classes))\n",
        "model.add(Activation('softmax'))"
      ],
      "execution_count": 129,
      "outputs": [
        {
          "output_type": "stream",
          "text": [
            "Building model...\n"
          ],
          "name": "stdout"
        }
      ]
    },
    {
      "metadata": {
        "id": "bbfI2A5LqHJk",
        "colab_type": "code",
        "colab": {
          "base_uri": "https://localhost:8080/",
          "height": 380
        },
        "outputId": "d5eab89b-2853-4241-8ab1-d5232c0e01ab"
      },
      "cell_type": "code",
      "source": [
        "model.summary()"
      ],
      "execution_count": 130,
      "outputs": [
        {
          "output_type": "stream",
          "text": [
            "_________________________________________________________________\n",
            "Layer (type)                 Output Shape              Param #   \n",
            "=================================================================\n",
            "dense_28 (Dense)             (None, 256)               9472      \n",
            "_________________________________________________________________\n",
            "activation_28 (Activation)   (None, 256)               0         \n",
            "_________________________________________________________________\n",
            "dense_29 (Dense)             (None, 128)               32896     \n",
            "_________________________________________________________________\n",
            "activation_29 (Activation)   (None, 128)               0         \n",
            "_________________________________________________________________\n",
            "dropout_13 (Dropout)         (None, 128)               0         \n",
            "_________________________________________________________________\n",
            "dense_30 (Dense)             (None, 34)                4386      \n",
            "_________________________________________________________________\n",
            "activation_30 (Activation)   (None, 34)                0         \n",
            "=================================================================\n",
            "Total params: 46,754\n",
            "Trainable params: 46,754\n",
            "Non-trainable params: 0\n",
            "_________________________________________________________________\n"
          ],
          "name": "stdout"
        }
      ]
    },
    {
      "metadata": {
        "id": "H2Lmg2Gcm0sz",
        "colab_type": "code",
        "colab": {}
      },
      "cell_type": "code",
      "source": [
        "batch_size = 128\n",
        "epochs = 50"
      ],
      "execution_count": 0,
      "outputs": []
    },
    {
      "metadata": {
        "id": "mIa-OOnupTnm",
        "colab_type": "code",
        "colab": {
          "base_uri": "https://localhost:8080/",
          "height": 1762
        },
        "outputId": "c37822f8-1c44-4c80-8c39-5f73778eb5a7"
      },
      "cell_type": "code",
      "source": [
        "model.compile(loss='categorical_crossentropy',\n",
        "              optimizer='adam',\n",
        "              metrics=['accuracy'])\n",
        "\n",
        "history = model.fit(X_train, y_train_cat,\n",
        "                    batch_size=batch_size,\n",
        "                    epochs=epochs,\n",
        "                    verbose=1,\n",
        "                    validation_split=0.1)\n"
      ],
      "execution_count": 133,
      "outputs": [
        {
          "output_type": "stream",
          "text": [
            "Train on 8766 samples, validate on 974 samples\n",
            "Epoch 1/50\n",
            "8766/8766 [==============================] - 1s 133us/step - loss: 1.1815 - acc: 0.7083 - val_loss: 0.3992 - val_acc: 0.8973\n",
            "Epoch 2/50\n",
            "8766/8766 [==============================] - 0s 49us/step - loss: 0.4206 - acc: 0.8718 - val_loss: 0.3295 - val_acc: 0.9025\n",
            "Epoch 3/50\n",
            "8766/8766 [==============================] - 0s 52us/step - loss: 0.3509 - acc: 0.8898 - val_loss: 0.2967 - val_acc: 0.9107\n",
            "Epoch 4/50\n",
            "8766/8766 [==============================] - 0s 53us/step - loss: 0.3165 - acc: 0.8966 - val_loss: 0.2943 - val_acc: 0.9148\n",
            "Epoch 5/50\n",
            "8766/8766 [==============================] - 0s 55us/step - loss: 0.2882 - acc: 0.9065 - val_loss: 0.2739 - val_acc: 0.9117\n",
            "Epoch 6/50\n",
            "8766/8766 [==============================] - 0s 53us/step - loss: 0.2691 - acc: 0.9079 - val_loss: 0.2557 - val_acc: 0.9199\n",
            "Epoch 7/50\n",
            "8766/8766 [==============================] - 0s 54us/step - loss: 0.2525 - acc: 0.9154 - val_loss: 0.2505 - val_acc: 0.9251\n",
            "Epoch 8/50\n",
            "8766/8766 [==============================] - 0s 53us/step - loss: 0.2410 - acc: 0.9157 - val_loss: 0.2632 - val_acc: 0.9199\n",
            "Epoch 9/50\n",
            "8766/8766 [==============================] - 0s 53us/step - loss: 0.2322 - acc: 0.9212 - val_loss: 0.2441 - val_acc: 0.9240\n",
            "Epoch 10/50\n",
            "8766/8766 [==============================] - 0s 55us/step - loss: 0.2221 - acc: 0.9237 - val_loss: 0.2423 - val_acc: 0.9281\n",
            "Epoch 11/50\n",
            "8766/8766 [==============================] - 0s 52us/step - loss: 0.2161 - acc: 0.9245 - val_loss: 0.2447 - val_acc: 0.9261\n",
            "Epoch 12/50\n",
            "8766/8766 [==============================] - 0s 55us/step - loss: 0.2140 - acc: 0.9244 - val_loss: 0.2521 - val_acc: 0.9281\n",
            "Epoch 13/50\n",
            "8766/8766 [==============================] - 0s 53us/step - loss: 0.2023 - acc: 0.9288 - val_loss: 0.2377 - val_acc: 0.9281\n",
            "Epoch 14/50\n",
            "8766/8766 [==============================] - 0s 54us/step - loss: 0.1940 - acc: 0.9308 - val_loss: 0.2273 - val_acc: 0.9363\n",
            "Epoch 15/50\n",
            "8766/8766 [==============================] - 0s 54us/step - loss: 0.1943 - acc: 0.9293 - val_loss: 0.2423 - val_acc: 0.9271\n",
            "Epoch 16/50\n",
            "8766/8766 [==============================] - 0s 54us/step - loss: 0.1842 - acc: 0.9325 - val_loss: 0.2379 - val_acc: 0.9261\n",
            "Epoch 17/50\n",
            "8766/8766 [==============================] - 0s 53us/step - loss: 0.1791 - acc: 0.9358 - val_loss: 0.2324 - val_acc: 0.9322\n",
            "Epoch 18/50\n",
            "8766/8766 [==============================] - 0s 55us/step - loss: 0.1739 - acc: 0.9346 - val_loss: 0.2388 - val_acc: 0.9261\n",
            "Epoch 19/50\n",
            "8766/8766 [==============================] - 0s 52us/step - loss: 0.1700 - acc: 0.9384 - val_loss: 0.2447 - val_acc: 0.9343\n",
            "Epoch 20/50\n",
            "8766/8766 [==============================] - 0s 54us/step - loss: 0.1690 - acc: 0.9368 - val_loss: 0.2369 - val_acc: 0.9333\n",
            "Epoch 21/50\n",
            "8766/8766 [==============================] - 0s 53us/step - loss: 0.1632 - acc: 0.9406 - val_loss: 0.2469 - val_acc: 0.9271\n",
            "Epoch 22/50\n",
            "8766/8766 [==============================] - 0s 53us/step - loss: 0.1591 - acc: 0.9416 - val_loss: 0.2357 - val_acc: 0.9302\n",
            "Epoch 23/50\n",
            "8766/8766 [==============================] - 0s 53us/step - loss: 0.1548 - acc: 0.9440 - val_loss: 0.2268 - val_acc: 0.9353\n",
            "Epoch 24/50\n",
            "8766/8766 [==============================] - 0s 52us/step - loss: 0.1576 - acc: 0.9427 - val_loss: 0.2338 - val_acc: 0.9343\n",
            "Epoch 25/50\n",
            "8766/8766 [==============================] - 0s 54us/step - loss: 0.1495 - acc: 0.9460 - val_loss: 0.2358 - val_acc: 0.9281\n",
            "Epoch 26/50\n",
            "8766/8766 [==============================] - 0s 53us/step - loss: 0.1480 - acc: 0.9460 - val_loss: 0.2344 - val_acc: 0.9343\n",
            "Epoch 27/50\n",
            "8766/8766 [==============================] - 0s 55us/step - loss: 0.1456 - acc: 0.9462 - val_loss: 0.2292 - val_acc: 0.9251\n",
            "Epoch 28/50\n",
            "8766/8766 [==============================] - 0s 52us/step - loss: 0.1353 - acc: 0.9486 - val_loss: 0.2336 - val_acc: 0.9353\n",
            "Epoch 29/50\n",
            "8766/8766 [==============================] - 0s 54us/step - loss: 0.1395 - acc: 0.9475 - val_loss: 0.2358 - val_acc: 0.9363\n",
            "Epoch 30/50\n",
            "8766/8766 [==============================] - 0s 53us/step - loss: 0.1376 - acc: 0.9491 - val_loss: 0.2320 - val_acc: 0.9333\n",
            "Epoch 31/50\n",
            "8766/8766 [==============================] - 0s 55us/step - loss: 0.1310 - acc: 0.9509 - val_loss: 0.2526 - val_acc: 0.9281\n",
            "Epoch 32/50\n",
            "8766/8766 [==============================] - 0s 53us/step - loss: 0.1340 - acc: 0.9495 - val_loss: 0.2363 - val_acc: 0.9394\n",
            "Epoch 33/50\n",
            "8766/8766 [==============================] - 0s 54us/step - loss: 0.1305 - acc: 0.9509 - val_loss: 0.2513 - val_acc: 0.9271\n",
            "Epoch 34/50\n",
            "8766/8766 [==============================] - 0s 54us/step - loss: 0.1262 - acc: 0.9505 - val_loss: 0.2525 - val_acc: 0.9261\n",
            "Epoch 35/50\n",
            "8766/8766 [==============================] - 0s 53us/step - loss: 0.1259 - acc: 0.9531 - val_loss: 0.2584 - val_acc: 0.9271\n",
            "Epoch 36/50\n",
            "8766/8766 [==============================] - 0s 53us/step - loss: 0.1257 - acc: 0.9514 - val_loss: 0.2452 - val_acc: 0.9312\n",
            "Epoch 37/50\n",
            "8766/8766 [==============================] - 0s 53us/step - loss: 0.1193 - acc: 0.9544 - val_loss: 0.2491 - val_acc: 0.9302\n",
            "Epoch 38/50\n",
            "8766/8766 [==============================] - 0s 55us/step - loss: 0.1198 - acc: 0.9521 - val_loss: 0.2409 - val_acc: 0.9343\n",
            "Epoch 39/50\n",
            "8766/8766 [==============================] - 0s 53us/step - loss: 0.1173 - acc: 0.9538 - val_loss: 0.2484 - val_acc: 0.9322\n",
            "Epoch 40/50\n",
            "8766/8766 [==============================] - 0s 53us/step - loss: 0.1169 - acc: 0.9569 - val_loss: 0.2496 - val_acc: 0.9322\n",
            "Epoch 41/50\n",
            "8766/8766 [==============================] - 0s 53us/step - loss: 0.1115 - acc: 0.9602 - val_loss: 0.2554 - val_acc: 0.9312\n",
            "Epoch 42/50\n",
            "8766/8766 [==============================] - 0s 55us/step - loss: 0.1103 - acc: 0.9568 - val_loss: 0.2441 - val_acc: 0.9363\n",
            "Epoch 43/50\n",
            "8766/8766 [==============================] - 0s 54us/step - loss: 0.1046 - acc: 0.9593 - val_loss: 0.2787 - val_acc: 0.9322\n",
            "Epoch 44/50\n",
            "8766/8766 [==============================] - 0s 52us/step - loss: 0.1013 - acc: 0.9612 - val_loss: 0.2587 - val_acc: 0.9394\n",
            "Epoch 45/50\n",
            "8766/8766 [==============================] - 0s 54us/step - loss: 0.1026 - acc: 0.9617 - val_loss: 0.2578 - val_acc: 0.9322\n",
            "Epoch 46/50\n",
            "8766/8766 [==============================] - 0s 52us/step - loss: 0.0999 - acc: 0.9594 - val_loss: 0.2442 - val_acc: 0.9363\n",
            "Epoch 47/50\n",
            "8766/8766 [==============================] - 0s 53us/step - loss: 0.1019 - acc: 0.9592 - val_loss: 0.2600 - val_acc: 0.9312\n",
            "Epoch 48/50\n",
            "8766/8766 [==============================] - 0s 52us/step - loss: 0.1001 - acc: 0.9608 - val_loss: 0.2635 - val_acc: 0.9312\n",
            "Epoch 49/50\n",
            "8766/8766 [==============================] - 0s 53us/step - loss: 0.0983 - acc: 0.9624 - val_loss: 0.2551 - val_acc: 0.9374\n",
            "Epoch 50/50\n",
            "8766/8766 [==============================] - 0s 52us/step - loss: 0.0917 - acc: 0.9633 - val_loss: 0.2597 - val_acc: 0.9374\n"
          ],
          "name": "stdout"
        }
      ]
    },
    {
      "metadata": {
        "id": "OGo7naLapaLc",
        "colab_type": "code",
        "colab": {
          "base_uri": "https://localhost:8080/",
          "height": 69
        },
        "outputId": "6d6ff32c-eedb-434a-dc45-a427ddbc27ab"
      },
      "cell_type": "code",
      "source": [
        "score = model.evaluate(X_test, y_test_cat,\n",
        "                       batch_size=batch_size, verbose=1)\n",
        "print('Test score:', score[0])\n",
        "print('Test accuracy:', score[1])"
      ],
      "execution_count": 134,
      "outputs": [
        {
          "output_type": "stream",
          "text": [
            "2435/2435 [==============================] - 0s 21us/step\n",
            "Test score: 0.21863871669622417\n",
            "Test accuracy: 0.9252566735357719\n"
          ],
          "name": "stdout"
        }
      ]
    },
    {
      "metadata": {
        "id": "b8i-gHXJp1T2",
        "colab_type": "code",
        "colab": {}
      },
      "cell_type": "code",
      "source": [
        ""
      ],
      "execution_count": 0,
      "outputs": []
    }
  ]
}