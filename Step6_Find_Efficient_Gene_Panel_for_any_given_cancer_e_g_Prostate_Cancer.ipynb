{
  "nbformat": 4,
  "nbformat_minor": 0,
  "metadata": {
    "colab": {
      "name": "Find Efficient Gene Panel for any given cancer e.g. Prostate Cancer",
      "version": "0.3.2",
      "provenance": [],
      "collapsed_sections": []
    },
    "kernelspec": {
      "name": "python2",
      "display_name": "Python 2"
    },
    "accelerator": "GPU"
  },
  "cells": [
    {
      "metadata": {
        "id": "YZjx-7DsROWx",
        "colab_type": "text"
      },
      "cell_type": "markdown",
      "source": [
        "# Classify using latent features"
      ]
    },
    {
      "metadata": {
        "id": "iA0VsNxXROWy",
        "colab_type": "code",
        "colab": {
          "base_uri": "https://localhost:8080/",
          "height": 3192
        },
        "outputId": "b1a1effa-30f3-46b9-a0b3-ea2a62c4ec60"
      },
      "cell_type": "code",
      "source": [
        "import os\n",
        "import pandas as pd\n",
        "\n",
        "from sklearn.ensemble import RandomForestClassifier\n",
        "from sklearn.tree import DecisionTreeClassifier\n",
        "from sklearn.model_selection import train_test_split\n",
        "\n",
        "!apt-get install graphviz\n",
        "!pip install pydot graphviz\n",
        "\n",
        "import pydot\n",
        "pydot.Dot.create(pydot.Dot())\n",
        "\n",
        "from IPython.display import SVG\n",
        "from graphviz import Source\n",
        "from IPython.display import display\n",
        "from sklearn import tree"
      ],
      "execution_count": 1,
      "outputs": [
        {
          "output_type": "stream",
          "text": [
            "Reading package lists... Done\n",
            "Building dependency tree       \n",
            "Reading state information... Done\n",
            "The following additional packages will be installed:\n",
            "  fontconfig libann0 libcairo2 libcdt5 libcgraph6 libdatrie1 libgd3\n",
            "  libgts-0.7-5 libgts-bin libgvc6 libgvpr2 libjbig0 liblab-gamut1 libltdl7\n",
            "  libpango-1.0-0 libpangocairo-1.0-0 libpangoft2-1.0-0 libpathplan4\n",
            "  libpixman-1-0 libthai-data libthai0 libtiff5 libwebp6 libxaw7 libxcb-render0\n",
            "  libxcb-shm0 libxmu6 libxpm4 libxt6\n",
            "Suggested packages:\n",
            "  gsfonts graphviz-doc libgd-tools\n",
            "The following NEW packages will be installed:\n",
            "  fontconfig graphviz libann0 libcairo2 libcdt5 libcgraph6 libdatrie1 libgd3\n",
            "  libgts-0.7-5 libgts-bin libgvc6 libgvpr2 libjbig0 liblab-gamut1 libltdl7\n",
            "  libpango-1.0-0 libpangocairo-1.0-0 libpangoft2-1.0-0 libpathplan4\n",
            "  libpixman-1-0 libthai-data libthai0 libtiff5 libwebp6 libxaw7 libxcb-render0\n",
            "  libxcb-shm0 libxmu6 libxpm4 libxt6\n",
            "0 upgraded, 30 newly installed, 0 to remove and 5 not upgraded.\n",
            "Need to get 4,154 kB of archives.\n",
            "After this operation, 16.1 MB of additional disk space will be used.\n",
            "Get:1 http://archive.ubuntu.com/ubuntu bionic/main amd64 fontconfig amd64 2.12.6-0ubuntu2 [169 kB]\n",
            "Get:2 http://archive.ubuntu.com/ubuntu bionic/universe amd64 libann0 amd64 1.1.2+doc-6 [24.8 kB]\n",
            "Get:3 http://archive.ubuntu.com/ubuntu bionic/universe amd64 libcdt5 amd64 2.40.1-2 [19.6 kB]\n",
            "Get:4 http://archive.ubuntu.com/ubuntu bionic/universe amd64 libcgraph6 amd64 2.40.1-2 [40.8 kB]\n",
            "Get:5 http://archive.ubuntu.com/ubuntu bionic/main amd64 libjbig0 amd64 2.1-3.1build1 [26.7 kB]\n",
            "Get:6 http://archive.ubuntu.com/ubuntu bionic/main amd64 libtiff5 amd64 4.0.9-5 [152 kB]\n",
            "Get:7 http://archive.ubuntu.com/ubuntu bionic/main amd64 libwebp6 amd64 0.6.1-2 [185 kB]\n",
            "Get:8 http://archive.ubuntu.com/ubuntu bionic/main amd64 libxpm4 amd64 1:3.5.12-1 [34.0 kB]\n",
            "Get:9 http://archive.ubuntu.com/ubuntu bionic-updates/main amd64 libgd3 amd64 2.2.5-4ubuntu0.2 [119 kB]\n",
            "Get:10 http://archive.ubuntu.com/ubuntu bionic/universe amd64 libgts-0.7-5 amd64 0.7.6+darcs121130-4 [150 kB]\n",
            "Get:11 http://archive.ubuntu.com/ubuntu bionic/main amd64 libpixman-1-0 amd64 0.34.0-2 [229 kB]\n",
            "Get:12 http://archive.ubuntu.com/ubuntu bionic/main amd64 libxcb-render0 amd64 1.13-1 [14.7 kB]\n",
            "Get:13 http://archive.ubuntu.com/ubuntu bionic/main amd64 libxcb-shm0 amd64 1.13-1 [5,572 B]\n",
            "Get:14 http://archive.ubuntu.com/ubuntu bionic/main amd64 libcairo2 amd64 1.15.10-2 [580 kB]\n",
            "Get:15 http://archive.ubuntu.com/ubuntu bionic/main amd64 libltdl7 amd64 2.4.6-2 [38.8 kB]\n",
            "Get:16 http://archive.ubuntu.com/ubuntu bionic/main amd64 libthai-data all 0.1.27-2 [133 kB]\n",
            "Get:17 http://archive.ubuntu.com/ubuntu bionic/main amd64 libdatrie1 amd64 0.2.10-7 [17.8 kB]\n",
            "Get:18 http://archive.ubuntu.com/ubuntu bionic/main amd64 libthai0 amd64 0.1.27-2 [18.0 kB]\n",
            "Get:19 http://archive.ubuntu.com/ubuntu bionic-updates/main amd64 libpango-1.0-0 amd64 1.40.14-1ubuntu0.1 [153 kB]\n",
            "Get:20 http://archive.ubuntu.com/ubuntu bionic-updates/main amd64 libpangoft2-1.0-0 amd64 1.40.14-1ubuntu0.1 [33.2 kB]\n",
            "Get:21 http://archive.ubuntu.com/ubuntu bionic-updates/main amd64 libpangocairo-1.0-0 amd64 1.40.14-1ubuntu0.1 [20.8 kB]\n",
            "Get:22 http://archive.ubuntu.com/ubuntu bionic/universe amd64 libpathplan4 amd64 2.40.1-2 [22.6 kB]\n",
            "Get:23 http://archive.ubuntu.com/ubuntu bionic/universe amd64 libgvc6 amd64 2.40.1-2 [601 kB]\n",
            "Get:24 http://archive.ubuntu.com/ubuntu bionic/universe amd64 libgvpr2 amd64 2.40.1-2 [169 kB]\n",
            "Get:25 http://archive.ubuntu.com/ubuntu bionic/universe amd64 liblab-gamut1 amd64 2.40.1-2 [178 kB]\n",
            "Get:26 http://archive.ubuntu.com/ubuntu bionic/main amd64 libxt6 amd64 1:1.1.5-1 [160 kB]\n",
            "Get:27 http://archive.ubuntu.com/ubuntu bionic/main amd64 libxmu6 amd64 2:1.1.2-2 [46.0 kB]\n",
            "Get:28 http://archive.ubuntu.com/ubuntu bionic/main amd64 libxaw7 amd64 2:1.0.13-1 [173 kB]\n",
            "Get:29 http://archive.ubuntu.com/ubuntu bionic/universe amd64 graphviz amd64 2.40.1-2 [601 kB]\n",
            "Get:30 http://archive.ubuntu.com/ubuntu bionic/universe amd64 libgts-bin amd64 0.7.6+darcs121130-4 [41.3 kB]\n",
            "Fetched 4,154 kB in 7s (607 kB/s)\n",
            "Selecting previously unselected package fontconfig.\n",
            "(Reading database ... 22298 files and directories currently installed.)\n",
            "Preparing to unpack .../00-fontconfig_2.12.6-0ubuntu2_amd64.deb ...\n",
            "Unpacking fontconfig (2.12.6-0ubuntu2) ...\n",
            "Selecting previously unselected package libann0.\n",
            "Preparing to unpack .../01-libann0_1.1.2+doc-6_amd64.deb ...\n",
            "Unpacking libann0 (1.1.2+doc-6) ...\n",
            "Selecting previously unselected package libcdt5.\n",
            "Preparing to unpack .../02-libcdt5_2.40.1-2_amd64.deb ...\n",
            "Unpacking libcdt5 (2.40.1-2) ...\n",
            "Selecting previously unselected package libcgraph6.\n",
            "Preparing to unpack .../03-libcgraph6_2.40.1-2_amd64.deb ...\n",
            "Unpacking libcgraph6 (2.40.1-2) ...\n",
            "Selecting previously unselected package libjbig0:amd64.\n",
            "Preparing to unpack .../04-libjbig0_2.1-3.1build1_amd64.deb ...\n",
            "Unpacking libjbig0:amd64 (2.1-3.1build1) ...\n",
            "Selecting previously unselected package libtiff5:amd64.\n",
            "Preparing to unpack .../05-libtiff5_4.0.9-5_amd64.deb ...\n",
            "Unpacking libtiff5:amd64 (4.0.9-5) ...\n",
            "Selecting previously unselected package libwebp6:amd64.\n",
            "Preparing to unpack .../06-libwebp6_0.6.1-2_amd64.deb ...\n",
            "Unpacking libwebp6:amd64 (0.6.1-2) ...\n",
            "Selecting previously unselected package libxpm4:amd64.\n",
            "Preparing to unpack .../07-libxpm4_1%3a3.5.12-1_amd64.deb ...\n",
            "Unpacking libxpm4:amd64 (1:3.5.12-1) ...\n",
            "Selecting previously unselected package libgd3:amd64.\n",
            "Preparing to unpack .../08-libgd3_2.2.5-4ubuntu0.2_amd64.deb ...\n",
            "Unpacking libgd3:amd64 (2.2.5-4ubuntu0.2) ...\n",
            "Selecting previously unselected package libgts-0.7-5:amd64.\n",
            "Preparing to unpack .../09-libgts-0.7-5_0.7.6+darcs121130-4_amd64.deb ...\n",
            "Unpacking libgts-0.7-5:amd64 (0.7.6+darcs121130-4) ...\n",
            "Selecting previously unselected package libpixman-1-0:amd64.\n",
            "Preparing to unpack .../10-libpixman-1-0_0.34.0-2_amd64.deb ...\n",
            "Unpacking libpixman-1-0:amd64 (0.34.0-2) ...\n",
            "Selecting previously unselected package libxcb-render0:amd64.\n",
            "Preparing to unpack .../11-libxcb-render0_1.13-1_amd64.deb ...\n",
            "Unpacking libxcb-render0:amd64 (1.13-1) ...\n",
            "Selecting previously unselected package libxcb-shm0:amd64.\n",
            "Preparing to unpack .../12-libxcb-shm0_1.13-1_amd64.deb ...\n",
            "Unpacking libxcb-shm0:amd64 (1.13-1) ...\n",
            "Selecting previously unselected package libcairo2:amd64.\n",
            "Preparing to unpack .../13-libcairo2_1.15.10-2_amd64.deb ...\n",
            "Unpacking libcairo2:amd64 (1.15.10-2) ...\n",
            "Selecting previously unselected package libltdl7:amd64.\n",
            "Preparing to unpack .../14-libltdl7_2.4.6-2_amd64.deb ...\n",
            "Unpacking libltdl7:amd64 (2.4.6-2) ...\n",
            "Selecting previously unselected package libthai-data.\n",
            "Preparing to unpack .../15-libthai-data_0.1.27-2_all.deb ...\n",
            "Unpacking libthai-data (0.1.27-2) ...\n",
            "Selecting previously unselected package libdatrie1:amd64.\n",
            "Preparing to unpack .../16-libdatrie1_0.2.10-7_amd64.deb ...\n",
            "Unpacking libdatrie1:amd64 (0.2.10-7) ...\n",
            "Selecting previously unselected package libthai0:amd64.\n",
            "Preparing to unpack .../17-libthai0_0.1.27-2_amd64.deb ...\n",
            "Unpacking libthai0:amd64 (0.1.27-2) ...\n",
            "Selecting previously unselected package libpango-1.0-0:amd64.\n",
            "Preparing to unpack .../18-libpango-1.0-0_1.40.14-1ubuntu0.1_amd64.deb ...\n",
            "Unpacking libpango-1.0-0:amd64 (1.40.14-1ubuntu0.1) ...\n",
            "Selecting previously unselected package libpangoft2-1.0-0:amd64.\n",
            "Preparing to unpack .../19-libpangoft2-1.0-0_1.40.14-1ubuntu0.1_amd64.deb ...\n",
            "Unpacking libpangoft2-1.0-0:amd64 (1.40.14-1ubuntu0.1) ...\n",
            "Selecting previously unselected package libpangocairo-1.0-0:amd64.\n",
            "Preparing to unpack .../20-libpangocairo-1.0-0_1.40.14-1ubuntu0.1_amd64.deb ...\n",
            "Unpacking libpangocairo-1.0-0:amd64 (1.40.14-1ubuntu0.1) ...\n",
            "Selecting previously unselected package libpathplan4.\n",
            "Preparing to unpack .../21-libpathplan4_2.40.1-2_amd64.deb ...\n",
            "Unpacking libpathplan4 (2.40.1-2) ...\n",
            "Selecting previously unselected package libgvc6.\n",
            "Preparing to unpack .../22-libgvc6_2.40.1-2_amd64.deb ...\n",
            "Unpacking libgvc6 (2.40.1-2) ...\n",
            "Selecting previously unselected package libgvpr2.\n",
            "Preparing to unpack .../23-libgvpr2_2.40.1-2_amd64.deb ...\n",
            "Unpacking libgvpr2 (2.40.1-2) ...\n",
            "Selecting previously unselected package liblab-gamut1.\n",
            "Preparing to unpack .../24-liblab-gamut1_2.40.1-2_amd64.deb ...\n",
            "Unpacking liblab-gamut1 (2.40.1-2) ...\n",
            "Selecting previously unselected package libxt6:amd64.\n",
            "Preparing to unpack .../25-libxt6_1%3a1.1.5-1_amd64.deb ...\n",
            "Unpacking libxt6:amd64 (1:1.1.5-1) ...\n",
            "Selecting previously unselected package libxmu6:amd64.\n",
            "Preparing to unpack .../26-libxmu6_2%3a1.1.2-2_amd64.deb ...\n",
            "Unpacking libxmu6:amd64 (2:1.1.2-2) ...\n",
            "Selecting previously unselected package libxaw7:amd64.\n",
            "Preparing to unpack .../27-libxaw7_2%3a1.0.13-1_amd64.deb ...\n",
            "Unpacking libxaw7:amd64 (2:1.0.13-1) ...\n",
            "Selecting previously unselected package graphviz.\n",
            "Preparing to unpack .../28-graphviz_2.40.1-2_amd64.deb ...\n",
            "Unpacking graphviz (2.40.1-2) ...\n",
            "Selecting previously unselected package libgts-bin.\n",
            "Preparing to unpack .../29-libgts-bin_0.7.6+darcs121130-4_amd64.deb ...\n",
            "Unpacking libgts-bin (0.7.6+darcs121130-4) ...\n",
            "Setting up libgts-0.7-5:amd64 (0.7.6+darcs121130-4) ...\n",
            "Setting up libpathplan4 (2.40.1-2) ...\n",
            "Setting up liblab-gamut1 (2.40.1-2) ...\n",
            "Setting up libxcb-render0:amd64 (1.13-1) ...\n",
            "Setting up libjbig0:amd64 (2.1-3.1build1) ...\n",
            "Setting up libdatrie1:amd64 (0.2.10-7) ...\n",
            "Setting up libtiff5:amd64 (4.0.9-5) ...\n",
            "Setting up libpixman-1-0:amd64 (0.34.0-2) ...\n",
            "Processing triggers for libc-bin (2.27-3ubuntu1) ...\n",
            "Setting up libltdl7:amd64 (2.4.6-2) ...\n",
            "Setting up libann0 (1.1.2+doc-6) ...\n",
            "Setting up libxcb-shm0:amd64 (1.13-1) ...\n",
            "Setting up libxpm4:amd64 (1:3.5.12-1) ...\n",
            "Setting up libxt6:amd64 (1:1.1.5-1) ...\n",
            "Setting up libgts-bin (0.7.6+darcs121130-4) ...\n",
            "Setting up libthai-data (0.1.27-2) ...\n",
            "Setting up libcdt5 (2.40.1-2) ...\n",
            "Setting up fontconfig (2.12.6-0ubuntu2) ...\n",
            "Regenerating fonts cache... done.\n",
            "Setting up libcgraph6 (2.40.1-2) ...\n",
            "Setting up libwebp6:amd64 (0.6.1-2) ...\n",
            "Setting up libcairo2:amd64 (1.15.10-2) ...\n",
            "Setting up libgvpr2 (2.40.1-2) ...\n",
            "Setting up libgd3:amd64 (2.2.5-4ubuntu0.2) ...\n",
            "Setting up libthai0:amd64 (0.1.27-2) ...\n",
            "Setting up libxmu6:amd64 (2:1.1.2-2) ...\n",
            "Setting up libpango-1.0-0:amd64 (1.40.14-1ubuntu0.1) ...\n",
            "Setting up libxaw7:amd64 (2:1.0.13-1) ...\n",
            "Setting up libpangoft2-1.0-0:amd64 (1.40.14-1ubuntu0.1) ...\n",
            "Setting up libpangocairo-1.0-0:amd64 (1.40.14-1ubuntu0.1) ...\n",
            "Setting up libgvc6 (2.40.1-2) ...\n",
            "Setting up graphviz (2.40.1-2) ...\n",
            "Processing triggers for libc-bin (2.27-3ubuntu1) ...\n",
            "Collecting pydot\n",
            "  Downloading https://files.pythonhosted.org/packages/50/da/68cee64ad379462abb743ffb665fa34b214df85d263565ad2bd512c2d935/pydot-1.3.0-py2.py3-none-any.whl\n",
            "Collecting graphviz\n",
            "  Downloading https://files.pythonhosted.org/packages/1f/e2/ef2581b5b86625657afd32030f90cf2717456c1d2b711ba074bf007c0f1a/graphviz-0.10.1-py2.py3-none-any.whl\n",
            "Requirement already satisfied: pyparsing>=2.1.4 in /usr/local/lib/python2.7/dist-packages (from pydot) (2.3.0)\n",
            "Installing collected packages: pydot, graphviz\n",
            "Successfully installed graphviz-0.10.1 pydot-1.3.0\n"
          ],
          "name": "stdout"
        }
      ]
    },
    {
      "metadata": {
        "id": "8CNyZgj84NrD",
        "colab_type": "code",
        "outputId": "d0df3a6f-0fae-42dd-ad99-16c9d2390560",
        "colab": {
          "base_uri": "https://localhost:8080/",
          "height": 35
        }
      },
      "cell_type": "code",
      "source": [
        "!pwd\n"
      ],
      "execution_count": 2,
      "outputs": [
        {
          "output_type": "stream",
          "text": [
            "/content\n"
          ],
          "name": "stdout"
        }
      ]
    },
    {
      "metadata": {
        "id": "GuzRosTDEBw2",
        "colab_type": "code",
        "outputId": "2a19b599-f575-4b91-e946-1918dec65b21",
        "colab": {
          "resources": {
            "http://localhost:8080/nbextensions/google.colab/files.js": {
              "data": "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",
              "ok": true,
              "headers": [
                [
                  "content-type",
                  "application/javascript"
                ]
              ],
              "status": 200,
              "status_text": ""
            }
          },
          "base_uri": "https://localhost:8080/",
          "height": 105
        }
      },
      "cell_type": "code",
      "source": [
        "from google.colab import files\n",
        "\n",
        "if os.path.exists('/content/tybalt/data/clinical_data.tsv'):\n",
        "  data_exists=True\n",
        "else:\n",
        "  data_exists=False\n",
        "\n",
        "if not data_exists:\n",
        "  \n",
        "  if not os.path.exists('/content/tybalt/data'):\n",
        "    !mkdir -p tybalt/data\n",
        "\n",
        "  os.chdir('/content/tybalt')\n",
        "  uploaded = files.upload()\n",
        "\n",
        "  for fn in uploaded.keys():\n",
        "      print('User uploaded file \"{name}\" with length {length} bytes'.format(\n",
        "          name=fn, length=len(uploaded[fn])))\n",
        "    \n",
        "  !mv *.tsv data/\n",
        "  !ls data\n",
        "else:\n",
        "  os.chdir('/content/tybalt')\n",
        "  \n",
        "  "
      ],
      "execution_count": 3,
      "outputs": [
        {
          "output_type": "display_data",
          "data": {
            "text/plain": [
              "<IPython.core.display.HTML object>"
            ],
            "text/html": [
              "\n",
              "     <input type=\"file\" id=\"files-b9abebe9-aa0f-4cc7-b36f-4743e119b887\" name=\"files[]\" multiple disabled />\n",
              "     <output id=\"result-b9abebe9-aa0f-4cc7-b36f-4743e119b887\">\n",
              "      Upload widget is only available when the cell has been executed in the\n",
              "      current browser session. Please rerun this cell to enable.\n",
              "      </output>\n",
              "      <script src=\"/nbextensions/google.colab/files.js\"></script> "
            ]
          },
          "metadata": {
            "tags": []
          }
        },
        {
          "output_type": "stream",
          "text": [
            "Saving clinical_data.tsv to clinical_data.tsv\n",
            "User uploaded file \"clinical_data.tsv\" with length 1954970 bytes\n",
            "clinical_data.tsv\n"
          ],
          "name": "stdout"
        }
      ]
    },
    {
      "metadata": {
        "id": "ofX69adH4u00",
        "colab_type": "code",
        "outputId": "8aa39968-a9dc-4377-c435-4af632070693",
        "colab": {
          "resources": {
            "http://localhost:8080/nbextensions/google.colab/files.js": {
              "data": "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",
              "ok": true,
              "headers": [
                [
                  "content-type",
                  "application/javascript"
                ]
              ],
              "status": 200,
              "status_text": ""
            }
          },
          "base_uri": "https://localhost:8080/",
          "height": 87
        }
      },
      "cell_type": "code",
      "source": [
        "  uploaded = files.upload()\n",
        "  for fn in uploaded.keys():\n",
        "      print('User uploaded file \"{name}\" with length {length} bytes'.format(\n",
        "          name=fn, length=len(uploaded[fn])))\n",
        "    \n",
        "  !mv *.tsv data/"
      ],
      "execution_count": 4,
      "outputs": [
        {
          "output_type": "display_data",
          "data": {
            "text/plain": [
              "<IPython.core.display.HTML object>"
            ],
            "text/html": [
              "\n",
              "     <input type=\"file\" id=\"files-e562458d-d4d6-4b72-ae19-7d1e87e2f2e2\" name=\"files[]\" multiple disabled />\n",
              "     <output id=\"result-e562458d-d4d6-4b72-ae19-7d1e87e2f2e2\">\n",
              "      Upload widget is only available when the cell has been executed in the\n",
              "      current browser session. Please rerun this cell to enable.\n",
              "      </output>\n",
              "      <script src=\"/nbextensions/google.colab/files.js\"></script> "
            ]
          },
          "metadata": {
            "tags": []
          }
        },
        {
          "output_type": "stream",
          "text": [
            "Saving encoded_rnaseq_onehidden_warmup_batchnorm_36dim.tsv to encoded_rnaseq_onehidden_warmup_batchnorm_36dim.tsv\n",
            "User uploaded file \"encoded_rnaseq_onehidden_warmup_batchnorm_36dim.tsv\" with length 3198060 bytes\n"
          ],
          "name": "stdout"
        }
      ]
    },
    {
      "metadata": {
        "id": "FwEUHUAi4pv7",
        "colab_type": "code",
        "outputId": "b07de1a0-325b-43c3-b27f-cfc93c7d5558",
        "colab": {
          "base_uri": "https://localhost:8080/",
          "height": 35
        }
      },
      "cell_type": "code",
      "source": [
        "!ls data"
      ],
      "execution_count": 5,
      "outputs": [
        {
          "output_type": "stream",
          "text": [
            "clinical_data.tsv  encoded_rnaseq_onehidden_warmup_batchnorm_36dim.tsv\n"
          ],
          "name": "stdout"
        }
      ]
    },
    {
      "metadata": {
        "id": "TAhvCwLtF4Bz",
        "colab_type": "code",
        "colab": {}
      },
      "cell_type": "code",
      "source": [
        "# Input files needed for this notebook\n",
        "clinical_file = os.path.join('data', 'clinical_data.tsv')\n",
        "activation_file = os.path.join('data', 'encoded_rnaseq_onehidden_warmup_batchnorm_36dim.tsv')"
      ],
      "execution_count": 0,
      "outputs": []
    },
    {
      "metadata": {
        "id": "y9T4Qk34NVuo",
        "colab_type": "text"
      },
      "cell_type": "markdown",
      "source": [
        "Load the activations of latent features for each patient tumor sample."
      ]
    },
    {
      "metadata": {
        "id": "BMZPYgYAROXA",
        "colab_type": "code",
        "outputId": "5721d60e-ad5e-44f8-a43c-d32aba444e69",
        "colab": {
          "base_uri": "https://localhost:8080/",
          "height": 311
        }
      },
      "cell_type": "code",
      "source": [
        "# load the activations of all tumors.\n",
        "activations = pd.read_table(activation_file)\n",
        "\n",
        "# create sample id from the tumor id\n",
        "activations['sample_id']=activations.tcga_id.apply(lambda x:x[:12])\n",
        "print(activations.shape)\n",
        "activations.head(3)"
      ],
      "execution_count": 7,
      "outputs": [
        {
          "output_type": "stream",
          "text": [
            "(10459, 38)\n"
          ],
          "name": "stdout"
        },
        {
          "output_type": "execute_result",
          "data": {
            "text/html": [
              "<div>\n",
              "<style scoped>\n",
              "    .dataframe tbody tr th:only-of-type {\n",
              "        vertical-align: middle;\n",
              "    }\n",
              "\n",
              "    .dataframe tbody tr th {\n",
              "        vertical-align: top;\n",
              "    }\n",
              "\n",
              "    .dataframe thead th {\n",
              "        text-align: right;\n",
              "    }\n",
              "</style>\n",
              "<table border=\"1\" class=\"dataframe\">\n",
              "  <thead>\n",
              "    <tr style=\"text-align: right;\">\n",
              "      <th></th>\n",
              "      <th>tcga_id</th>\n",
              "      <th>1</th>\n",
              "      <th>2</th>\n",
              "      <th>3</th>\n",
              "      <th>4</th>\n",
              "      <th>5</th>\n",
              "      <th>6</th>\n",
              "      <th>7</th>\n",
              "      <th>8</th>\n",
              "      <th>9</th>\n",
              "      <th>...</th>\n",
              "      <th>28</th>\n",
              "      <th>29</th>\n",
              "      <th>30</th>\n",
              "      <th>31</th>\n",
              "      <th>32</th>\n",
              "      <th>33</th>\n",
              "      <th>34</th>\n",
              "      <th>35</th>\n",
              "      <th>36</th>\n",
              "      <th>sample_id</th>\n",
              "    </tr>\n",
              "  </thead>\n",
              "  <tbody>\n",
              "    <tr>\n",
              "      <th>0</th>\n",
              "      <td>TCGA-02-0047-01</td>\n",
              "      <td>0.0</td>\n",
              "      <td>0.000000</td>\n",
              "      <td>0.0</td>\n",
              "      <td>9.652770</td>\n",
              "      <td>0.0</td>\n",
              "      <td>4.159220</td>\n",
              "      <td>1.032724</td>\n",
              "      <td>1.333893</td>\n",
              "      <td>0.000000</td>\n",
              "      <td>...</td>\n",
              "      <td>4.095537</td>\n",
              "      <td>0.000000</td>\n",
              "      <td>0.0</td>\n",
              "      <td>0.248807</td>\n",
              "      <td>0.272327</td>\n",
              "      <td>3.184963</td>\n",
              "      <td>0.0</td>\n",
              "      <td>2.675518</td>\n",
              "      <td>0.000000</td>\n",
              "      <td>TCGA-02-0047</td>\n",
              "    </tr>\n",
              "    <tr>\n",
              "      <th>1</th>\n",
              "      <td>TCGA-02-0055-01</td>\n",
              "      <td>0.0</td>\n",
              "      <td>1.512052</td>\n",
              "      <td>0.0</td>\n",
              "      <td>4.649414</td>\n",
              "      <td>0.0</td>\n",
              "      <td>3.986379</td>\n",
              "      <td>1.551740</td>\n",
              "      <td>6.000260</td>\n",
              "      <td>0.000000</td>\n",
              "      <td>...</td>\n",
              "      <td>3.933533</td>\n",
              "      <td>0.000000</td>\n",
              "      <td>0.0</td>\n",
              "      <td>0.000000</td>\n",
              "      <td>0.299276</td>\n",
              "      <td>0.604121</td>\n",
              "      <td>0.0</td>\n",
              "      <td>0.000000</td>\n",
              "      <td>0.000000</td>\n",
              "      <td>TCGA-02-0055</td>\n",
              "    </tr>\n",
              "    <tr>\n",
              "      <th>2</th>\n",
              "      <td>TCGA-02-2483-01</td>\n",
              "      <td>0.0</td>\n",
              "      <td>3.843754</td>\n",
              "      <td>0.0</td>\n",
              "      <td>7.305416</td>\n",
              "      <td>0.0</td>\n",
              "      <td>6.712879</td>\n",
              "      <td>0.000000</td>\n",
              "      <td>3.738884</td>\n",
              "      <td>0.382847</td>\n",
              "      <td>...</td>\n",
              "      <td>6.744939</td>\n",
              "      <td>0.401072</td>\n",
              "      <td>0.0</td>\n",
              "      <td>1.256845</td>\n",
              "      <td>0.000000</td>\n",
              "      <td>3.929856</td>\n",
              "      <td>0.0</td>\n",
              "      <td>6.264098</td>\n",
              "      <td>0.502557</td>\n",
              "      <td>TCGA-02-2483</td>\n",
              "    </tr>\n",
              "  </tbody>\n",
              "</table>\n",
              "<p>3 rows × 38 columns</p>\n",
              "</div>"
            ],
            "text/plain": [
              "           tcga_id    1         2    3         4    5         6         7  \\\n",
              "0  TCGA-02-0047-01  0.0  0.000000  0.0  9.652770  0.0  4.159220  1.032724   \n",
              "1  TCGA-02-0055-01  0.0  1.512052  0.0  4.649414  0.0  3.986379  1.551740   \n",
              "2  TCGA-02-2483-01  0.0  3.843754  0.0  7.305416  0.0  6.712879  0.000000   \n",
              "\n",
              "          8         9      ...             28        29   30        31  \\\n",
              "0  1.333893  0.000000      ...       4.095537  0.000000  0.0  0.248807   \n",
              "1  6.000260  0.000000      ...       3.933533  0.000000  0.0  0.000000   \n",
              "2  3.738884  0.382847      ...       6.744939  0.401072  0.0  1.256845   \n",
              "\n",
              "         32        33   34        35        36     sample_id  \n",
              "0  0.272327  3.184963  0.0  2.675518  0.000000  TCGA-02-0047  \n",
              "1  0.299276  0.604121  0.0  0.000000  0.000000  TCGA-02-0055  \n",
              "2  0.000000  3.929856  0.0  6.264098  0.502557  TCGA-02-2483  \n",
              "\n",
              "[3 rows x 38 columns]"
            ]
          },
          "metadata": {
            "tags": []
          },
          "execution_count": 7
        }
      ]
    },
    {
      "metadata": {
        "id": "xxHLUojsEd-_",
        "colab_type": "code",
        "outputId": "27045223-15e8-4af1-bc60-6bc84d672909",
        "colab": {
          "base_uri": "https://localhost:8080/",
          "height": 202
        }
      },
      "cell_type": "code",
      "source": [
        "cases = pd.read_table(clinical_file)\n",
        "diagnosis = cases[['sample_id', 'acronym', 'gender']]\n",
        "diagnosis.head()"
      ],
      "execution_count": 8,
      "outputs": [
        {
          "output_type": "execute_result",
          "data": {
            "text/html": [
              "<div>\n",
              "<style scoped>\n",
              "    .dataframe tbody tr th:only-of-type {\n",
              "        vertical-align: middle;\n",
              "    }\n",
              "\n",
              "    .dataframe tbody tr th {\n",
              "        vertical-align: top;\n",
              "    }\n",
              "\n",
              "    .dataframe thead th {\n",
              "        text-align: right;\n",
              "    }\n",
              "</style>\n",
              "<table border=\"1\" class=\"dataframe\">\n",
              "  <thead>\n",
              "    <tr style=\"text-align: right;\">\n",
              "      <th></th>\n",
              "      <th>sample_id</th>\n",
              "      <th>acronym</th>\n",
              "      <th>gender</th>\n",
              "    </tr>\n",
              "  </thead>\n",
              "  <tbody>\n",
              "    <tr>\n",
              "      <th>0</th>\n",
              "      <td>TCGA-CD-8534</td>\n",
              "      <td>STAD</td>\n",
              "      <td>male</td>\n",
              "    </tr>\n",
              "    <tr>\n",
              "      <th>1</th>\n",
              "      <td>TCGA-ER-A19A</td>\n",
              "      <td>SKCM</td>\n",
              "      <td>male</td>\n",
              "    </tr>\n",
              "    <tr>\n",
              "      <th>2</th>\n",
              "      <td>TCGA-C5-A1M8</td>\n",
              "      <td>CESC</td>\n",
              "      <td>female</td>\n",
              "    </tr>\n",
              "    <tr>\n",
              "      <th>3</th>\n",
              "      <td>TCGA-D1-A0ZN</td>\n",
              "      <td>UCEC</td>\n",
              "      <td>female</td>\n",
              "    </tr>\n",
              "    <tr>\n",
              "      <th>4</th>\n",
              "      <td>TCGA-EM-A4FF</td>\n",
              "      <td>THCA</td>\n",
              "      <td>female</td>\n",
              "    </tr>\n",
              "  </tbody>\n",
              "</table>\n",
              "</div>"
            ],
            "text/plain": [
              "      sample_id acronym  gender\n",
              "0  TCGA-CD-8534    STAD    male\n",
              "1  TCGA-ER-A19A    SKCM    male\n",
              "2  TCGA-C5-A1M8    CESC  female\n",
              "3  TCGA-D1-A0ZN    UCEC  female\n",
              "4  TCGA-EM-A4FF    THCA  female"
            ]
          },
          "metadata": {
            "tags": []
          },
          "execution_count": 8
        }
      ]
    },
    {
      "metadata": {
        "id": "75zGuXIS_4dL",
        "colab_type": "code",
        "outputId": "a3be565a-555f-4228-aa7c-7c49ef435da4",
        "colab": {
          "base_uri": "https://localhost:8080/",
          "height": 35
        }
      },
      "cell_type": "code",
      "source": [
        "activations = pd.merge(activations, diagnosis, how='left')\n",
        "activations.shape"
      ],
      "execution_count": 9,
      "outputs": [
        {
          "output_type": "execute_result",
          "data": {
            "text/plain": [
              "(12175, 40)"
            ]
          },
          "metadata": {
            "tags": []
          },
          "execution_count": 9
        }
      ]
    },
    {
      "metadata": {
        "id": "cjT2GTOHQ0yw",
        "colab_type": "code",
        "outputId": "5a6e7429-ced2-4bd6-ff64-2ed82c106df7",
        "colab": {
          "base_uri": "https://localhost:8080/",
          "height": 423
        }
      },
      "cell_type": "code",
      "source": [
        "activations.head()"
      ],
      "execution_count": 10,
      "outputs": [
        {
          "output_type": "execute_result",
          "data": {
            "text/html": [
              "<div>\n",
              "<style scoped>\n",
              "    .dataframe tbody tr th:only-of-type {\n",
              "        vertical-align: middle;\n",
              "    }\n",
              "\n",
              "    .dataframe tbody tr th {\n",
              "        vertical-align: top;\n",
              "    }\n",
              "\n",
              "    .dataframe thead th {\n",
              "        text-align: right;\n",
              "    }\n",
              "</style>\n",
              "<table border=\"1\" class=\"dataframe\">\n",
              "  <thead>\n",
              "    <tr style=\"text-align: right;\">\n",
              "      <th></th>\n",
              "      <th>tcga_id</th>\n",
              "      <th>1</th>\n",
              "      <th>2</th>\n",
              "      <th>3</th>\n",
              "      <th>4</th>\n",
              "      <th>5</th>\n",
              "      <th>6</th>\n",
              "      <th>7</th>\n",
              "      <th>8</th>\n",
              "      <th>9</th>\n",
              "      <th>...</th>\n",
              "      <th>30</th>\n",
              "      <th>31</th>\n",
              "      <th>32</th>\n",
              "      <th>33</th>\n",
              "      <th>34</th>\n",
              "      <th>35</th>\n",
              "      <th>36</th>\n",
              "      <th>sample_id</th>\n",
              "      <th>acronym</th>\n",
              "      <th>gender</th>\n",
              "    </tr>\n",
              "  </thead>\n",
              "  <tbody>\n",
              "    <tr>\n",
              "      <th>0</th>\n",
              "      <td>TCGA-02-0047-01</td>\n",
              "      <td>0.0</td>\n",
              "      <td>0.000000</td>\n",
              "      <td>0.000000</td>\n",
              "      <td>9.652770</td>\n",
              "      <td>0.0</td>\n",
              "      <td>4.159220</td>\n",
              "      <td>1.032724</td>\n",
              "      <td>1.333893</td>\n",
              "      <td>0.000000</td>\n",
              "      <td>...</td>\n",
              "      <td>0.000000</td>\n",
              "      <td>0.248807</td>\n",
              "      <td>0.272327</td>\n",
              "      <td>3.184963</td>\n",
              "      <td>0.000000</td>\n",
              "      <td>2.675518</td>\n",
              "      <td>0.000000</td>\n",
              "      <td>TCGA-02-0047</td>\n",
              "      <td>GBM</td>\n",
              "      <td>male</td>\n",
              "    </tr>\n",
              "    <tr>\n",
              "      <th>1</th>\n",
              "      <td>TCGA-02-0055-01</td>\n",
              "      <td>0.0</td>\n",
              "      <td>1.512052</td>\n",
              "      <td>0.000000</td>\n",
              "      <td>4.649414</td>\n",
              "      <td>0.0</td>\n",
              "      <td>3.986379</td>\n",
              "      <td>1.551740</td>\n",
              "      <td>6.000260</td>\n",
              "      <td>0.000000</td>\n",
              "      <td>...</td>\n",
              "      <td>0.000000</td>\n",
              "      <td>0.000000</td>\n",
              "      <td>0.299276</td>\n",
              "      <td>0.604121</td>\n",
              "      <td>0.000000</td>\n",
              "      <td>0.000000</td>\n",
              "      <td>0.000000</td>\n",
              "      <td>TCGA-02-0055</td>\n",
              "      <td>GBM</td>\n",
              "      <td>female</td>\n",
              "    </tr>\n",
              "    <tr>\n",
              "      <th>2</th>\n",
              "      <td>TCGA-02-2483-01</td>\n",
              "      <td>0.0</td>\n",
              "      <td>3.843754</td>\n",
              "      <td>0.000000</td>\n",
              "      <td>7.305416</td>\n",
              "      <td>0.0</td>\n",
              "      <td>6.712879</td>\n",
              "      <td>0.000000</td>\n",
              "      <td>3.738884</td>\n",
              "      <td>0.382847</td>\n",
              "      <td>...</td>\n",
              "      <td>0.000000</td>\n",
              "      <td>1.256845</td>\n",
              "      <td>0.000000</td>\n",
              "      <td>3.929856</td>\n",
              "      <td>0.000000</td>\n",
              "      <td>6.264098</td>\n",
              "      <td>0.502557</td>\n",
              "      <td>TCGA-02-2483</td>\n",
              "      <td>GBM</td>\n",
              "      <td>male</td>\n",
              "    </tr>\n",
              "    <tr>\n",
              "      <th>3</th>\n",
              "      <td>TCGA-02-2485-01</td>\n",
              "      <td>0.0</td>\n",
              "      <td>1.455699</td>\n",
              "      <td>0.000000</td>\n",
              "      <td>10.665386</td>\n",
              "      <td>0.0</td>\n",
              "      <td>5.645957</td>\n",
              "      <td>0.928695</td>\n",
              "      <td>1.088772</td>\n",
              "      <td>0.793327</td>\n",
              "      <td>...</td>\n",
              "      <td>0.000000</td>\n",
              "      <td>0.329535</td>\n",
              "      <td>0.000000</td>\n",
              "      <td>0.042516</td>\n",
              "      <td>0.241667</td>\n",
              "      <td>0.288800</td>\n",
              "      <td>1.574040</td>\n",
              "      <td>TCGA-02-2485</td>\n",
              "      <td>GBM</td>\n",
              "      <td>male</td>\n",
              "    </tr>\n",
              "    <tr>\n",
              "      <th>4</th>\n",
              "      <td>TCGA-02-2486-01</td>\n",
              "      <td>0.0</td>\n",
              "      <td>3.477089</td>\n",
              "      <td>0.759481</td>\n",
              "      <td>9.945347</td>\n",
              "      <td>0.0</td>\n",
              "      <td>7.444561</td>\n",
              "      <td>4.212522</td>\n",
              "      <td>0.000000</td>\n",
              "      <td>2.190329</td>\n",
              "      <td>...</td>\n",
              "      <td>0.695088</td>\n",
              "      <td>0.000000</td>\n",
              "      <td>2.402303</td>\n",
              "      <td>0.000000</td>\n",
              "      <td>0.114442</td>\n",
              "      <td>0.000000</td>\n",
              "      <td>0.513113</td>\n",
              "      <td>TCGA-02-2486</td>\n",
              "      <td>GBM</td>\n",
              "      <td>male</td>\n",
              "    </tr>\n",
              "  </tbody>\n",
              "</table>\n",
              "<p>5 rows × 40 columns</p>\n",
              "</div>"
            ],
            "text/plain": [
              "           tcga_id    1         2         3          4    5         6  \\\n",
              "0  TCGA-02-0047-01  0.0  0.000000  0.000000   9.652770  0.0  4.159220   \n",
              "1  TCGA-02-0055-01  0.0  1.512052  0.000000   4.649414  0.0  3.986379   \n",
              "2  TCGA-02-2483-01  0.0  3.843754  0.000000   7.305416  0.0  6.712879   \n",
              "3  TCGA-02-2485-01  0.0  1.455699  0.000000  10.665386  0.0  5.645957   \n",
              "4  TCGA-02-2486-01  0.0  3.477089  0.759481   9.945347  0.0  7.444561   \n",
              "\n",
              "          7         8         9   ...          30        31        32  \\\n",
              "0  1.032724  1.333893  0.000000   ...    0.000000  0.248807  0.272327   \n",
              "1  1.551740  6.000260  0.000000   ...    0.000000  0.000000  0.299276   \n",
              "2  0.000000  3.738884  0.382847   ...    0.000000  1.256845  0.000000   \n",
              "3  0.928695  1.088772  0.793327   ...    0.000000  0.329535  0.000000   \n",
              "4  4.212522  0.000000  2.190329   ...    0.695088  0.000000  2.402303   \n",
              "\n",
              "         33        34        35        36     sample_id  acronym  gender  \n",
              "0  3.184963  0.000000  2.675518  0.000000  TCGA-02-0047      GBM    male  \n",
              "1  0.604121  0.000000  0.000000  0.000000  TCGA-02-0055      GBM  female  \n",
              "2  3.929856  0.000000  6.264098  0.502557  TCGA-02-2483      GBM    male  \n",
              "3  0.042516  0.241667  0.288800  1.574040  TCGA-02-2485      GBM    male  \n",
              "4  0.000000  0.114442  0.000000  0.513113  TCGA-02-2486      GBM    male  \n",
              "\n",
              "[5 rows x 40 columns]"
            ]
          },
          "metadata": {
            "tags": []
          },
          "execution_count": 10
        }
      ]
    },
    {
      "metadata": {
        "id": "UTA8z2Yp50yy",
        "colab_type": "code",
        "colab": {}
      },
      "cell_type": "code",
      "source": [
        ""
      ],
      "execution_count": 0,
      "outputs": []
    },
    {
      "metadata": {
        "id": "Qr2PugpcGOq_",
        "colab_type": "code",
        "outputId": "0e0c2620-6251-4e1e-b8aa-c6d3c10fb6c6",
        "colab": {
          "base_uri": "https://localhost:8080/",
          "height": 252
        }
      },
      "cell_type": "code",
      "source": [
        "X = activations[[str(i) for i in range(1,37)]]\n",
        "X.head()"
      ],
      "execution_count": 11,
      "outputs": [
        {
          "output_type": "execute_result",
          "data": {
            "text/html": [
              "<div>\n",
              "<style scoped>\n",
              "    .dataframe tbody tr th:only-of-type {\n",
              "        vertical-align: middle;\n",
              "    }\n",
              "\n",
              "    .dataframe tbody tr th {\n",
              "        vertical-align: top;\n",
              "    }\n",
              "\n",
              "    .dataframe thead th {\n",
              "        text-align: right;\n",
              "    }\n",
              "</style>\n",
              "<table border=\"1\" class=\"dataframe\">\n",
              "  <thead>\n",
              "    <tr style=\"text-align: right;\">\n",
              "      <th></th>\n",
              "      <th>1</th>\n",
              "      <th>2</th>\n",
              "      <th>3</th>\n",
              "      <th>4</th>\n",
              "      <th>5</th>\n",
              "      <th>6</th>\n",
              "      <th>7</th>\n",
              "      <th>8</th>\n",
              "      <th>9</th>\n",
              "      <th>10</th>\n",
              "      <th>...</th>\n",
              "      <th>27</th>\n",
              "      <th>28</th>\n",
              "      <th>29</th>\n",
              "      <th>30</th>\n",
              "      <th>31</th>\n",
              "      <th>32</th>\n",
              "      <th>33</th>\n",
              "      <th>34</th>\n",
              "      <th>35</th>\n",
              "      <th>36</th>\n",
              "    </tr>\n",
              "  </thead>\n",
              "  <tbody>\n",
              "    <tr>\n",
              "      <th>0</th>\n",
              "      <td>0.0</td>\n",
              "      <td>0.000000</td>\n",
              "      <td>0.000000</td>\n",
              "      <td>9.652770</td>\n",
              "      <td>0.0</td>\n",
              "      <td>4.159220</td>\n",
              "      <td>1.032724</td>\n",
              "      <td>1.333893</td>\n",
              "      <td>0.000000</td>\n",
              "      <td>0.000000</td>\n",
              "      <td>...</td>\n",
              "      <td>0.205776</td>\n",
              "      <td>4.095537</td>\n",
              "      <td>0.000000</td>\n",
              "      <td>0.000000</td>\n",
              "      <td>0.248807</td>\n",
              "      <td>0.272327</td>\n",
              "      <td>3.184963</td>\n",
              "      <td>0.000000</td>\n",
              "      <td>2.675518</td>\n",
              "      <td>0.000000</td>\n",
              "    </tr>\n",
              "    <tr>\n",
              "      <th>1</th>\n",
              "      <td>0.0</td>\n",
              "      <td>1.512052</td>\n",
              "      <td>0.000000</td>\n",
              "      <td>4.649414</td>\n",
              "      <td>0.0</td>\n",
              "      <td>3.986379</td>\n",
              "      <td>1.551740</td>\n",
              "      <td>6.000260</td>\n",
              "      <td>0.000000</td>\n",
              "      <td>0.535351</td>\n",
              "      <td>...</td>\n",
              "      <td>0.000000</td>\n",
              "      <td>3.933533</td>\n",
              "      <td>0.000000</td>\n",
              "      <td>0.000000</td>\n",
              "      <td>0.000000</td>\n",
              "      <td>0.299276</td>\n",
              "      <td>0.604121</td>\n",
              "      <td>0.000000</td>\n",
              "      <td>0.000000</td>\n",
              "      <td>0.000000</td>\n",
              "    </tr>\n",
              "    <tr>\n",
              "      <th>2</th>\n",
              "      <td>0.0</td>\n",
              "      <td>3.843754</td>\n",
              "      <td>0.000000</td>\n",
              "      <td>7.305416</td>\n",
              "      <td>0.0</td>\n",
              "      <td>6.712879</td>\n",
              "      <td>0.000000</td>\n",
              "      <td>3.738884</td>\n",
              "      <td>0.382847</td>\n",
              "      <td>0.000000</td>\n",
              "      <td>...</td>\n",
              "      <td>0.220688</td>\n",
              "      <td>6.744939</td>\n",
              "      <td>0.401072</td>\n",
              "      <td>0.000000</td>\n",
              "      <td>1.256845</td>\n",
              "      <td>0.000000</td>\n",
              "      <td>3.929856</td>\n",
              "      <td>0.000000</td>\n",
              "      <td>6.264098</td>\n",
              "      <td>0.502557</td>\n",
              "    </tr>\n",
              "    <tr>\n",
              "      <th>3</th>\n",
              "      <td>0.0</td>\n",
              "      <td>1.455699</td>\n",
              "      <td>0.000000</td>\n",
              "      <td>10.665386</td>\n",
              "      <td>0.0</td>\n",
              "      <td>5.645957</td>\n",
              "      <td>0.928695</td>\n",
              "      <td>1.088772</td>\n",
              "      <td>0.793327</td>\n",
              "      <td>0.000000</td>\n",
              "      <td>...</td>\n",
              "      <td>0.633842</td>\n",
              "      <td>8.387358</td>\n",
              "      <td>1.342886</td>\n",
              "      <td>0.000000</td>\n",
              "      <td>0.329535</td>\n",
              "      <td>0.000000</td>\n",
              "      <td>0.042516</td>\n",
              "      <td>0.241667</td>\n",
              "      <td>0.288800</td>\n",
              "      <td>1.574040</td>\n",
              "    </tr>\n",
              "    <tr>\n",
              "      <th>4</th>\n",
              "      <td>0.0</td>\n",
              "      <td>3.477089</td>\n",
              "      <td>0.759481</td>\n",
              "      <td>9.945347</td>\n",
              "      <td>0.0</td>\n",
              "      <td>7.444561</td>\n",
              "      <td>4.212522</td>\n",
              "      <td>0.000000</td>\n",
              "      <td>2.190329</td>\n",
              "      <td>0.000000</td>\n",
              "      <td>...</td>\n",
              "      <td>1.397643</td>\n",
              "      <td>2.803812</td>\n",
              "      <td>0.000000</td>\n",
              "      <td>0.695088</td>\n",
              "      <td>0.000000</td>\n",
              "      <td>2.402303</td>\n",
              "      <td>0.000000</td>\n",
              "      <td>0.114442</td>\n",
              "      <td>0.000000</td>\n",
              "      <td>0.513113</td>\n",
              "    </tr>\n",
              "  </tbody>\n",
              "</table>\n",
              "<p>5 rows × 36 columns</p>\n",
              "</div>"
            ],
            "text/plain": [
              "     1         2         3          4    5         6         7         8  \\\n",
              "0  0.0  0.000000  0.000000   9.652770  0.0  4.159220  1.032724  1.333893   \n",
              "1  0.0  1.512052  0.000000   4.649414  0.0  3.986379  1.551740  6.000260   \n",
              "2  0.0  3.843754  0.000000   7.305416  0.0  6.712879  0.000000  3.738884   \n",
              "3  0.0  1.455699  0.000000  10.665386  0.0  5.645957  0.928695  1.088772   \n",
              "4  0.0  3.477089  0.759481   9.945347  0.0  7.444561  4.212522  0.000000   \n",
              "\n",
              "          9        10    ...           27        28        29        30  \\\n",
              "0  0.000000  0.000000    ...     0.205776  4.095537  0.000000  0.000000   \n",
              "1  0.000000  0.535351    ...     0.000000  3.933533  0.000000  0.000000   \n",
              "2  0.382847  0.000000    ...     0.220688  6.744939  0.401072  0.000000   \n",
              "3  0.793327  0.000000    ...     0.633842  8.387358  1.342886  0.000000   \n",
              "4  2.190329  0.000000    ...     1.397643  2.803812  0.000000  0.695088   \n",
              "\n",
              "         31        32        33        34        35        36  \n",
              "0  0.248807  0.272327  3.184963  0.000000  2.675518  0.000000  \n",
              "1  0.000000  0.299276  0.604121  0.000000  0.000000  0.000000  \n",
              "2  1.256845  0.000000  3.929856  0.000000  6.264098  0.502557  \n",
              "3  0.329535  0.000000  0.042516  0.241667  0.288800  1.574040  \n",
              "4  0.000000  2.402303  0.000000  0.114442  0.000000  0.513113  \n",
              "\n",
              "[5 rows x 36 columns]"
            ]
          },
          "metadata": {
            "tags": []
          },
          "execution_count": 11
        }
      ]
    },
    {
      "metadata": {
        "id": "ixiaA4S9GWDI",
        "colab_type": "code",
        "outputId": "33fa5fa4-7b57-4acf-d557-787a882a7770",
        "colab": {
          "base_uri": "https://localhost:8080/",
          "height": 120
        }
      },
      "cell_type": "code",
      "source": [
        "y1 = activations['acronym']\n",
        "y1.head()"
      ],
      "execution_count": 12,
      "outputs": [
        {
          "output_type": "execute_result",
          "data": {
            "text/plain": [
              "0    GBM\n",
              "1    GBM\n",
              "2    GBM\n",
              "3    GBM\n",
              "4    GBM\n",
              "Name: acronym, dtype: object"
            ]
          },
          "metadata": {
            "tags": []
          },
          "execution_count": 12
        }
      ]
    },
    {
      "metadata": {
        "id": "WCCbN9hZQZRF",
        "colab_type": "text"
      },
      "cell_type": "markdown",
      "source": [
        "How many of each are there?"
      ]
    },
    {
      "metadata": {
        "id": "AJLBN_kaMxh2",
        "colab_type": "code",
        "outputId": "73446f28-afad-45e4-86bd-628a3682cab2",
        "colab": {
          "base_uri": "https://localhost:8080/",
          "height": 600
        }
      },
      "cell_type": "code",
      "source": [
        "y1.value_counts()"
      ],
      "execution_count": 13,
      "outputs": [
        {
          "output_type": "execute_result",
          "data": {
            "text/plain": [
              "BRCA    1498\n",
              "KIRC     762\n",
              "LUAD     732\n",
              "THCA     706\n",
              "PRAD     668\n",
              "LUSC     657\n",
              "HNSC     638\n",
              "LGG      564\n",
              "LIHC     529\n",
              "STAD     516\n",
              "SKCM     481\n",
              "BLCA     472\n",
              "COAD     443\n",
              "KIRP     389\n",
              "OV       318\n",
              "CESC     317\n",
              "SARC     277\n",
              "UCEC     225\n",
              "ESCA     222\n",
              "PCPG     205\n",
              "PAAD     193\n",
              "GBM      187\n",
              "TGCT     168\n",
              "KICH     141\n",
              "THYM     126\n",
              "READ     122\n",
              "LAML     121\n",
              "MESO      87\n",
              "UVM       80\n",
              "ACC       79\n",
              "CHOL      63\n",
              "UCS       57\n",
              "DLBC      48\n",
              "Name: acronym, dtype: int64"
            ]
          },
          "metadata": {
            "tags": []
          },
          "execution_count": 13
        }
      ]
    },
    {
      "metadata": {
        "id": "-OhDuug-cn6n",
        "colab_type": "code",
        "colab": {}
      },
      "cell_type": "code",
      "source": [
        "y_male=activations['gender']\n",
        "y_male=pd.Series([1 if a=='male' else 0 for a in y_male])"
      ],
      "execution_count": 0,
      "outputs": []
    },
    {
      "metadata": {
        "id": "gVujWduocsDz",
        "colab_type": "code",
        "outputId": "6aa9472e-7f16-4a87-e800-3c1145d3d9e8",
        "colab": {
          "base_uri": "https://localhost:8080/",
          "height": 68
        }
      },
      "cell_type": "code",
      "source": [
        "y_male.value_counts()"
      ],
      "execution_count": 15,
      "outputs": [
        {
          "output_type": "execute_result",
          "data": {
            "text/plain": [
              "0    6125\n",
              "1    6050\n",
              "dtype: int64"
            ]
          },
          "metadata": {
            "tags": []
          },
          "execution_count": 15
        }
      ]
    },
    {
      "metadata": {
        "id": "x0zXwFB-9GH8",
        "colab_type": "text"
      },
      "cell_type": "markdown",
      "source": [
        "Here are disease names\n",
        "acronym,organ\n",
        "- ACC,Adrenal Gland\n",
        "- BLCA,Bladder\n",
        "- BRCA,Breast\n",
        "- CESC,Cervix\n",
        "- CHOL,Bile Duct\n",
        "- COAD,Colorectal\n",
        "- DLBC,Lymph Nodes\n",
        "- ESCA,Esophagus\n",
        "- GBM,Brain\n",
        "- HNSC,Head and Neck\n",
        "- KICH,Kidney\n",
        "- KIRC,Kidney\n",
        "- KIRP,Kidney\n",
        "- LAML,Bone Marrow\n",
        "- LGG,Brain\n",
        "- LIHC,Liver\n",
        "- LUAD,Lung\n",
        "- LUSC,Lung\n",
        "- MESO,Pleura\n",
        "- OV,Ovary\n",
        "- PAAD,Pancreas\n",
        "- PCPG,Adrenal Gland\n",
        "- PRAD,Prostate\n",
        "- READ,Colorectal\n",
        "- SARC,Soft Tissue\n",
        "- SKCM,Skin\n",
        "- STAD,Stomach\n",
        "- TGCT,Testis\n",
        "- THCA,Thyroid\n",
        "- THYM,Thymus\n",
        "- UCEC,Uterus\n",
        "- UCS,Uterus\n",
        "- UVM,Eye\n"
      ]
    },
    {
      "metadata": {
        "id": "_d1jYFIo6yQx",
        "colab_type": "code",
        "colab": {}
      },
      "cell_type": "code",
      "source": [
        "tumor_types = 'ACC,BLCA,BRCA,CESC,CHOL,COAD,DLBC,ESCA,GBM,HNSC,KICH,KIRC,KIRP,LAML,LGG,LIHC,LUAD,LUSC,MESO,OV,PAAD,PCPG,PRAD,READ,SARC,SKCM,STAD,TGCT,THCA,THYM,UCEC,UCS,UVM'.split(',')"
      ],
      "execution_count": 0,
      "outputs": []
    },
    {
      "metadata": {
        "id": "UnAKQdxW7Q4z",
        "colab_type": "code",
        "colab": {
          "base_uri": "https://localhost:8080/",
          "height": 34
        },
        "outputId": "ea35bb64-ba27-4445-c070-2455876fce2b"
      },
      "cell_type": "code",
      "source": [
        "len(tumor_types)"
      ],
      "execution_count": 24,
      "outputs": [
        {
          "output_type": "execute_result",
          "data": {
            "text/plain": [
              "33"
            ]
          },
          "metadata": {
            "tags": []
          },
          "execution_count": 24
        }
      ]
    },
    {
      "metadata": {
        "id": "LjhuqYaVk3fz",
        "colab_type": "text"
      },
      "cell_type": "markdown",
      "source": [
        "### Create Prostrate label"
      ]
    },
    {
      "metadata": {
        "id": "LE0bu3k3jfV1",
        "colab_type": "code",
        "outputId": "a8e25663-7067-475d-ee63-3c45808fe4f4",
        "colab": {
          "base_uri": "https://localhost:8080/",
          "height": 68
        }
      },
      "cell_type": "code",
      "source": [
        "y_prost = [1 if a=='PRAD' else 0 for a in y1]\n",
        "y_prost = pd.Series(y_prost)\n",
        "y_prost.value_counts()"
      ],
      "execution_count": 25,
      "outputs": [
        {
          "output_type": "execute_result",
          "data": {
            "text/plain": [
              "0    11507\n",
              "1      668\n",
              "dtype: int64"
            ]
          },
          "metadata": {
            "tags": []
          },
          "execution_count": 25
        }
      ]
    },
    {
      "metadata": {
        "id": "qixhmE1p8ilr",
        "colab_type": "code",
        "colab": {}
      },
      "cell_type": "code",
      "source": [
        "y_luad = pd.Series([1 if a=='LUAD' else 0 for a in y1])\n",
        "y_lusc = pd.Series([1 if a=='LUSC' else 0 for a in y1])\n",
        "y_brca = pd.Series([1 if a=='BRCA' else 0 for a in y1])\n",
        "y_acc = pd.Series([1 if a=='ACC' else 0 for a in y1])\n",
        "y_thca = pd.Series([1 if a=='THCA' else 0 for a in y1])\n",
        "y_gbm = pd.Series([1 if a=='GBM' else 0 for a in y1])\n",
        "y_lgg = pd.Series([1 if a=='LGG' else 0 for a in y1])\n",
        "y_kich = pd.Series([1 if a=='KICH' else 0 for a in y1])\n",
        "y_kirc = pd.Series([1 if a=='KIRC' else 0 for a in y1])\n",
        "y_kirp = pd.Series([1 if a=='KIRP' else 0 for a in y1])\n",
        "\n",
        "# To do remaining too.\n",
        "\n",
        "#print(y_luad.value_counts())\n",
        "#print(y_lusc.value_counts())"
      ],
      "execution_count": 0,
      "outputs": []
    },
    {
      "metadata": {
        "id": "I_VD801h6Yw3",
        "colab_type": "text"
      },
      "cell_type": "markdown",
      "source": [
        "## View correlations between latent dimensions"
      ]
    },
    {
      "metadata": {
        "id": "4lARKvB56N6Y",
        "colab_type": "code",
        "colab": {}
      },
      "cell_type": "code",
      "source": [
        "import matplotlib.pyplot as plt\n",
        "import seaborn as sns\n",
        "import numpy as np\n",
        "import warnings\n",
        "warnings.filterwarnings('ignore')\n",
        "%matplotlib inline"
      ],
      "execution_count": 0,
      "outputs": []
    },
    {
      "metadata": {
        "id": "vHBtTf7qByD6",
        "colab_type": "text"
      },
      "cell_type": "markdown",
      "source": [
        "## First study corr between the latent dimensions themselves."
      ]
    },
    {
      "metadata": {
        "id": "RxKwHoY3BxJC",
        "colab_type": "code",
        "outputId": "dc3ae3f6-49cc-4f99-fa96-277e4227bbe7",
        "colab": {
          "base_uri": "https://localhost:8080/",
          "height": 537
        }
      },
      "cell_type": "code",
      "source": [
        "#correlation matrix\n",
        "corrmat = X.corr()\n",
        "f, ax = plt.subplots(figsize=(12, 9))\n",
        "sns.heatmap(corrmat, vmax=.8, square=True);"
      ],
      "execution_count": 28,
      "outputs": [
        {
          "output_type": "display_data",
          "data": {
            "image/png": "[encoded data removed]",
            "text/plain": [
              "<matplotlib.figure.Figure at 0x7f1601821a90>"
            ]
          },
          "metadata": {
            "tags": []
          }
        }
      ]
    },
    {
      "metadata": {
        "id": "apLff1tkCPIX",
        "colab_type": "text"
      },
      "cell_type": "markdown",
      "source": [
        "## The we try to see meaning of dimensions by seeing which cancer types they encode."
      ]
    },
    {
      "metadata": {
        "id": "yaNJEpXQ-yF3",
        "colab_type": "code",
        "outputId": "110e5f7a-7298-4db4-978b-197622ac5620",
        "colab": {
          "base_uri": "https://localhost:8080/",
          "height": 203
        }
      },
      "cell_type": "code",
      "source": [
        "labels = pd.concat([y_male, y_prost, y_luad, y_lusc, y_brca, y_acc, y_thca, y_gbm, y_lgg, y_kirc, y_kirp, y_kich], axis=1)\n",
        "labels.columns = ['Male', 'PRAD', 'LUAD', 'LUSC', 'BRCA', 'ACC', 'THCA', 'GBM', 'LGG', 'KIRC', 'KIRP', 'KICH']\n",
        "labels.head()"
      ],
      "execution_count": 29,
      "outputs": [
        {
          "output_type": "execute_result",
          "data": {
            "text/html": [
              "<div>\n",
              "<style scoped>\n",
              "    .dataframe tbody tr th:only-of-type {\n",
              "        vertical-align: middle;\n",
              "    }\n",
              "\n",
              "    .dataframe tbody tr th {\n",
              "        vertical-align: top;\n",
              "    }\n",
              "\n",
              "    .dataframe thead th {\n",
              "        text-align: right;\n",
              "    }\n",
              "</style>\n",
              "<table border=\"1\" class=\"dataframe\">\n",
              "  <thead>\n",
              "    <tr style=\"text-align: right;\">\n",
              "      <th></th>\n",
              "      <th>Male</th>\n",
              "      <th>PRAD</th>\n",
              "      <th>LUAD</th>\n",
              "      <th>LUSC</th>\n",
              "      <th>BRCA</th>\n",
              "      <th>ACC</th>\n",
              "      <th>THCA</th>\n",
              "      <th>GBM</th>\n",
              "      <th>LGG</th>\n",
              "      <th>KIRC</th>\n",
              "      <th>KIRP</th>\n",
              "      <th>KICH</th>\n",
              "    </tr>\n",
              "  </thead>\n",
              "  <tbody>\n",
              "    <tr>\n",
              "      <th>0</th>\n",
              "      <td>1</td>\n",
              "      <td>0</td>\n",
              "      <td>0</td>\n",
              "      <td>0</td>\n",
              "      <td>0</td>\n",
              "      <td>0</td>\n",
              "      <td>0</td>\n",
              "      <td>1</td>\n",
              "      <td>0</td>\n",
              "      <td>0</td>\n",
              "      <td>0</td>\n",
              "      <td>0</td>\n",
              "    </tr>\n",
              "    <tr>\n",
              "      <th>1</th>\n",
              "      <td>0</td>\n",
              "      <td>0</td>\n",
              "      <td>0</td>\n",
              "      <td>0</td>\n",
              "      <td>0</td>\n",
              "      <td>0</td>\n",
              "      <td>0</td>\n",
              "      <td>1</td>\n",
              "      <td>0</td>\n",
              "      <td>0</td>\n",
              "      <td>0</td>\n",
              "      <td>0</td>\n",
              "    </tr>\n",
              "    <tr>\n",
              "      <th>2</th>\n",
              "      <td>1</td>\n",
              "      <td>0</td>\n",
              "      <td>0</td>\n",
              "      <td>0</td>\n",
              "      <td>0</td>\n",
              "      <td>0</td>\n",
              "      <td>0</td>\n",
              "      <td>1</td>\n",
              "      <td>0</td>\n",
              "      <td>0</td>\n",
              "      <td>0</td>\n",
              "      <td>0</td>\n",
              "    </tr>\n",
              "    <tr>\n",
              "      <th>3</th>\n",
              "      <td>1</td>\n",
              "      <td>0</td>\n",
              "      <td>0</td>\n",
              "      <td>0</td>\n",
              "      <td>0</td>\n",
              "      <td>0</td>\n",
              "      <td>0</td>\n",
              "      <td>1</td>\n",
              "      <td>0</td>\n",
              "      <td>0</td>\n",
              "      <td>0</td>\n",
              "      <td>0</td>\n",
              "    </tr>\n",
              "    <tr>\n",
              "      <th>4</th>\n",
              "      <td>1</td>\n",
              "      <td>0</td>\n",
              "      <td>0</td>\n",
              "      <td>0</td>\n",
              "      <td>0</td>\n",
              "      <td>0</td>\n",
              "      <td>0</td>\n",
              "      <td>1</td>\n",
              "      <td>0</td>\n",
              "      <td>0</td>\n",
              "      <td>0</td>\n",
              "      <td>0</td>\n",
              "    </tr>\n",
              "  </tbody>\n",
              "</table>\n",
              "</div>"
            ],
            "text/plain": [
              "   Male  PRAD  LUAD  LUSC  BRCA  ACC  THCA  GBM  LGG  KIRC  KIRP  KICH\n",
              "0     1     0     0     0     0    0     0    1    0     0     0     0\n",
              "1     0     0     0     0     0    0     0    1    0     0     0     0\n",
              "2     1     0     0     0     0    0     0    1    0     0     0     0\n",
              "3     1     0     0     0     0    0     0    1    0     0     0     0\n",
              "4     1     0     0     0     0    0     0    1    0     0     0     0"
            ]
          },
          "metadata": {
            "tags": []
          },
          "execution_count": 29
        }
      ]
    },
    {
      "metadata": {
        "id": "h9uu3bL_6di1",
        "colab_type": "code",
        "outputId": "e0bc0776-6c12-4ad6-ec52-5d25094ec92a",
        "colab": {
          "base_uri": "https://localhost:8080/",
          "height": 555
        }
      },
      "cell_type": "code",
      "source": [
        "#correlation matrix\n",
        "corrmat = pd.concat([X,labels],axis=1).corr()\n",
        "f, ax = plt.subplots(figsize=(12, 9))\n",
        "sns.heatmap(corrmat, vmax=.8, square=True);"
      ],
      "execution_count": 30,
      "outputs": [
        {
          "output_type": "display_data",
          "data": {
            "image/png": "[encoded data removed]",
            "text/plain": [
              "<matplotlib.figure.Figure at 0x7f160176ebd0>"
            ]
          },
          "metadata": {
            "tags": []
          }
        }
      ]
    },
    {
      "metadata": {
        "id": "i770wtAk9Hd0",
        "colab_type": "text"
      },
      "cell_type": "markdown",
      "source": [
        "## Now let us put together all diseases grouped by correlation"
      ]
    },
    {
      "metadata": {
        "id": "dRJvkeVcOxV6",
        "colab_type": "code",
        "colab": {}
      },
      "cell_type": "code",
      "source": [
        ""
      ],
      "execution_count": 0,
      "outputs": []
    },
    {
      "metadata": {
        "id": "ZqNTmpq2Oxtd",
        "colab_type": "code",
        "colab": {
          "base_uri": "https://localhost:8080/",
          "height": 583
        },
        "outputId": "ed671eb8-f16c-473d-e027-6f266706e730"
      },
      "cell_type": "code",
      "source": [
        "tumor_types"
      ],
      "execution_count": 58,
      "outputs": [
        {
          "output_type": "execute_result",
          "data": {
            "text/plain": [
              "['ACC',\n",
              " 'BLCA',\n",
              " 'BRCA',\n",
              " 'CESC',\n",
              " 'CHOL',\n",
              " 'COAD',\n",
              " 'DLBC',\n",
              " 'ESCA',\n",
              " 'GBM',\n",
              " 'HNSC',\n",
              " 'KICH',\n",
              " 'KIRC',\n",
              " 'KIRP',\n",
              " 'LAML',\n",
              " 'LGG',\n",
              " 'LIHC',\n",
              " 'LUAD',\n",
              " 'LUSC',\n",
              " 'MESO',\n",
              " 'OV',\n",
              " 'PAAD',\n",
              " 'PCPG',\n",
              " 'PRAD',\n",
              " 'READ',\n",
              " 'SARC',\n",
              " 'SKCM',\n",
              " 'STAD',\n",
              " 'TGCT',\n",
              " 'THCA',\n",
              " 'THYM',\n",
              " 'UCEC',\n",
              " 'UCS',\n",
              " 'UVM']"
            ]
          },
          "metadata": {
            "tags": []
          },
          "execution_count": 58
        }
      ]
    },
    {
      "metadata": {
        "id": "UiR7WGjoNkck",
        "colab_type": "code",
        "colab": {}
      },
      "cell_type": "code",
      "source": [
        "tumors_grouped = 'KIRC KIRP KICH ACC BRCA UCEC OV LIHC COAD READ STAD HNSC LUSC LUAD LGG LAML CESC CHOL BLCA GBM DLBC SARC MESO PCPG UCS UVM THYM THCA TGCT SKCM PRAD PAAD ESCA'.split()"
      ],
      "execution_count": 0,
      "outputs": []
    },
    {
      "metadata": {
        "id": "FCi1YV-EOIGd",
        "colab_type": "code",
        "colab": {
          "base_uri": "https://localhost:8080/",
          "height": 34
        },
        "outputId": "761fd0c6-5666-4d35-c53e-6bd9073991e6"
      },
      "cell_type": "code",
      "source": [
        "len(tumors_grouped)"
      ],
      "execution_count": 72,
      "outputs": [
        {
          "output_type": "execute_result",
          "data": {
            "text/plain": [
              "33"
            ]
          },
          "metadata": {
            "tags": []
          },
          "execution_count": 72
        }
      ]
    },
    {
      "metadata": {
        "id": "FZ1PUxFe9GKe",
        "colab_type": "code",
        "colab": {}
      },
      "cell_type": "code",
      "source": [
        "tumor_labels = []\n",
        "for tumor in tumors_grouped:\n",
        "  tumor_labels.append(pd.Series([1 if a==tumor else 0 for a in y1]))\n",
        "\n"
      ],
      "execution_count": 0,
      "outputs": []
    },
    {
      "metadata": {
        "id": "1od9BT33Koap",
        "colab_type": "code",
        "colab": {
          "base_uri": "https://localhost:8080/",
          "height": 252
        },
        "outputId": "ae9dceb9-6b65-4484-a250-e806e8ee5557"
      },
      "cell_type": "code",
      "source": [
        "labels = pd.concat(tumor_labels, axis=1)\n",
        "labels.columns = tumors_grouped\n",
        "labels.head()"
      ],
      "execution_count": 74,
      "outputs": [
        {
          "output_type": "execute_result",
          "data": {
            "text/html": [
              "<div>\n",
              "<style scoped>\n",
              "    .dataframe tbody tr th:only-of-type {\n",
              "        vertical-align: middle;\n",
              "    }\n",
              "\n",
              "    .dataframe tbody tr th {\n",
              "        vertical-align: top;\n",
              "    }\n",
              "\n",
              "    .dataframe thead th {\n",
              "        text-align: right;\n",
              "    }\n",
              "</style>\n",
              "<table border=\"1\" class=\"dataframe\">\n",
              "  <thead>\n",
              "    <tr style=\"text-align: right;\">\n",
              "      <th></th>\n",
              "      <th>KIRC</th>\n",
              "      <th>KIRP</th>\n",
              "      <th>KICH</th>\n",
              "      <th>ACC</th>\n",
              "      <th>BRCA</th>\n",
              "      <th>UCEC</th>\n",
              "      <th>OV</th>\n",
              "      <th>LIHC</th>\n",
              "      <th>COAD</th>\n",
              "      <th>READ</th>\n",
              "      <th>...</th>\n",
              "      <th>PCPG</th>\n",
              "      <th>UCS</th>\n",
              "      <th>UVM</th>\n",
              "      <th>THYM</th>\n",
              "      <th>THCA</th>\n",
              "      <th>TGCT</th>\n",
              "      <th>SKCM</th>\n",
              "      <th>PRAD</th>\n",
              "      <th>PAAD</th>\n",
              "      <th>ESCA</th>\n",
              "    </tr>\n",
              "  </thead>\n",
              "  <tbody>\n",
              "    <tr>\n",
              "      <th>0</th>\n",
              "      <td>0</td>\n",
              "      <td>0</td>\n",
              "      <td>0</td>\n",
              "      <td>0</td>\n",
              "      <td>0</td>\n",
              "      <td>0</td>\n",
              "      <td>0</td>\n",
              "      <td>0</td>\n",
              "      <td>0</td>\n",
              "      <td>0</td>\n",
              "      <td>...</td>\n",
              "      <td>0</td>\n",
              "      <td>0</td>\n",
              "      <td>0</td>\n",
              "      <td>0</td>\n",
              "      <td>0</td>\n",
              "      <td>0</td>\n",
              "      <td>0</td>\n",
              "      <td>0</td>\n",
              "      <td>0</td>\n",
              "      <td>0</td>\n",
              "    </tr>\n",
              "    <tr>\n",
              "      <th>1</th>\n",
              "      <td>0</td>\n",
              "      <td>0</td>\n",
              "      <td>0</td>\n",
              "      <td>0</td>\n",
              "      <td>0</td>\n",
              "      <td>0</td>\n",
              "      <td>0</td>\n",
              "      <td>0</td>\n",
              "      <td>0</td>\n",
              "      <td>0</td>\n",
              "      <td>...</td>\n",
              "      <td>0</td>\n",
              "      <td>0</td>\n",
              "      <td>0</td>\n",
              "      <td>0</td>\n",
              "      <td>0</td>\n",
              "      <td>0</td>\n",
              "      <td>0</td>\n",
              "      <td>0</td>\n",
              "      <td>0</td>\n",
              "      <td>0</td>\n",
              "    </tr>\n",
              "    <tr>\n",
              "      <th>2</th>\n",
              "      <td>0</td>\n",
              "      <td>0</td>\n",
              "      <td>0</td>\n",
              "      <td>0</td>\n",
              "      <td>0</td>\n",
              "      <td>0</td>\n",
              "      <td>0</td>\n",
              "      <td>0</td>\n",
              "      <td>0</td>\n",
              "      <td>0</td>\n",
              "      <td>...</td>\n",
              "      <td>0</td>\n",
              "      <td>0</td>\n",
              "      <td>0</td>\n",
              "      <td>0</td>\n",
              "      <td>0</td>\n",
              "      <td>0</td>\n",
              "      <td>0</td>\n",
              "      <td>0</td>\n",
              "      <td>0</td>\n",
              "      <td>0</td>\n",
              "    </tr>\n",
              "    <tr>\n",
              "      <th>3</th>\n",
              "      <td>0</td>\n",
              "      <td>0</td>\n",
              "      <td>0</td>\n",
              "      <td>0</td>\n",
              "      <td>0</td>\n",
              "      <td>0</td>\n",
              "      <td>0</td>\n",
              "      <td>0</td>\n",
              "      <td>0</td>\n",
              "      <td>0</td>\n",
              "      <td>...</td>\n",
              "      <td>0</td>\n",
              "      <td>0</td>\n",
              "      <td>0</td>\n",
              "      <td>0</td>\n",
              "      <td>0</td>\n",
              "      <td>0</td>\n",
              "      <td>0</td>\n",
              "      <td>0</td>\n",
              "      <td>0</td>\n",
              "      <td>0</td>\n",
              "    </tr>\n",
              "    <tr>\n",
              "      <th>4</th>\n",
              "      <td>0</td>\n",
              "      <td>0</td>\n",
              "      <td>0</td>\n",
              "      <td>0</td>\n",
              "      <td>0</td>\n",
              "      <td>0</td>\n",
              "      <td>0</td>\n",
              "      <td>0</td>\n",
              "      <td>0</td>\n",
              "      <td>0</td>\n",
              "      <td>...</td>\n",
              "      <td>0</td>\n",
              "      <td>0</td>\n",
              "      <td>0</td>\n",
              "      <td>0</td>\n",
              "      <td>0</td>\n",
              "      <td>0</td>\n",
              "      <td>0</td>\n",
              "      <td>0</td>\n",
              "      <td>0</td>\n",
              "      <td>0</td>\n",
              "    </tr>\n",
              "  </tbody>\n",
              "</table>\n",
              "<p>5 rows × 33 columns</p>\n",
              "</div>"
            ],
            "text/plain": [
              "   KIRC  KIRP  KICH  ACC  BRCA  UCEC  OV  LIHC  COAD  READ  ...   PCPG  UCS  \\\n",
              "0     0     0     0    0     0     0   0     0     0     0  ...      0    0   \n",
              "1     0     0     0    0     0     0   0     0     0     0  ...      0    0   \n",
              "2     0     0     0    0     0     0   0     0     0     0  ...      0    0   \n",
              "3     0     0     0    0     0     0   0     0     0     0  ...      0    0   \n",
              "4     0     0     0    0     0     0   0     0     0     0  ...      0    0   \n",
              "\n",
              "   UVM  THYM  THCA  TGCT  SKCM  PRAD  PAAD  ESCA  \n",
              "0    0     0     0     0     0     0     0     0  \n",
              "1    0     0     0     0     0     0     0     0  \n",
              "2    0     0     0     0     0     0     0     0  \n",
              "3    0     0     0     0     0     0     0     0  \n",
              "4    0     0     0     0     0     0     0     0  \n",
              "\n",
              "[5 rows x 33 columns]"
            ]
          },
          "metadata": {
            "tags": []
          },
          "execution_count": 74
        }
      ]
    },
    {
      "metadata": {
        "id": "meJJtXp1K1Y7",
        "colab_type": "code",
        "colab": {}
      },
      "cell_type": "code",
      "source": [
        "#correlation matrix\n",
        "corrmat = pd.concat([X,labels],axis=1).corr()\n",
        "#corrs=corrmat.values\n",
        "#tumor_features = corrs[36:,:33]"
      ],
      "execution_count": 0,
      "outputs": []
    },
    {
      "metadata": {
        "id": "QjtL1GkjMxjF",
        "colab_type": "code",
        "colab": {
          "base_uri": "https://localhost:8080/",
          "height": 903
        },
        "outputId": "a5b33e3e-6eaa-41f3-ec7d-c8566e1fb79e"
      },
      "cell_type": "code",
      "source": [
        "f, ax = plt.subplots(figsize=(20, 15))\n",
        "sns.heatmap(corrmat, vmax=.8, square=True);"
      ],
      "execution_count": 78,
      "outputs": [
        {
          "output_type": "display_data",
          "data": {
            "image/png": "[encoded data removed]",
            "text/plain": [
              "<matplotlib.figure.Figure at 0x7f15feba6d10>"
            ]
          },
          "metadata": {
            "tags": []
          }
        }
      ]
    },
    {
      "metadata": {
        "id": "LTqJBE6WRPaV",
        "colab_type": "text"
      },
      "cell_type": "markdown",
      "source": [
        "### Split data to training and test sections."
      ]
    },
    {
      "metadata": {
        "id": "-VXo1OltGceO",
        "colab_type": "code",
        "colab": {}
      },
      "cell_type": "code",
      "source": [
        "X_train, X_test, y_train, y_test = train_test_split(X, y1, test_size=0.2)"
      ],
      "execution_count": 0,
      "outputs": []
    },
    {
      "metadata": {
        "id": "gpgvdwZHRi-l",
        "colab_type": "code",
        "outputId": "20e876cb-ec23-41ad-c01f-c2476818f211",
        "colab": {
          "base_uri": "https://localhost:8080/",
          "height": 34
        }
      },
      "cell_type": "code",
      "source": [
        "X_train.shape"
      ],
      "execution_count": 87,
      "outputs": [
        {
          "output_type": "execute_result",
          "data": {
            "text/plain": [
              "(9740, 36)"
            ]
          },
          "metadata": {
            "tags": []
          },
          "execution_count": 87
        }
      ]
    },
    {
      "metadata": {
        "id": "Vwm48bhuRoz7",
        "colab_type": "code",
        "outputId": "f5cac0b2-48ab-4597-c38d-bc3708834b80",
        "colab": {
          "base_uri": "https://localhost:8080/",
          "height": 600
        }
      },
      "cell_type": "code",
      "source": [
        "y_train.value_counts()"
      ],
      "execution_count": 88,
      "outputs": [
        {
          "output_type": "execute_result",
          "data": {
            "text/plain": [
              "BRCA    1153\n",
              "KIRC     601\n",
              "LUAD     599\n",
              "THCA     571\n",
              "LUSC     545\n",
              "HNSC     528\n",
              "PRAD     525\n",
              "LGG      453\n",
              "LIHC     424\n",
              "STAD     413\n",
              "BLCA     383\n",
              "SKCM     376\n",
              "COAD     346\n",
              "KIRP     313\n",
              "CESC     256\n",
              "OV       245\n",
              "SARC     230\n",
              "UCEC     181\n",
              "ESCA     175\n",
              "PCPG     162\n",
              "GBM      157\n",
              "PAAD     153\n",
              "TGCT     135\n",
              "KICH     121\n",
              "READ     100\n",
              "THYM      99\n",
              "LAML      92\n",
              "ACC       71\n",
              "MESO      65\n",
              "UVM       63\n",
              "CHOL      51\n",
              "UCS       46\n",
              "DLBC      35\n",
              "Name: acronym, dtype: int64"
            ]
          },
          "metadata": {
            "tags": []
          },
          "execution_count": 88
        }
      ]
    },
    {
      "metadata": {
        "id": "kdSoAQ47RtTs",
        "colab_type": "code",
        "outputId": "3a5ccb6c-f3b0-4127-f039-f25127999db4",
        "colab": {
          "base_uri": "https://localhost:8080/",
          "height": 600
        }
      },
      "cell_type": "code",
      "source": [
        "y_test.value_counts()"
      ],
      "execution_count": 89,
      "outputs": [
        {
          "output_type": "execute_result",
          "data": {
            "text/plain": [
              "BRCA    345\n",
              "KIRC    161\n",
              "PRAD    143\n",
              "THCA    135\n",
              "LUAD    133\n",
              "LUSC    112\n",
              "LGG     111\n",
              "HNSC    110\n",
              "LIHC    105\n",
              "SKCM    105\n",
              "STAD    103\n",
              "COAD     97\n",
              "BLCA     89\n",
              "KIRP     76\n",
              "OV       73\n",
              "CESC     61\n",
              "SARC     47\n",
              "ESCA     47\n",
              "UCEC     44\n",
              "PCPG     43\n",
              "PAAD     40\n",
              "TGCT     33\n",
              "GBM      30\n",
              "LAML     29\n",
              "THYM     27\n",
              "MESO     22\n",
              "READ     22\n",
              "KICH     20\n",
              "UVM      17\n",
              "DLBC     13\n",
              "CHOL     12\n",
              "UCS      11\n",
              "ACC       8\n",
              "Name: acronym, dtype: int64"
            ]
          },
          "metadata": {
            "tags": []
          },
          "execution_count": 89
        }
      ]
    },
    {
      "metadata": {
        "id": "ENeNm1M2QhMV",
        "colab_type": "code",
        "colab": {}
      },
      "cell_type": "code",
      "source": [
        "from sklearn.ensemble import GradientBoostingClassifier\n",
        "gb_model = GradientBoostingClassifier(n_estimators=50, max_depth=10, verbose=1)"
      ],
      "execution_count": 0,
      "outputs": []
    },
    {
      "metadata": {
        "id": "KAoHP1fkQtBd",
        "colab_type": "code",
        "colab": {
          "base_uri": "https://localhost:8080/",
          "height": 415
        },
        "outputId": "cc112a95-ea1b-472e-ac5f-51ce8b648381"
      },
      "cell_type": "code",
      "source": [
        "gb_model.fit(X_train, y_train)"
      ],
      "execution_count": 116,
      "outputs": [
        {
          "output_type": "stream",
          "text": [
            "      Iter       Train Loss   Remaining Time \n",
            "         1         457.5880            7.02m\n",
            "         2         132.7183            6.96m\n",
            "         3         107.1885            5.70m\n",
            "         4          87.4217            4.96m\n",
            "         5          71.9328            4.46m\n",
            "         6          59.7349            4.08m\n",
            "         7          49.7981            3.79m\n",
            "         8          41.7652            3.55m\n",
            "         9          35.2805            3.34m\n",
            "        10          29.9256            3.16m\n",
            "        20           8.8263            1.97m\n",
            "        30           5.5248            1.18m\n",
            "        40           5.0417           33.11s\n",
            "        50           4.9182            0.00s\n"
          ],
          "name": "stdout"
        },
        {
          "output_type": "execute_result",
          "data": {
            "text/plain": [
              "GradientBoostingClassifier(criterion='friedman_mse', init=None,\n",
              "              learning_rate=0.1, loss='deviance', max_depth=10,\n",
              "              max_features=None, max_leaf_nodes=None,\n",
              "              min_impurity_decrease=0.0, min_impurity_split=None,\n",
              "              min_samples_leaf=1, min_samples_split=2,\n",
              "              min_weight_fraction_leaf=0.0, n_estimators=50,\n",
              "              presort='auto', random_state=None, subsample=1.0, verbose=1,\n",
              "              warm_start=False)"
            ]
          },
          "metadata": {
            "tags": []
          },
          "execution_count": 116
        }
      ]
    },
    {
      "metadata": {
        "id": "4BRy7sbHQ3Tm",
        "colab_type": "code",
        "colab": {
          "base_uri": "https://localhost:8080/",
          "height": 35
        },
        "outputId": "35d26bc1-0503-4bf3-d261-68dcb9ad6dc7"
      },
      "cell_type": "code",
      "source": [
        "gb_model.score(X_train, y_train)"
      ],
      "execution_count": 117,
      "outputs": [
        {
          "output_type": "execute_result",
          "data": {
            "text/plain": [
              "0.9925051334702258"
            ]
          },
          "metadata": {
            "tags": []
          },
          "execution_count": 117
        }
      ]
    },
    {
      "metadata": {
        "id": "CY6256gjRbZB",
        "colab_type": "code",
        "colab": {
          "base_uri": "https://localhost:8080/",
          "height": 35
        },
        "outputId": "bb38eae3-3ef5-4960-af39-fc11ed3418f2"
      },
      "cell_type": "code",
      "source": [
        "gb_model.score(X_test, y_test)"
      ],
      "execution_count": 118,
      "outputs": [
        {
          "output_type": "execute_result",
          "data": {
            "text/plain": [
              "0.9043121149897331"
            ]
          },
          "metadata": {
            "tags": []
          },
          "execution_count": 118
        }
      ]
    },
    {
      "metadata": {
        "id": "-4EQRUpZVXwa",
        "colab_type": "code",
        "colab": {
          "base_uri": "https://localhost:8080/",
          "height": 639
        },
        "outputId": "d1ccdcc9-fbce-48f7-d5c0-cb1608eaac2e"
      },
      "cell_type": "code",
      "source": [
        "sorted(list(zip(gb_model.feature_importances_,X.columns)),reverse=True)"
      ],
      "execution_count": 121,
      "outputs": [
        {
          "output_type": "execute_result",
          "data": {
            "text/plain": [
              "[(0.01673500674733801, '17'),\n",
              " (0.010670698407833433, '9'),\n",
              " (0.009396732206128671, '6'),\n",
              " (0.009186701013746433, '28'),\n",
              " (0.008987719667925137, '19'),\n",
              " (0.008160148582089856, '18'),\n",
              " (0.007712014849497005, '11'),\n",
              " (0.00742605738899962, '4'),\n",
              " (0.006597403640695625, '16'),\n",
              " (0.005455866299446665, '30'),\n",
              " (0.005239092298363445, '35'),\n",
              " (0.005200285399815928, '8'),\n",
              " (0.005092786057018259, '3'),\n",
              " (0.0050372002783238235, '5'),\n",
              " (0.004691565960216015, '27'),\n",
              " (0.004682128479194667, '22'),\n",
              " (0.0046389577940628415, '2'),\n",
              " (0.004070078423469646, '31'),\n",
              " (0.003796247575690326, '33'),\n",
              " (0.0035520569210398937, '26'),\n",
              " (0.0033565797765853517, '23'),\n",
              " (0.003342831991291422, '7'),\n",
              " (0.0033004049709940263, '15'),\n",
              " (0.003098600983583705, '13'),\n",
              " (0.003083933132821782, '25'),\n",
              " (0.0030100182972595995, '21'),\n",
              " (0.0029263549593064497, '1'),\n",
              " (0.002922021722178107, '10'),\n",
              " (0.002727045454162913, '24'),\n",
              " (0.0023553734911306175, '34'),\n",
              " (0.0022712875328307963, '29'),\n",
              " (0.002109368257399278, '20'),\n",
              " (0.001716208181014963, '14'),\n",
              " (0.001517018224851004, '12'),\n",
              " (0.0015123371485122614, '32'),\n",
              " (0.0012143207153710997, '36')]"
            ]
          },
          "metadata": {
            "tags": []
          },
          "execution_count": 121
        }
      ]
    },
    {
      "metadata": {
        "id": "_VVq0fbtCxwy",
        "colab_type": "text"
      },
      "cell_type": "markdown",
      "source": [
        "## Start with a simple decision tree classifier."
      ]
    },
    {
      "metadata": {
        "id": "Qbo9U7DrCwsD",
        "colab_type": "code",
        "outputId": "cfc071e8-d5cf-45ec-bb8e-2564948a9f9f",
        "colab": {
          "base_uri": "https://localhost:8080/",
          "height": 121
        }
      },
      "cell_type": "code",
      "source": [
        "dt_model = DecisionTreeClassifier(max_depth=4)\n",
        "dt_model.fit(X_train, y_train)"
      ],
      "execution_count": 0,
      "outputs": [
        {
          "output_type": "execute_result",
          "data": {
            "text/plain": [
              "DecisionTreeClassifier(class_weight=None, criterion='gini', max_depth=4,\n",
              "            max_features=None, max_leaf_nodes=None,\n",
              "            min_impurity_decrease=0.0, min_impurity_split=None,\n",
              "            min_samples_leaf=1, min_samples_split=2,\n",
              "            min_weight_fraction_leaf=0.0, presort=False, random_state=None,\n",
              "            splitter='best')"
            ]
          },
          "metadata": {
            "tags": []
          },
          "execution_count": 135
        }
      ]
    },
    {
      "metadata": {
        "id": "_S-rPfS_LgKq",
        "colab_type": "code",
        "outputId": "04eb30cf-1abe-4f12-bb20-23232b65e661",
        "colab": {
          "base_uri": "https://localhost:8080/",
          "height": 34
        }
      },
      "cell_type": "code",
      "source": [
        "dt_model.score(X_train, y_train)"
      ],
      "execution_count": 0,
      "outputs": [
        {
          "output_type": "execute_result",
          "data": {
            "text/plain": [
              "0.99435318275154"
            ]
          },
          "metadata": {
            "tags": []
          },
          "execution_count": 136
        }
      ]
    },
    {
      "metadata": {
        "id": "azmYKgvoDA7R",
        "colab_type": "code",
        "outputId": "e8e76c2e-d599-495e-fd60-c9b3a387730e",
        "colab": {
          "base_uri": "https://localhost:8080/",
          "height": 34
        }
      },
      "cell_type": "code",
      "source": [
        "dt_model.score(X_test, y_test)"
      ],
      "execution_count": 0,
      "outputs": [
        {
          "output_type": "execute_result",
          "data": {
            "text/plain": [
              "0.993429158110883"
            ]
          },
          "metadata": {
            "tags": []
          },
          "execution_count": 137
        }
      ]
    },
    {
      "metadata": {
        "id": "-uwwOVNKDpF9",
        "colab_type": "code",
        "outputId": "a1138c33-8575-4192-d053-0aa2b1ec1000",
        "colab": {
          "base_uri": "https://localhost:8080/",
          "height": 757
        }
      },
      "cell_type": "code",
      "source": [
        "graph = Source(tree.export_graphviz(dt_model, out_file=None\n",
        "   , feature_names=X.columns, class_names='No,BRCA'.split(',')\n",
        "   , filled = True))\n",
        "display(SVG(graph.pipe(format='svg')))"
      ],
      "execution_count": 0,
      "outputs": [
        {
          "output_type": "display_data",
          "data": {
            "text/plain": [
              "<IPython.core.display.SVG object>"
            ],
            "image/svg+xml": "<svg height=\"552pt\" viewBox=\"0.00 0.00 1255.50 552.00\" width=\"1256pt\" xmlns=\"http://www.w3.org/2000/svg\" xmlns:xlink=\"http://www.w3.org/1999/xlink\">\n<g class=\"graph\" id=\"graph0\" transform=\"scale(1 1) rotate(0) translate(4 548)\">\n<title>Tree</title>\n<polygon fill=\"#ffffff\" points=\"-4,4 -4,-548 1251.5,-548 1251.5,4 -4,4\" stroke=\"transparent\"/>\n<!-- 0 -->\n<g class=\"node\" id=\"node1\">\n<title>0</title>\n<polygon fill=\"#e58139\" fill-opacity=\"0.858824\" points=\"705,-544 566,-544 566,-461 705,-461 705,-544\" stroke=\"#000000\"/>\n<text fill=\"#000000\" font-family=\"Times,serif\" font-size=\"14.00\" text-anchor=\"middle\" x=\"635.5\" y=\"-528.8\">19 &lt;= 5.8</text>\n<text fill=\"#000000\" font-family=\"Times,serif\" font-size=\"14.00\" text-anchor=\"middle\" x=\"635.5\" y=\"-513.8\">gini = 0.215</text>\n<text fill=\"#000000\" font-family=\"Times,serif\" font-size=\"14.00\" text-anchor=\"middle\" x=\"635.5\" y=\"-498.8\">samples = 9740</text>\n<text fill=\"#000000\" font-family=\"Times,serif\" font-size=\"14.00\" text-anchor=\"middle\" x=\"635.5\" y=\"-483.8\">value = [8545, 1195]</text>\n<text fill=\"#000000\" font-family=\"Times,serif\" font-size=\"14.00\" text-anchor=\"middle\" x=\"635.5\" y=\"-468.8\">class = No</text>\n</g>\n<!-- 1 -->\n<g class=\"node\" id=\"node2\">\n<title>1</title>\n<polygon fill=\"#e58139\" fill-opacity=\"0.984314\" points=\"583,-425 452,-425 452,-342 583,-342 583,-425\" stroke=\"#000000\"/>\n<text fill=\"#000000\" font-family=\"Times,serif\" font-size=\"14.00\" text-anchor=\"middle\" x=\"517.5\" y=\"-409.8\">13 &lt;= 14.837</text>\n<text fill=\"#000000\" font-family=\"Times,serif\" font-size=\"14.00\" text-anchor=\"middle\" x=\"517.5\" y=\"-394.8\">gini = 0.027</text>\n<text fill=\"#000000\" font-family=\"Times,serif\" font-size=\"14.00\" text-anchor=\"middle\" x=\"517.5\" y=\"-379.8\">samples = 8195</text>\n<text fill=\"#000000\" font-family=\"Times,serif\" font-size=\"14.00\" text-anchor=\"middle\" x=\"517.5\" y=\"-364.8\">value = [8082, 113]</text>\n<text fill=\"#000000\" font-family=\"Times,serif\" font-size=\"14.00\" text-anchor=\"middle\" x=\"517.5\" y=\"-349.8\">class = No</text>\n</g>\n<!-- 0&#45;&gt;1 -->\n<g class=\"edge\" id=\"edge1\">\n<title>0-&gt;1</title>\n<path d=\"M594.2293,-460.8796C585.1201,-451.6931 575.3892,-441.8798 566.0224,-432.4336\" fill=\"none\" stroke=\"#000000\"/>\n<polygon fill=\"#000000\" points=\"568.4733,-429.9345 558.9468,-425.2981 563.5027,-434.8634 568.4733,-429.9345\" stroke=\"#000000\"/>\n<text fill=\"#000000\" font-family=\"Times,serif\" font-size=\"14.00\" text-anchor=\"middle\" x=\"558.8413\" y=\"-446.5978\">True</text>\n</g>\n<!-- 12 -->\n<g class=\"node\" id=\"node13\">\n<title>12</title>\n<polygon fill=\"#399de5\" fill-opacity=\"0.572549\" points=\"844.5,-425 712.5,-425 712.5,-342 844.5,-342 844.5,-425\" stroke=\"#000000\"/>\n<text fill=\"#000000\" font-family=\"Times,serif\" font-size=\"14.00\" text-anchor=\"middle\" x=\"778.5\" y=\"-409.8\">17 &lt;= 2.435</text>\n<text fill=\"#000000\" font-family=\"Times,serif\" font-size=\"14.00\" text-anchor=\"middle\" x=\"778.5\" y=\"-394.8\">gini = 0.42</text>\n<text fill=\"#000000\" font-family=\"Times,serif\" font-size=\"14.00\" text-anchor=\"middle\" x=\"778.5\" y=\"-379.8\">samples = 1545</text>\n<text fill=\"#000000\" font-family=\"Times,serif\" font-size=\"14.00\" text-anchor=\"middle\" x=\"778.5\" y=\"-364.8\">value = [463, 1082]</text>\n<text fill=\"#000000\" font-family=\"Times,serif\" font-size=\"14.00\" text-anchor=\"middle\" x=\"778.5\" y=\"-349.8\">class = BRCA</text>\n</g>\n<!-- 0&#45;&gt;12 -->\n<g class=\"edge\" id=\"edge12\">\n<title>0-&gt;12</title>\n<path d=\"M685.5145,-460.8796C696.7701,-451.513 708.8088,-441.4948 720.3646,-431.8784\" fill=\"none\" stroke=\"#000000\"/>\n<polygon fill=\"#000000\" points=\"722.8242,-434.385 728.2721,-425.2981 718.3466,-429.0043 722.8242,-434.385\" stroke=\"#000000\"/>\n<text fill=\"#000000\" font-family=\"Times,serif\" font-size=\"14.00\" text-anchor=\"middle\" x=\"725.9915\" y=\"-446.4938\">False</text>\n</g>\n<!-- 2 -->\n<g class=\"node\" id=\"node3\">\n<title>2</title>\n<polygon fill=\"#e58139\" fill-opacity=\"0.988235\" points=\"405,-306 280,-306 280,-223 405,-223 405,-306\" stroke=\"#000000\"/>\n<text fill=\"#000000\" font-family=\"Times,serif\" font-size=\"14.00\" text-anchor=\"middle\" x=\"342.5\" y=\"-290.8\">19 &lt;= 4.896</text>\n<text fill=\"#000000\" font-family=\"Times,serif\" font-size=\"14.00\" text-anchor=\"middle\" x=\"342.5\" y=\"-275.8\">gini = 0.023</text>\n<text fill=\"#000000\" font-family=\"Times,serif\" font-size=\"14.00\" text-anchor=\"middle\" x=\"342.5\" y=\"-260.8\">samples = 8171</text>\n<text fill=\"#000000\" font-family=\"Times,serif\" font-size=\"14.00\" text-anchor=\"middle\" x=\"342.5\" y=\"-245.8\">value = [8078, 93]</text>\n<text fill=\"#000000\" font-family=\"Times,serif\" font-size=\"14.00\" text-anchor=\"middle\" x=\"342.5\" y=\"-230.8\">class = No</text>\n</g>\n<!-- 1&#45;&gt;2 -->\n<g class=\"edge\" id=\"edge2\">\n<title>1-&gt;2</title>\n<path d=\"M456.2935,-341.8796C442.0394,-332.1868 426.759,-321.7961 412.1693,-311.8752\" fill=\"none\" stroke=\"#000000\"/>\n<polygon fill=\"#000000\" points=\"413.9093,-308.8258 403.6719,-306.0969 409.9731,-314.6143 413.9093,-308.8258\" stroke=\"#000000\"/>\n</g>\n<!-- 9 -->\n<g class=\"node\" id=\"node10\">\n<title>9</title>\n<polygon fill=\"#399de5\" fill-opacity=\"0.800000\" points=\"568.5,-306 466.5,-306 466.5,-223 568.5,-223 568.5,-306\" stroke=\"#000000\"/>\n<text fill=\"#000000\" font-family=\"Times,serif\" font-size=\"14.00\" text-anchor=\"middle\" x=\"517.5\" y=\"-290.8\">6 &lt;= 5.38</text>\n<text fill=\"#000000\" font-family=\"Times,serif\" font-size=\"14.00\" text-anchor=\"middle\" x=\"517.5\" y=\"-275.8\">gini = 0.278</text>\n<text fill=\"#000000\" font-family=\"Times,serif\" font-size=\"14.00\" text-anchor=\"middle\" x=\"517.5\" y=\"-260.8\">samples = 24</text>\n<text fill=\"#000000\" font-family=\"Times,serif\" font-size=\"14.00\" text-anchor=\"middle\" x=\"517.5\" y=\"-245.8\">value = [4, 20]</text>\n<text fill=\"#000000\" font-family=\"Times,serif\" font-size=\"14.00\" text-anchor=\"middle\" x=\"517.5\" y=\"-230.8\">class = BRCA</text>\n</g>\n<!-- 1&#45;&gt;9 -->\n<g class=\"edge\" id=\"edge9\">\n<title>1-&gt;9</title>\n<path d=\"M517.5,-341.8796C517.5,-333.6838 517.5,-324.9891 517.5,-316.5013\" fill=\"none\" stroke=\"#000000\"/>\n<polygon fill=\"#000000\" points=\"521.0001,-316.298 517.5,-306.2981 514.0001,-316.2981 521.0001,-316.298\" stroke=\"#000000\"/>\n</g>\n<!-- 3 -->\n<g class=\"node\" id=\"node4\">\n<title>3</title>\n<polygon fill=\"#e58139\" fill-opacity=\"0.996078\" points=\"264,-187 139,-187 139,-104 264,-104 264,-187\" stroke=\"#000000\"/>\n<text fill=\"#000000\" font-family=\"Times,serif\" font-size=\"14.00\" text-anchor=\"middle\" x=\"201.5\" y=\"-171.8\">19 &lt;= 3.373</text>\n<text fill=\"#000000\" font-family=\"Times,serif\" font-size=\"14.00\" text-anchor=\"middle\" x=\"201.5\" y=\"-156.8\">gini = 0.009</text>\n<text fill=\"#000000\" font-family=\"Times,serif\" font-size=\"14.00\" text-anchor=\"middle\" x=\"201.5\" y=\"-141.8\">samples = 7964</text>\n<text fill=\"#000000\" font-family=\"Times,serif\" font-size=\"14.00\" text-anchor=\"middle\" x=\"201.5\" y=\"-126.8\">value = [7927, 37]</text>\n<text fill=\"#000000\" font-family=\"Times,serif\" font-size=\"14.00\" text-anchor=\"middle\" x=\"201.5\" y=\"-111.8\">class = No</text>\n</g>\n<!-- 2&#45;&gt;3 -->\n<g class=\"edge\" id=\"edge3\">\n<title>2-&gt;3</title>\n<path d=\"M293.185,-222.8796C282.0868,-213.513 270.2165,-203.4948 258.8223,-193.8784\" fill=\"none\" stroke=\"#000000\"/>\n<polygon fill=\"#000000\" points=\"260.925,-191.0731 251.0254,-187.2981 256.4101,-196.4225 260.925,-191.0731\" stroke=\"#000000\"/>\n</g>\n<!-- 6 -->\n<g class=\"node\" id=\"node7\">\n<title>6</title>\n<polygon fill=\"#e58139\" fill-opacity=\"0.627451\" points=\"401,-187 284,-187 284,-104 401,-104 401,-187\" stroke=\"#000000\"/>\n<text fill=\"#000000\" font-family=\"Times,serif\" font-size=\"14.00\" text-anchor=\"middle\" x=\"342.5\" y=\"-171.8\">36 &lt;= 3.54</text>\n<text fill=\"#000000\" font-family=\"Times,serif\" font-size=\"14.00\" text-anchor=\"middle\" x=\"342.5\" y=\"-156.8\">gini = 0.395</text>\n<text fill=\"#000000\" font-family=\"Times,serif\" font-size=\"14.00\" text-anchor=\"middle\" x=\"342.5\" y=\"-141.8\">samples = 207</text>\n<text fill=\"#000000\" font-family=\"Times,serif\" font-size=\"14.00\" text-anchor=\"middle\" x=\"342.5\" y=\"-126.8\">value = [151, 56]</text>\n<text fill=\"#000000\" font-family=\"Times,serif\" font-size=\"14.00\" text-anchor=\"middle\" x=\"342.5\" y=\"-111.8\">class = No</text>\n</g>\n<!-- 2&#45;&gt;6 -->\n<g class=\"edge\" id=\"edge6\">\n<title>2-&gt;6</title>\n<path d=\"M342.5,-222.8796C342.5,-214.6838 342.5,-205.9891 342.5,-197.5013\" fill=\"none\" stroke=\"#000000\"/>\n<polygon fill=\"#000000\" points=\"346.0001,-197.298 342.5,-187.2981 339.0001,-197.2981 346.0001,-197.298\" stroke=\"#000000\"/>\n</g>\n<!-- 4 -->\n<g class=\"node\" id=\"node5\">\n<title>4</title>\n<polygon fill=\"#e58139\" points=\"125,-68 0,-68 0,0 125,0 125,-68\" stroke=\"#000000\"/>\n<text fill=\"#000000\" font-family=\"Times,serif\" font-size=\"14.00\" text-anchor=\"middle\" x=\"62.5\" y=\"-52.8\">gini = 0.003</text>\n<text fill=\"#000000\" font-family=\"Times,serif\" font-size=\"14.00\" text-anchor=\"middle\" x=\"62.5\" y=\"-37.8\">samples = 7578</text>\n<text fill=\"#000000\" font-family=\"Times,serif\" font-size=\"14.00\" text-anchor=\"middle\" x=\"62.5\" y=\"-22.8\">value = [7566, 12]</text>\n<text fill=\"#000000\" font-family=\"Times,serif\" font-size=\"14.00\" text-anchor=\"middle\" x=\"62.5\" y=\"-7.8\">class = No</text>\n</g>\n<!-- 3&#45;&gt;4 -->\n<g class=\"edge\" id=\"edge4\">\n<title>3-&gt;4</title>\n<path d=\"M149.7415,-103.9815C137.8258,-94.4232 125.1644,-84.2668 113.2903,-74.7419\" fill=\"none\" stroke=\"#000000\"/>\n<polygon fill=\"#000000\" points=\"115.2049,-71.7907 105.2144,-68.2637 110.8248,-77.2511 115.2049,-71.7907\" stroke=\"#000000\"/>\n</g>\n<!-- 5 -->\n<g class=\"node\" id=\"node6\">\n<title>5</title>\n<polygon fill=\"#e58139\" fill-opacity=\"0.929412\" points=\"260,-68 143,-68 143,0 260,0 260,-68\" stroke=\"#000000\"/>\n<text fill=\"#000000\" font-family=\"Times,serif\" font-size=\"14.00\" text-anchor=\"middle\" x=\"201.5\" y=\"-52.8\">gini = 0.121</text>\n<text fill=\"#000000\" font-family=\"Times,serif\" font-size=\"14.00\" text-anchor=\"middle\" x=\"201.5\" y=\"-37.8\">samples = 386</text>\n<text fill=\"#000000\" font-family=\"Times,serif\" font-size=\"14.00\" text-anchor=\"middle\" x=\"201.5\" y=\"-22.8\">value = [361, 25]</text>\n<text fill=\"#000000\" font-family=\"Times,serif\" font-size=\"14.00\" text-anchor=\"middle\" x=\"201.5\" y=\"-7.8\">class = No</text>\n</g>\n<!-- 3&#45;&gt;5 -->\n<g class=\"edge\" id=\"edge5\">\n<title>3-&gt;5</title>\n<path d=\"M201.5,-103.9815C201.5,-95.618 201.5,-86.7965 201.5,-78.3409\" fill=\"none\" stroke=\"#000000\"/>\n<polygon fill=\"#000000\" points=\"205.0001,-78.2636 201.5,-68.2637 198.0001,-78.2637 205.0001,-78.2636\" stroke=\"#000000\"/>\n</g>\n<!-- 7 -->\n<g class=\"node\" id=\"node8\">\n<title>7</title>\n<polygon fill=\"#e58139\" fill-opacity=\"0.933333\" points=\"395,-68 278,-68 278,0 395,0 395,-68\" stroke=\"#000000\"/>\n<text fill=\"#000000\" font-family=\"Times,serif\" font-size=\"14.00\" text-anchor=\"middle\" x=\"336.5\" y=\"-52.8\">gini = 0.117</text>\n<text fill=\"#000000\" font-family=\"Times,serif\" font-size=\"14.00\" text-anchor=\"middle\" x=\"336.5\" y=\"-37.8\">samples = 161</text>\n<text fill=\"#000000\" font-family=\"Times,serif\" font-size=\"14.00\" text-anchor=\"middle\" x=\"336.5\" y=\"-22.8\">value = [151, 10]</text>\n<text fill=\"#000000\" font-family=\"Times,serif\" font-size=\"14.00\" text-anchor=\"middle\" x=\"336.5\" y=\"-7.8\">class = No</text>\n</g>\n<!-- 6&#45;&gt;7 -->\n<g class=\"edge\" id=\"edge7\">\n<title>6-&gt;7</title>\n<path d=\"M340.2658,-103.9815C339.8158,-95.618 339.3411,-86.7965 338.8861,-78.3409\" fill=\"none\" stroke=\"#000000\"/>\n<polygon fill=\"#000000\" points=\"342.3762,-78.0611 338.3438,-68.2637 335.3863,-78.4373 342.3762,-78.0611\" stroke=\"#000000\"/>\n</g>\n<!-- 8 -->\n<g class=\"node\" id=\"node9\">\n<title>8</title>\n<polygon fill=\"#399de5\" points=\"515.5,-68 413.5,-68 413.5,0 515.5,0 515.5,-68\" stroke=\"#000000\"/>\n<text fill=\"#000000\" font-family=\"Times,serif\" font-size=\"14.00\" text-anchor=\"middle\" x=\"464.5\" y=\"-52.8\">gini = 0.0</text>\n<text fill=\"#000000\" font-family=\"Times,serif\" font-size=\"14.00\" text-anchor=\"middle\" x=\"464.5\" y=\"-37.8\">samples = 46</text>\n<text fill=\"#000000\" font-family=\"Times,serif\" font-size=\"14.00\" text-anchor=\"middle\" x=\"464.5\" y=\"-22.8\">value = [0, 46]</text>\n<text fill=\"#000000\" font-family=\"Times,serif\" font-size=\"14.00\" text-anchor=\"middle\" x=\"464.5\" y=\"-7.8\">class = BRCA</text>\n</g>\n<!-- 6&#45;&gt;8 -->\n<g class=\"edge\" id=\"edge8\">\n<title>6-&gt;8</title>\n<path d=\"M387.9283,-103.9815C398.2861,-94.5151 409.2859,-84.462 419.6206,-75.0168\" fill=\"none\" stroke=\"#000000\"/>\n<polygon fill=\"#000000\" points=\"421.9893,-77.5935 427.0097,-68.2637 417.2669,-72.4264 421.9893,-77.5935\" stroke=\"#000000\"/>\n</g>\n<!-- 10 -->\n<g class=\"node\" id=\"node11\">\n<title>10</title>\n<polygon fill=\"#399de5\" points=\"522.5,-179.5 420.5,-179.5 420.5,-111.5 522.5,-111.5 522.5,-179.5\" stroke=\"#000000\"/>\n<text fill=\"#000000\" font-family=\"Times,serif\" font-size=\"14.00\" text-anchor=\"middle\" x=\"471.5\" y=\"-164.3\">gini = 0.0</text>\n<text fill=\"#000000\" font-family=\"Times,serif\" font-size=\"14.00\" text-anchor=\"middle\" x=\"471.5\" y=\"-149.3\">samples = 20</text>\n<text fill=\"#000000\" font-family=\"Times,serif\" font-size=\"14.00\" text-anchor=\"middle\" x=\"471.5\" y=\"-134.3\">value = [0, 20]</text>\n<text fill=\"#000000\" font-family=\"Times,serif\" font-size=\"14.00\" text-anchor=\"middle\" x=\"471.5\" y=\"-119.3\">class = BRCA</text>\n</g>\n<!-- 9&#45;&gt;10 -->\n<g class=\"edge\" id=\"edge10\">\n<title>9-&gt;10</title>\n<path d=\"M501.4114,-222.8796C497.2034,-211.9935 492.655,-200.227 488.4057,-189.2344\" fill=\"none\" stroke=\"#000000\"/>\n<polygon fill=\"#000000\" points=\"491.6348,-187.8804 484.7646,-179.8149 485.1056,-190.4043 491.6348,-187.8804\" stroke=\"#000000\"/>\n</g>\n<!-- 11 -->\n<g class=\"node\" id=\"node12\">\n<title>11</title>\n<polygon fill=\"#e58139\" points=\"636,-179.5 541,-179.5 541,-111.5 636,-111.5 636,-179.5\" stroke=\"#000000\"/>\n<text fill=\"#000000\" font-family=\"Times,serif\" font-size=\"14.00\" text-anchor=\"middle\" x=\"588.5\" y=\"-164.3\">gini = 0.0</text>\n<text fill=\"#000000\" font-family=\"Times,serif\" font-size=\"14.00\" text-anchor=\"middle\" x=\"588.5\" y=\"-149.3\">samples = 4</text>\n<text fill=\"#000000\" font-family=\"Times,serif\" font-size=\"14.00\" text-anchor=\"middle\" x=\"588.5\" y=\"-134.3\">value = [4, 0]</text>\n<text fill=\"#000000\" font-family=\"Times,serif\" font-size=\"14.00\" text-anchor=\"middle\" x=\"588.5\" y=\"-119.3\">class = No</text>\n</g>\n<!-- 9&#45;&gt;11 -->\n<g class=\"edge\" id=\"edge11\">\n<title>9-&gt;11</title>\n<path d=\"M542.3324,-222.8796C548.9587,-211.7735 556.1316,-199.7513 562.8033,-188.5691\" fill=\"none\" stroke=\"#000000\"/>\n<polygon fill=\"#000000\" points=\"565.9083,-190.1959 568.0264,-179.8149 559.8969,-186.6093 565.9083,-190.1959\" stroke=\"#000000\"/>\n</g>\n<!-- 13 -->\n<g class=\"node\" id=\"node14\">\n<title>13</title>\n<polygon fill=\"#399de5\" fill-opacity=\"0.960784\" points=\"841,-306 716,-306 716,-223 841,-223 841,-306\" stroke=\"#000000\"/>\n<text fill=\"#000000\" font-family=\"Times,serif\" font-size=\"14.00\" text-anchor=\"middle\" x=\"778.5\" y=\"-290.8\">1 &lt;= 4.067</text>\n<text fill=\"#000000\" font-family=\"Times,serif\" font-size=\"14.00\" text-anchor=\"middle\" x=\"778.5\" y=\"-275.8\">gini = 0.071</text>\n<text fill=\"#000000\" font-family=\"Times,serif\" font-size=\"14.00\" text-anchor=\"middle\" x=\"778.5\" y=\"-260.8\">samples = 1114</text>\n<text fill=\"#000000\" font-family=\"Times,serif\" font-size=\"14.00\" text-anchor=\"middle\" x=\"778.5\" y=\"-245.8\">value = [41, 1073]</text>\n<text fill=\"#000000\" font-family=\"Times,serif\" font-size=\"14.00\" text-anchor=\"middle\" x=\"778.5\" y=\"-230.8\">class = BRCA</text>\n</g>\n<!-- 12&#45;&gt;13 -->\n<g class=\"edge\" id=\"edge13\">\n<title>12-&gt;13</title>\n<path d=\"M778.5,-341.8796C778.5,-333.6838 778.5,-324.9891 778.5,-316.5013\" fill=\"none\" stroke=\"#000000\"/>\n<polygon fill=\"#000000\" points=\"782.0001,-316.298 778.5,-306.2981 775.0001,-316.2981 782.0001,-316.298\" stroke=\"#000000\"/>\n</g>\n<!-- 20 -->\n<g class=\"node\" id=\"node21\">\n<title>20</title>\n<polygon fill=\"#e58139\" fill-opacity=\"0.980392\" points=\"1131.5,-306 1021.5,-306 1021.5,-223 1131.5,-223 1131.5,-306\" stroke=\"#000000\"/>\n<text fill=\"#000000\" font-family=\"Times,serif\" font-size=\"14.00\" text-anchor=\"middle\" x=\"1076.5\" y=\"-290.8\">36 &lt;= 2.446</text>\n<text fill=\"#000000\" font-family=\"Times,serif\" font-size=\"14.00\" text-anchor=\"middle\" x=\"1076.5\" y=\"-275.8\">gini = 0.041</text>\n<text fill=\"#000000\" font-family=\"Times,serif\" font-size=\"14.00\" text-anchor=\"middle\" x=\"1076.5\" y=\"-260.8\">samples = 431</text>\n<text fill=\"#000000\" font-family=\"Times,serif\" font-size=\"14.00\" text-anchor=\"middle\" x=\"1076.5\" y=\"-245.8\">value = [422, 9]</text>\n<text fill=\"#000000\" font-family=\"Times,serif\" font-size=\"14.00\" text-anchor=\"middle\" x=\"1076.5\" y=\"-230.8\">class = No</text>\n</g>\n<!-- 12&#45;&gt;20 -->\n<g class=\"edge\" id=\"edge20\">\n<title>12-&gt;20</title>\n<path d=\"M844.6359,-357.09C894.4124,-337.2128 962.28,-310.1114 1011.7231,-290.3673\" fill=\"none\" stroke=\"#000000\"/>\n<polygon fill=\"#000000\" points=\"1013.0545,-293.6044 1021.0434,-286.6454 1010.4585,-287.1036 1013.0545,-293.6044\" stroke=\"#000000\"/>\n</g>\n<!-- 14 -->\n<g class=\"node\" id=\"node15\">\n<title>14</title>\n<polygon fill=\"#399de5\" fill-opacity=\"0.996078\" points=\"773,-187 656,-187 656,-104 773,-104 773,-187\" stroke=\"#000000\"/>\n<text fill=\"#000000\" font-family=\"Times,serif\" font-size=\"14.00\" text-anchor=\"middle\" x=\"714.5\" y=\"-171.8\">27 &lt;= 4.095</text>\n<text fill=\"#000000\" font-family=\"Times,serif\" font-size=\"14.00\" text-anchor=\"middle\" x=\"714.5\" y=\"-156.8\">gini = 0.011</text>\n<text fill=\"#000000\" font-family=\"Times,serif\" font-size=\"14.00\" text-anchor=\"middle\" x=\"714.5\" y=\"-141.8\">samples = 1078</text>\n<text fill=\"#000000\" font-family=\"Times,serif\" font-size=\"14.00\" text-anchor=\"middle\" x=\"714.5\" y=\"-126.8\">value = [6, 1072]</text>\n<text fill=\"#000000\" font-family=\"Times,serif\" font-size=\"14.00\" text-anchor=\"middle\" x=\"714.5\" y=\"-111.8\">class = BRCA</text>\n</g>\n<!-- 13&#45;&gt;14 -->\n<g class=\"edge\" id=\"edge14\">\n<title>13-&gt;14</title>\n<path d=\"M756.1159,-222.8796C751.5144,-214.3236 746.6204,-205.2238 741.8658,-196.3833\" fill=\"none\" stroke=\"#000000\"/>\n<polygon fill=\"#000000\" points=\"744.7988,-194.4473 736.9796,-187.2981 738.6338,-197.763 744.7988,-194.4473\" stroke=\"#000000\"/>\n</g>\n<!-- 17 -->\n<g class=\"node\" id=\"node18\">\n<title>17</title>\n<polygon fill=\"#e58139\" fill-opacity=\"0.972549\" points=\"893.5,-187 791.5,-187 791.5,-104 893.5,-104 893.5,-187\" stroke=\"#000000\"/>\n<text fill=\"#000000\" font-family=\"Times,serif\" font-size=\"14.00\" text-anchor=\"middle\" x=\"842.5\" y=\"-171.8\">34 &lt;= 0.415</text>\n<text fill=\"#000000\" font-family=\"Times,serif\" font-size=\"14.00\" text-anchor=\"middle\" x=\"842.5\" y=\"-156.8\">gini = 0.054</text>\n<text fill=\"#000000\" font-family=\"Times,serif\" font-size=\"14.00\" text-anchor=\"middle\" x=\"842.5\" y=\"-141.8\">samples = 36</text>\n<text fill=\"#000000\" font-family=\"Times,serif\" font-size=\"14.00\" text-anchor=\"middle\" x=\"842.5\" y=\"-126.8\">value = [35, 1]</text>\n<text fill=\"#000000\" font-family=\"Times,serif\" font-size=\"14.00\" text-anchor=\"middle\" x=\"842.5\" y=\"-111.8\">class = No</text>\n</g>\n<!-- 13&#45;&gt;17 -->\n<g class=\"edge\" id=\"edge17\">\n<title>13-&gt;17</title>\n<path d=\"M800.8841,-222.8796C805.4856,-214.3236 810.3796,-205.2238 815.1342,-196.3833\" fill=\"none\" stroke=\"#000000\"/>\n<polygon fill=\"#000000\" points=\"818.3662,-197.763 820.0204,-187.2981 812.2012,-194.4473 818.3662,-197.763\" stroke=\"#000000\"/>\n</g>\n<!-- 15 -->\n<g class=\"node\" id=\"node16\">\n<title>15</title>\n<polygon fill=\"#399de5\" fill-opacity=\"0.996078\" points=\"651,-68 534,-68 534,0 651,0 651,-68\" stroke=\"#000000\"/>\n<text fill=\"#000000\" font-family=\"Times,serif\" font-size=\"14.00\" text-anchor=\"middle\" x=\"592.5\" y=\"-52.8\">gini = 0.009</text>\n<text fill=\"#000000\" font-family=\"Times,serif\" font-size=\"14.00\" text-anchor=\"middle\" x=\"592.5\" y=\"-37.8\">samples = 1075</text>\n<text fill=\"#000000\" font-family=\"Times,serif\" font-size=\"14.00\" text-anchor=\"middle\" x=\"592.5\" y=\"-22.8\">value = [5, 1070]</text>\n<text fill=\"#000000\" font-family=\"Times,serif\" font-size=\"14.00\" text-anchor=\"middle\" x=\"592.5\" y=\"-7.8\">class = BRCA</text>\n</g>\n<!-- 14&#45;&gt;15 -->\n<g class=\"edge\" id=\"edge15\">\n<title>14-&gt;15</title>\n<path d=\"M669.0717,-103.9815C658.7139,-94.5151 647.7141,-84.462 637.3794,-75.0168\" fill=\"none\" stroke=\"#000000\"/>\n<polygon fill=\"#000000\" points=\"639.7331,-72.4264 629.9903,-68.2637 635.0107,-77.5935 639.7331,-72.4264\" stroke=\"#000000\"/>\n</g>\n<!-- 16 -->\n<g class=\"node\" id=\"node17\">\n<title>16</title>\n<polygon fill=\"#399de5\" fill-opacity=\"0.498039\" points=\"767.5,-68 669.5,-68 669.5,0 767.5,0 767.5,-68\" stroke=\"#000000\"/>\n<text fill=\"#000000\" font-family=\"Times,serif\" font-size=\"14.00\" text-anchor=\"middle\" x=\"718.5\" y=\"-52.8\">gini = 0.444</text>\n<text fill=\"#000000\" font-family=\"Times,serif\" font-size=\"14.00\" text-anchor=\"middle\" x=\"718.5\" y=\"-37.8\">samples = 3</text>\n<text fill=\"#000000\" font-family=\"Times,serif\" font-size=\"14.00\" text-anchor=\"middle\" x=\"718.5\" y=\"-22.8\">value = [1, 2]</text>\n<text fill=\"#000000\" font-family=\"Times,serif\" font-size=\"14.00\" text-anchor=\"middle\" x=\"718.5\" y=\"-7.8\">class = BRCA</text>\n</g>\n<!-- 14&#45;&gt;16 -->\n<g class=\"edge\" id=\"edge16\">\n<title>14-&gt;16</title>\n<path d=\"M715.9895,-103.9815C716.2895,-95.618 716.606,-86.7965 716.9093,-78.3409\" fill=\"none\" stroke=\"#000000\"/>\n<polygon fill=\"#000000\" points=\"720.41,-78.3828 717.2708,-68.2637 713.4145,-78.1317 720.41,-78.3828\" stroke=\"#000000\"/>\n</g>\n<!-- 18 -->\n<g class=\"node\" id=\"node19\">\n<title>18</title>\n<polygon fill=\"#399de5\" points=\"883.5,-68 785.5,-68 785.5,0 883.5,0 883.5,-68\" stroke=\"#000000\"/>\n<text fill=\"#000000\" font-family=\"Times,serif\" font-size=\"14.00\" text-anchor=\"middle\" x=\"834.5\" y=\"-52.8\">gini = 0.0</text>\n<text fill=\"#000000\" font-family=\"Times,serif\" font-size=\"14.00\" text-anchor=\"middle\" x=\"834.5\" y=\"-37.8\">samples = 1</text>\n<text fill=\"#000000\" font-family=\"Times,serif\" font-size=\"14.00\" text-anchor=\"middle\" x=\"834.5\" y=\"-22.8\">value = [0, 1]</text>\n<text fill=\"#000000\" font-family=\"Times,serif\" font-size=\"14.00\" text-anchor=\"middle\" x=\"834.5\" y=\"-7.8\">class = BRCA</text>\n</g>\n<!-- 17&#45;&gt;18 -->\n<g class=\"edge\" id=\"edge18\">\n<title>17-&gt;18</title>\n<path d=\"M839.5211,-103.9815C838.921,-95.618 838.2881,-86.7965 837.6814,-78.3409\" fill=\"none\" stroke=\"#000000\"/>\n<polygon fill=\"#000000\" points=\"841.1651,-77.9875 836.9584,-68.2637 834.1831,-78.4885 841.1651,-77.9875\" stroke=\"#000000\"/>\n</g>\n<!-- 19 -->\n<g class=\"node\" id=\"node20\">\n<title>19</title>\n<polygon fill=\"#e58139\" points=\"1003.5,-68 901.5,-68 901.5,0 1003.5,0 1003.5,-68\" stroke=\"#000000\"/>\n<text fill=\"#000000\" font-family=\"Times,serif\" font-size=\"14.00\" text-anchor=\"middle\" x=\"952.5\" y=\"-52.8\">gini = 0.0</text>\n<text fill=\"#000000\" font-family=\"Times,serif\" font-size=\"14.00\" text-anchor=\"middle\" x=\"952.5\" y=\"-37.8\">samples = 35</text>\n<text fill=\"#000000\" font-family=\"Times,serif\" font-size=\"14.00\" text-anchor=\"middle\" x=\"952.5\" y=\"-22.8\">value = [35, 0]</text>\n<text fill=\"#000000\" font-family=\"Times,serif\" font-size=\"14.00\" text-anchor=\"middle\" x=\"952.5\" y=\"-7.8\">class = No</text>\n</g>\n<!-- 17&#45;&gt;19 -->\n<g class=\"edge\" id=\"edge19\">\n<title>17-&gt;19</title>\n<path d=\"M883.4599,-103.9815C892.6176,-94.6989 902.3319,-84.8522 911.4915,-75.5677\" fill=\"none\" stroke=\"#000000\"/>\n<polygon fill=\"#000000\" points=\"914.1658,-77.8406 918.6973,-68.2637 909.1826,-72.9244 914.1658,-77.8406\" stroke=\"#000000\"/>\n</g>\n<!-- 21 -->\n<g class=\"node\" id=\"node22\">\n<title>21</title>\n<polygon fill=\"#e58139\" fill-opacity=\"0.992157\" points=\"1131.5,-187 1021.5,-187 1021.5,-104 1131.5,-104 1131.5,-187\" stroke=\"#000000\"/>\n<text fill=\"#000000\" font-family=\"Times,serif\" font-size=\"14.00\" text-anchor=\"middle\" x=\"1076.5\" y=\"-171.8\">12 &lt;= 8.236</text>\n<text fill=\"#000000\" font-family=\"Times,serif\" font-size=\"14.00\" text-anchor=\"middle\" x=\"1076.5\" y=\"-156.8\">gini = 0.014</text>\n<text fill=\"#000000\" font-family=\"Times,serif\" font-size=\"14.00\" text-anchor=\"middle\" x=\"1076.5\" y=\"-141.8\">samples = 425</text>\n<text fill=\"#000000\" font-family=\"Times,serif\" font-size=\"14.00\" text-anchor=\"middle\" x=\"1076.5\" y=\"-126.8\">value = [422, 3]</text>\n<text fill=\"#000000\" font-family=\"Times,serif\" font-size=\"14.00\" text-anchor=\"middle\" x=\"1076.5\" y=\"-111.8\">class = No</text>\n</g>\n<!-- 20&#45;&gt;21 -->\n<g class=\"edge\" id=\"edge21\">\n<title>20-&gt;21</title>\n<path d=\"M1076.5,-222.8796C1076.5,-214.6838 1076.5,-205.9891 1076.5,-197.5013\" fill=\"none\" stroke=\"#000000\"/>\n<polygon fill=\"#000000\" points=\"1080.0001,-197.298 1076.5,-187.2981 1073.0001,-197.2981 1080.0001,-197.298\" stroke=\"#000000\"/>\n</g>\n<!-- 24 -->\n<g class=\"node\" id=\"node25\">\n<title>24</title>\n<polygon fill=\"#399de5\" points=\"1247.5,-179.5 1149.5,-179.5 1149.5,-111.5 1247.5,-111.5 1247.5,-179.5\" stroke=\"#000000\"/>\n<text fill=\"#000000\" font-family=\"Times,serif\" font-size=\"14.00\" text-anchor=\"middle\" x=\"1198.5\" y=\"-164.3\">gini = 0.0</text>\n<text fill=\"#000000\" font-family=\"Times,serif\" font-size=\"14.00\" text-anchor=\"middle\" x=\"1198.5\" y=\"-149.3\">samples = 6</text>\n<text fill=\"#000000\" font-family=\"Times,serif\" font-size=\"14.00\" text-anchor=\"middle\" x=\"1198.5\" y=\"-134.3\">value = [0, 6]</text>\n<text fill=\"#000000\" font-family=\"Times,serif\" font-size=\"14.00\" text-anchor=\"middle\" x=\"1198.5\" y=\"-119.3\">class = BRCA</text>\n</g>\n<!-- 20&#45;&gt;24 -->\n<g class=\"edge\" id=\"edge24\">\n<title>20-&gt;24</title>\n<path d=\"M1119.1697,-222.8796C1131.1194,-211.2237 1144.1037,-198.5587 1156.0411,-186.9148\" fill=\"none\" stroke=\"#000000\"/>\n<polygon fill=\"#000000\" points=\"1158.6053,-189.303 1163.32,-179.8149 1153.7175,-184.292 1158.6053,-189.303\" stroke=\"#000000\"/>\n</g>\n<!-- 22 -->\n<g class=\"node\" id=\"node23\">\n<title>22</title>\n<polygon fill=\"#e58139\" fill-opacity=\"0.996078\" points=\"1131.5,-68 1021.5,-68 1021.5,0 1131.5,0 1131.5,-68\" stroke=\"#000000\"/>\n<text fill=\"#000000\" font-family=\"Times,serif\" font-size=\"14.00\" text-anchor=\"middle\" x=\"1076.5\" y=\"-52.8\">gini = 0.009</text>\n<text fill=\"#000000\" font-family=\"Times,serif\" font-size=\"14.00\" text-anchor=\"middle\" x=\"1076.5\" y=\"-37.8\">samples = 424</text>\n<text fill=\"#000000\" font-family=\"Times,serif\" font-size=\"14.00\" text-anchor=\"middle\" x=\"1076.5\" y=\"-22.8\">value = [422, 2]</text>\n<text fill=\"#000000\" font-family=\"Times,serif\" font-size=\"14.00\" text-anchor=\"middle\" x=\"1076.5\" y=\"-7.8\">class = No</text>\n</g>\n<!-- 21&#45;&gt;22 -->\n<g class=\"edge\" id=\"edge22\">\n<title>21-&gt;22</title>\n<path d=\"M1076.5,-103.9815C1076.5,-95.618 1076.5,-86.7965 1076.5,-78.3409\" fill=\"none\" stroke=\"#000000\"/>\n<polygon fill=\"#000000\" points=\"1080.0001,-78.2636 1076.5,-68.2637 1073.0001,-78.2637 1080.0001,-78.2636\" stroke=\"#000000\"/>\n</g>\n<!-- 23 -->\n<g class=\"node\" id=\"node24\">\n<title>23</title>\n<polygon fill=\"#399de5\" points=\"1247.5,-68 1149.5,-68 1149.5,0 1247.5,0 1247.5,-68\" stroke=\"#000000\"/>\n<text fill=\"#000000\" font-family=\"Times,serif\" font-size=\"14.00\" text-anchor=\"middle\" x=\"1198.5\" y=\"-52.8\">gini = 0.0</text>\n<text fill=\"#000000\" font-family=\"Times,serif\" font-size=\"14.00\" text-anchor=\"middle\" x=\"1198.5\" y=\"-37.8\">samples = 1</text>\n<text fill=\"#000000\" font-family=\"Times,serif\" font-size=\"14.00\" text-anchor=\"middle\" x=\"1198.5\" y=\"-22.8\">value = [0, 1]</text>\n<text fill=\"#000000\" font-family=\"Times,serif\" font-size=\"14.00\" text-anchor=\"middle\" x=\"1198.5\" y=\"-7.8\">class = BRCA</text>\n</g>\n<!-- 21&#45;&gt;23 -->\n<g class=\"edge\" id=\"edge23\">\n<title>21-&gt;23</title>\n<path d=\"M1121.9283,-103.9815C1132.2861,-94.5151 1143.2859,-84.462 1153.6206,-75.0168\" fill=\"none\" stroke=\"#000000\"/>\n<polygon fill=\"#000000\" points=\"1155.9893,-77.5935 1161.0097,-68.2637 1151.2669,-72.4264 1155.9893,-77.5935\" stroke=\"#000000\"/>\n</g>\n</g>\n</svg>"
          },
          "metadata": {
            "tags": []
          }
        }
      ]
    },
    {
      "metadata": {
        "id": "Wl0l4acaGGIL",
        "colab_type": "code",
        "outputId": "9c780684-8324-430c-86b5-f2be9675cb2f",
        "colab": {
          "base_uri": "https://localhost:8080/",
          "height": 866
        }
      },
      "cell_type": "code",
      "source": [
        "def print_decision_tree(tree, feature_names=None, offset_unit='    '):\n",
        "    '''Plots textual representation of rules of a decision tree\n",
        "    tree: scikit-learn representation of tree\n",
        "    feature_names: list of feature names. They are set to f1,f2,f3,... if not specified\n",
        "    offset_unit: a string of offset of the conditional block'''\n",
        "\n",
        "    left      = tree.tree_.children_left\n",
        "    right     = tree.tree_.children_right\n",
        "    threshold = tree.tree_.threshold\n",
        "    value = tree.tree_.value\n",
        "    if feature_names is None:\n",
        "        features  = ['f%d'%i for i in tree.tree_.feature]\n",
        "    else:\n",
        "        features  = [feature_names[i] for i in tree.tree_.feature]        \n",
        "\n",
        "    def recurse(left, right, threshold, features, node, depth=0):\n",
        "            offset = offset_unit*depth\n",
        "            if (threshold[node] != -2):\n",
        "                    print(offset+\"if ( \" + features[node] + \" <= \" + str(threshold[node]) + \" ) {\")\n",
        "                    if left[node] != -1:\n",
        "                            recurse (left, right, threshold, features,left[node],depth+1)\n",
        "                    print(offset+\"} else {\")\n",
        "                    if right[node] != -1:\n",
        "                            recurse (left, right, threshold, features,right[node],depth+1)\n",
        "                    print(offset+\"}\")\n",
        "            else:\n",
        "                    print(offset+\"return \" + str(value[node]))\n",
        "\n",
        "    recurse(left, right, threshold, features, 0,0)\n",
        "print_decision_tree(dt_model, feature_names=X.columns, )"
      ],
      "execution_count": 0,
      "outputs": [
        {
          "output_type": "stream",
          "text": [
            "if ( 19 <= 5.799833297729492 ) {\n",
            "    if ( 13 <= 14.836713790893555 ) {\n",
            "        if ( 19 <= 4.895633220672607 ) {\n",
            "            if ( 19 <= 3.3732542991638184 ) {\n",
            "                return [[7566.   12.]]\n",
            "            } else {\n",
            "                return [[361.  25.]]\n",
            "            }\n",
            "        } else {\n",
            "            if ( 36 <= 3.539609909057617 ) {\n",
            "                return [[151.  10.]]\n",
            "            } else {\n",
            "                return [[ 0. 46.]]\n",
            "            }\n",
            "        }\n",
            "    } else {\n",
            "        if ( 6 <= 5.3801589012146 ) {\n",
            "            return [[ 0. 20.]]\n",
            "        } else {\n",
            "            return [[4. 0.]]\n",
            "        }\n",
            "    }\n",
            "} else {\n",
            "    if ( 17 <= 2.4345645904541016 ) {\n",
            "        if ( 1 <= 4.0673112869262695 ) {\n",
            "            if ( 27 <= 4.094531059265137 ) {\n",
            "                return [[   5. 1070.]]\n",
            "            } else {\n",
            "                return [[1. 2.]]\n",
            "            }\n",
            "        } else {\n",
            "            if ( 34 <= 0.41529354453086853 ) {\n",
            "                return [[0. 1.]]\n",
            "            } else {\n",
            "                return [[35.  0.]]\n",
            "            }\n",
            "        }\n",
            "    } else {\n",
            "        if ( 36 <= 2.4457573890686035 ) {\n",
            "            if ( 12 <= 8.236474990844727 ) {\n",
            "                return [[422.   2.]]\n",
            "            } else {\n",
            "                return [[0. 1.]]\n",
            "            }\n",
            "        } else {\n",
            "            return [[0. 6.]]\n",
            "        }\n",
            "    }\n",
            "}\n"
          ],
          "name": "stdout"
        }
      ]
    },
    {
      "metadata": {
        "id": "xZ2Es4pfOT_2",
        "colab_type": "code",
        "outputId": "39eb77f6-11cd-49bc-9388-f6408909473b",
        "colab": {
          "base_uri": "https://localhost:8080/",
          "height": 416
        }
      },
      "cell_type": "code",
      "source": [
        "from time import time\n",
        "import numpy as np\n",
        "import matplotlib.pyplot as plt\n",
        "\n",
        "from sklearn import metrics\n",
        "from sklearn.cluster import KMeans\n",
        "from sklearn.datasets import load_digits\n",
        "from sklearn.decomposition import PCA\n",
        "from sklearn.preprocessing import scale\n",
        "\n",
        "np.random.seed(42)\n",
        "\n",
        "\n",
        "data = X_train\n",
        "\n",
        "n_samples, n_features = data.shape\n",
        "print(n_samples, n_features)\n",
        "n_digits = 33\n",
        "labels = y_train\n",
        "\n",
        "sample_size = 1000\n",
        "\n",
        "print(\"n_digits: %d, \\t n_samples %d, \\t n_features %d\"\n",
        "      % (n_digits, n_samples, n_features))\n",
        "\n",
        "\n",
        "print(82 * '_')\n",
        "print('init\\t\\ttime\\tinertia\\thomo\\tcompl\\tv-meas\\tARI\\tAMI\\tsilhouette')\n",
        "\n",
        "\n",
        "def bench_k_means(estimator, name, data):\n",
        "    t0 = time()\n",
        "    estimator.fit(data)\n",
        "    print('%-9s\\t%.2fs\\t%i\\t%.3f\\t%.3f\\t%.3f\\t%.3f\\t%.3f\\t%.3f'\n",
        "          % (name, (time() - t0), estimator.inertia_,\n",
        "             metrics.homogeneity_score(labels, estimator.labels_),\n",
        "             metrics.completeness_score(labels, estimator.labels_),\n",
        "             metrics.v_measure_score(labels, estimator.labels_),\n",
        "             metrics.adjusted_rand_score(labels, estimator.labels_),\n",
        "             metrics.adjusted_mutual_info_score(labels,  estimator.labels_),\n",
        "             metrics.silhouette_score(data, estimator.labels_,\n",
        "                                      metric='euclidean',\n",
        "                                      sample_size=sample_size)))\n",
        "\n",
        "bench_k_means(KMeans(init='k-means++', n_clusters=n_digits, n_init=10),\n",
        "              name=\"k-means++\", data=data)\n",
        "\n",
        "bench_k_means(KMeans(init='random', n_clusters=n_digits, n_init=10),\n",
        "              name=\"random\", data=data)\n",
        "\n",
        "# in this case the seeding of the centers is deterministic, hence we run the\n",
        "# kmeans algorithm only once with n_init=1\n",
        "pca = PCA(n_components=n_digits).fit(data)\n",
        "bench_k_means(KMeans(init=pca.components_, n_clusters=n_digits, n_init=1),\n",
        "              name=\"PCA-based\",\n",
        "              data=data)\n",
        "print(82 * '_')\n",
        "\n",
        "# #############################################################################\n",
        "# Visualize the results on PCA-reduced data\n",
        "\n",
        "reduced_data = PCA(n_components=2).fit_transform(data)\n",
        "kmeans = KMeans(init='k-means++', n_clusters=n_digits, n_init=10)\n",
        "kmeans.fit(reduced_data)\n",
        "\n",
        "# Step size of the mesh. Decrease to increase the quality of the VQ.\n",
        "h = .02     # point in the mesh [x_min, x_max]x[y_min, y_max].\n",
        "\n",
        "# Plot the decision boundary. For that, we will assign a color to each\n",
        "x_min, x_max = reduced_data[:, 0].min() - 1, reduced_data[:, 0].max() + 1\n",
        "y_min, y_max = reduced_data[:, 1].min() - 1, reduced_data[:, 1].max() + 1\n",
        "xx, yy = np.meshgrid(np.arange(x_min, x_max, h), np.arange(y_min, y_max, h))\n",
        "\n",
        "# Obtain labels for each point in mesh. Use last trained model.\n",
        "Z = kmeans.predict(np.c_[xx.ravel(), yy.ravel()])\n",
        "\n",
        "# Put the result into a color plot\n",
        "Z = Z.reshape(xx.shape)\n",
        "plt.figure(1)\n",
        "plt.clf()\n",
        "plt.imshow(Z, interpolation='nearest',\n",
        "           extent=(xx.min(), xx.max(), yy.min(), yy.max()),\n",
        "           cmap=plt.cm.Paired,\n",
        "           aspect='auto', origin='lower')\n",
        "\n",
        "plt.plot(reduced_data[:, 0], reduced_data[:, 1], 'k.', markersize=2)\n",
        "# Plot the centroids as a white X\n",
        "centroids = kmeans.cluster_centers_\n",
        "plt.scatter(centroids[:, 0], centroids[:, 1],\n",
        "            marker='x', s=169, linewidths=3,\n",
        "            color='w', zorder=10)\n",
        "plt.title('K-means clustering on the digits dataset (PCA-reduced data)\\n'\n",
        "          'Centroids are marked with white cross')\n",
        "plt.xlim(x_min, x_max)\n",
        "plt.ylim(y_min, y_max)\n",
        "plt.xticks(())\n",
        "plt.yticks(())\n",
        "plt.show()"
      ],
      "execution_count": 0,
      "outputs": [
        {
          "output_type": "stream",
          "text": [
            "(9740, 36)\n",
            "n_digits: 33, \t n_samples 9740, \t n_features 36\n",
            "__________________________________________________________________________________\n",
            "init\t\ttime\tinertia\thomo\tcompl\tv-meas\tARI\tAMI\tsilhouette\n",
            "k-means++\t1.86s\t640250\t0.944\t0.105\t0.188\t0.021\t0.104\t0.363\n",
            "random   \t2.05s\t720551\t0.892\t0.100\t0.180\t0.021\t0.099\t0.302\n",
            "PCA-based\t0.20s\t788495\t0.945\t0.108\t0.193\t0.025\t0.107\t0.332\n",
            "__________________________________________________________________________________\n"
          ],
          "name": "stdout"
        },
        {
          "output_type": "display_data",
          "data": {
            "image/png": "[encoded data removed]",
            "text/plain": [
              "<matplotlib.figure.Figure at 0x7fc9ba5ff350>"
            ]
          },
          "metadata": {
            "tags": []
          }
        }
      ]
    },
    {
      "metadata": {
        "id": "Bn-cWpRosYux",
        "colab_type": "text"
      },
      "cell_type": "markdown",
      "source": [
        "# Random forest classifier for disease "
      ]
    },
    {
      "metadata": {
        "id": "5k_yQnpER9Vo",
        "colab_type": "text"
      },
      "cell_type": "markdown",
      "source": [
        "Let us use a random forest classifier to learn to detect disease from the activations of latent features.\n",
        "\n",
        "An RF is an ensemble of trees, each tree is a classifier. RF builds n_estimators number of trees and averages their opinion. Since each tree only learns from a subset of rows and a subset of feature columns, it avoids overfitting."
      ]
    },
    {
      "metadata": {
        "id": "kUnZQb0aGmqz",
        "colab_type": "code",
        "outputId": "b69490ff-9dab-4dae-b07d-be6f51a838ff",
        "colab": {
          "base_uri": "https://localhost:8080/",
          "height": 151
        }
      },
      "cell_type": "code",
      "source": [
        "rf_model = RandomForestClassifier(n_estimators=10, verbose=1)\n",
        "rf_model.fit(X_train, y_train)"
      ],
      "execution_count": 0,
      "outputs": [
        {
          "output_type": "stream",
          "text": [
            "[Parallel(n_jobs=1)]: Done  10 out of  10 | elapsed:    0.1s finished\n"
          ],
          "name": "stderr"
        },
        {
          "output_type": "execute_result",
          "data": {
            "text/plain": [
              "RandomForestClassifier(bootstrap=True, class_weight=None, criterion='gini',\n",
              "            max_depth=None, max_features='auto', max_leaf_nodes=None,\n",
              "            min_impurity_decrease=0.0, min_impurity_split=None,\n",
              "            min_samples_leaf=1, min_samples_split=2,\n",
              "            min_weight_fraction_leaf=0.0, n_estimators=10, n_jobs=1,\n",
              "            oob_score=False, random_state=None, verbose=1,\n",
              "            warm_start=False)"
            ]
          },
          "metadata": {
            "tags": []
          },
          "execution_count": 116
        }
      ]
    },
    {
      "metadata": {
        "id": "vD5I6EL1S6lj",
        "colab_type": "text"
      },
      "cell_type": "markdown",
      "source": [
        "Let us see how well it has learned the training data"
      ]
    },
    {
      "metadata": {
        "id": "mUl4OXG2Grki",
        "colab_type": "code",
        "outputId": "aaed71eb-1884-4efb-a407-ec8d1c2fa519",
        "colab": {
          "base_uri": "https://localhost:8080/",
          "height": 50
        }
      },
      "cell_type": "code",
      "source": [
        "rf_model.score(X_train, y_train)"
      ],
      "execution_count": 0,
      "outputs": [
        {
          "output_type": "stream",
          "text": [
            "[Parallel(n_jobs=1)]: Done  10 out of  10 | elapsed:    0.0s finished\n"
          ],
          "name": "stderr"
        },
        {
          "output_type": "execute_result",
          "data": {
            "text/plain": [
              "1.0"
            ]
          },
          "metadata": {
            "tags": []
          },
          "execution_count": 117
        }
      ]
    },
    {
      "metadata": {
        "id": "iZ0AI-K5S_Gb",
        "colab_type": "text"
      },
      "cell_type": "markdown",
      "source": [
        "But the real scoring is on the test data which teh model has not seen or memorized!"
      ]
    },
    {
      "metadata": {
        "id": "2DxKxENjGtua",
        "colab_type": "code",
        "outputId": "ab76e25e-281b-4773-8c92-4ec48b7fee72",
        "colab": {
          "base_uri": "https://localhost:8080/",
          "height": 50
        }
      },
      "cell_type": "code",
      "source": [
        "rf_model.score(X_test, y_test)"
      ],
      "execution_count": 0,
      "outputs": [
        {
          "output_type": "stream",
          "text": [
            "[Parallel(n_jobs=1)]: Done  10 out of  10 | elapsed:    0.0s finished\n"
          ],
          "name": "stderr"
        },
        {
          "output_type": "execute_result",
          "data": {
            "text/plain": [
              "0.9987679671457905"
            ]
          },
          "metadata": {
            "tags": []
          },
          "execution_count": 118
        }
      ]
    },
    {
      "metadata": {
        "id": "tA_fCU5HU0Ui",
        "colab_type": "text"
      },
      "cell_type": "markdown",
      "source": [
        "Since test is very bad compared to training, there is overfitting happening.  One way to reduce is to make sure there is enough samples at each tree. Let us tell the tree that it should not try to split a bucket if there are less than 4 examples in that bucket or if there will be less than 2 examples in the split result bucket."
      ]
    },
    {
      "metadata": {
        "id": "WzO2Td2bTUI2",
        "colab_type": "code",
        "outputId": "1cf029b0-e5b3-4ce0-f196-7a8d64b0517e",
        "colab": {
          "base_uri": "https://localhost:8080/",
          "height": 67
        }
      },
      "cell_type": "code",
      "source": [
        "N=1000\n",
        "\n",
        "rf_model = RandomForestClassifier(n_estimators=N, min_samples_leaf=2, min_samples_split=4)\n",
        "rf_model.fit(X_train, y_train)\n",
        "\n",
        "train_score=rf_model.score(X_train, y_train)\n",
        "test_score=rf_model.score(X_test, y_test)\n",
        "print('Number of estimators =', N)\n",
        "print('Train score:', train_score)\n",
        "print('Test score:', test_score)"
      ],
      "execution_count": 0,
      "outputs": [
        {
          "output_type": "stream",
          "text": [
            "('Number of estimators =', 1000)\n",
            "('Train score:', 0.9893223819301848)\n",
            "('Test score:', 0.9363449691991786)\n"
          ],
          "name": "stdout"
        }
      ]
    },
    {
      "metadata": {
        "id": "3elwvt5mWb3r",
        "colab_type": "text"
      },
      "cell_type": "markdown",
      "source": [
        "This is decent, but where is it going wrong? "
      ]
    },
    {
      "metadata": {
        "id": "yrvKIMujWuPS",
        "colab_type": "text"
      },
      "cell_type": "markdown",
      "source": [
        "Let us explore the predictions and see which cancer types are getting missed out."
      ]
    },
    {
      "metadata": {
        "id": "2fajMqa8edGK",
        "colab_type": "code",
        "colab": {}
      },
      "cell_type": "code",
      "source": [
        "y_pred = rf_model.predict(X_test)"
      ],
      "execution_count": 0,
      "outputs": []
    },
    {
      "metadata": {
        "id": "7knXMzvDXP6G",
        "colab_type": "code",
        "outputId": "d444bc1e-97bc-4005-ce36-1bc9328feb70",
        "colab": {
          "base_uri": "https://localhost:8080/",
          "height": 34
        }
      },
      "cell_type": "code",
      "source": [
        "y_pred"
      ],
      "execution_count": 0,
      "outputs": [
        {
          "output_type": "execute_result",
          "data": {
            "text/plain": [
              "array(['SKCM', 'BRCA', 'BRCA', ..., 'KIRP', 'OV', 'COAD'], dtype=object)"
            ]
          },
          "metadata": {
            "tags": []
          },
          "execution_count": 51
        }
      ]
    },
    {
      "metadata": {
        "id": "69lya9MsXSTl",
        "colab_type": "code",
        "outputId": "d2050e6b-90ce-432c-d4c0-08d8da7935e0",
        "colab": {
          "base_uri": "https://localhost:8080/",
          "height": 34
        }
      },
      "cell_type": "code",
      "source": [
        "y_test.values"
      ],
      "execution_count": 0,
      "outputs": [
        {
          "output_type": "execute_result",
          "data": {
            "text/plain": [
              "array(['SKCM', 'BRCA', 'BRCA', ..., 'KIRP', 'OV', 'COAD'], dtype=object)"
            ]
          },
          "metadata": {
            "tags": []
          },
          "execution_count": 53
        }
      ]
    },
    {
      "metadata": {
        "id": "DEoUKnJ8ehLC",
        "colab_type": "code",
        "colab": {}
      },
      "cell_type": "code",
      "source": [
        "confusion_matrix = pd.crosstab(y_pred, y_test)"
      ],
      "execution_count": 0,
      "outputs": []
    },
    {
      "metadata": {
        "id": "hE7RLaEXiv1o",
        "colab_type": "code",
        "outputId": "35c13f61-8757-4ce0-e06a-010dacfa0758",
        "colab": {
          "base_uri": "https://localhost:8080/",
          "height": 1102
        }
      },
      "cell_type": "code",
      "source": [
        "confusion_matrix"
      ],
      "execution_count": 0,
      "outputs": [
        {
          "output_type": "execute_result",
          "data": {
            "text/html": [
              "<div>\n",
              "<style scoped>\n",
              "    .dataframe tbody tr th:only-of-type {\n",
              "        vertical-align: middle;\n",
              "    }\n",
              "\n",
              "    .dataframe tbody tr th {\n",
              "        vertical-align: top;\n",
              "    }\n",
              "\n",
              "    .dataframe thead th {\n",
              "        text-align: right;\n",
              "    }\n",
              "</style>\n",
              "<table border=\"1\" class=\"dataframe\">\n",
              "  <thead>\n",
              "    <tr style=\"text-align: right;\">\n",
              "      <th>acronym</th>\n",
              "      <th>ACC</th>\n",
              "      <th>BLCA</th>\n",
              "      <th>BRCA</th>\n",
              "      <th>CESC</th>\n",
              "      <th>CHOL</th>\n",
              "      <th>COAD</th>\n",
              "      <th>DLBC</th>\n",
              "      <th>ESCA</th>\n",
              "      <th>GBM</th>\n",
              "      <th>HNSC</th>\n",
              "      <th>...</th>\n",
              "      <th>READ</th>\n",
              "      <th>SARC</th>\n",
              "      <th>SKCM</th>\n",
              "      <th>STAD</th>\n",
              "      <th>TGCT</th>\n",
              "      <th>THCA</th>\n",
              "      <th>THYM</th>\n",
              "      <th>UCEC</th>\n",
              "      <th>UCS</th>\n",
              "      <th>UVM</th>\n",
              "    </tr>\n",
              "    <tr>\n",
              "      <th>row_0</th>\n",
              "      <th></th>\n",
              "      <th></th>\n",
              "      <th></th>\n",
              "      <th></th>\n",
              "      <th></th>\n",
              "      <th></th>\n",
              "      <th></th>\n",
              "      <th></th>\n",
              "      <th></th>\n",
              "      <th></th>\n",
              "      <th></th>\n",
              "      <th></th>\n",
              "      <th></th>\n",
              "      <th></th>\n",
              "      <th></th>\n",
              "      <th></th>\n",
              "      <th></th>\n",
              "      <th></th>\n",
              "      <th></th>\n",
              "      <th></th>\n",
              "      <th></th>\n",
              "    </tr>\n",
              "  </thead>\n",
              "  <tbody>\n",
              "    <tr>\n",
              "      <th>ACC</th>\n",
              "      <td>22</td>\n",
              "      <td>0</td>\n",
              "      <td>0</td>\n",
              "      <td>0</td>\n",
              "      <td>0</td>\n",
              "      <td>0</td>\n",
              "      <td>0</td>\n",
              "      <td>0</td>\n",
              "      <td>0</td>\n",
              "      <td>0</td>\n",
              "      <td>...</td>\n",
              "      <td>0</td>\n",
              "      <td>0</td>\n",
              "      <td>0</td>\n",
              "      <td>0</td>\n",
              "      <td>0</td>\n",
              "      <td>0</td>\n",
              "      <td>0</td>\n",
              "      <td>0</td>\n",
              "      <td>0</td>\n",
              "      <td>0</td>\n",
              "    </tr>\n",
              "    <tr>\n",
              "      <th>BLCA</th>\n",
              "      <td>0</td>\n",
              "      <td>87</td>\n",
              "      <td>1</td>\n",
              "      <td>2</td>\n",
              "      <td>0</td>\n",
              "      <td>0</td>\n",
              "      <td>0</td>\n",
              "      <td>0</td>\n",
              "      <td>0</td>\n",
              "      <td>0</td>\n",
              "      <td>...</td>\n",
              "      <td>0</td>\n",
              "      <td>0</td>\n",
              "      <td>0</td>\n",
              "      <td>0</td>\n",
              "      <td>0</td>\n",
              "      <td>0</td>\n",
              "      <td>1</td>\n",
              "      <td>0</td>\n",
              "      <td>0</td>\n",
              "      <td>0</td>\n",
              "    </tr>\n",
              "    <tr>\n",
              "      <th>BRCA</th>\n",
              "      <td>0</td>\n",
              "      <td>0</td>\n",
              "      <td>315</td>\n",
              "      <td>0</td>\n",
              "      <td>0</td>\n",
              "      <td>0</td>\n",
              "      <td>0</td>\n",
              "      <td>0</td>\n",
              "      <td>0</td>\n",
              "      <td>0</td>\n",
              "      <td>...</td>\n",
              "      <td>0</td>\n",
              "      <td>0</td>\n",
              "      <td>0</td>\n",
              "      <td>0</td>\n",
              "      <td>0</td>\n",
              "      <td>0</td>\n",
              "      <td>0</td>\n",
              "      <td>0</td>\n",
              "      <td>0</td>\n",
              "      <td>0</td>\n",
              "    </tr>\n",
              "    <tr>\n",
              "      <th>CESC</th>\n",
              "      <td>0</td>\n",
              "      <td>1</td>\n",
              "      <td>0</td>\n",
              "      <td>67</td>\n",
              "      <td>0</td>\n",
              "      <td>0</td>\n",
              "      <td>0</td>\n",
              "      <td>0</td>\n",
              "      <td>0</td>\n",
              "      <td>3</td>\n",
              "      <td>...</td>\n",
              "      <td>0</td>\n",
              "      <td>0</td>\n",
              "      <td>0</td>\n",
              "      <td>0</td>\n",
              "      <td>0</td>\n",
              "      <td>0</td>\n",
              "      <td>0</td>\n",
              "      <td>1</td>\n",
              "      <td>0</td>\n",
              "      <td>0</td>\n",
              "    </tr>\n",
              "    <tr>\n",
              "      <th>CHOL</th>\n",
              "      <td>0</td>\n",
              "      <td>0</td>\n",
              "      <td>0</td>\n",
              "      <td>0</td>\n",
              "      <td>16</td>\n",
              "      <td>0</td>\n",
              "      <td>0</td>\n",
              "      <td>0</td>\n",
              "      <td>0</td>\n",
              "      <td>0</td>\n",
              "      <td>...</td>\n",
              "      <td>0</td>\n",
              "      <td>0</td>\n",
              "      <td>0</td>\n",
              "      <td>0</td>\n",
              "      <td>0</td>\n",
              "      <td>0</td>\n",
              "      <td>0</td>\n",
              "      <td>0</td>\n",
              "      <td>0</td>\n",
              "      <td>0</td>\n",
              "    </tr>\n",
              "    <tr>\n",
              "      <th>COAD</th>\n",
              "      <td>0</td>\n",
              "      <td>1</td>\n",
              "      <td>0</td>\n",
              "      <td>0</td>\n",
              "      <td>0</td>\n",
              "      <td>75</td>\n",
              "      <td>0</td>\n",
              "      <td>0</td>\n",
              "      <td>0</td>\n",
              "      <td>0</td>\n",
              "      <td>...</td>\n",
              "      <td>14</td>\n",
              "      <td>0</td>\n",
              "      <td>0</td>\n",
              "      <td>2</td>\n",
              "      <td>0</td>\n",
              "      <td>0</td>\n",
              "      <td>0</td>\n",
              "      <td>0</td>\n",
              "      <td>0</td>\n",
              "      <td>0</td>\n",
              "    </tr>\n",
              "    <tr>\n",
              "      <th>DLBC</th>\n",
              "      <td>0</td>\n",
              "      <td>0</td>\n",
              "      <td>0</td>\n",
              "      <td>0</td>\n",
              "      <td>0</td>\n",
              "      <td>0</td>\n",
              "      <td>11</td>\n",
              "      <td>0</td>\n",
              "      <td>0</td>\n",
              "      <td>0</td>\n",
              "      <td>...</td>\n",
              "      <td>0</td>\n",
              "      <td>0</td>\n",
              "      <td>0</td>\n",
              "      <td>0</td>\n",
              "      <td>0</td>\n",
              "      <td>0</td>\n",
              "      <td>0</td>\n",
              "      <td>0</td>\n",
              "      <td>0</td>\n",
              "      <td>0</td>\n",
              "    </tr>\n",
              "    <tr>\n",
              "      <th>ESCA</th>\n",
              "      <td>0</td>\n",
              "      <td>0</td>\n",
              "      <td>0</td>\n",
              "      <td>0</td>\n",
              "      <td>0</td>\n",
              "      <td>0</td>\n",
              "      <td>0</td>\n",
              "      <td>18</td>\n",
              "      <td>0</td>\n",
              "      <td>0</td>\n",
              "      <td>...</td>\n",
              "      <td>0</td>\n",
              "      <td>0</td>\n",
              "      <td>0</td>\n",
              "      <td>2</td>\n",
              "      <td>0</td>\n",
              "      <td>0</td>\n",
              "      <td>0</td>\n",
              "      <td>0</td>\n",
              "      <td>0</td>\n",
              "      <td>0</td>\n",
              "    </tr>\n",
              "    <tr>\n",
              "      <th>GBM</th>\n",
              "      <td>0</td>\n",
              "      <td>0</td>\n",
              "      <td>0</td>\n",
              "      <td>0</td>\n",
              "      <td>0</td>\n",
              "      <td>0</td>\n",
              "      <td>0</td>\n",
              "      <td>0</td>\n",
              "      <td>33</td>\n",
              "      <td>0</td>\n",
              "      <td>...</td>\n",
              "      <td>0</td>\n",
              "      <td>0</td>\n",
              "      <td>0</td>\n",
              "      <td>0</td>\n",
              "      <td>0</td>\n",
              "      <td>0</td>\n",
              "      <td>0</td>\n",
              "      <td>0</td>\n",
              "      <td>0</td>\n",
              "      <td>0</td>\n",
              "    </tr>\n",
              "    <tr>\n",
              "      <th>HNSC</th>\n",
              "      <td>0</td>\n",
              "      <td>2</td>\n",
              "      <td>0</td>\n",
              "      <td>2</td>\n",
              "      <td>0</td>\n",
              "      <td>0</td>\n",
              "      <td>0</td>\n",
              "      <td>10</td>\n",
              "      <td>0</td>\n",
              "      <td>122</td>\n",
              "      <td>...</td>\n",
              "      <td>0</td>\n",
              "      <td>0</td>\n",
              "      <td>0</td>\n",
              "      <td>0</td>\n",
              "      <td>0</td>\n",
              "      <td>0</td>\n",
              "      <td>0</td>\n",
              "      <td>0</td>\n",
              "      <td>0</td>\n",
              "      <td>0</td>\n",
              "    </tr>\n",
              "    <tr>\n",
              "      <th>KICH</th>\n",
              "      <td>0</td>\n",
              "      <td>0</td>\n",
              "      <td>0</td>\n",
              "      <td>0</td>\n",
              "      <td>0</td>\n",
              "      <td>0</td>\n",
              "      <td>0</td>\n",
              "      <td>0</td>\n",
              "      <td>0</td>\n",
              "      <td>0</td>\n",
              "      <td>...</td>\n",
              "      <td>0</td>\n",
              "      <td>0</td>\n",
              "      <td>0</td>\n",
              "      <td>0</td>\n",
              "      <td>0</td>\n",
              "      <td>0</td>\n",
              "      <td>0</td>\n",
              "      <td>0</td>\n",
              "      <td>0</td>\n",
              "      <td>0</td>\n",
              "    </tr>\n",
              "    <tr>\n",
              "      <th>KIRC</th>\n",
              "      <td>0</td>\n",
              "      <td>0</td>\n",
              "      <td>0</td>\n",
              "      <td>0</td>\n",
              "      <td>0</td>\n",
              "      <td>0</td>\n",
              "      <td>0</td>\n",
              "      <td>0</td>\n",
              "      <td>0</td>\n",
              "      <td>0</td>\n",
              "      <td>...</td>\n",
              "      <td>0</td>\n",
              "      <td>0</td>\n",
              "      <td>0</td>\n",
              "      <td>0</td>\n",
              "      <td>0</td>\n",
              "      <td>0</td>\n",
              "      <td>0</td>\n",
              "      <td>0</td>\n",
              "      <td>0</td>\n",
              "      <td>0</td>\n",
              "    </tr>\n",
              "    <tr>\n",
              "      <th>KIRP</th>\n",
              "      <td>0</td>\n",
              "      <td>0</td>\n",
              "      <td>0</td>\n",
              "      <td>0</td>\n",
              "      <td>0</td>\n",
              "      <td>0</td>\n",
              "      <td>0</td>\n",
              "      <td>0</td>\n",
              "      <td>0</td>\n",
              "      <td>0</td>\n",
              "      <td>...</td>\n",
              "      <td>0</td>\n",
              "      <td>0</td>\n",
              "      <td>0</td>\n",
              "      <td>0</td>\n",
              "      <td>0</td>\n",
              "      <td>0</td>\n",
              "      <td>0</td>\n",
              "      <td>0</td>\n",
              "      <td>0</td>\n",
              "      <td>0</td>\n",
              "    </tr>\n",
              "    <tr>\n",
              "      <th>LAML</th>\n",
              "      <td>0</td>\n",
              "      <td>0</td>\n",
              "      <td>0</td>\n",
              "      <td>0</td>\n",
              "      <td>0</td>\n",
              "      <td>0</td>\n",
              "      <td>0</td>\n",
              "      <td>0</td>\n",
              "      <td>0</td>\n",
              "      <td>0</td>\n",
              "      <td>...</td>\n",
              "      <td>0</td>\n",
              "      <td>0</td>\n",
              "      <td>0</td>\n",
              "      <td>0</td>\n",
              "      <td>0</td>\n",
              "      <td>0</td>\n",
              "      <td>0</td>\n",
              "      <td>0</td>\n",
              "      <td>0</td>\n",
              "      <td>0</td>\n",
              "    </tr>\n",
              "    <tr>\n",
              "      <th>LGG</th>\n",
              "      <td>0</td>\n",
              "      <td>0</td>\n",
              "      <td>0</td>\n",
              "      <td>0</td>\n",
              "      <td>0</td>\n",
              "      <td>0</td>\n",
              "      <td>0</td>\n",
              "      <td>0</td>\n",
              "      <td>9</td>\n",
              "      <td>0</td>\n",
              "      <td>...</td>\n",
              "      <td>0</td>\n",
              "      <td>1</td>\n",
              "      <td>0</td>\n",
              "      <td>0</td>\n",
              "      <td>0</td>\n",
              "      <td>0</td>\n",
              "      <td>0</td>\n",
              "      <td>0</td>\n",
              "      <td>0</td>\n",
              "      <td>0</td>\n",
              "    </tr>\n",
              "    <tr>\n",
              "      <th>LIHC</th>\n",
              "      <td>0</td>\n",
              "      <td>0</td>\n",
              "      <td>0</td>\n",
              "      <td>0</td>\n",
              "      <td>2</td>\n",
              "      <td>0</td>\n",
              "      <td>0</td>\n",
              "      <td>0</td>\n",
              "      <td>0</td>\n",
              "      <td>0</td>\n",
              "      <td>...</td>\n",
              "      <td>0</td>\n",
              "      <td>0</td>\n",
              "      <td>0</td>\n",
              "      <td>0</td>\n",
              "      <td>0</td>\n",
              "      <td>0</td>\n",
              "      <td>0</td>\n",
              "      <td>0</td>\n",
              "      <td>0</td>\n",
              "      <td>0</td>\n",
              "    </tr>\n",
              "    <tr>\n",
              "      <th>LUAD</th>\n",
              "      <td>0</td>\n",
              "      <td>0</td>\n",
              "      <td>0</td>\n",
              "      <td>0</td>\n",
              "      <td>0</td>\n",
              "      <td>0</td>\n",
              "      <td>0</td>\n",
              "      <td>0</td>\n",
              "      <td>0</td>\n",
              "      <td>0</td>\n",
              "      <td>...</td>\n",
              "      <td>0</td>\n",
              "      <td>0</td>\n",
              "      <td>0</td>\n",
              "      <td>0</td>\n",
              "      <td>0</td>\n",
              "      <td>0</td>\n",
              "      <td>0</td>\n",
              "      <td>0</td>\n",
              "      <td>0</td>\n",
              "      <td>0</td>\n",
              "    </tr>\n",
              "    <tr>\n",
              "      <th>LUSC</th>\n",
              "      <td>0</td>\n",
              "      <td>3</td>\n",
              "      <td>0</td>\n",
              "      <td>0</td>\n",
              "      <td>0</td>\n",
              "      <td>0</td>\n",
              "      <td>0</td>\n",
              "      <td>1</td>\n",
              "      <td>0</td>\n",
              "      <td>2</td>\n",
              "      <td>...</td>\n",
              "      <td>0</td>\n",
              "      <td>0</td>\n",
              "      <td>1</td>\n",
              "      <td>1</td>\n",
              "      <td>0</td>\n",
              "      <td>0</td>\n",
              "      <td>0</td>\n",
              "      <td>0</td>\n",
              "      <td>0</td>\n",
              "      <td>0</td>\n",
              "    </tr>\n",
              "    <tr>\n",
              "      <th>MESO</th>\n",
              "      <td>0</td>\n",
              "      <td>0</td>\n",
              "      <td>0</td>\n",
              "      <td>0</td>\n",
              "      <td>0</td>\n",
              "      <td>0</td>\n",
              "      <td>0</td>\n",
              "      <td>0</td>\n",
              "      <td>0</td>\n",
              "      <td>0</td>\n",
              "      <td>...</td>\n",
              "      <td>0</td>\n",
              "      <td>0</td>\n",
              "      <td>0</td>\n",
              "      <td>0</td>\n",
              "      <td>0</td>\n",
              "      <td>0</td>\n",
              "      <td>0</td>\n",
              "      <td>0</td>\n",
              "      <td>0</td>\n",
              "      <td>0</td>\n",
              "    </tr>\n",
              "    <tr>\n",
              "      <th>OV</th>\n",
              "      <td>0</td>\n",
              "      <td>0</td>\n",
              "      <td>0</td>\n",
              "      <td>0</td>\n",
              "      <td>0</td>\n",
              "      <td>0</td>\n",
              "      <td>0</td>\n",
              "      <td>0</td>\n",
              "      <td>0</td>\n",
              "      <td>0</td>\n",
              "      <td>...</td>\n",
              "      <td>0</td>\n",
              "      <td>0</td>\n",
              "      <td>0</td>\n",
              "      <td>0</td>\n",
              "      <td>0</td>\n",
              "      <td>0</td>\n",
              "      <td>0</td>\n",
              "      <td>1</td>\n",
              "      <td>0</td>\n",
              "      <td>0</td>\n",
              "    </tr>\n",
              "    <tr>\n",
              "      <th>PAAD</th>\n",
              "      <td>0</td>\n",
              "      <td>0</td>\n",
              "      <td>0</td>\n",
              "      <td>0</td>\n",
              "      <td>0</td>\n",
              "      <td>0</td>\n",
              "      <td>0</td>\n",
              "      <td>0</td>\n",
              "      <td>0</td>\n",
              "      <td>0</td>\n",
              "      <td>...</td>\n",
              "      <td>0</td>\n",
              "      <td>0</td>\n",
              "      <td>0</td>\n",
              "      <td>1</td>\n",
              "      <td>0</td>\n",
              "      <td>0</td>\n",
              "      <td>0</td>\n",
              "      <td>0</td>\n",
              "      <td>0</td>\n",
              "      <td>0</td>\n",
              "    </tr>\n",
              "    <tr>\n",
              "      <th>PCPG</th>\n",
              "      <td>0</td>\n",
              "      <td>0</td>\n",
              "      <td>0</td>\n",
              "      <td>0</td>\n",
              "      <td>0</td>\n",
              "      <td>0</td>\n",
              "      <td>0</td>\n",
              "      <td>0</td>\n",
              "      <td>0</td>\n",
              "      <td>0</td>\n",
              "      <td>...</td>\n",
              "      <td>0</td>\n",
              "      <td>0</td>\n",
              "      <td>0</td>\n",
              "      <td>0</td>\n",
              "      <td>0</td>\n",
              "      <td>0</td>\n",
              "      <td>0</td>\n",
              "      <td>0</td>\n",
              "      <td>0</td>\n",
              "      <td>0</td>\n",
              "    </tr>\n",
              "    <tr>\n",
              "      <th>PRAD</th>\n",
              "      <td>0</td>\n",
              "      <td>0</td>\n",
              "      <td>0</td>\n",
              "      <td>0</td>\n",
              "      <td>0</td>\n",
              "      <td>0</td>\n",
              "      <td>0</td>\n",
              "      <td>0</td>\n",
              "      <td>0</td>\n",
              "      <td>0</td>\n",
              "      <td>...</td>\n",
              "      <td>0</td>\n",
              "      <td>0</td>\n",
              "      <td>0</td>\n",
              "      <td>0</td>\n",
              "      <td>0</td>\n",
              "      <td>0</td>\n",
              "      <td>0</td>\n",
              "      <td>0</td>\n",
              "      <td>0</td>\n",
              "      <td>0</td>\n",
              "    </tr>\n",
              "    <tr>\n",
              "      <th>READ</th>\n",
              "      <td>0</td>\n",
              "      <td>0</td>\n",
              "      <td>0</td>\n",
              "      <td>0</td>\n",
              "      <td>0</td>\n",
              "      <td>0</td>\n",
              "      <td>0</td>\n",
              "      <td>0</td>\n",
              "      <td>0</td>\n",
              "      <td>0</td>\n",
              "      <td>...</td>\n",
              "      <td>9</td>\n",
              "      <td>0</td>\n",
              "      <td>0</td>\n",
              "      <td>0</td>\n",
              "      <td>0</td>\n",
              "      <td>0</td>\n",
              "      <td>0</td>\n",
              "      <td>0</td>\n",
              "      <td>0</td>\n",
              "      <td>0</td>\n",
              "    </tr>\n",
              "    <tr>\n",
              "      <th>SARC</th>\n",
              "      <td>1</td>\n",
              "      <td>0</td>\n",
              "      <td>1</td>\n",
              "      <td>0</td>\n",
              "      <td>0</td>\n",
              "      <td>0</td>\n",
              "      <td>0</td>\n",
              "      <td>0</td>\n",
              "      <td>0</td>\n",
              "      <td>1</td>\n",
              "      <td>...</td>\n",
              "      <td>0</td>\n",
              "      <td>48</td>\n",
              "      <td>1</td>\n",
              "      <td>0</td>\n",
              "      <td>0</td>\n",
              "      <td>0</td>\n",
              "      <td>0</td>\n",
              "      <td>0</td>\n",
              "      <td>0</td>\n",
              "      <td>0</td>\n",
              "    </tr>\n",
              "    <tr>\n",
              "      <th>SKCM</th>\n",
              "      <td>0</td>\n",
              "      <td>0</td>\n",
              "      <td>0</td>\n",
              "      <td>0</td>\n",
              "      <td>0</td>\n",
              "      <td>0</td>\n",
              "      <td>0</td>\n",
              "      <td>0</td>\n",
              "      <td>0</td>\n",
              "      <td>0</td>\n",
              "      <td>...</td>\n",
              "      <td>0</td>\n",
              "      <td>1</td>\n",
              "      <td>86</td>\n",
              "      <td>0</td>\n",
              "      <td>0</td>\n",
              "      <td>0</td>\n",
              "      <td>0</td>\n",
              "      <td>0</td>\n",
              "      <td>0</td>\n",
              "      <td>0</td>\n",
              "    </tr>\n",
              "    <tr>\n",
              "      <th>STAD</th>\n",
              "      <td>0</td>\n",
              "      <td>0</td>\n",
              "      <td>0</td>\n",
              "      <td>0</td>\n",
              "      <td>0</td>\n",
              "      <td>2</td>\n",
              "      <td>0</td>\n",
              "      <td>13</td>\n",
              "      <td>0</td>\n",
              "      <td>0</td>\n",
              "      <td>...</td>\n",
              "      <td>0</td>\n",
              "      <td>0</td>\n",
              "      <td>0</td>\n",
              "      <td>90</td>\n",
              "      <td>1</td>\n",
              "      <td>0</td>\n",
              "      <td>0</td>\n",
              "      <td>0</td>\n",
              "      <td>0</td>\n",
              "      <td>0</td>\n",
              "    </tr>\n",
              "    <tr>\n",
              "      <th>TGCT</th>\n",
              "      <td>0</td>\n",
              "      <td>0</td>\n",
              "      <td>0</td>\n",
              "      <td>0</td>\n",
              "      <td>0</td>\n",
              "      <td>0</td>\n",
              "      <td>0</td>\n",
              "      <td>0</td>\n",
              "      <td>0</td>\n",
              "      <td>0</td>\n",
              "      <td>...</td>\n",
              "      <td>0</td>\n",
              "      <td>0</td>\n",
              "      <td>0</td>\n",
              "      <td>0</td>\n",
              "      <td>35</td>\n",
              "      <td>0</td>\n",
              "      <td>0</td>\n",
              "      <td>0</td>\n",
              "      <td>0</td>\n",
              "      <td>0</td>\n",
              "    </tr>\n",
              "    <tr>\n",
              "      <th>THCA</th>\n",
              "      <td>0</td>\n",
              "      <td>0</td>\n",
              "      <td>0</td>\n",
              "      <td>0</td>\n",
              "      <td>0</td>\n",
              "      <td>0</td>\n",
              "      <td>0</td>\n",
              "      <td>0</td>\n",
              "      <td>0</td>\n",
              "      <td>0</td>\n",
              "      <td>...</td>\n",
              "      <td>0</td>\n",
              "      <td>0</td>\n",
              "      <td>0</td>\n",
              "      <td>0</td>\n",
              "      <td>0</td>\n",
              "      <td>115</td>\n",
              "      <td>0</td>\n",
              "      <td>0</td>\n",
              "      <td>0</td>\n",
              "      <td>0</td>\n",
              "    </tr>\n",
              "    <tr>\n",
              "      <th>THYM</th>\n",
              "      <td>0</td>\n",
              "      <td>0</td>\n",
              "      <td>0</td>\n",
              "      <td>0</td>\n",
              "      <td>0</td>\n",
              "      <td>0</td>\n",
              "      <td>0</td>\n",
              "      <td>0</td>\n",
              "      <td>0</td>\n",
              "      <td>0</td>\n",
              "      <td>...</td>\n",
              "      <td>0</td>\n",
              "      <td>0</td>\n",
              "      <td>0</td>\n",
              "      <td>0</td>\n",
              "      <td>0</td>\n",
              "      <td>0</td>\n",
              "      <td>25</td>\n",
              "      <td>0</td>\n",
              "      <td>0</td>\n",
              "      <td>0</td>\n",
              "    </tr>\n",
              "    <tr>\n",
              "      <th>UCEC</th>\n",
              "      <td>0</td>\n",
              "      <td>0</td>\n",
              "      <td>0</td>\n",
              "      <td>1</td>\n",
              "      <td>0</td>\n",
              "      <td>0</td>\n",
              "      <td>0</td>\n",
              "      <td>0</td>\n",
              "      <td>0</td>\n",
              "      <td>0</td>\n",
              "      <td>...</td>\n",
              "      <td>0</td>\n",
              "      <td>0</td>\n",
              "      <td>0</td>\n",
              "      <td>0</td>\n",
              "      <td>0</td>\n",
              "      <td>0</td>\n",
              "      <td>0</td>\n",
              "      <td>47</td>\n",
              "      <td>4</td>\n",
              "      <td>0</td>\n",
              "    </tr>\n",
              "    <tr>\n",
              "      <th>UCS</th>\n",
              "      <td>0</td>\n",
              "      <td>0</td>\n",
              "      <td>0</td>\n",
              "      <td>1</td>\n",
              "      <td>0</td>\n",
              "      <td>0</td>\n",
              "      <td>0</td>\n",
              "      <td>0</td>\n",
              "      <td>0</td>\n",
              "      <td>0</td>\n",
              "      <td>...</td>\n",
              "      <td>0</td>\n",
              "      <td>1</td>\n",
              "      <td>0</td>\n",
              "      <td>0</td>\n",
              "      <td>0</td>\n",
              "      <td>0</td>\n",
              "      <td>0</td>\n",
              "      <td>0</td>\n",
              "      <td>8</td>\n",
              "      <td>0</td>\n",
              "    </tr>\n",
              "    <tr>\n",
              "      <th>UVM</th>\n",
              "      <td>0</td>\n",
              "      <td>0</td>\n",
              "      <td>0</td>\n",
              "      <td>0</td>\n",
              "      <td>0</td>\n",
              "      <td>0</td>\n",
              "      <td>0</td>\n",
              "      <td>0</td>\n",
              "      <td>0</td>\n",
              "      <td>0</td>\n",
              "      <td>...</td>\n",
              "      <td>0</td>\n",
              "      <td>0</td>\n",
              "      <td>0</td>\n",
              "      <td>0</td>\n",
              "      <td>0</td>\n",
              "      <td>0</td>\n",
              "      <td>0</td>\n",
              "      <td>0</td>\n",
              "      <td>0</td>\n",
              "      <td>13</td>\n",
              "    </tr>\n",
              "  </tbody>\n",
              "</table>\n",
              "<p>33 rows × 33 columns</p>\n",
              "</div>"
            ],
            "text/plain": [
              "acronym  ACC  BLCA  BRCA  CESC  CHOL  COAD  DLBC  ESCA  GBM  HNSC ...   READ  \\\n",
              "row_0                                                             ...          \n",
              "ACC       22     0     0     0     0     0     0     0    0     0 ...      0   \n",
              "BLCA       0    87     1     2     0     0     0     0    0     0 ...      0   \n",
              "BRCA       0     0   315     0     0     0     0     0    0     0 ...      0   \n",
              "CESC       0     1     0    67     0     0     0     0    0     3 ...      0   \n",
              "CHOL       0     0     0     0    16     0     0     0    0     0 ...      0   \n",
              "COAD       0     1     0     0     0    75     0     0    0     0 ...     14   \n",
              "DLBC       0     0     0     0     0     0    11     0    0     0 ...      0   \n",
              "ESCA       0     0     0     0     0     0     0    18    0     0 ...      0   \n",
              "GBM        0     0     0     0     0     0     0     0   33     0 ...      0   \n",
              "HNSC       0     2     0     2     0     0     0    10    0   122 ...      0   \n",
              "KICH       0     0     0     0     0     0     0     0    0     0 ...      0   \n",
              "KIRC       0     0     0     0     0     0     0     0    0     0 ...      0   \n",
              "KIRP       0     0     0     0     0     0     0     0    0     0 ...      0   \n",
              "LAML       0     0     0     0     0     0     0     0    0     0 ...      0   \n",
              "LGG        0     0     0     0     0     0     0     0    9     0 ...      0   \n",
              "LIHC       0     0     0     0     2     0     0     0    0     0 ...      0   \n",
              "LUAD       0     0     0     0     0     0     0     0    0     0 ...      0   \n",
              "LUSC       0     3     0     0     0     0     0     1    0     2 ...      0   \n",
              "MESO       0     0     0     0     0     0     0     0    0     0 ...      0   \n",
              "OV         0     0     0     0     0     0     0     0    0     0 ...      0   \n",
              "PAAD       0     0     0     0     0     0     0     0    0     0 ...      0   \n",
              "PCPG       0     0     0     0     0     0     0     0    0     0 ...      0   \n",
              "PRAD       0     0     0     0     0     0     0     0    0     0 ...      0   \n",
              "READ       0     0     0     0     0     0     0     0    0     0 ...      9   \n",
              "SARC       1     0     1     0     0     0     0     0    0     1 ...      0   \n",
              "SKCM       0     0     0     0     0     0     0     0    0     0 ...      0   \n",
              "STAD       0     0     0     0     0     2     0    13    0     0 ...      0   \n",
              "TGCT       0     0     0     0     0     0     0     0    0     0 ...      0   \n",
              "THCA       0     0     0     0     0     0     0     0    0     0 ...      0   \n",
              "THYM       0     0     0     0     0     0     0     0    0     0 ...      0   \n",
              "UCEC       0     0     0     1     0     0     0     0    0     0 ...      0   \n",
              "UCS        0     0     0     1     0     0     0     0    0     0 ...      0   \n",
              "UVM        0     0     0     0     0     0     0     0    0     0 ...      0   \n",
              "\n",
              "acronym  SARC  SKCM  STAD  TGCT  THCA  THYM  UCEC  UCS  UVM  \n",
              "row_0                                                        \n",
              "ACC         0     0     0     0     0     0     0    0    0  \n",
              "BLCA        0     0     0     0     0     1     0    0    0  \n",
              "BRCA        0     0     0     0     0     0     0    0    0  \n",
              "CESC        0     0     0     0     0     0     1    0    0  \n",
              "CHOL        0     0     0     0     0     0     0    0    0  \n",
              "COAD        0     0     2     0     0     0     0    0    0  \n",
              "DLBC        0     0     0     0     0     0     0    0    0  \n",
              "ESCA        0     0     2     0     0     0     0    0    0  \n",
              "GBM         0     0     0     0     0     0     0    0    0  \n",
              "HNSC        0     0     0     0     0     0     0    0    0  \n",
              "KICH        0     0     0     0     0     0     0    0    0  \n",
              "KIRC        0     0     0     0     0     0     0    0    0  \n",
              "KIRP        0     0     0     0     0     0     0    0    0  \n",
              "LAML        0     0     0     0     0     0     0    0    0  \n",
              "LGG         1     0     0     0     0     0     0    0    0  \n",
              "LIHC        0     0     0     0     0     0     0    0    0  \n",
              "LUAD        0     0     0     0     0     0     0    0    0  \n",
              "LUSC        0     1     1     0     0     0     0    0    0  \n",
              "MESO        0     0     0     0     0     0     0    0    0  \n",
              "OV          0     0     0     0     0     0     1    0    0  \n",
              "PAAD        0     0     1     0     0     0     0    0    0  \n",
              "PCPG        0     0     0     0     0     0     0    0    0  \n",
              "PRAD        0     0     0     0     0     0     0    0    0  \n",
              "READ        0     0     0     0     0     0     0    0    0  \n",
              "SARC       48     1     0     0     0     0     0    0    0  \n",
              "SKCM        1    86     0     0     0     0     0    0    0  \n",
              "STAD        0     0    90     1     0     0     0    0    0  \n",
              "TGCT        0     0     0    35     0     0     0    0    0  \n",
              "THCA        0     0     0     0   115     0     0    0    0  \n",
              "THYM        0     0     0     0     0    25     0    0    0  \n",
              "UCEC        0     0     0     0     0     0    47    4    0  \n",
              "UCS         1     0     0     0     0     0     0    8    0  \n",
              "UVM         0     0     0     0     0     0     0    0   13  \n",
              "\n",
              "[33 rows x 33 columns]"
            ]
          },
          "metadata": {
            "tags": []
          },
          "execution_count": 55
        }
      ]
    },
    {
      "metadata": {
        "id": "8q20uUw8X4yB",
        "colab_type": "text"
      },
      "cell_type": "markdown",
      "source": [
        "Let us make it more readable by plotting this information in a seaborn heatmap."
      ]
    },
    {
      "metadata": {
        "id": "Tn3tY8Aei1VQ",
        "colab_type": "code",
        "outputId": "725896da-6929-458a-ed19-ad41dc41b6f2",
        "colab": {
          "base_uri": "https://localhost:8080/",
          "height": 625
        }
      },
      "cell_type": "code",
      "source": [
        "import seaborn as sns\n",
        "\n",
        "sns.set(rc={'figure.figsize':(14,10)})\n",
        "ax = sns.heatmap(confusion_matrix, annot=True)"
      ],
      "execution_count": 0,
      "outputs": [
        {
          "output_type": "display_data",
          "data": {
            "image/png": "[encoded data removed]",
            "text/plain": [
              "<matplotlib.figure.Figure at 0x7fa3ffd1a790>"
            ]
          },
          "metadata": {
            "tags": []
          }
        }
      ]
    },
    {
      "metadata": {
        "id": "pTPrCpynKUqw",
        "colab_type": "code",
        "outputId": "4b2ca5f4-0a11-4652-fb21-bdfe35ef368e",
        "colab": {
          "base_uri": "https://localhost:8080/",
          "height": 2453
        }
      },
      "cell_type": "code",
      "source": [
        "from collections import Counter\n",
        "\n",
        "confusions=Counter()\n",
        "for i in range(X_test.shape[0]):\n",
        "  pred=rf.predict([X_test.values[i]])[0]\n",
        "  actual=y_test.values[i]\n",
        "  if pred!=actual:\n",
        "    print(i,pred,actual,pred==actual)\n",
        "    confusions[pred,actual]+=1"
      ],
      "execution_count": 0,
      "outputs": [
        {
          "output_type": "stream",
          "text": [
            "(4, 'STAD', 'ESCA', False)\n",
            "(35, 'COAD', 'PAAD', False)\n",
            "(37, 'UCEC', 'LUAD', False)\n",
            "(91, 'LIHC', 'CHOL', False)\n",
            "(104, 'COAD', 'READ', False)\n",
            "(109, 'HNSC', nan, False)\n",
            "(117, 'GBM', 'LGG', False)\n",
            "(124, 'LUAD', 'LUSC', False)\n",
            "(125, 'HNSC', 'LUSC', False)\n",
            "(147, 'HNSC', 'LUSC', False)\n",
            "(154, 'HNSC', 'ESCA', False)\n",
            "(168, 'SARC', 'MESO', False)\n",
            "(227, 'HNSC', 'LUSC', False)\n",
            "(252, 'PAAD', 'STAD', False)\n",
            "(254, 'COAD', 'READ', False)\n",
            "(262, 'STAD', 'ESCA', False)\n",
            "(273, 'COAD', 'READ', False)\n",
            "(291, 'STAD', 'CHOL', False)\n",
            "(294, 'LUSC', 'ESCA', False)\n",
            "(300, 'KIRC', 'KIRP', False)\n",
            "(306, 'LIHC', 'CHOL', False)\n",
            "(320, 'COAD', 'READ', False)\n",
            "(329, 'LGG', 'GBM', False)\n",
            "(357, 'STAD', 'OV', False)\n",
            "(368, 'KIRC', 'KIRP', False)\n",
            "(381, 'GBM', 'LGG', False)\n",
            "(389, 'LUSC', 'LUAD', False)\n",
            "(404, 'COAD', 'READ', False)\n",
            "(412, 'LUSC', 'LUAD', False)\n",
            "(424, 'LUAD', 'LUSC', False)\n",
            "(429, 'UCEC', 'OV', False)\n",
            "(438, 'STAD', 'ESCA', False)\n",
            "(469, 'LIHC', 'CHOL', False)\n",
            "(527, 'HNSC', 'ESCA', False)\n",
            "(531, 'SARC', 'ACC', False)\n",
            "(542, 'HNSC', 'ESCA', False)\n",
            "(548, 'STAD', 'ESCA', False)\n",
            "(588, 'SARC', 'BRCA', False)\n",
            "(601, 'STAD', 'READ', False)\n",
            "(604, 'COAD', 'READ', False)\n",
            "(611, 'COAD', 'READ', False)\n",
            "(628, 'UCS', 'BLCA', False)\n",
            "(641, 'LIHC', 'CHOL', False)\n",
            "(645, 'KIRP', 'KICH', False)\n",
            "(652, 'STAD', 'ESCA', False)\n",
            "(655, 'SARC', 'PAAD', False)\n",
            "(672, 'COAD', 'READ', False)\n",
            "(734, 'KIRP', 'KICH', False)\n",
            "(735, 'COAD', 'READ', False)\n",
            "(736, 'BRCA', nan, False)\n",
            "(741, 'STAD', 'PAAD', False)\n",
            "(758, 'STAD', 'ESCA', False)\n",
            "(795, 'COAD', 'READ', False)\n",
            "(801, 'UCS', 'UCEC', False)\n",
            "(848, 'UCEC', 'OV', False)\n",
            "(850, 'COAD', 'READ', False)\n",
            "(950, 'STAD', 'COAD', False)\n",
            "(964, 'KIRC', 'KIRP', False)\n",
            "(967, 'CESC', 'HNSC', False)\n",
            "(991, 'STAD', 'ESCA', False)\n",
            "(1015, 'LGG', 'GBM', False)\n",
            "(1032, 'LUSC', 'HNSC', False)\n",
            "(1077, 'LGG', 'GBM', False)\n",
            "(1083, 'UCS', 'SARC', False)\n",
            "(1096, 'LAML', nan, False)\n",
            "(1141, 'LAML', nan, False)\n",
            "(1165, 'KIRC', 'KICH', False)\n",
            "(1182, 'HNSC', 'BLCA', False)\n",
            "(1184, 'LUSC', 'LUAD', False)\n",
            "(1185, 'LUAD', 'LUSC', False)\n",
            "(1186, 'STAD', 'ESCA', False)\n",
            "(1200, 'LGG', 'GBM', False)\n",
            "(1240, 'LAML', nan, False)\n",
            "(1241, 'LUAD', 'LUSC', False)\n",
            "(1252, 'LUSC', 'LUAD', False)\n",
            "(1277, 'LGG', 'GBM', False)\n",
            "(1283, 'LGG', 'GBM', False)\n",
            "(1295, 'STAD', 'ESCA', False)\n",
            "(1314, 'KIRP', 'KIRC', False)\n",
            "(1321, 'PAAD', 'SKCM', False)\n",
            "(1351, 'COAD', 'READ', False)\n",
            "(1353, 'KIRC', 'KICH', False)\n",
            "(1359, 'KIRP', 'KIRC', False)\n",
            "(1457, 'LUAD', 'LUSC', False)\n",
            "(1461, 'UCEC', 'UCS', False)\n",
            "(1464, 'LAML', nan, False)\n",
            "(1477, 'KIRC', 'KIRP', False)\n",
            "(1481, 'BRCA', 'ESCA', False)\n",
            "(1491, 'STAD', 'ESCA', False)\n",
            "(1510, 'HNSC', 'ESCA', False)\n",
            "(1526, 'LGG', 'GBM', False)\n",
            "(1530, 'KIRC', 'KIRP', False)\n",
            "(1574, 'HNSC', nan, False)\n",
            "(1599, 'BLCA', 'THYM', False)\n",
            "(1630, 'HNSC', 'LUSC', False)\n",
            "(1637, 'COAD', nan, False)\n",
            "(1638, 'COAD', 'READ', False)\n",
            "(1665, 'BRCA', nan, False)\n",
            "(1697, 'UCEC', 'LGG', False)\n",
            "(1699, 'BRCA', nan, False)\n",
            "(1700, 'LUSC', 'BLCA', False)\n",
            "(1706, 'HNSC', 'LUSC', False)\n",
            "(1707, 'STAD', 'ESCA', False)\n",
            "(1719, 'COAD', 'READ', False)\n",
            "(1776, 'COAD', 'STAD', False)\n",
            "(1781, 'LUAD', 'LUSC', False)\n",
            "(1796, 'COAD', 'READ', False)\n",
            "(1808, 'COAD', 'READ', False)\n",
            "(1837, 'LUSC', 'LUAD', False)\n",
            "(1838, 'CESC', 'PAAD', False)\n",
            "(1858, 'HNSC', nan, False)\n",
            "(1885, 'SARC', 'BLCA', False)\n",
            "(1899, 'OV', 'UCEC', False)\n",
            "(1902, 'STAD', 'ESCA', False)\n",
            "(1920, 'LAML', nan, False)\n",
            "(1929, 'LUAD', 'LUSC', False)\n",
            "(1934, 'STAD', 'ESCA', False)\n",
            "(1935, 'SARC', 'MESO', False)\n",
            "(2005, 'CESC', 'BLCA', False)\n",
            "(2011, 'STAD', 'ESCA', False)\n",
            "(2023, 'LUSC', 'HNSC', False)\n",
            "(2050, 'KIRP', 'KIRC', False)\n",
            "(2098, 'COAD', 'CESC', False)\n",
            "(2117, 'COAD', 'READ', False)\n",
            "(2140, 'READ', 'COAD', False)\n",
            "(2152, 'LAML', nan, False)\n",
            "(2169, 'LUAD', 'LUSC', False)\n",
            "(2191, 'LUSC', 'LUAD', False)\n",
            "(2241, 'LUSC', 'ESCA', False)\n",
            "(2247, 'LGG', 'GBM', False)\n",
            "(2252, 'LAML', nan, False)\n",
            "(2259, 'STAD', 'COAD', False)\n",
            "(2277, 'GBM', 'LGG', False)\n",
            "(2286, 'GBM', 'LGG', False)\n",
            "(2313, 'LUSC', 'HNSC', False)\n",
            "(2334, 'HNSC', 'ESCA', False)\n",
            "(2338, 'LUAD', 'LUSC', False)\n",
            "(2345, 'BLCA', 'HNSC', False)\n",
            "(2358, 'CESC', 'HNSC', False)\n",
            "(2373, 'PCPG', 'UVM', False)\n",
            "(2382, 'HNSC', 'BLCA', False)\n"
          ],
          "name": "stdout"
        }
      ]
    },
    {
      "metadata": {
        "id": "liEzAWN6Ko-c",
        "colab_type": "code",
        "outputId": "95dc7317-361b-40e2-9bf6-22aa130c04ab",
        "colab": {
          "base_uri": "https://localhost:8080/",
          "height": 915
        }
      },
      "cell_type": "code",
      "source": [
        "for d,c in confusions.most_common():\n",
        "  print(d,c)"
      ],
      "execution_count": 0,
      "outputs": [
        {
          "output_type": "stream",
          "text": [
            "(('COAD', 'READ'), 17)\n",
            "(('STAD', 'ESCA'), 14)\n",
            "(('LUAD', 'LUSC'), 9)\n",
            "(('LGG', 'GBM'), 8)\n",
            "(('LAML', nan), 7)\n",
            "(('LUSC', 'LUAD'), 6)\n",
            "(('KIRC', 'KIRP'), 5)\n",
            "(('HNSC', 'ESCA'), 5)\n",
            "(('HNSC', 'LUSC'), 5)\n",
            "(('LIHC', 'CHOL'), 4)\n",
            "(('GBM', 'LGG'), 4)\n",
            "(('LUSC', 'HNSC'), 3)\n",
            "(('HNSC', nan), 3)\n",
            "(('KIRP', 'KIRC'), 3)\n",
            "(('BRCA', nan), 3)\n",
            "(('KIRC', 'KICH'), 2)\n",
            "(('CESC', 'HNSC'), 2)\n",
            "(('HNSC', 'BLCA'), 2)\n",
            "(('LUSC', 'ESCA'), 2)\n",
            "(('STAD', 'COAD'), 2)\n",
            "(('UCEC', 'OV'), 2)\n",
            "(('SARC', 'MESO'), 2)\n",
            "(('KIRP', 'KICH'), 2)\n",
            "(('SARC', 'ACC'), 1)\n",
            "(('STAD', 'CHOL'), 1)\n",
            "(('STAD', 'OV'), 1)\n",
            "(('SARC', 'PAAD'), 1)\n",
            "(('LUSC', 'BLCA'), 1)\n",
            "(('BLCA', 'THYM'), 1)\n",
            "(('STAD', 'READ'), 1)\n",
            "(('BLCA', 'HNSC'), 1)\n",
            "(('STAD', 'PAAD'), 1)\n",
            "(('UCEC', 'LUAD'), 1)\n",
            "(('PAAD', 'SKCM'), 1)\n",
            "(('UCS', 'BLCA'), 1)\n",
            "(('UCEC', 'UCS'), 1)\n",
            "(('COAD', 'CESC'), 1)\n",
            "(('BRCA', 'ESCA'), 1)\n",
            "(('SARC', 'BRCA'), 1)\n",
            "(('COAD', 'PAAD'), 1)\n",
            "(('UCEC', 'LGG'), 1)\n",
            "(('COAD', nan), 1)\n",
            "(('PAAD', 'STAD'), 1)\n",
            "(('OV', 'UCEC'), 1)\n",
            "(('UCS', 'SARC'), 1)\n",
            "(('PCPG', 'UVM'), 1)\n",
            "(('READ', 'COAD'), 1)\n",
            "(('UCS', 'UCEC'), 1)\n",
            "(('COAD', 'STAD'), 1)\n",
            "(('CESC', 'BLCA'), 1)\n",
            "(('CESC', 'PAAD'), 1)\n",
            "(('SARC', 'BLCA'), 1)\n"
          ],
          "name": "stdout"
        }
      ]
    },
    {
      "metadata": {
        "id": "JVHViAyUZRXE",
        "colab_type": "text"
      },
      "cell_type": "markdown",
      "source": [
        "What dimensions are most useful for disease classification? A RF model allows you to query feature importances."
      ]
    },
    {
      "metadata": {
        "id": "P_h-G711ZZU0",
        "colab_type": "code",
        "outputId": "3c32e3bc-c5c6-440e-9d03-2f5d5414fb28",
        "colab": {
          "base_uri": "https://localhost:8080/",
          "height": 151
        }
      },
      "cell_type": "code",
      "source": [
        "rf_model.feature_importances_"
      ],
      "execution_count": 0,
      "outputs": [
        {
          "output_type": "execute_result",
          "data": {
            "text/plain": [
              "array([0.24658819, 0.00301176, 0.0004001 , 0.00305343, 0.00106434,\n",
              "       0.01928466, 0.00155214, 0.00147462, 0.00031504, 0.00388189,\n",
              "       0.00356735, 0.01574494, 0.00171285, 0.00266797, 0.00109506,\n",
              "       0.08137914, 0.00141569, 0.06820328, 0.01124038, 0.17862448,\n",
              "       0.00253549, 0.00749945, 0.00228131, 0.0042252 , 0.17785708,\n",
              "       0.00868533, 0.001306  , 0.00614629, 0.00035092, 0.00991922,\n",
              "       0.00383444, 0.00107849, 0.00087558, 0.00027011, 0.01194545,\n",
              "       0.11491233])"
            ]
          },
          "metadata": {
            "tags": []
          },
          "execution_count": 119
        }
      ]
    },
    {
      "metadata": {
        "id": "J-iZw3woZhnp",
        "colab_type": "code",
        "outputId": "445bc057-5b78-4ff4-f947-a04a0cda20f0",
        "colab": {
          "base_uri": "https://localhost:8080/",
          "height": 101
        }
      },
      "cell_type": "code",
      "source": [
        "X.columns"
      ],
      "execution_count": 0,
      "outputs": [
        {
          "output_type": "execute_result",
          "data": {
            "text/plain": [
              "Index([u'1', u'2', u'3', u'4', u'5', u'6', u'7', u'8', u'9', u'10', u'11',\n",
              "       u'12', u'13', u'14', u'15', u'16', u'17', u'18', u'19', u'20', u'21',\n",
              "       u'22', u'23', u'24', u'25', u'26', u'27', u'28', u'29', u'30', u'31',\n",
              "       u'32', u'33', u'34', u'35', u'36'],\n",
              "      dtype='object')"
            ]
          },
          "metadata": {
            "tags": []
          },
          "execution_count": 120
        }
      ]
    },
    {
      "metadata": {
        "id": "5aExAD9BZl_Y",
        "colab_type": "code",
        "outputId": "f6844820-a9c2-48e3-f3a5-6f2a2fb9613b",
        "colab": {
          "base_uri": "https://localhost:8080/",
          "height": 622
        }
      },
      "cell_type": "code",
      "source": [
        "list(zip(X.columns, rf_model.feature_importances_))"
      ],
      "execution_count": 0,
      "outputs": [
        {
          "output_type": "execute_result",
          "data": {
            "text/plain": [
              "[('1', 0.24658819230338058),\n",
              " ('2', 0.0030117644680011904),\n",
              " ('3', 0.00040010237209364523),\n",
              " ('4', 0.003053429108138652),\n",
              " ('5', 0.0010643426481953073),\n",
              " ('6', 0.01928466272343978),\n",
              " ('7', 0.0015521423843323178),\n",
              " ('8', 0.001474619973578324),\n",
              " ('9', 0.00031504069741203117),\n",
              " ('10', 0.00388188515126731),\n",
              " ('11', 0.003567351718768691),\n",
              " ('12', 0.015744943455362658),\n",
              " ('13', 0.0017128541110099115),\n",
              " ('14', 0.0026679687637111865),\n",
              " ('15', 0.00109505710339104),\n",
              " ('16', 0.081379140806746),\n",
              " ('17', 0.001415687975398611),\n",
              " ('18', 0.06820327992804348),\n",
              " ('19', 0.011240379766439818),\n",
              " ('20', 0.17862448276510684),\n",
              " ('21', 0.002535493133391468),\n",
              " ('22', 0.007499446299603649),\n",
              " ('23', 0.0022813126742791566),\n",
              " ('24', 0.004225197496836193),\n",
              " ('25', 0.1778570785646818),\n",
              " ('26', 0.00868532569098623),\n",
              " ('27', 0.0013060015633519278),\n",
              " ('28', 0.0061462874400279605),\n",
              " ('29', 0.0003509151914983986),\n",
              " ('30', 0.00991922496152944),\n",
              " ('31', 0.003834442738305734),\n",
              " ('32', 0.0010784882157826897),\n",
              " ('33', 0.0008755760503044076),\n",
              " ('34', 0.0002701069159072868),\n",
              " ('35', 0.01194544935296021),\n",
              " ('36', 0.11491232548673609)]"
            ]
          },
          "metadata": {
            "tags": []
          },
          "execution_count": 121
        }
      ]
    },
    {
      "metadata": {
        "id": "qTHPQp4mIyWZ",
        "colab_type": "code",
        "outputId": "d8313b3a-b548-4c1b-c761-b206d606be63",
        "colab": {
          "base_uri": "https://localhost:8080/",
          "height": 622
        }
      },
      "cell_type": "code",
      "source": [
        "sorted(list(zip(X.columns,list(rf_model.feature_importances_))), key=lambda k:k[1], reverse=True)"
      ],
      "execution_count": 0,
      "outputs": [
        {
          "output_type": "execute_result",
          "data": {
            "text/plain": [
              "[('1', 0.24658819230338058),\n",
              " ('20', 0.17862448276510684),\n",
              " ('25', 0.1778570785646818),\n",
              " ('36', 0.11491232548673609),\n",
              " ('16', 0.081379140806746),\n",
              " ('18', 0.06820327992804348),\n",
              " ('6', 0.01928466272343978),\n",
              " ('12', 0.015744943455362658),\n",
              " ('35', 0.01194544935296021),\n",
              " ('19', 0.011240379766439818),\n",
              " ('30', 0.00991922496152944),\n",
              " ('26', 0.00868532569098623),\n",
              " ('22', 0.007499446299603649),\n",
              " ('28', 0.0061462874400279605),\n",
              " ('24', 0.004225197496836193),\n",
              " ('10', 0.00388188515126731),\n",
              " ('31', 0.003834442738305734),\n",
              " ('11', 0.003567351718768691),\n",
              " ('4', 0.003053429108138652),\n",
              " ('2', 0.0030117644680011904),\n",
              " ('14', 0.0026679687637111865),\n",
              " ('21', 0.002535493133391468),\n",
              " ('23', 0.0022813126742791566),\n",
              " ('13', 0.0017128541110099115),\n",
              " ('7', 0.0015521423843323178),\n",
              " ('8', 0.001474619973578324),\n",
              " ('17', 0.001415687975398611),\n",
              " ('27', 0.0013060015633519278),\n",
              " ('15', 0.00109505710339104),\n",
              " ('32', 0.0010784882157826897),\n",
              " ('5', 0.0010643426481953073),\n",
              " ('33', 0.0008755760503044076),\n",
              " ('3', 0.00040010237209364523),\n",
              " ('29', 0.0003509151914983986),\n",
              " ('9', 0.00031504069741203117),\n",
              " ('34', 0.0002701069159072868)]"
            ]
          },
          "metadata": {
            "tags": []
          },
          "execution_count": 122
        }
      ]
    },
    {
      "metadata": {
        "id": "8hk6k4CsN5FR",
        "colab_type": "code",
        "colab": {}
      },
      "cell_type": "code",
      "source": [
        ""
      ],
      "execution_count": 0,
      "outputs": []
    },
    {
      "metadata": {
        "id": "UqiglZgomk1t",
        "colab_type": "text"
      },
      "cell_type": "markdown",
      "source": [
        "# Keras classifier"
      ]
    },
    {
      "metadata": {
        "id": "INzMP1nlmi8A",
        "colab_type": "code",
        "colab": {}
      },
      "cell_type": "code",
      "source": [
        "# based on https://github.com/keras-team/keras/blob/master/examples/reuters_mlp.py"
      ],
      "execution_count": 0,
      "outputs": []
    },
    {
      "metadata": {
        "id": "s2PXznjsmmLP",
        "colab_type": "code",
        "outputId": "b1e6ea6f-f68d-4a98-a498-e1b2abbcddbb",
        "colab": {
          "base_uri": "https://localhost:8080/",
          "height": 34
        }
      },
      "cell_type": "code",
      "source": [
        "from __future__ import print_function\n",
        "\n",
        "import numpy as np\n",
        "import keras\n",
        "from keras.datasets import reuters\n",
        "from keras.models import Sequential\n",
        "from keras.layers import Dense, Dropout, Activation\n"
      ],
      "execution_count": 0,
      "outputs": [
        {
          "output_type": "stream",
          "text": [
            "Using TensorFlow backend.\n"
          ],
          "name": "stderr"
        }
      ]
    },
    {
      "metadata": {
        "id": "05M_YeXMnxMK",
        "colab_type": "code",
        "colab": {}
      },
      "cell_type": "code",
      "source": [
        "from sklearn.preprocessing import LabelEncoder"
      ],
      "execution_count": 0,
      "outputs": []
    },
    {
      "metadata": {
        "id": "dKwGG98Vn_C5",
        "colab_type": "code",
        "outputId": "240b81b2-6e45-4898-dea0-1169d1f3f7ee",
        "colab": {
          "base_uri": "https://localhost:8080/",
          "height": 84
        }
      },
      "cell_type": "code",
      "source": [
        "le=LabelEncoder()\n",
        "y_train=y_train.fillna('NA')\n",
        "y_test=y_test.fillna('NA')\n",
        "le.fit(y_train)\n",
        "print(le.classes_)\n",
        "y_train_label = le.transform(y_train)\n",
        "y_test_label = le.transform(y_test)\n",
        "#le.inverse_transform(y_train_label)"
      ],
      "execution_count": 0,
      "outputs": [
        {
          "output_type": "stream",
          "text": [
            "['ACC' 'BLCA' 'BRCA' 'CESC' 'CHOL' 'COAD' 'DLBC' 'ESCA' 'GBM' 'HNSC'\n",
            " 'KICH' 'KIRC' 'KIRP' 'LAML' 'LGG' 'LIHC' 'LUAD' 'LUSC' 'MESO' 'NA' 'OV'\n",
            " 'PAAD' 'PCPG' 'PRAD' 'READ' 'SARC' 'SKCM' 'STAD' 'TGCT' 'THCA' 'THYM'\n",
            " 'UCEC' 'UCS' 'UVM']\n"
          ],
          "name": "stdout"
        }
      ]
    },
    {
      "metadata": {
        "id": "z20_1lBjm7_z",
        "colab_type": "code",
        "outputId": "d2ca123d-7674-45ca-b54d-76ba3bdded66",
        "colab": {
          "base_uri": "https://localhost:8080/",
          "height": 101
        }
      },
      "cell_type": "code",
      "source": [
        "print(len(X_train), 'train sequences')\n",
        "print(len(X_test), 'test sequences')\n",
        "\n",
        "num_classes = np.max(y_train_label) + 1\n",
        "print(num_classes, 'classes')\n",
        "\n",
        "y_train_cat = keras.utils.to_categorical(y_train_label, num_classes)\n",
        "y_test_cat = keras.utils.to_categorical(y_test_label, num_classes)\n",
        "\n",
        "print('y_train shape:', y_train_cat.shape)\n",
        "print('y_test shape:', y_test_cat.shape)"
      ],
      "execution_count": 0,
      "outputs": [
        {
          "output_type": "stream",
          "text": [
            "9740 train sequences\n",
            "2435 test sequences\n",
            "34 classes\n",
            "y_train shape: (9740, 34)\n",
            "y_test shape: (2435, 34)\n"
          ],
          "name": "stdout"
        }
      ]
    },
    {
      "metadata": {
        "id": "K0OqFuMCpKN8",
        "colab_type": "code",
        "outputId": "7020e675-4149-4966-fe0a-7ee516186fda",
        "colab": {
          "base_uri": "https://localhost:8080/",
          "height": 34
        }
      },
      "cell_type": "code",
      "source": [
        "X_train.shape"
      ],
      "execution_count": 0,
      "outputs": [
        {
          "output_type": "execute_result",
          "data": {
            "text/plain": [
              "(9740, 36)"
            ]
          },
          "metadata": {
            "tags": []
          },
          "execution_count": 68
        }
      ]
    },
    {
      "metadata": {
        "id": "5n5TREZgnFVn",
        "colab_type": "code",
        "outputId": "aad21df7-bb73-4aed-db5a-7626078116cc",
        "colab": {
          "base_uri": "https://localhost:8080/",
          "height": 34
        }
      },
      "cell_type": "code",
      "source": [
        "print('Building model...')\n",
        "model = Sequential()\n",
        "model.add(Dense(256, input_shape=(X_train.shape[1],)))\n",
        "model.add(Activation('sigmoid'))\n",
        "model.add(Dense(128))\n",
        "model.add(Activation('relu'))\n",
        "model.add(Dropout(0.5))\n",
        "model.add(Dense(num_classes))\n",
        "model.add(Activation('softmax'))"
      ],
      "execution_count": 0,
      "outputs": [
        {
          "output_type": "stream",
          "text": [
            "Building model...\n"
          ],
          "name": "stdout"
        }
      ]
    },
    {
      "metadata": {
        "id": "bbfI2A5LqHJk",
        "colab_type": "code",
        "outputId": "94ed3cd6-e08d-4937-c559-d8ebdf4a24ab",
        "colab": {
          "base_uri": "https://localhost:8080/",
          "height": 370
        }
      },
      "cell_type": "code",
      "source": [
        "model.summary()"
      ],
      "execution_count": 0,
      "outputs": [
        {
          "output_type": "stream",
          "text": [
            "_________________________________________________________________\n",
            "Layer (type)                 Output Shape              Param #   \n",
            "=================================================================\n",
            "dense_1 (Dense)              (None, 256)               9472      \n",
            "_________________________________________________________________\n",
            "activation_1 (Activation)    (None, 256)               0         \n",
            "_________________________________________________________________\n",
            "dense_2 (Dense)              (None, 128)               32896     \n",
            "_________________________________________________________________\n",
            "activation_2 (Activation)    (None, 128)               0         \n",
            "_________________________________________________________________\n",
            "dropout_1 (Dropout)          (None, 128)               0         \n",
            "_________________________________________________________________\n",
            "dense_3 (Dense)              (None, 34)                4386      \n",
            "_________________________________________________________________\n",
            "activation_3 (Activation)    (None, 34)                0         \n",
            "=================================================================\n",
            "Total params: 46,754\n",
            "Trainable params: 46,754\n",
            "Non-trainable params: 0\n",
            "_________________________________________________________________\n"
          ],
          "name": "stdout"
        }
      ]
    },
    {
      "metadata": {
        "id": "H2Lmg2Gcm0sz",
        "colab_type": "code",
        "colab": {}
      },
      "cell_type": "code",
      "source": [
        "batch_size = 128\n",
        "epochs = 50"
      ],
      "execution_count": 0,
      "outputs": []
    },
    {
      "metadata": {
        "id": "mIa-OOnupTnm",
        "colab_type": "code",
        "outputId": "65a31f30-c1bc-47ac-f3b6-232e9c2a14cf",
        "colab": {
          "base_uri": "https://localhost:8080/",
          "height": 1734
        }
      },
      "cell_type": "code",
      "source": [
        "model.compile(loss='categorical_crossentropy',\n",
        "              optimizer='adam',\n",
        "              metrics=['accuracy'])\n",
        "\n",
        "history = model.fit(X_train, y_train_cat,\n",
        "                    batch_size=batch_size,\n",
        "                    epochs=epochs,\n",
        "                    verbose=1,\n",
        "                    validation_split=0.1)\n"
      ],
      "execution_count": 0,
      "outputs": [
        {
          "output_type": "stream",
          "text": [
            "Train on 8766 samples, validate on 974 samples\n",
            "Epoch 1/50\n",
            "8766/8766 [==============================] - 3s 295us/step - loss: 2.0018 - acc: 0.5240 - val_loss: 0.8166 - val_acc: 0.8203\n",
            "Epoch 2/50\n",
            "8766/8766 [==============================] - 0s 45us/step - loss: 0.7676 - acc: 0.8139 - val_loss: 0.4392 - val_acc: 0.8809\n",
            "Epoch 3/50\n",
            "8766/8766 [==============================] - 0s 46us/step - loss: 0.5387 - acc: 0.8564 - val_loss: 0.3481 - val_acc: 0.8963\n",
            "Epoch 4/50\n",
            "8766/8766 [==============================] - 0s 46us/step - loss: 0.4449 - acc: 0.8719 - val_loss: 0.3026 - val_acc: 0.9055\n",
            "Epoch 5/50\n",
            "8766/8766 [==============================] - 0s 45us/step - loss: 0.4051 - acc: 0.8796 - val_loss: 0.2847 - val_acc: 0.9066\n",
            "Epoch 6/50\n",
            "8766/8766 [==============================] - 0s 46us/step - loss: 0.3643 - acc: 0.8887 - val_loss: 0.2695 - val_acc: 0.9148\n",
            "Epoch 7/50\n",
            "8766/8766 [==============================] - 0s 49us/step - loss: 0.3473 - acc: 0.8885 - val_loss: 0.2633 - val_acc: 0.9189\n",
            "Epoch 8/50\n",
            "8766/8766 [==============================] - 0s 50us/step - loss: 0.3381 - acc: 0.8936 - val_loss: 0.2508 - val_acc: 0.9168\n",
            "Epoch 9/50\n",
            "8766/8766 [==============================] - 0s 48us/step - loss: 0.3168 - acc: 0.8973 - val_loss: 0.2439 - val_acc: 0.9189\n",
            "Epoch 10/50\n",
            "8766/8766 [==============================] - 0s 49us/step - loss: 0.3096 - acc: 0.8965 - val_loss: 0.2407 - val_acc: 0.9189\n",
            "Epoch 11/50\n",
            "8766/8766 [==============================] - 0s 48us/step - loss: 0.3015 - acc: 0.9021 - val_loss: 0.2421 - val_acc: 0.9189\n",
            "Epoch 12/50\n",
            "8766/8766 [==============================] - 0s 50us/step - loss: 0.2935 - acc: 0.9016 - val_loss: 0.2346 - val_acc: 0.9189\n",
            "Epoch 13/50\n",
            "8766/8766 [==============================] - 0s 49us/step - loss: 0.2798 - acc: 0.9068 - val_loss: 0.2278 - val_acc: 0.9199\n",
            "Epoch 14/50\n",
            "8766/8766 [==============================] - 0s 49us/step - loss: 0.2772 - acc: 0.9066 - val_loss: 0.2298 - val_acc: 0.9199\n",
            "Epoch 15/50\n",
            "8766/8766 [==============================] - 0s 49us/step - loss: 0.2691 - acc: 0.9090 - val_loss: 0.2222 - val_acc: 0.9199\n",
            "Epoch 16/50\n",
            "8766/8766 [==============================] - 0s 49us/step - loss: 0.2662 - acc: 0.9114 - val_loss: 0.2203 - val_acc: 0.9209\n",
            "Epoch 17/50\n",
            "8766/8766 [==============================] - 0s 50us/step - loss: 0.2661 - acc: 0.9103 - val_loss: 0.2211 - val_acc: 0.9281\n",
            "Epoch 18/50\n",
            "8766/8766 [==============================] - 0s 48us/step - loss: 0.2555 - acc: 0.9154 - val_loss: 0.2230 - val_acc: 0.9251\n",
            "Epoch 19/50\n",
            "8766/8766 [==============================] - 0s 48us/step - loss: 0.2573 - acc: 0.9132 - val_loss: 0.2240 - val_acc: 0.9261\n",
            "Epoch 20/50\n",
            "8766/8766 [==============================] - 0s 49us/step - loss: 0.2527 - acc: 0.9142 - val_loss: 0.2241 - val_acc: 0.9230\n",
            "Epoch 21/50\n",
            "8766/8766 [==============================] - 0s 48us/step - loss: 0.2416 - acc: 0.9178 - val_loss: 0.2085 - val_acc: 0.9281\n",
            "Epoch 22/50\n",
            "8766/8766 [==============================] - 0s 51us/step - loss: 0.2432 - acc: 0.9157 - val_loss: 0.2096 - val_acc: 0.9302\n",
            "Epoch 23/50\n",
            "8766/8766 [==============================] - 0s 49us/step - loss: 0.2358 - acc: 0.9232 - val_loss: 0.2082 - val_acc: 0.9333\n",
            "Epoch 24/50\n",
            "8766/8766 [==============================] - 0s 51us/step - loss: 0.2338 - acc: 0.9188 - val_loss: 0.2091 - val_acc: 0.9353\n",
            "Epoch 25/50\n",
            "8766/8766 [==============================] - 0s 49us/step - loss: 0.2311 - acc: 0.9216 - val_loss: 0.2142 - val_acc: 0.9240\n",
            "Epoch 26/50\n",
            "8766/8766 [==============================] - 0s 49us/step - loss: 0.2302 - acc: 0.9199 - val_loss: 0.2069 - val_acc: 0.9312\n",
            "Epoch 27/50\n",
            "8766/8766 [==============================] - 0s 51us/step - loss: 0.2285 - acc: 0.9201 - val_loss: 0.2067 - val_acc: 0.9333\n",
            "Epoch 28/50\n",
            "8766/8766 [==============================] - 0s 49us/step - loss: 0.2238 - acc: 0.9193 - val_loss: 0.2085 - val_acc: 0.9333\n",
            "Epoch 29/50\n",
            "8766/8766 [==============================] - 0s 50us/step - loss: 0.2217 - acc: 0.9225 - val_loss: 0.2107 - val_acc: 0.9322\n",
            "Epoch 30/50\n",
            "8766/8766 [==============================] - 0s 49us/step - loss: 0.2190 - acc: 0.9222 - val_loss: 0.2007 - val_acc: 0.9333\n",
            "Epoch 31/50\n",
            "8766/8766 [==============================] - 0s 51us/step - loss: 0.2190 - acc: 0.9252 - val_loss: 0.2112 - val_acc: 0.9322\n",
            "Epoch 32/50\n",
            "8766/8766 [==============================] - 0s 49us/step - loss: 0.2167 - acc: 0.9244 - val_loss: 0.2017 - val_acc: 0.9292\n",
            "Epoch 33/50\n",
            "8766/8766 [==============================] - 0s 49us/step - loss: 0.2104 - acc: 0.9262 - val_loss: 0.2037 - val_acc: 0.9333\n",
            "Epoch 34/50\n",
            "8766/8766 [==============================] - 0s 49us/step - loss: 0.2049 - acc: 0.9261 - val_loss: 0.2055 - val_acc: 0.9292\n",
            "Epoch 35/50\n",
            "8766/8766 [==============================] - 0s 52us/step - loss: 0.2042 - acc: 0.9297 - val_loss: 0.2059 - val_acc: 0.9312\n",
            "Epoch 36/50\n",
            "8766/8766 [==============================] - 0s 49us/step - loss: 0.2097 - acc: 0.9244 - val_loss: 0.1957 - val_acc: 0.9353\n",
            "Epoch 37/50\n",
            "8766/8766 [==============================] - 0s 49us/step - loss: 0.1995 - acc: 0.9285 - val_loss: 0.1999 - val_acc: 0.9343\n",
            "Epoch 38/50\n",
            "8766/8766 [==============================] - 0s 50us/step - loss: 0.1963 - acc: 0.9276 - val_loss: 0.2064 - val_acc: 0.9302\n",
            "Epoch 39/50\n",
            "8766/8766 [==============================] - 0s 49us/step - loss: 0.1973 - acc: 0.9304 - val_loss: 0.2026 - val_acc: 0.9353\n",
            "Epoch 40/50\n",
            "8766/8766 [==============================] - 0s 48us/step - loss: 0.1903 - acc: 0.9339 - val_loss: 0.2024 - val_acc: 0.9333\n",
            "Epoch 41/50\n",
            "8766/8766 [==============================] - 0s 50us/step - loss: 0.1923 - acc: 0.9301 - val_loss: 0.2021 - val_acc: 0.9302\n",
            "Epoch 42/50\n",
            "8766/8766 [==============================] - 0s 47us/step - loss: 0.1915 - acc: 0.9287 - val_loss: 0.1968 - val_acc: 0.9333\n",
            "Epoch 43/50\n",
            "8766/8766 [==============================] - 0s 49us/step - loss: 0.1864 - acc: 0.9339 - val_loss: 0.2039 - val_acc: 0.9312\n",
            "Epoch 44/50\n",
            "8766/8766 [==============================] - 0s 48us/step - loss: 0.1921 - acc: 0.9313 - val_loss: 0.1934 - val_acc: 0.9302\n",
            "Epoch 45/50\n",
            "8766/8766 [==============================] - 0s 49us/step - loss: 0.1854 - acc: 0.9326 - val_loss: 0.1956 - val_acc: 0.9333\n",
            "Epoch 46/50\n",
            "8766/8766 [==============================] - 0s 49us/step - loss: 0.1882 - acc: 0.9337 - val_loss: 0.1993 - val_acc: 0.9343\n",
            "Epoch 47/50\n",
            "8766/8766 [==============================] - 0s 49us/step - loss: 0.1846 - acc: 0.9330 - val_loss: 0.1941 - val_acc: 0.9343\n",
            "Epoch 48/50\n",
            "8766/8766 [==============================] - 0s 50us/step - loss: 0.1844 - acc: 0.9341 - val_loss: 0.2018 - val_acc: 0.9292\n",
            "Epoch 49/50\n",
            "8766/8766 [==============================] - 0s 47us/step - loss: 0.1838 - acc: 0.9347 - val_loss: 0.1943 - val_acc: 0.9302\n",
            "Epoch 50/50\n",
            "8766/8766 [==============================] - 0s 49us/step - loss: 0.1751 - acc: 0.9381 - val_loss: 0.1946 - val_acc: 0.9292\n"
          ],
          "name": "stdout"
        }
      ]
    },
    {
      "metadata": {
        "id": "OGo7naLapaLc",
        "colab_type": "code",
        "outputId": "356690b9-e01a-4f9e-8a93-318f7012b74d",
        "colab": {
          "base_uri": "https://localhost:8080/",
          "height": 67
        }
      },
      "cell_type": "code",
      "source": [
        "score = model.evaluate(X_test, y_test_cat,\n",
        "                       batch_size=batch_size, verbose=1)\n",
        "print('Test score:', score[0])\n",
        "print('Test accuracy:', score[1])"
      ],
      "execution_count": 0,
      "outputs": [
        {
          "output_type": "stream",
          "text": [
            "2435/2435 [==============================] - 0s 15us/step\n",
            "Test score: 0.20826110767020828\n",
            "Test accuracy: 0.9326488706365503\n"
          ],
          "name": "stdout"
        }
      ]
    },
    {
      "metadata": {
        "id": "b8i-gHXJp1T2",
        "colab_type": "code",
        "colab": {}
      },
      "cell_type": "code",
      "source": [
        "model.save('cancer_type_from_latent36.h5')"
      ],
      "execution_count": 0,
      "outputs": []
    },
    {
      "metadata": {
        "id": "BEFEYLs5eRXs",
        "colab_type": "code",
        "colab": {}
      },
      "cell_type": "code",
      "source": [
        "files.download('cancer_type_from_latent36.h5')"
      ],
      "execution_count": 0,
      "outputs": []
    },
    {
      "metadata": {
        "id": "LKp731CsefFT",
        "colab_type": "text"
      },
      "cell_type": "markdown",
      "source": [
        "## Trying a single layer model to see if linear separation is sufficient and also to see disease signature on features."
      ]
    },
    {
      "metadata": {
        "id": "dMJ2sJcveVOz",
        "colab_type": "code",
        "outputId": "507477a7-dcb9-4a84-d553-e0ad4f1b179f",
        "colab": {
          "base_uri": "https://localhost:8080/",
          "height": 218
        }
      },
      "cell_type": "code",
      "source": [
        "print('Building model...')\n",
        "model = Sequential()\n",
        "model.add(Dense(num_classes, input_shape=(X_train.shape[1],)))\n",
        "model.add(Activation('softmax'))\n",
        "model.summary()"
      ],
      "execution_count": 0,
      "outputs": [
        {
          "output_type": "stream",
          "text": [
            "Building model...\n",
            "_________________________________________________________________\n",
            "Layer (type)                 Output Shape              Param #   \n",
            "=================================================================\n",
            "dense_5 (Dense)              (None, 34)                1258      \n",
            "_________________________________________________________________\n",
            "activation_5 (Activation)    (None, 34)                0         \n",
            "=================================================================\n",
            "Total params: 1,258\n",
            "Trainable params: 1,258\n",
            "Non-trainable params: 0\n",
            "_________________________________________________________________\n"
          ],
          "name": "stdout"
        }
      ]
    },
    {
      "metadata": {
        "id": "_7jC3RVpenQX",
        "colab_type": "code",
        "outputId": "abba91b6-6768-474e-b543-1954a93dcae3",
        "colab": {
          "base_uri": "https://localhost:8080/",
          "height": 1734
        }
      },
      "cell_type": "code",
      "source": [
        "batch_size = 128\n",
        "epochs = 50\n",
        "\n",
        "model.compile(loss='categorical_crossentropy',\n",
        "              optimizer='adam',\n",
        "              metrics=['accuracy'])\n",
        "\n",
        "history = model.fit(X_train, y_train_cat,\n",
        "                    batch_size=batch_size,\n",
        "                    epochs=epochs,\n",
        "                    verbose=1,\n",
        "                    validation_split=0.1)"
      ],
      "execution_count": 0,
      "outputs": [
        {
          "output_type": "stream",
          "text": [
            "Train on 8766 samples, validate on 974 samples\n",
            "Epoch 1/50\n",
            "8766/8766 [==============================] - 0s 52us/step - loss: 5.1024 - acc: 0.1715 - val_loss: 3.4644 - val_acc: 0.2772\n",
            "Epoch 2/50\n",
            "8766/8766 [==============================] - 0s 32us/step - loss: 2.5449 - acc: 0.4046 - val_loss: 1.7704 - val_acc: 0.5092\n",
            "Epoch 3/50\n",
            "8766/8766 [==============================] - 0s 31us/step - loss: 1.3685 - acc: 0.6143 - val_loss: 0.9987 - val_acc: 0.7259\n",
            "Epoch 4/50\n",
            "8766/8766 [==============================] - 0s 34us/step - loss: 0.8578 - acc: 0.7687 - val_loss: 0.7006 - val_acc: 0.8101\n",
            "Epoch 5/50\n",
            "8766/8766 [==============================] - 0s 33us/step - loss: 0.6470 - acc: 0.8176 - val_loss: 0.5611 - val_acc: 0.8429\n",
            "Epoch 6/50\n",
            "8766/8766 [==============================] - 0s 34us/step - loss: 0.5380 - acc: 0.8438 - val_loss: 0.4789 - val_acc: 0.8655\n",
            "Epoch 7/50\n",
            "8766/8766 [==============================] - 0s 36us/step - loss: 0.4703 - acc: 0.8583 - val_loss: 0.4305 - val_acc: 0.8737\n",
            "Epoch 8/50\n",
            "8766/8766 [==============================] - 0s 36us/step - loss: 0.4258 - acc: 0.8706 - val_loss: 0.3949 - val_acc: 0.8891\n",
            "Epoch 9/50\n",
            "8766/8766 [==============================] - 0s 35us/step - loss: 0.3932 - acc: 0.8795 - val_loss: 0.3693 - val_acc: 0.8953\n",
            "Epoch 10/50\n",
            "8766/8766 [==============================] - 0s 36us/step - loss: 0.3706 - acc: 0.8843 - val_loss: 0.3497 - val_acc: 0.8953\n",
            "Epoch 11/50\n",
            "8766/8766 [==============================] - 0s 36us/step - loss: 0.3517 - acc: 0.8892 - val_loss: 0.3346 - val_acc: 0.9025\n",
            "Epoch 12/50\n",
            "8766/8766 [==============================] - 0s 34us/step - loss: 0.3366 - acc: 0.8929 - val_loss: 0.3211 - val_acc: 0.9004\n",
            "Epoch 13/50\n",
            "8766/8766 [==============================] - 0s 35us/step - loss: 0.3241 - acc: 0.8962 - val_loss: 0.3119 - val_acc: 0.9066\n",
            "Epoch 14/50\n",
            "8766/8766 [==============================] - 0s 36us/step - loss: 0.3133 - acc: 0.9001 - val_loss: 0.3022 - val_acc: 0.9097\n",
            "Epoch 15/50\n",
            "8766/8766 [==============================] - 0s 36us/step - loss: 0.3045 - acc: 0.9010 - val_loss: 0.2943 - val_acc: 0.9117\n",
            "Epoch 16/50\n",
            "8766/8766 [==============================] - 0s 35us/step - loss: 0.2961 - acc: 0.9037 - val_loss: 0.2881 - val_acc: 0.9097\n",
            "Epoch 17/50\n",
            "8766/8766 [==============================] - 0s 35us/step - loss: 0.2892 - acc: 0.9052 - val_loss: 0.2817 - val_acc: 0.9117\n",
            "Epoch 18/50\n",
            "8766/8766 [==============================] - 0s 36us/step - loss: 0.2827 - acc: 0.9070 - val_loss: 0.2777 - val_acc: 0.9117\n",
            "Epoch 19/50\n",
            "8766/8766 [==============================] - 0s 36us/step - loss: 0.2764 - acc: 0.9086 - val_loss: 0.2726 - val_acc: 0.9138\n",
            "Epoch 20/50\n",
            "8766/8766 [==============================] - 0s 35us/step - loss: 0.2716 - acc: 0.9090 - val_loss: 0.2706 - val_acc: 0.9117\n",
            "Epoch 21/50\n",
            "8766/8766 [==============================] - 0s 37us/step - loss: 0.2668 - acc: 0.9107 - val_loss: 0.2650 - val_acc: 0.9138\n",
            "Epoch 22/50\n",
            "8766/8766 [==============================] - 0s 35us/step - loss: 0.2626 - acc: 0.9115 - val_loss: 0.2612 - val_acc: 0.9158\n",
            "Epoch 23/50\n",
            "8766/8766 [==============================] - 0s 35us/step - loss: 0.2581 - acc: 0.9133 - val_loss: 0.2589 - val_acc: 0.9148\n",
            "Epoch 24/50\n",
            "8766/8766 [==============================] - 0s 37us/step - loss: 0.2545 - acc: 0.9138 - val_loss: 0.2528 - val_acc: 0.9158\n",
            "Epoch 25/50\n",
            "8766/8766 [==============================] - 0s 35us/step - loss: 0.2514 - acc: 0.9136 - val_loss: 0.2500 - val_acc: 0.9199\n",
            "Epoch 26/50\n",
            "8766/8766 [==============================] - 0s 36us/step - loss: 0.2479 - acc: 0.9157 - val_loss: 0.2492 - val_acc: 0.9158\n",
            "Epoch 27/50\n",
            "8766/8766 [==============================] - 0s 37us/step - loss: 0.2451 - acc: 0.9163 - val_loss: 0.2443 - val_acc: 0.9179\n",
            "Epoch 28/50\n",
            "8766/8766 [==============================] - 0s 35us/step - loss: 0.2418 - acc: 0.9172 - val_loss: 0.2428 - val_acc: 0.9199\n",
            "Epoch 29/50\n",
            "8766/8766 [==============================] - 0s 35us/step - loss: 0.2394 - acc: 0.9180 - val_loss: 0.2415 - val_acc: 0.9209\n",
            "Epoch 30/50\n",
            "8766/8766 [==============================] - 0s 36us/step - loss: 0.2366 - acc: 0.9183 - val_loss: 0.2411 - val_acc: 0.9261\n",
            "Epoch 31/50\n",
            "8766/8766 [==============================] - 0s 36us/step - loss: 0.2344 - acc: 0.9189 - val_loss: 0.2380 - val_acc: 0.9292\n",
            "Epoch 32/50\n",
            "8766/8766 [==============================] - 0s 36us/step - loss: 0.2318 - acc: 0.9198 - val_loss: 0.2369 - val_acc: 0.9261\n",
            "Epoch 33/50\n",
            "8766/8766 [==============================] - 0s 36us/step - loss: 0.2298 - acc: 0.9203 - val_loss: 0.2367 - val_acc: 0.9230\n",
            "Epoch 34/50\n",
            "8766/8766 [==============================] - 0s 37us/step - loss: 0.2272 - acc: 0.9214 - val_loss: 0.2367 - val_acc: 0.9302\n",
            "Epoch 35/50\n",
            "8766/8766 [==============================] - 0s 36us/step - loss: 0.2251 - acc: 0.9221 - val_loss: 0.2334 - val_acc: 0.9220\n",
            "Epoch 36/50\n",
            "8766/8766 [==============================] - 0s 35us/step - loss: 0.2236 - acc: 0.9227 - val_loss: 0.2331 - val_acc: 0.9230\n",
            "Epoch 37/50\n",
            "8766/8766 [==============================] - 0s 38us/step - loss: 0.2215 - acc: 0.9220 - val_loss: 0.2315 - val_acc: 0.9261\n",
            "Epoch 38/50\n",
            "8766/8766 [==============================] - 0s 36us/step - loss: 0.2202 - acc: 0.9246 - val_loss: 0.2309 - val_acc: 0.9292\n",
            "Epoch 39/50\n",
            "8766/8766 [==============================] - 0s 36us/step - loss: 0.2187 - acc: 0.9237 - val_loss: 0.2301 - val_acc: 0.9343\n",
            "Epoch 40/50\n",
            "8766/8766 [==============================] - 0s 37us/step - loss: 0.2167 - acc: 0.9249 - val_loss: 0.2269 - val_acc: 0.9281\n",
            "Epoch 41/50\n",
            "8766/8766 [==============================] - 0s 35us/step - loss: 0.2155 - acc: 0.9249 - val_loss: 0.2295 - val_acc: 0.9261\n",
            "Epoch 42/50\n",
            "8766/8766 [==============================] - 0s 35us/step - loss: 0.2138 - acc: 0.9249 - val_loss: 0.2267 - val_acc: 0.9302\n",
            "Epoch 43/50\n",
            "8766/8766 [==============================] - 0s 37us/step - loss: 0.2117 - acc: 0.9239 - val_loss: 0.2263 - val_acc: 0.9271\n",
            "Epoch 44/50\n",
            "8766/8766 [==============================] - 0s 35us/step - loss: 0.2105 - acc: 0.9261 - val_loss: 0.2253 - val_acc: 0.9312\n",
            "Epoch 45/50\n",
            "8766/8766 [==============================] - 0s 35us/step - loss: 0.2095 - acc: 0.9261 - val_loss: 0.2248 - val_acc: 0.9333\n",
            "Epoch 46/50\n",
            "8766/8766 [==============================] - 0s 35us/step - loss: 0.2081 - acc: 0.9286 - val_loss: 0.2231 - val_acc: 0.9322\n",
            "Epoch 47/50\n",
            "8766/8766 [==============================] - 0s 37us/step - loss: 0.2074 - acc: 0.9274 - val_loss: 0.2239 - val_acc: 0.9281\n",
            "Epoch 48/50\n",
            "8766/8766 [==============================] - 0s 35us/step - loss: 0.2054 - acc: 0.9282 - val_loss: 0.2244 - val_acc: 0.9302\n",
            "Epoch 49/50\n",
            "8766/8766 [==============================] - 0s 36us/step - loss: 0.2050 - acc: 0.9278 - val_loss: 0.2234 - val_acc: 0.9333\n",
            "Epoch 50/50\n",
            "8766/8766 [==============================] - 0s 37us/step - loss: 0.2039 - acc: 0.9282 - val_loss: 0.2213 - val_acc: 0.9302\n"
          ],
          "name": "stdout"
        }
      ]
    },
    {
      "metadata": {
        "id": "aGBkWRX2fCiR",
        "colab_type": "code",
        "outputId": "894dc2e0-4a8f-4d27-c11b-2818e5576743",
        "colab": {
          "base_uri": "https://localhost:8080/",
          "height": 67
        }
      },
      "cell_type": "code",
      "source": [
        "score = model.evaluate(X_test, y_test_cat,\n",
        "                       batch_size=batch_size, verbose=1)\n",
        "print('Test score:', score[0])\n",
        "print('Test accuracy:', score[1])"
      ],
      "execution_count": 0,
      "outputs": [
        {
          "output_type": "stream",
          "text": [
            "2435/2435 [==============================] - 0s 17us/step\n",
            "Test score: 0.2378802023720937\n",
            "Test accuracy: 0.922381930184805\n"
          ],
          "name": "stdout"
        }
      ]
    },
    {
      "metadata": {
        "id": "K1HywGz5gZjN",
        "colab_type": "text"
      },
      "cell_type": "markdown",
      "source": [
        "## Saving and loading models."
      ]
    },
    {
      "metadata": {
        "id": "AAcYr2EXfa2F",
        "colab_type": "code",
        "colab": {}
      },
      "cell_type": "code",
      "source": [
        "model.save('cancer_type_from_latent36_linear.h5')"
      ],
      "execution_count": 0,
      "outputs": []
    },
    {
      "metadata": {
        "id": "wqDVBgf4fPbO",
        "colab_type": "code",
        "colab": {}
      },
      "cell_type": "code",
      "source": [
        "files.download('cancer_type_from_latent36_linear.h5')"
      ],
      "execution_count": 0,
      "outputs": []
    },
    {
      "metadata": {
        "id": "nltrGw8mgOlX",
        "colab_type": "code",
        "colab": {}
      },
      "cell_type": "code",
      "source": [
        "from keras.models import load_model"
      ],
      "execution_count": 0,
      "outputs": []
    },
    {
      "metadata": {
        "id": "UDdEygxLfYGc",
        "colab_type": "code",
        "colab": {}
      },
      "cell_type": "code",
      "source": [
        "model = load_model('cancer_type_from_latent36_linear.h5')"
      ],
      "execution_count": 0,
      "outputs": []
    },
    {
      "metadata": {
        "id": "vM4hjBUYgNTQ",
        "colab_type": "code",
        "outputId": "384a754a-83d4-49b1-a3fc-927abf85a38b",
        "colab": {
          "base_uri": "https://localhost:8080/",
          "height": 67
        }
      },
      "cell_type": "code",
      "source": [
        "score = model.evaluate(X_test, y_test_cat,\n",
        "                       batch_size=batch_size, verbose=1)\n",
        "print('Test score:', score[0])\n",
        "print('Test accuracy:', score[1])"
      ],
      "execution_count": 0,
      "outputs": [
        {
          "output_type": "stream",
          "text": [
            "2435/2435 [==============================] - 0s 34us/step\n",
            "Test score: 0.2378802023720937\n",
            "Test accuracy: 0.922381930184805\n"
          ],
          "name": "stdout"
        }
      ]
    },
    {
      "metadata": {
        "id": "5LXeRFETgXhh",
        "colab_type": "code",
        "colab": {}
      },
      "cell_type": "code",
      "source": [
        ""
      ],
      "execution_count": 0,
      "outputs": []
    },
    {
      "metadata": {
        "id": "BJoOy6QVgw18",
        "colab_type": "text"
      },
      "cell_type": "markdown",
      "source": [
        "## Extract layer weights and save to file"
      ]
    },
    {
      "metadata": {
        "id": "w1f-fUt1gzoA",
        "colab_type": "code",
        "outputId": "8b88d383-d3b1-4878-d84f-1539c607b8a9",
        "colab": {
          "base_uri": "https://localhost:8080/",
          "height": 235
        }
      },
      "cell_type": "code",
      "source": [
        "# Extract the weights from the decoder model\n",
        "weights = []\n",
        "for layer in model.layers:\n",
        "    print(layer)\n",
        "    weights.append(layer.get_weights())\n",
        "    \n",
        "weight_layer_df = pd.DataFrame(weights[0][0], columns=le.classes_, index=range(1, 37))\n",
        "weight_layer_df.index.name = 'encodings'\n",
        "print(weight_layer_df.shape)\n",
        "weight_layer_df.head(2)"
      ],
      "execution_count": 0,
      "outputs": [
        {
          "output_type": "stream",
          "text": [
            "<keras.layers.core.Dense object at 0x7fa3c28522d0>\n",
            "<keras.layers.core.Activation object at 0x7fa3bbb5e510>\n",
            "(36, 34)\n"
          ],
          "name": "stdout"
        },
        {
          "output_type": "execute_result",
          "data": {
            "text/html": [
              "<div>\n",
              "<style scoped>\n",
              "    .dataframe tbody tr th:only-of-type {\n",
              "        vertical-align: middle;\n",
              "    }\n",
              "\n",
              "    .dataframe tbody tr th {\n",
              "        vertical-align: top;\n",
              "    }\n",
              "\n",
              "    .dataframe thead th {\n",
              "        text-align: right;\n",
              "    }\n",
              "</style>\n",
              "<table border=\"1\" class=\"dataframe\">\n",
              "  <thead>\n",
              "    <tr style=\"text-align: right;\">\n",
              "      <th></th>\n",
              "      <th>ACC</th>\n",
              "      <th>BLCA</th>\n",
              "      <th>BRCA</th>\n",
              "      <th>CESC</th>\n",
              "      <th>CHOL</th>\n",
              "      <th>COAD</th>\n",
              "      <th>DLBC</th>\n",
              "      <th>ESCA</th>\n",
              "      <th>GBM</th>\n",
              "      <th>HNSC</th>\n",
              "      <th>...</th>\n",
              "      <th>READ</th>\n",
              "      <th>SARC</th>\n",
              "      <th>SKCM</th>\n",
              "      <th>STAD</th>\n",
              "      <th>TGCT</th>\n",
              "      <th>THCA</th>\n",
              "      <th>THYM</th>\n",
              "      <th>UCEC</th>\n",
              "      <th>UCS</th>\n",
              "      <th>UVM</th>\n",
              "    </tr>\n",
              "    <tr>\n",
              "      <th>encodings</th>\n",
              "      <th></th>\n",
              "      <th></th>\n",
              "      <th></th>\n",
              "      <th></th>\n",
              "      <th></th>\n",
              "      <th></th>\n",
              "      <th></th>\n",
              "      <th></th>\n",
              "      <th></th>\n",
              "      <th></th>\n",
              "      <th></th>\n",
              "      <th></th>\n",
              "      <th></th>\n",
              "      <th></th>\n",
              "      <th></th>\n",
              "      <th></th>\n",
              "      <th></th>\n",
              "      <th></th>\n",
              "      <th></th>\n",
              "      <th></th>\n",
              "      <th></th>\n",
              "    </tr>\n",
              "  </thead>\n",
              "  <tbody>\n",
              "    <tr>\n",
              "      <th>1</th>\n",
              "      <td>0.038812</td>\n",
              "      <td>0.404669</td>\n",
              "      <td>-0.267646</td>\n",
              "      <td>0.274243</td>\n",
              "      <td>0.115107</td>\n",
              "      <td>-0.396533</td>\n",
              "      <td>-0.535608</td>\n",
              "      <td>-0.206778</td>\n",
              "      <td>-0.557463</td>\n",
              "      <td>-0.297309</td>\n",
              "      <td>...</td>\n",
              "      <td>-0.314899</td>\n",
              "      <td>-0.257784</td>\n",
              "      <td>-0.204999</td>\n",
              "      <td>-0.245990</td>\n",
              "      <td>-0.061690</td>\n",
              "      <td>-0.615195</td>\n",
              "      <td>-0.369269</td>\n",
              "      <td>-0.082439</td>\n",
              "      <td>-0.105570</td>\n",
              "      <td>-0.232398</td>\n",
              "    </tr>\n",
              "    <tr>\n",
              "      <th>2</th>\n",
              "      <td>0.088165</td>\n",
              "      <td>0.125356</td>\n",
              "      <td>0.121114</td>\n",
              "      <td>0.129798</td>\n",
              "      <td>0.219448</td>\n",
              "      <td>-0.000364</td>\n",
              "      <td>0.082286</td>\n",
              "      <td>-0.508855</td>\n",
              "      <td>0.036877</td>\n",
              "      <td>0.193633</td>\n",
              "      <td>...</td>\n",
              "      <td>-0.077409</td>\n",
              "      <td>0.228597</td>\n",
              "      <td>-0.053956</td>\n",
              "      <td>-0.344146</td>\n",
              "      <td>0.086423</td>\n",
              "      <td>-0.031250</td>\n",
              "      <td>0.267000</td>\n",
              "      <td>0.063108</td>\n",
              "      <td>0.138542</td>\n",
              "      <td>-0.017810</td>\n",
              "    </tr>\n",
              "  </tbody>\n",
              "</table>\n",
              "<p>2 rows × 34 columns</p>\n",
              "</div>"
            ],
            "text/plain": [
              "                ACC      BLCA      BRCA      CESC      CHOL      COAD  \\\n",
              "encodings                                                               \n",
              "1          0.038812  0.404669 -0.267646  0.274243  0.115107 -0.396533   \n",
              "2          0.088165  0.125356  0.121114  0.129798  0.219448 -0.000364   \n",
              "\n",
              "               DLBC      ESCA       GBM      HNSC    ...         READ  \\\n",
              "encodings                                            ...                \n",
              "1         -0.535608 -0.206778 -0.557463 -0.297309    ...    -0.314899   \n",
              "2          0.082286 -0.508855  0.036877  0.193633    ...    -0.077409   \n",
              "\n",
              "               SARC      SKCM      STAD      TGCT      THCA      THYM  \\\n",
              "encodings                                                               \n",
              "1         -0.257784 -0.204999 -0.245990 -0.061690 -0.615195 -0.369269   \n",
              "2          0.228597 -0.053956 -0.344146  0.086423 -0.031250  0.267000   \n",
              "\n",
              "               UCEC       UCS       UVM  \n",
              "encodings                                \n",
              "1         -0.082439 -0.105570 -0.232398  \n",
              "2          0.063108  0.138542 -0.017810  \n",
              "\n",
              "[2 rows x 34 columns]"
            ]
          },
          "metadata": {
            "tags": []
          },
          "execution_count": 100
        }
      ]
    },
    {
      "metadata": {
        "id": "SA7gqWyShnc0",
        "colab_type": "code",
        "colab": {}
      },
      "cell_type": "code",
      "source": [
        "# Write the genes to file\n",
        "weight_file = 'keras_onelayer_latent_weights.tsv'\n",
        "weight_layer_df.to_csv(weight_file, sep='\\t')"
      ],
      "execution_count": 0,
      "outputs": []
    },
    {
      "metadata": {
        "id": "NvOK0aL4i2Hy",
        "colab_type": "code",
        "colab": {}
      },
      "cell_type": "code",
      "source": [
        "files.download(weight_file)"
      ],
      "execution_count": 0,
      "outputs": []
    },
    {
      "metadata": {
        "id": "vlRG2iF_i5fB",
        "colab_type": "code",
        "outputId": "4108d82f-501f-4893-a556-0d0d44283018",
        "colab": {
          "base_uri": "https://localhost:8080/",
          "height": 655
        }
      },
      "cell_type": "code",
      "source": [
        "weight_layer_df.loc[:,'PRAD']"
      ],
      "execution_count": 0,
      "outputs": [
        {
          "output_type": "execute_result",
          "data": {
            "text/plain": [
              "encodings\n",
              "1     0.145678\n",
              "2     0.183020\n",
              "3    -0.178668\n",
              "4    -0.116321\n",
              "5    -0.254103\n",
              "6    -0.653933\n",
              "7    -0.075905\n",
              "8    -0.087970\n",
              "9    -0.070535\n",
              "10   -0.453840\n",
              "11   -0.106617\n",
              "12   -0.044959\n",
              "13    0.147612\n",
              "14   -0.460538\n",
              "15   -0.135350\n",
              "16    0.152053\n",
              "17   -0.795147\n",
              "18    0.252683\n",
              "19   -0.538803\n",
              "20    0.175911\n",
              "21   -0.000397\n",
              "22   -0.378855\n",
              "23   -0.022567\n",
              "24   -0.122624\n",
              "25    0.118417\n",
              "26   -0.070791\n",
              "27    0.084596\n",
              "28   -0.241811\n",
              "29    0.109527\n",
              "30   -0.038213\n",
              "31   -0.224326\n",
              "32   -0.021518\n",
              "33   -0.419359\n",
              "34   -0.397275\n",
              "35    0.149777\n",
              "36    0.234845\n",
              "Name: PRAD, dtype: float32"
            ]
          },
          "metadata": {
            "tags": []
          },
          "execution_count": 126
        }
      ]
    },
    {
      "metadata": {
        "id": "6Q2Gzq2DkqpX",
        "colab_type": "code",
        "outputId": "72943131-a2d2-4128-8c3c-317432986a80",
        "colab": {
          "base_uri": "https://localhost:8080/",
          "height": 84
        }
      },
      "cell_type": "code",
      "source": [
        "weight_layer_df.loc[:,'PRAD'].abs().sort_values(ascending=False).index"
      ],
      "execution_count": 0,
      "outputs": [
        {
          "output_type": "execute_result",
          "data": {
            "text/plain": [
              "Int64Index([17,  6, 19, 14, 10, 33, 34, 22,  5, 18, 28, 36, 31,  2,  3, 20, 16,\n",
              "            35, 13,  1, 15, 24, 25,  4, 29, 11,  8, 27,  7, 26,  9, 12, 30, 23,\n",
              "            32, 21],\n",
              "           dtype='int64', name=u'encodings')"
            ]
          },
          "metadata": {
            "tags": []
          },
          "execution_count": 127
        }
      ]
    },
    {
      "metadata": {
        "id": "fO7pbylom7hb",
        "colab_type": "code",
        "colab": {}
      },
      "cell_type": "code",
      "source": [
        ""
      ],
      "execution_count": 0,
      "outputs": []
    }
  ]
}